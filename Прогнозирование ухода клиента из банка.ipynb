{
 "cells": [
  {
   "cell_type": "markdown",
   "metadata": {
    "toc": true
   },
   "source": [
    "<h1>Содержание<span class=\"tocSkip\"></span></h1>\n",
    "<div class=\"toc\"><ul class=\"toc-item\"><li><span><a href=\"#Подготовка-данных\" data-toc-modified-id=\"Подготовка-данных-1\"><span class=\"toc-item-num\">1&nbsp;&nbsp;</span>Подготовка данных</a></span></li><li><span><a href=\"#Исследование-задачи\" data-toc-modified-id=\"Исследование-задачи-2\"><span class=\"toc-item-num\">2&nbsp;&nbsp;</span>Исследование задачи</a></span><ul class=\"toc-item\"><li><span><a href=\"#Подготовка-данных-для-машинного-обучения\" data-toc-modified-id=\"Подготовка-данных-для-машинного-обучения-2.1\"><span class=\"toc-item-num\">2.1&nbsp;&nbsp;</span>Подготовка данных для машинного обучения</a></span></li><li><span><a href=\"#Сформируем-выборки\" data-toc-modified-id=\"Сформируем-выборки-2.2\"><span class=\"toc-item-num\">2.2&nbsp;&nbsp;</span>Сформируем выборки</a></span></li><li><span><a href=\"#Применение-модели-машинного-обучения\" data-toc-modified-id=\"Применение-модели-машинного-обучения-2.3\"><span class=\"toc-item-num\">2.3&nbsp;&nbsp;</span>Применение модели машинного обучения</a></span></li><li><span><a href=\"#Исследование-баланса-классов-выборки\" data-toc-modified-id=\"Исследование-баланса-классов-выборки-2.4\"><span class=\"toc-item-num\">2.4&nbsp;&nbsp;</span>Исследование баланса классов выборки</a></span></li><li><span><a href=\"#Проверка-адекватности\" data-toc-modified-id=\"Проверка-адекватности-2.5\"><span class=\"toc-item-num\">2.5&nbsp;&nbsp;</span>Проверка адекватности</a></span></li></ul></li><li><span><a href=\"#Борьба-с-дисбалансом\" data-toc-modified-id=\"Борьба-с-дисбалансом-3\"><span class=\"toc-item-num\">3&nbsp;&nbsp;</span>Борьба с дисбалансом</a></span><ul class=\"toc-item\"><li><span><a href=\"#Обучение-моделей-на-сбалансированной-выборке\" data-toc-modified-id=\"Обучение-моделей-на-сбалансированной-выборке-3.1\"><span class=\"toc-item-num\">3.1&nbsp;&nbsp;</span>Обучение моделей на сбалансированной выборке</a></span></li></ul></li><li><span><a href=\"#Тестирование-модели\" data-toc-modified-id=\"Тестирование-модели-4\"><span class=\"toc-item-num\">4&nbsp;&nbsp;</span>Тестирование модели</a></span></li><li><span><a href=\"#Выводы\" data-toc-modified-id=\"Выводы-5\"><span class=\"toc-item-num\">5&nbsp;&nbsp;</span>Выводы</a></span></li><li><span><a href=\"#Чек-лист-готовности-проекта\" data-toc-modified-id=\"Чек-лист-готовности-проекта-6\"><span class=\"toc-item-num\">6&nbsp;&nbsp;</span>Чек-лист готовности проекта</a></span></li></ul></div>"
   ]
  },
  {
   "cell_type": "markdown",
   "metadata": {},
   "source": [
    "# Отток клиентов"
   ]
  },
  {
   "cell_type": "markdown",
   "metadata": {},
   "source": [
    "Из «Бета-Банка» стали уходить клиенты. Каждый месяц. Немного, но заметно. Банковские маркетологи посчитали: сохранять текущих клиентов дешевле, чем привлекать новых.\n",
    "\n",
    "Нужно спрогнозировать, уйдёт клиент из банка в ближайшее время или нет. Вам предоставлены исторические данные о поведении клиентов и расторжении договоров с банком. \n",
    "\n",
    "Постройте модель с предельно большим значением *F1*-меры. Чтобы сдать проект успешно, нужно довести метрику до 0.59. Проверьте *F1*-меру на тестовой выборке самостоятельно.\n",
    "\n",
    "Дополнительно измеряйте *AUC-ROC*, сравнивайте её значение с *F1*-мерой.\n",
    "\n",
    "Источник данных: [https://www.kaggle.com/barelydedicated/bank-customer-churn-modeling](https://www.kaggle.com/barelydedicated/bank-customer-churn-modeling)"
   ]
  },
  {
   "cell_type": "markdown",
   "metadata": {},
   "source": [
    "## Подготовка данных"
   ]
  },
  {
   "cell_type": "code",
   "execution_count": 1,
   "metadata": {},
   "outputs": [],
   "source": [
    "import pandas as pd\n",
    "import matplotlib.pyplot as plt\n",
    "\n",
    "from sklearn.preprocessing import MinMaxScaler\n",
    "from sklearn.utils import shuffle\n",
    "from sklearn.model_selection import train_test_split, GridSearchCV\n",
    "from sklearn.metrics import (\n",
    "    accuracy_score,\n",
    "    f1_score,\n",
    "    recall_score,\n",
    "    precision_score,\n",
    "    roc_auc_score,\n",
    "    roc_curve,\n",
    "    confusion_matrix\n",
    ")\n",
    "\n",
    "from sklearn.linear_model import LogisticRegression\n",
    "from sklearn.ensemble import RandomForestClassifier\n",
    "from sklearn.preprocessing import StandardScaler\n",
    "from sklearn.tree import DecisionTreeClassifier\n",
    "from sklearn.dummy import DummyClassifier\n",
    "\n",
    "\n",
    "import warnings\n",
    "warnings.filterwarnings(\"ignore\")"
   ]
  },
  {
   "cell_type": "code",
   "execution_count": 2,
   "metadata": {},
   "outputs": [],
   "source": [
    "df = pd.read_csv('/datasets/Churn.csv')"
   ]
  },
  {
   "cell_type": "code",
   "execution_count": 3,
   "metadata": {},
   "outputs": [
    {
     "data": {
      "text/html": [
       "<div>\n",
       "<style scoped>\n",
       "    .dataframe tbody tr th:only-of-type {\n",
       "        vertical-align: middle;\n",
       "    }\n",
       "\n",
       "    .dataframe tbody tr th {\n",
       "        vertical-align: top;\n",
       "    }\n",
       "\n",
       "    .dataframe thead th {\n",
       "        text-align: right;\n",
       "    }\n",
       "</style>\n",
       "<table border=\"1\" class=\"dataframe\">\n",
       "  <thead>\n",
       "    <tr style=\"text-align: right;\">\n",
       "      <th></th>\n",
       "      <th>RowNumber</th>\n",
       "      <th>CustomerId</th>\n",
       "      <th>Surname</th>\n",
       "      <th>CreditScore</th>\n",
       "      <th>Geography</th>\n",
       "      <th>Gender</th>\n",
       "      <th>Age</th>\n",
       "      <th>Tenure</th>\n",
       "      <th>Balance</th>\n",
       "      <th>NumOfProducts</th>\n",
       "      <th>HasCrCard</th>\n",
       "      <th>IsActiveMember</th>\n",
       "      <th>EstimatedSalary</th>\n",
       "      <th>Exited</th>\n",
       "    </tr>\n",
       "  </thead>\n",
       "  <tbody>\n",
       "    <tr>\n",
       "      <th>0</th>\n",
       "      <td>1</td>\n",
       "      <td>15634602</td>\n",
       "      <td>Hargrave</td>\n",
       "      <td>619</td>\n",
       "      <td>France</td>\n",
       "      <td>Female</td>\n",
       "      <td>42</td>\n",
       "      <td>2.0</td>\n",
       "      <td>0.00</td>\n",
       "      <td>1</td>\n",
       "      <td>1</td>\n",
       "      <td>1</td>\n",
       "      <td>101348.88</td>\n",
       "      <td>1</td>\n",
       "    </tr>\n",
       "    <tr>\n",
       "      <th>1</th>\n",
       "      <td>2</td>\n",
       "      <td>15647311</td>\n",
       "      <td>Hill</td>\n",
       "      <td>608</td>\n",
       "      <td>Spain</td>\n",
       "      <td>Female</td>\n",
       "      <td>41</td>\n",
       "      <td>1.0</td>\n",
       "      <td>83807.86</td>\n",
       "      <td>1</td>\n",
       "      <td>0</td>\n",
       "      <td>1</td>\n",
       "      <td>112542.58</td>\n",
       "      <td>0</td>\n",
       "    </tr>\n",
       "    <tr>\n",
       "      <th>2</th>\n",
       "      <td>3</td>\n",
       "      <td>15619304</td>\n",
       "      <td>Onio</td>\n",
       "      <td>502</td>\n",
       "      <td>France</td>\n",
       "      <td>Female</td>\n",
       "      <td>42</td>\n",
       "      <td>8.0</td>\n",
       "      <td>159660.80</td>\n",
       "      <td>3</td>\n",
       "      <td>1</td>\n",
       "      <td>0</td>\n",
       "      <td>113931.57</td>\n",
       "      <td>1</td>\n",
       "    </tr>\n",
       "    <tr>\n",
       "      <th>3</th>\n",
       "      <td>4</td>\n",
       "      <td>15701354</td>\n",
       "      <td>Boni</td>\n",
       "      <td>699</td>\n",
       "      <td>France</td>\n",
       "      <td>Female</td>\n",
       "      <td>39</td>\n",
       "      <td>1.0</td>\n",
       "      <td>0.00</td>\n",
       "      <td>2</td>\n",
       "      <td>0</td>\n",
       "      <td>0</td>\n",
       "      <td>93826.63</td>\n",
       "      <td>0</td>\n",
       "    </tr>\n",
       "    <tr>\n",
       "      <th>4</th>\n",
       "      <td>5</td>\n",
       "      <td>15737888</td>\n",
       "      <td>Mitchell</td>\n",
       "      <td>850</td>\n",
       "      <td>Spain</td>\n",
       "      <td>Female</td>\n",
       "      <td>43</td>\n",
       "      <td>2.0</td>\n",
       "      <td>125510.82</td>\n",
       "      <td>1</td>\n",
       "      <td>1</td>\n",
       "      <td>1</td>\n",
       "      <td>79084.10</td>\n",
       "      <td>0</td>\n",
       "    </tr>\n",
       "  </tbody>\n",
       "</table>\n",
       "</div>"
      ],
      "text/plain": [
       "   RowNumber  CustomerId   Surname  CreditScore Geography  Gender  Age  \\\n",
       "0          1    15634602  Hargrave          619    France  Female   42   \n",
       "1          2    15647311      Hill          608     Spain  Female   41   \n",
       "2          3    15619304      Onio          502    France  Female   42   \n",
       "3          4    15701354      Boni          699    France  Female   39   \n",
       "4          5    15737888  Mitchell          850     Spain  Female   43   \n",
       "\n",
       "   Tenure    Balance  NumOfProducts  HasCrCard  IsActiveMember  \\\n",
       "0     2.0       0.00              1          1               1   \n",
       "1     1.0   83807.86              1          0               1   \n",
       "2     8.0  159660.80              3          1               0   \n",
       "3     1.0       0.00              2          0               0   \n",
       "4     2.0  125510.82              1          1               1   \n",
       "\n",
       "   EstimatedSalary  Exited  \n",
       "0        101348.88       1  \n",
       "1        112542.58       0  \n",
       "2        113931.57       1  \n",
       "3         93826.63       0  \n",
       "4         79084.10       0  "
      ]
     },
     "execution_count": 3,
     "metadata": {},
     "output_type": "execute_result"
    }
   ],
   "source": [
    "df.head()"
   ]
  },
  {
   "cell_type": "code",
   "execution_count": 4,
   "metadata": {
    "scrolled": true
   },
   "outputs": [
    {
     "name": "stdout",
     "output_type": "stream",
     "text": [
      "<class 'pandas.core.frame.DataFrame'>\n",
      "RangeIndex: 10000 entries, 0 to 9999\n",
      "Data columns (total 14 columns):\n",
      " #   Column           Non-Null Count  Dtype  \n",
      "---  ------           --------------  -----  \n",
      " 0   RowNumber        10000 non-null  int64  \n",
      " 1   CustomerId       10000 non-null  int64  \n",
      " 2   Surname          10000 non-null  object \n",
      " 3   CreditScore      10000 non-null  int64  \n",
      " 4   Geography        10000 non-null  object \n",
      " 5   Gender           10000 non-null  object \n",
      " 6   Age              10000 non-null  int64  \n",
      " 7   Tenure           9091 non-null   float64\n",
      " 8   Balance          10000 non-null  float64\n",
      " 9   NumOfProducts    10000 non-null  int64  \n",
      " 10  HasCrCard        10000 non-null  int64  \n",
      " 11  IsActiveMember   10000 non-null  int64  \n",
      " 12  EstimatedSalary  10000 non-null  float64\n",
      " 13  Exited           10000 non-null  int64  \n",
      "dtypes: float64(3), int64(8), object(3)\n",
      "memory usage: 1.1+ MB\n"
     ]
    }
   ],
   "source": [
    "df.info()"
   ]
  },
  {
   "cell_type": "markdown",
   "metadata": {},
   "source": [
    "Заметим, что в одном из столбцов есть пропуски, есть три варианта решения:\n",
    "\n",
    "Удалить объекты с пропущенными значениями, так как количество их не очень велико(около 10%)\n",
    "\n",
    "Заменить пропуски на минимальное значение\n",
    "\n",
    "Заменить пропуски на медианное значение"
   ]
  },
  {
   "cell_type": "code",
   "execution_count": 5,
   "metadata": {},
   "outputs": [],
   "source": [
    "# Остановимся на заполнении медианным значением\n",
    "df['Tenure'] = df['Tenure'].fillna(df['Tenure'].median())"
   ]
  },
  {
   "cell_type": "code",
   "execution_count": 6,
   "metadata": {},
   "outputs": [
    {
     "data": {
      "text/html": [
       "<div>\n",
       "<style scoped>\n",
       "    .dataframe tbody tr th:only-of-type {\n",
       "        vertical-align: middle;\n",
       "    }\n",
       "\n",
       "    .dataframe tbody tr th {\n",
       "        vertical-align: top;\n",
       "    }\n",
       "\n",
       "    .dataframe thead th {\n",
       "        text-align: right;\n",
       "    }\n",
       "</style>\n",
       "<table border=\"1\" class=\"dataframe\">\n",
       "  <thead>\n",
       "    <tr style=\"text-align: right;\">\n",
       "      <th></th>\n",
       "      <th>RowNumber</th>\n",
       "      <th>CustomerId</th>\n",
       "      <th>CreditScore</th>\n",
       "      <th>Age</th>\n",
       "      <th>Tenure</th>\n",
       "      <th>Balance</th>\n",
       "      <th>NumOfProducts</th>\n",
       "      <th>HasCrCard</th>\n",
       "      <th>IsActiveMember</th>\n",
       "      <th>EstimatedSalary</th>\n",
       "      <th>Exited</th>\n",
       "    </tr>\n",
       "  </thead>\n",
       "  <tbody>\n",
       "    <tr>\n",
       "      <th>count</th>\n",
       "      <td>10000.00000</td>\n",
       "      <td>1.000000e+04</td>\n",
       "      <td>10000.000000</td>\n",
       "      <td>10000.000000</td>\n",
       "      <td>10000.00000</td>\n",
       "      <td>10000.000000</td>\n",
       "      <td>10000.000000</td>\n",
       "      <td>10000.00000</td>\n",
       "      <td>10000.000000</td>\n",
       "      <td>10000.000000</td>\n",
       "      <td>10000.000000</td>\n",
       "    </tr>\n",
       "    <tr>\n",
       "      <th>mean</th>\n",
       "      <td>5000.50000</td>\n",
       "      <td>1.569094e+07</td>\n",
       "      <td>650.528800</td>\n",
       "      <td>38.921800</td>\n",
       "      <td>4.99790</td>\n",
       "      <td>76485.889288</td>\n",
       "      <td>1.530200</td>\n",
       "      <td>0.70550</td>\n",
       "      <td>0.515100</td>\n",
       "      <td>100090.239881</td>\n",
       "      <td>0.203700</td>\n",
       "    </tr>\n",
       "    <tr>\n",
       "      <th>std</th>\n",
       "      <td>2886.89568</td>\n",
       "      <td>7.193619e+04</td>\n",
       "      <td>96.653299</td>\n",
       "      <td>10.487806</td>\n",
       "      <td>2.76001</td>\n",
       "      <td>62397.405202</td>\n",
       "      <td>0.581654</td>\n",
       "      <td>0.45584</td>\n",
       "      <td>0.499797</td>\n",
       "      <td>57510.492818</td>\n",
       "      <td>0.402769</td>\n",
       "    </tr>\n",
       "    <tr>\n",
       "      <th>min</th>\n",
       "      <td>1.00000</td>\n",
       "      <td>1.556570e+07</td>\n",
       "      <td>350.000000</td>\n",
       "      <td>18.000000</td>\n",
       "      <td>0.00000</td>\n",
       "      <td>0.000000</td>\n",
       "      <td>1.000000</td>\n",
       "      <td>0.00000</td>\n",
       "      <td>0.000000</td>\n",
       "      <td>11.580000</td>\n",
       "      <td>0.000000</td>\n",
       "    </tr>\n",
       "    <tr>\n",
       "      <th>25%</th>\n",
       "      <td>2500.75000</td>\n",
       "      <td>1.562853e+07</td>\n",
       "      <td>584.000000</td>\n",
       "      <td>32.000000</td>\n",
       "      <td>3.00000</td>\n",
       "      <td>0.000000</td>\n",
       "      <td>1.000000</td>\n",
       "      <td>0.00000</td>\n",
       "      <td>0.000000</td>\n",
       "      <td>51002.110000</td>\n",
       "      <td>0.000000</td>\n",
       "    </tr>\n",
       "    <tr>\n",
       "      <th>50%</th>\n",
       "      <td>5000.50000</td>\n",
       "      <td>1.569074e+07</td>\n",
       "      <td>652.000000</td>\n",
       "      <td>37.000000</td>\n",
       "      <td>5.00000</td>\n",
       "      <td>97198.540000</td>\n",
       "      <td>1.000000</td>\n",
       "      <td>1.00000</td>\n",
       "      <td>1.000000</td>\n",
       "      <td>100193.915000</td>\n",
       "      <td>0.000000</td>\n",
       "    </tr>\n",
       "    <tr>\n",
       "      <th>75%</th>\n",
       "      <td>7500.25000</td>\n",
       "      <td>1.575323e+07</td>\n",
       "      <td>718.000000</td>\n",
       "      <td>44.000000</td>\n",
       "      <td>7.00000</td>\n",
       "      <td>127644.240000</td>\n",
       "      <td>2.000000</td>\n",
       "      <td>1.00000</td>\n",
       "      <td>1.000000</td>\n",
       "      <td>149388.247500</td>\n",
       "      <td>0.000000</td>\n",
       "    </tr>\n",
       "    <tr>\n",
       "      <th>max</th>\n",
       "      <td>10000.00000</td>\n",
       "      <td>1.581569e+07</td>\n",
       "      <td>850.000000</td>\n",
       "      <td>92.000000</td>\n",
       "      <td>10.00000</td>\n",
       "      <td>250898.090000</td>\n",
       "      <td>4.000000</td>\n",
       "      <td>1.00000</td>\n",
       "      <td>1.000000</td>\n",
       "      <td>199992.480000</td>\n",
       "      <td>1.000000</td>\n",
       "    </tr>\n",
       "  </tbody>\n",
       "</table>\n",
       "</div>"
      ],
      "text/plain": [
       "         RowNumber    CustomerId   CreditScore           Age       Tenure  \\\n",
       "count  10000.00000  1.000000e+04  10000.000000  10000.000000  10000.00000   \n",
       "mean    5000.50000  1.569094e+07    650.528800     38.921800      4.99790   \n",
       "std     2886.89568  7.193619e+04     96.653299     10.487806      2.76001   \n",
       "min        1.00000  1.556570e+07    350.000000     18.000000      0.00000   \n",
       "25%     2500.75000  1.562853e+07    584.000000     32.000000      3.00000   \n",
       "50%     5000.50000  1.569074e+07    652.000000     37.000000      5.00000   \n",
       "75%     7500.25000  1.575323e+07    718.000000     44.000000      7.00000   \n",
       "max    10000.00000  1.581569e+07    850.000000     92.000000     10.00000   \n",
       "\n",
       "             Balance  NumOfProducts    HasCrCard  IsActiveMember  \\\n",
       "count   10000.000000   10000.000000  10000.00000    10000.000000   \n",
       "mean    76485.889288       1.530200      0.70550        0.515100   \n",
       "std     62397.405202       0.581654      0.45584        0.499797   \n",
       "min         0.000000       1.000000      0.00000        0.000000   \n",
       "25%         0.000000       1.000000      0.00000        0.000000   \n",
       "50%     97198.540000       1.000000      1.00000        1.000000   \n",
       "75%    127644.240000       2.000000      1.00000        1.000000   \n",
       "max    250898.090000       4.000000      1.00000        1.000000   \n",
       "\n",
       "       EstimatedSalary        Exited  \n",
       "count     10000.000000  10000.000000  \n",
       "mean     100090.239881      0.203700  \n",
       "std       57510.492818      0.402769  \n",
       "min          11.580000      0.000000  \n",
       "25%       51002.110000      0.000000  \n",
       "50%      100193.915000      0.000000  \n",
       "75%      149388.247500      0.000000  \n",
       "max      199992.480000      1.000000  "
      ]
     },
     "execution_count": 6,
     "metadata": {},
     "output_type": "execute_result"
    }
   ],
   "source": [
    "df.describe()"
   ]
  },
  {
   "cell_type": "markdown",
   "metadata": {},
   "source": [
    "**Признаки:**<br>\n",
    "- `RowNumber` — индекс строки в данных\n",
    "- `CustomerId` — уникальный идентификатор клиента\n",
    "- `Surname` — фамилия\n",
    "- `CreditScore` — кредитный рейтинг\n",
    "- `Geography` — страна проживания\n",
    "- `Gender` — пол\n",
    "- `Age` — возраст\n",
    "- `Tenure` — сколько лет человек является клиентом банка\n",
    "- `Balance` — баланс на счёте\n",
    "- `NumOfProducts` — количество продуктов банка, используемых клиентом\n",
    "- `HasCrCard` — наличие кредитной карты\n",
    "- `IsActiveMember` — активность клиента\n",
    "- `EstimatedSalary` — предполагаемая зарплата\n",
    "<br><br>**Целевым признаком** является столбец `Exited` — факт ухода клиента"
   ]
  },
  {
   "cell_type": "code",
   "execution_count": 7,
   "metadata": {},
   "outputs": [
    {
     "data": {
      "text/plain": [
       "0"
      ]
     },
     "execution_count": 7,
     "metadata": {},
     "output_type": "execute_result"
    }
   ],
   "source": [
    "#Проверим на дубликаты\n",
    "df.duplicated().sum()"
   ]
  },
  {
   "cell_type": "code",
   "execution_count": 8,
   "metadata": {},
   "outputs": [
    {
     "data": {
      "text/plain": [
       "array(['France', 'Spain', 'Germany'], dtype=object)"
      ]
     },
     "execution_count": 8,
     "metadata": {},
     "output_type": "execute_result"
    }
   ],
   "source": [
    "df['Geography'].unique()"
   ]
  },
  {
   "cell_type": "markdown",
   "metadata": {},
   "source": [
    "**Вывод:**<br>\n",
    "\n",
    "- `RowNumber` — столбец дублирует информацию стандартного датафрейма и не несет ценности для обучения модели. Поэтому столбец можно удалить\n",
    "- `CustomerId` — является идентификатором пользователя (по данному столбцу значению необходимо проверить наличие дубликатов) и если отсутсвуют — стоблец также можно удалить.\n",
    "- `Surname` — является идентифицирующей пользователя информацией, содержит 2932 уникальных значений (данные kaggle), что сильно усложняет задачу, но не несет ценности для качества будущей модели — столбец можно удалить.\n",
    "- `CreditScore` — следует проверить распределение и сохранить данный столбец.\n",
    "- `Geography` — всего 3 уникальных значения France', 'Spain', 'Germany' — выполнить преобразование OHE / ordinal encoding\n",
    "- `Gender` — значение преобразовать — OHE / ordinal encoding.\n",
    "- `Age` — `Exited` — тип данных верны."
   ]
  },
  {
   "cell_type": "markdown",
   "metadata": {},
   "source": [
    "## Исследование задачи"
   ]
  },
  {
   "cell_type": "markdown",
   "metadata": {},
   "source": [
    "### Подготовка данных для машинного обучения"
   ]
  },
  {
   "cell_type": "code",
   "execution_count": 9,
   "metadata": {},
   "outputs": [
    {
     "data": {
      "text/html": [
       "<div>\n",
       "<style scoped>\n",
       "    .dataframe tbody tr th:only-of-type {\n",
       "        vertical-align: middle;\n",
       "    }\n",
       "\n",
       "    .dataframe tbody tr th {\n",
       "        vertical-align: top;\n",
       "    }\n",
       "\n",
       "    .dataframe thead th {\n",
       "        text-align: right;\n",
       "    }\n",
       "</style>\n",
       "<table border=\"1\" class=\"dataframe\">\n",
       "  <thead>\n",
       "    <tr style=\"text-align: right;\">\n",
       "      <th></th>\n",
       "      <th>CreditScore</th>\n",
       "      <th>Geography</th>\n",
       "      <th>Gender</th>\n",
       "      <th>Age</th>\n",
       "      <th>Tenure</th>\n",
       "      <th>Balance</th>\n",
       "      <th>NumOfProducts</th>\n",
       "      <th>HasCrCard</th>\n",
       "      <th>IsActiveMember</th>\n",
       "      <th>EstimatedSalary</th>\n",
       "      <th>Exited</th>\n",
       "    </tr>\n",
       "  </thead>\n",
       "  <tbody>\n",
       "    <tr>\n",
       "      <th>0</th>\n",
       "      <td>619</td>\n",
       "      <td>France</td>\n",
       "      <td>Female</td>\n",
       "      <td>42</td>\n",
       "      <td>2.0</td>\n",
       "      <td>0.00</td>\n",
       "      <td>1</td>\n",
       "      <td>1</td>\n",
       "      <td>1</td>\n",
       "      <td>101348.88</td>\n",
       "      <td>1</td>\n",
       "    </tr>\n",
       "    <tr>\n",
       "      <th>1</th>\n",
       "      <td>608</td>\n",
       "      <td>Spain</td>\n",
       "      <td>Female</td>\n",
       "      <td>41</td>\n",
       "      <td>1.0</td>\n",
       "      <td>83807.86</td>\n",
       "      <td>1</td>\n",
       "      <td>0</td>\n",
       "      <td>1</td>\n",
       "      <td>112542.58</td>\n",
       "      <td>0</td>\n",
       "    </tr>\n",
       "    <tr>\n",
       "      <th>2</th>\n",
       "      <td>502</td>\n",
       "      <td>France</td>\n",
       "      <td>Female</td>\n",
       "      <td>42</td>\n",
       "      <td>8.0</td>\n",
       "      <td>159660.80</td>\n",
       "      <td>3</td>\n",
       "      <td>1</td>\n",
       "      <td>0</td>\n",
       "      <td>113931.57</td>\n",
       "      <td>1</td>\n",
       "    </tr>\n",
       "    <tr>\n",
       "      <th>3</th>\n",
       "      <td>699</td>\n",
       "      <td>France</td>\n",
       "      <td>Female</td>\n",
       "      <td>39</td>\n",
       "      <td>1.0</td>\n",
       "      <td>0.00</td>\n",
       "      <td>2</td>\n",
       "      <td>0</td>\n",
       "      <td>0</td>\n",
       "      <td>93826.63</td>\n",
       "      <td>0</td>\n",
       "    </tr>\n",
       "    <tr>\n",
       "      <th>4</th>\n",
       "      <td>850</td>\n",
       "      <td>Spain</td>\n",
       "      <td>Female</td>\n",
       "      <td>43</td>\n",
       "      <td>2.0</td>\n",
       "      <td>125510.82</td>\n",
       "      <td>1</td>\n",
       "      <td>1</td>\n",
       "      <td>1</td>\n",
       "      <td>79084.10</td>\n",
       "      <td>0</td>\n",
       "    </tr>\n",
       "  </tbody>\n",
       "</table>\n",
       "</div>"
      ],
      "text/plain": [
       "   CreditScore Geography  Gender  Age  Tenure    Balance  NumOfProducts  \\\n",
       "0          619    France  Female   42     2.0       0.00              1   \n",
       "1          608     Spain  Female   41     1.0   83807.86              1   \n",
       "2          502    France  Female   42     8.0  159660.80              3   \n",
       "3          699    France  Female   39     1.0       0.00              2   \n",
       "4          850     Spain  Female   43     2.0  125510.82              1   \n",
       "\n",
       "   HasCrCard  IsActiveMember  EstimatedSalary  Exited  \n",
       "0          1               1        101348.88       1  \n",
       "1          0               1        112542.58       0  \n",
       "2          1               0        113931.57       1  \n",
       "3          0               0         93826.63       0  \n",
       "4          1               1         79084.10       0  "
      ]
     },
     "execution_count": 9,
     "metadata": {},
     "output_type": "execute_result"
    }
   ],
   "source": [
    "#Обозначим новый датафрейм \"data_ml\" — данные для машинного обучения\n",
    "#Удалим столбцы-идентификаторы, не представляющие ценностия для алгоритма \n",
    "for_drop = ['RowNumber','CustomerId', 'Surname']\n",
    "df_ml = df.drop(for_drop, axis=1)\n",
    "df_ml.head()"
   ]
  },
  {
   "cell_type": "code",
   "execution_count": 10,
   "metadata": {},
   "outputs": [
    {
     "data": {
      "text/plain": [
       "(10000, 11)"
      ]
     },
     "execution_count": 10,
     "metadata": {},
     "output_type": "execute_result"
    }
   ],
   "source": [
    "df_ml.shape"
   ]
  },
  {
   "cell_type": "code",
   "execution_count": 11,
   "metadata": {},
   "outputs": [
    {
     "data": {
      "text/html": [
       "<div>\n",
       "<style scoped>\n",
       "    .dataframe tbody tr th:only-of-type {\n",
       "        vertical-align: middle;\n",
       "    }\n",
       "\n",
       "    .dataframe tbody tr th {\n",
       "        vertical-align: top;\n",
       "    }\n",
       "\n",
       "    .dataframe thead th {\n",
       "        text-align: right;\n",
       "    }\n",
       "</style>\n",
       "<table border=\"1\" class=\"dataframe\">\n",
       "  <thead>\n",
       "    <tr style=\"text-align: right;\">\n",
       "      <th></th>\n",
       "      <th>CreditScore</th>\n",
       "      <th>Age</th>\n",
       "      <th>Tenure</th>\n",
       "      <th>Balance</th>\n",
       "      <th>NumOfProducts</th>\n",
       "      <th>HasCrCard</th>\n",
       "      <th>IsActiveMember</th>\n",
       "      <th>EstimatedSalary</th>\n",
       "      <th>Exited</th>\n",
       "      <th>Geography_Germany</th>\n",
       "      <th>Geography_Spain</th>\n",
       "      <th>Gender_Male</th>\n",
       "    </tr>\n",
       "  </thead>\n",
       "  <tbody>\n",
       "    <tr>\n",
       "      <th>0</th>\n",
       "      <td>619</td>\n",
       "      <td>42</td>\n",
       "      <td>2.0</td>\n",
       "      <td>0.00</td>\n",
       "      <td>1</td>\n",
       "      <td>1</td>\n",
       "      <td>1</td>\n",
       "      <td>101348.88</td>\n",
       "      <td>1</td>\n",
       "      <td>0</td>\n",
       "      <td>0</td>\n",
       "      <td>0</td>\n",
       "    </tr>\n",
       "    <tr>\n",
       "      <th>1</th>\n",
       "      <td>608</td>\n",
       "      <td>41</td>\n",
       "      <td>1.0</td>\n",
       "      <td>83807.86</td>\n",
       "      <td>1</td>\n",
       "      <td>0</td>\n",
       "      <td>1</td>\n",
       "      <td>112542.58</td>\n",
       "      <td>0</td>\n",
       "      <td>0</td>\n",
       "      <td>1</td>\n",
       "      <td>0</td>\n",
       "    </tr>\n",
       "    <tr>\n",
       "      <th>2</th>\n",
       "      <td>502</td>\n",
       "      <td>42</td>\n",
       "      <td>8.0</td>\n",
       "      <td>159660.80</td>\n",
       "      <td>3</td>\n",
       "      <td>1</td>\n",
       "      <td>0</td>\n",
       "      <td>113931.57</td>\n",
       "      <td>1</td>\n",
       "      <td>0</td>\n",
       "      <td>0</td>\n",
       "      <td>0</td>\n",
       "    </tr>\n",
       "    <tr>\n",
       "      <th>3</th>\n",
       "      <td>699</td>\n",
       "      <td>39</td>\n",
       "      <td>1.0</td>\n",
       "      <td>0.00</td>\n",
       "      <td>2</td>\n",
       "      <td>0</td>\n",
       "      <td>0</td>\n",
       "      <td>93826.63</td>\n",
       "      <td>0</td>\n",
       "      <td>0</td>\n",
       "      <td>0</td>\n",
       "      <td>0</td>\n",
       "    </tr>\n",
       "    <tr>\n",
       "      <th>4</th>\n",
       "      <td>850</td>\n",
       "      <td>43</td>\n",
       "      <td>2.0</td>\n",
       "      <td>125510.82</td>\n",
       "      <td>1</td>\n",
       "      <td>1</td>\n",
       "      <td>1</td>\n",
       "      <td>79084.10</td>\n",
       "      <td>0</td>\n",
       "      <td>0</td>\n",
       "      <td>1</td>\n",
       "      <td>0</td>\n",
       "    </tr>\n",
       "  </tbody>\n",
       "</table>\n",
       "</div>"
      ],
      "text/plain": [
       "   CreditScore  Age  Tenure    Balance  NumOfProducts  HasCrCard  \\\n",
       "0          619   42     2.0       0.00              1          1   \n",
       "1          608   41     1.0   83807.86              1          0   \n",
       "2          502   42     8.0  159660.80              3          1   \n",
       "3          699   39     1.0       0.00              2          0   \n",
       "4          850   43     2.0  125510.82              1          1   \n",
       "\n",
       "   IsActiveMember  EstimatedSalary  Exited  Geography_Germany  \\\n",
       "0               1        101348.88       1                  0   \n",
       "1               1        112542.58       0                  0   \n",
       "2               0        113931.57       1                  0   \n",
       "3               0         93826.63       0                  0   \n",
       "4               1         79084.10       0                  0   \n",
       "\n",
       "   Geography_Spain  Gender_Male  \n",
       "0                0            0  \n",
       "1                1            0  \n",
       "2                0            0  \n",
       "3                0            0  \n",
       "4                1            0  "
      ]
     },
     "execution_count": 11,
     "metadata": {},
     "output_type": "execute_result"
    }
   ],
   "source": [
    "# Данные подготовим методом OHE, что позволит нам использовать разные модели и не словить дамми ловушку\n",
    "df_ml = pd.get_dummies(df_ml, drop_first=True)\n",
    "df_ml.head()"
   ]
  },
  {
   "cell_type": "code",
   "execution_count": 12,
   "metadata": {},
   "outputs": [
    {
     "data": {
      "text/plain": [
       "(10000, 12)"
      ]
     },
     "execution_count": 12,
     "metadata": {},
     "output_type": "execute_result"
    }
   ],
   "source": [
    "df_ml.shape"
   ]
  },
  {
   "cell_type": "markdown",
   "metadata": {},
   "source": [
    "**Вывод:** <br>В новом датафрейме кол-во столбцов увеличелось на 1 (стало 12). Столбец Geography содержал 3 класса, Gender_Male 2 класса — в результате мы получили только 2 и 1 столбцов соответственно, что позволяет избежать дами-ловушки."
   ]
  },
  {
   "cell_type": "markdown",
   "metadata": {},
   "source": [
    "### Сформируем выборки"
   ]
  },
  {
   "cell_type": "code",
   "execution_count": 13,
   "metadata": {},
   "outputs": [],
   "source": [
    "#Разделим на признаки и целевой признак\n",
    "features = df_ml.drop('Exited', axis=1)\n",
    "target = df_ml['Exited']"
   ]
  },
  {
   "cell_type": "code",
   "execution_count": 14,
   "metadata": {},
   "outputs": [],
   "source": [
    "#Валид 60%\n",
    "features_train, features_validtest, target_train, target_validtest = train_test_split(features,\n",
    "                                                    target,\n",
    "                                                    train_size=0.6,\n",
    "                                                    random_state=12345)"
   ]
  },
  {
   "cell_type": "code",
   "execution_count": 15,
   "metadata": {},
   "outputs": [],
   "source": [
    "#Валид и тест соответственно поровну по 20% от общей\n",
    "features_valid, features_test, target_valid, target_test = train_test_split(features_validtest,\n",
    "                                                    target_validtest,\n",
    "                                                    train_size=0.5,\n",
    "                                                    random_state=12345)"
   ]
  },
  {
   "cell_type": "markdown",
   "metadata": {},
   "source": [
    "*Создали 3 выборки:*\n",
    "<br>\n",
    "**Обучающая**<br>\n",
    "features_train, target_train\n",
    "<br>\n",
    "**Валидационная**<br>\n",
    "features_valid, target_valid\n",
    "<br>\n",
    "**Тестовая**<br>\n",
    "features_test, target_test"
   ]
  },
  {
   "cell_type": "code",
   "execution_count": 16,
   "metadata": {},
   "outputs": [
    {
     "data": {
      "text/html": [
       "<div>\n",
       "<style scoped>\n",
       "    .dataframe tbody tr th:only-of-type {\n",
       "        vertical-align: middle;\n",
       "    }\n",
       "\n",
       "    .dataframe tbody tr th {\n",
       "        vertical-align: top;\n",
       "    }\n",
       "\n",
       "    .dataframe thead th {\n",
       "        text-align: right;\n",
       "    }\n",
       "</style>\n",
       "<table border=\"1\" class=\"dataframe\">\n",
       "  <thead>\n",
       "    <tr style=\"text-align: right;\">\n",
       "      <th></th>\n",
       "      <th>CreditScore</th>\n",
       "      <th>Age</th>\n",
       "      <th>Tenure</th>\n",
       "      <th>Balance</th>\n",
       "      <th>NumOfProducts</th>\n",
       "      <th>HasCrCard</th>\n",
       "      <th>IsActiveMember</th>\n",
       "      <th>EstimatedSalary</th>\n",
       "      <th>Geography_Germany</th>\n",
       "      <th>Geography_Spain</th>\n",
       "      <th>Gender_Male</th>\n",
       "    </tr>\n",
       "  </thead>\n",
       "  <tbody>\n",
       "    <tr>\n",
       "      <th>7479</th>\n",
       "      <td>567</td>\n",
       "      <td>35</td>\n",
       "      <td>8.0</td>\n",
       "      <td>153137.74</td>\n",
       "      <td>1</td>\n",
       "      <td>1</td>\n",
       "      <td>0</td>\n",
       "      <td>88659.07</td>\n",
       "      <td>0</td>\n",
       "      <td>1</td>\n",
       "      <td>1</td>\n",
       "    </tr>\n",
       "    <tr>\n",
       "      <th>3411</th>\n",
       "      <td>711</td>\n",
       "      <td>37</td>\n",
       "      <td>8.0</td>\n",
       "      <td>113899.92</td>\n",
       "      <td>1</td>\n",
       "      <td>0</td>\n",
       "      <td>0</td>\n",
       "      <td>80215.20</td>\n",
       "      <td>0</td>\n",
       "      <td>0</td>\n",
       "      <td>0</td>\n",
       "    </tr>\n",
       "    <tr>\n",
       "      <th>6027</th>\n",
       "      <td>850</td>\n",
       "      <td>44</td>\n",
       "      <td>3.0</td>\n",
       "      <td>140393.65</td>\n",
       "      <td>2</td>\n",
       "      <td>0</td>\n",
       "      <td>1</td>\n",
       "      <td>186285.52</td>\n",
       "      <td>1</td>\n",
       "      <td>0</td>\n",
       "      <td>1</td>\n",
       "    </tr>\n",
       "    <tr>\n",
       "      <th>1247</th>\n",
       "      <td>512</td>\n",
       "      <td>24</td>\n",
       "      <td>6.0</td>\n",
       "      <td>0.00</td>\n",
       "      <td>2</td>\n",
       "      <td>1</td>\n",
       "      <td>0</td>\n",
       "      <td>37654.31</td>\n",
       "      <td>0</td>\n",
       "      <td>0</td>\n",
       "      <td>1</td>\n",
       "    </tr>\n",
       "    <tr>\n",
       "      <th>3716</th>\n",
       "      <td>665</td>\n",
       "      <td>27</td>\n",
       "      <td>2.0</td>\n",
       "      <td>147435.96</td>\n",
       "      <td>1</td>\n",
       "      <td>0</td>\n",
       "      <td>0</td>\n",
       "      <td>187508.06</td>\n",
       "      <td>1</td>\n",
       "      <td>0</td>\n",
       "      <td>0</td>\n",
       "    </tr>\n",
       "  </tbody>\n",
       "</table>\n",
       "</div>"
      ],
      "text/plain": [
       "      CreditScore  Age  Tenure    Balance  NumOfProducts  HasCrCard  \\\n",
       "7479          567   35     8.0  153137.74              1          1   \n",
       "3411          711   37     8.0  113899.92              1          0   \n",
       "6027          850   44     3.0  140393.65              2          0   \n",
       "1247          512   24     6.0       0.00              2          1   \n",
       "3716          665   27     2.0  147435.96              1          0   \n",
       "\n",
       "      IsActiveMember  EstimatedSalary  Geography_Germany  Geography_Spain  \\\n",
       "7479               0         88659.07                  0                1   \n",
       "3411               0         80215.20                  0                0   \n",
       "6027               1        186285.52                  1                0   \n",
       "1247               0         37654.31                  0                0   \n",
       "3716               0        187508.06                  1                0   \n",
       "\n",
       "      Gender_Male  \n",
       "7479            1  \n",
       "3411            0  \n",
       "6027            1  \n",
       "1247            1  \n",
       "3716            0  "
      ]
     },
     "execution_count": 16,
     "metadata": {},
     "output_type": "execute_result"
    }
   ],
   "source": [
    "features_train.head()"
   ]
  },
  {
   "cell_type": "code",
   "execution_count": 17,
   "metadata": {},
   "outputs": [],
   "source": [
    "#Для масштабирования методом scaler зафиксируем численные признаки\n",
    "numeric = ['CreditScore', 'Age', 'Tenure', 'Balance', 'NumOfProducts', 'EstimatedSalary']"
   ]
  },
  {
   "cell_type": "code",
   "execution_count": 18,
   "metadata": {},
   "outputs": [
    {
     "data": {
      "text/plain": [
       "StandardScaler()"
      ]
     },
     "execution_count": 18,
     "metadata": {},
     "output_type": "execute_result"
    }
   ],
   "source": [
    "scaler = StandardScaler()\n",
    "scaler.fit(features_train[numeric])"
   ]
  },
  {
   "cell_type": "code",
   "execution_count": 19,
   "metadata": {},
   "outputs": [
    {
     "data": {
      "text/html": [
       "<div>\n",
       "<style scoped>\n",
       "    .dataframe tbody tr th:only-of-type {\n",
       "        vertical-align: middle;\n",
       "    }\n",
       "\n",
       "    .dataframe tbody tr th {\n",
       "        vertical-align: top;\n",
       "    }\n",
       "\n",
       "    .dataframe thead th {\n",
       "        text-align: right;\n",
       "    }\n",
       "</style>\n",
       "<table border=\"1\" class=\"dataframe\">\n",
       "  <thead>\n",
       "    <tr style=\"text-align: right;\">\n",
       "      <th></th>\n",
       "      <th>CreditScore</th>\n",
       "      <th>Age</th>\n",
       "      <th>Tenure</th>\n",
       "      <th>Balance</th>\n",
       "      <th>NumOfProducts</th>\n",
       "      <th>HasCrCard</th>\n",
       "      <th>IsActiveMember</th>\n",
       "      <th>EstimatedSalary</th>\n",
       "      <th>Geography_Germany</th>\n",
       "      <th>Geography_Spain</th>\n",
       "      <th>Gender_Male</th>\n",
       "    </tr>\n",
       "  </thead>\n",
       "  <tbody>\n",
       "    <tr>\n",
       "      <th>7479</th>\n",
       "      <td>-0.886751</td>\n",
       "      <td>-0.373192</td>\n",
       "      <td>1.082277</td>\n",
       "      <td>1.232271</td>\n",
       "      <td>-0.891560</td>\n",
       "      <td>1</td>\n",
       "      <td>0</td>\n",
       "      <td>-0.187705</td>\n",
       "      <td>0</td>\n",
       "      <td>1</td>\n",
       "      <td>1</td>\n",
       "    </tr>\n",
       "    <tr>\n",
       "      <th>3411</th>\n",
       "      <td>0.608663</td>\n",
       "      <td>-0.183385</td>\n",
       "      <td>1.082277</td>\n",
       "      <td>0.600563</td>\n",
       "      <td>-0.891560</td>\n",
       "      <td>0</td>\n",
       "      <td>0</td>\n",
       "      <td>-0.333945</td>\n",
       "      <td>0</td>\n",
       "      <td>0</td>\n",
       "      <td>0</td>\n",
       "    </tr>\n",
       "    <tr>\n",
       "      <th>6027</th>\n",
       "      <td>2.052152</td>\n",
       "      <td>0.480939</td>\n",
       "      <td>-0.737696</td>\n",
       "      <td>1.027098</td>\n",
       "      <td>0.830152</td>\n",
       "      <td>0</td>\n",
       "      <td>1</td>\n",
       "      <td>1.503095</td>\n",
       "      <td>1</td>\n",
       "      <td>0</td>\n",
       "      <td>1</td>\n",
       "    </tr>\n",
       "    <tr>\n",
       "      <th>1247</th>\n",
       "      <td>-1.457915</td>\n",
       "      <td>-1.417129</td>\n",
       "      <td>0.354288</td>\n",
       "      <td>-1.233163</td>\n",
       "      <td>0.830152</td>\n",
       "      <td>1</td>\n",
       "      <td>0</td>\n",
       "      <td>-1.071061</td>\n",
       "      <td>0</td>\n",
       "      <td>0</td>\n",
       "      <td>1</td>\n",
       "    </tr>\n",
       "    <tr>\n",
       "      <th>3716</th>\n",
       "      <td>0.130961</td>\n",
       "      <td>-1.132419</td>\n",
       "      <td>-1.101690</td>\n",
       "      <td>1.140475</td>\n",
       "      <td>-0.891560</td>\n",
       "      <td>0</td>\n",
       "      <td>0</td>\n",
       "      <td>1.524268</td>\n",
       "      <td>1</td>\n",
       "      <td>0</td>\n",
       "      <td>0</td>\n",
       "    </tr>\n",
       "  </tbody>\n",
       "</table>\n",
       "</div>"
      ],
      "text/plain": [
       "      CreditScore       Age    Tenure   Balance  NumOfProducts  HasCrCard  \\\n",
       "7479    -0.886751 -0.373192  1.082277  1.232271      -0.891560          1   \n",
       "3411     0.608663 -0.183385  1.082277  0.600563      -0.891560          0   \n",
       "6027     2.052152  0.480939 -0.737696  1.027098       0.830152          0   \n",
       "1247    -1.457915 -1.417129  0.354288 -1.233163       0.830152          1   \n",
       "3716     0.130961 -1.132419 -1.101690  1.140475      -0.891560          0   \n",
       "\n",
       "      IsActiveMember  EstimatedSalary  Geography_Germany  Geography_Spain  \\\n",
       "7479               0        -0.187705                  0                1   \n",
       "3411               0        -0.333945                  0                0   \n",
       "6027               1         1.503095                  1                0   \n",
       "1247               0        -1.071061                  0                0   \n",
       "3716               0         1.524268                  1                0   \n",
       "\n",
       "      Gender_Male  \n",
       "7479            1  \n",
       "3411            0  \n",
       "6027            1  \n",
       "1247            1  \n",
       "3716            0  "
      ]
     },
     "execution_count": 19,
     "metadata": {},
     "output_type": "execute_result"
    }
   ],
   "source": [
    "#Масштабируем числ признаки обучающей выборки\n",
    "features_train[numeric] = scaler.transform(features_train[numeric])\n",
    "features_train.head()"
   ]
  },
  {
   "cell_type": "code",
   "execution_count": 20,
   "metadata": {},
   "outputs": [
    {
     "data": {
      "text/html": [
       "<div>\n",
       "<style scoped>\n",
       "    .dataframe tbody tr th:only-of-type {\n",
       "        vertical-align: middle;\n",
       "    }\n",
       "\n",
       "    .dataframe tbody tr th {\n",
       "        vertical-align: top;\n",
       "    }\n",
       "\n",
       "    .dataframe thead th {\n",
       "        text-align: right;\n",
       "    }\n",
       "</style>\n",
       "<table border=\"1\" class=\"dataframe\">\n",
       "  <thead>\n",
       "    <tr style=\"text-align: right;\">\n",
       "      <th></th>\n",
       "      <th>CreditScore</th>\n",
       "      <th>Age</th>\n",
       "      <th>Tenure</th>\n",
       "      <th>Balance</th>\n",
       "      <th>NumOfProducts</th>\n",
       "      <th>HasCrCard</th>\n",
       "      <th>IsActiveMember</th>\n",
       "      <th>EstimatedSalary</th>\n",
       "      <th>Geography_Germany</th>\n",
       "      <th>Geography_Spain</th>\n",
       "      <th>Gender_Male</th>\n",
       "    </tr>\n",
       "  </thead>\n",
       "  <tbody>\n",
       "    <tr>\n",
       "      <th>8532</th>\n",
       "      <td>-0.699824</td>\n",
       "      <td>-0.373192</td>\n",
       "      <td>-1.101690</td>\n",
       "      <td>-1.233163</td>\n",
       "      <td>0.830152</td>\n",
       "      <td>1</td>\n",
       "      <td>0</td>\n",
       "      <td>-0.015173</td>\n",
       "      <td>0</td>\n",
       "      <td>0</td>\n",
       "      <td>0</td>\n",
       "    </tr>\n",
       "    <tr>\n",
       "      <th>5799</th>\n",
       "      <td>-0.284431</td>\n",
       "      <td>0.575842</td>\n",
       "      <td>-0.737696</td>\n",
       "      <td>-1.233163</td>\n",
       "      <td>-0.891560</td>\n",
       "      <td>1</td>\n",
       "      <td>1</td>\n",
       "      <td>1.471724</td>\n",
       "      <td>0</td>\n",
       "      <td>0</td>\n",
       "      <td>0</td>\n",
       "    </tr>\n",
       "    <tr>\n",
       "      <th>5511</th>\n",
       "      <td>0.151731</td>\n",
       "      <td>-0.657902</td>\n",
       "      <td>-1.829679</td>\n",
       "      <td>0.438711</td>\n",
       "      <td>-0.891560</td>\n",
       "      <td>1</td>\n",
       "      <td>0</td>\n",
       "      <td>-1.367107</td>\n",
       "      <td>1</td>\n",
       "      <td>0</td>\n",
       "      <td>1</td>\n",
       "    </tr>\n",
       "    <tr>\n",
       "      <th>7365</th>\n",
       "      <td>-0.876366</td>\n",
       "      <td>-0.278288</td>\n",
       "      <td>1.810266</td>\n",
       "      <td>1.239884</td>\n",
       "      <td>-0.891560</td>\n",
       "      <td>1</td>\n",
       "      <td>1</td>\n",
       "      <td>-0.786517</td>\n",
       "      <td>0</td>\n",
       "      <td>1</td>\n",
       "      <td>0</td>\n",
       "    </tr>\n",
       "    <tr>\n",
       "      <th>7367</th>\n",
       "      <td>-0.481743</td>\n",
       "      <td>0.291132</td>\n",
       "      <td>1.810266</td>\n",
       "      <td>-1.233163</td>\n",
       "      <td>0.830152</td>\n",
       "      <td>1</td>\n",
       "      <td>0</td>\n",
       "      <td>1.358533</td>\n",
       "      <td>0</td>\n",
       "      <td>1</td>\n",
       "      <td>1</td>\n",
       "    </tr>\n",
       "  </tbody>\n",
       "</table>\n",
       "</div>"
      ],
      "text/plain": [
       "      CreditScore       Age    Tenure   Balance  NumOfProducts  HasCrCard  \\\n",
       "8532    -0.699824 -0.373192 -1.101690 -1.233163       0.830152          1   \n",
       "5799    -0.284431  0.575842 -0.737696 -1.233163      -0.891560          1   \n",
       "5511     0.151731 -0.657902 -1.829679  0.438711      -0.891560          1   \n",
       "7365    -0.876366 -0.278288  1.810266  1.239884      -0.891560          1   \n",
       "7367    -0.481743  0.291132  1.810266 -1.233163       0.830152          1   \n",
       "\n",
       "      IsActiveMember  EstimatedSalary  Geography_Germany  Geography_Spain  \\\n",
       "8532               0        -0.015173                  0                0   \n",
       "5799               1         1.471724                  0                0   \n",
       "5511               0        -1.367107                  1                0   \n",
       "7365               1        -0.786517                  0                1   \n",
       "7367               0         1.358533                  0                1   \n",
       "\n",
       "      Gender_Male  \n",
       "8532            0  \n",
       "5799            0  \n",
       "5511            1  \n",
       "7365            0  \n",
       "7367            1  "
      ]
     },
     "execution_count": 20,
     "metadata": {},
     "output_type": "execute_result"
    }
   ],
   "source": [
    "#Масштабируем численные признаки валидационной выборки \n",
    "features_valid[numeric] = scaler.transform(features_valid[numeric])\n",
    "features_valid.head()"
   ]
  },
  {
   "cell_type": "code",
   "execution_count": 21,
   "metadata": {},
   "outputs": [
    {
     "data": {
      "text/html": [
       "<div>\n",
       "<style scoped>\n",
       "    .dataframe tbody tr th:only-of-type {\n",
       "        vertical-align: middle;\n",
       "    }\n",
       "\n",
       "    .dataframe tbody tr th {\n",
       "        vertical-align: top;\n",
       "    }\n",
       "\n",
       "    .dataframe thead th {\n",
       "        text-align: right;\n",
       "    }\n",
       "</style>\n",
       "<table border=\"1\" class=\"dataframe\">\n",
       "  <thead>\n",
       "    <tr style=\"text-align: right;\">\n",
       "      <th></th>\n",
       "      <th>CreditScore</th>\n",
       "      <th>Age</th>\n",
       "      <th>Tenure</th>\n",
       "      <th>Balance</th>\n",
       "      <th>NumOfProducts</th>\n",
       "      <th>HasCrCard</th>\n",
       "      <th>IsActiveMember</th>\n",
       "      <th>EstimatedSalary</th>\n",
       "      <th>Geography_Germany</th>\n",
       "      <th>Geography_Spain</th>\n",
       "      <th>Gender_Male</th>\n",
       "    </tr>\n",
       "  </thead>\n",
       "  <tbody>\n",
       "    <tr>\n",
       "      <th>7041</th>\n",
       "      <td>-2.226392</td>\n",
       "      <td>-0.088482</td>\n",
       "      <td>-1.101690</td>\n",
       "      <td>-1.233163</td>\n",
       "      <td>0.830152</td>\n",
       "      <td>1</td>\n",
       "      <td>0</td>\n",
       "      <td>0.647083</td>\n",
       "      <td>0</td>\n",
       "      <td>0</td>\n",
       "      <td>1</td>\n",
       "    </tr>\n",
       "    <tr>\n",
       "      <th>5709</th>\n",
       "      <td>-0.087120</td>\n",
       "      <td>0.006422</td>\n",
       "      <td>1.446272</td>\n",
       "      <td>-1.233163</td>\n",
       "      <td>-0.891560</td>\n",
       "      <td>1</td>\n",
       "      <td>0</td>\n",
       "      <td>-1.658410</td>\n",
       "      <td>0</td>\n",
       "      <td>0</td>\n",
       "      <td>0</td>\n",
       "    </tr>\n",
       "    <tr>\n",
       "      <th>7117</th>\n",
       "      <td>-0.917905</td>\n",
       "      <td>-0.752805</td>\n",
       "      <td>-0.009707</td>\n",
       "      <td>0.722307</td>\n",
       "      <td>-0.891560</td>\n",
       "      <td>1</td>\n",
       "      <td>1</td>\n",
       "      <td>-1.369334</td>\n",
       "      <td>0</td>\n",
       "      <td>1</td>\n",
       "      <td>1</td>\n",
       "    </tr>\n",
       "    <tr>\n",
       "      <th>7775</th>\n",
       "      <td>-0.253277</td>\n",
       "      <td>0.101325</td>\n",
       "      <td>1.810266</td>\n",
       "      <td>-1.233163</td>\n",
       "      <td>0.830152</td>\n",
       "      <td>1</td>\n",
       "      <td>0</td>\n",
       "      <td>0.075086</td>\n",
       "      <td>0</td>\n",
       "      <td>1</td>\n",
       "      <td>1</td>\n",
       "    </tr>\n",
       "    <tr>\n",
       "      <th>8735</th>\n",
       "      <td>0.785204</td>\n",
       "      <td>-0.847708</td>\n",
       "      <td>1.810266</td>\n",
       "      <td>0.615625</td>\n",
       "      <td>-0.891560</td>\n",
       "      <td>0</td>\n",
       "      <td>1</td>\n",
       "      <td>-1.070919</td>\n",
       "      <td>0</td>\n",
       "      <td>0</td>\n",
       "      <td>1</td>\n",
       "    </tr>\n",
       "  </tbody>\n",
       "</table>\n",
       "</div>"
      ],
      "text/plain": [
       "      CreditScore       Age    Tenure   Balance  NumOfProducts  HasCrCard  \\\n",
       "7041    -2.226392 -0.088482 -1.101690 -1.233163       0.830152          1   \n",
       "5709    -0.087120  0.006422  1.446272 -1.233163      -0.891560          1   \n",
       "7117    -0.917905 -0.752805 -0.009707  0.722307      -0.891560          1   \n",
       "7775    -0.253277  0.101325  1.810266 -1.233163       0.830152          1   \n",
       "8735     0.785204 -0.847708  1.810266  0.615625      -0.891560          0   \n",
       "\n",
       "      IsActiveMember  EstimatedSalary  Geography_Germany  Geography_Spain  \\\n",
       "7041               0         0.647083                  0                0   \n",
       "5709               0        -1.658410                  0                0   \n",
       "7117               1        -1.369334                  0                1   \n",
       "7775               0         0.075086                  0                1   \n",
       "8735               1        -1.070919                  0                0   \n",
       "\n",
       "      Gender_Male  \n",
       "7041            1  \n",
       "5709            0  \n",
       "7117            1  \n",
       "7775            1  \n",
       "8735            1  "
      ]
     },
     "execution_count": 21,
     "metadata": {},
     "output_type": "execute_result"
    }
   ],
   "source": [
    "#Масштабируем численные признаки тестовой выборки \n",
    "features_test[numeric] = scaler.transform(features_test[numeric])\n",
    "features_test.head()"
   ]
  },
  {
   "cell_type": "markdown",
   "metadata": {},
   "source": [
    "*Создали 3 выборки:*<br>\n",
    "**Обучающая** features_train, target_train<br>\n",
    "**Валидационная** features_valid, target_valid<br>\n",
    "**Тестовая** features_test, target_test<br>\n",
    "Также провели масштабирование числовых признаков наших выборок методом стандартизации."
   ]
  },
  {
   "cell_type": "markdown",
   "metadata": {},
   "source": [
    "### Применение модели машинного обучения"
   ]
  },
  {
   "cell_type": "markdown",
   "metadata": {},
   "source": [
    "Мы получили масштабированные признаки для трех выборок. Перейдем к обучению моделей"
   ]
  },
  {
   "cell_type": "code",
   "execution_count": 22,
   "metadata": {},
   "outputs": [],
   "source": [
    "def all_models_score(features_train, target_train, features_valid, target_valid):\n",
    "    model_DTC = DecisionTreeClassifier(random_state=1515)\n",
    "    DTC_score = model_DTC.fit(features_train, target_train).score(features_valid, target_valid)\n",
    "    DTC_predicted = model_DTC.predict(features_valid)\n",
    "    DTC_f1 = f1_score(target_valid,DTC_predicted)\n",
    "    \n",
    "    model_RFC = RandomForestClassifier(max_depth=7, n_estimators=43, min_samples_leaf=3, random_state=1515)\n",
    "    RFC_score = model_RFC.fit(features_train, target_train).score(features_valid, target_valid)\n",
    "    RFC_predicted = model_RFC.predict(features_valid)\n",
    "    RFC_f1 = f1_score(target_valid,RFC_predicted)\n",
    "    \n",
    "    model_LgR = LogisticRegression(solver = 'liblinear')\n",
    "    LgR_score = model_LgR.fit(features_train, target_train).score(features_valid, target_valid)\n",
    "    LgR_predicted = model_LgR.predict(features_valid)\n",
    "    LgR_f1 = f1_score(target_valid,LgR_predicted)\n",
    "    print(\"Точность:\" \"дерево решений\", DTC_score, \"случайный лес \", RFC_score, \"логистческая регрессия\", LgR_score)\n",
    "    print(\"F1_score:\" \"дерево решений\", DTC_f1, \"случайный лес \", RFC_f1, \"логистческая регрессия\", LgR_f1)"
   ]
  },
  {
   "cell_type": "code",
   "execution_count": 23,
   "metadata": {},
   "outputs": [
    {
     "name": "stdout",
     "output_type": "stream",
     "text": [
      "Точность:дерево решений 0.79 случайный лес  0.8585 логистческая регрессия 0.802\n",
      "F1_score:дерево решений 0.49275362318840576 случайный лес  0.54281098546042 логистческая регрессия 0.33108108108108103\n"
     ]
    }
   ],
   "source": [
    "all_models_score(features_train, target_train, features_valid, target_valid)"
   ]
  },
  {
   "cell_type": "markdown",
   "metadata": {},
   "source": [
    "### Исследование баланса классов выборки"
   ]
  },
  {
   "cell_type": "code",
   "execution_count": 24,
   "metadata": {},
   "outputs": [
    {
     "data": {
      "text/plain": [
       "0    0.800667\n",
       "1    0.199333\n",
       "Name: Exited, dtype: float64"
      ]
     },
     "execution_count": 24,
     "metadata": {},
     "output_type": "execute_result"
    }
   ],
   "source": [
    "target_train.value_counts(normalize = 1)"
   ]
  },
  {
   "cell_type": "code",
   "execution_count": 25,
   "metadata": {},
   "outputs": [
    {
     "data": {
      "text/plain": [
       "<AxesSubplot:title={'center':'Отрицательные ответы/Положительные ответы'}, ylabel='Frequency'>"
      ]
     },
     "execution_count": 25,
     "metadata": {},
     "output_type": "execute_result"
    },
    {
     "data": {
      "image/png": "[encoded data removed]",
      "text/plain": [
       "<Figure size 360x360 with 1 Axes>"
      ]
     },
     "metadata": {
      "needs_background": "light"
     },
     "output_type": "display_data"
    }
   ],
   "source": [
    "# Построим диаграмму баланса классов\n",
    "target_train.plot(kind ='hist', bins=2, figsize=(5,5), title='Отрицательные ответы/Положительные ответы')\n"
   ]
  },
  {
   "cell_type": "markdown",
   "metadata": {},
   "source": [
    "Как мы выяснили в нашей выборке отрицательны ответов ≈80% , положитительных ≈ 20%. С уверенностью можем сказать что **имеется дисбаланс.**"
   ]
  },
  {
   "cell_type": "markdown",
   "metadata": {},
   "source": [
    "### Проверка адекватности"
   ]
  },
  {
   "cell_type": "markdown",
   "metadata": {},
   "source": [
    "Проверим качество моделей до борьбы с дисбалансом"
   ]
  },
  {
   "cell_type": "code",
   "execution_count": 26,
   "metadata": {},
   "outputs": [],
   "source": [
    "#Заранее напишем функцию для изучия полноты, точности и F1-меры\n",
    "def rec_prec_f1(target_valid, prediction):\n",
    "    print(\"Полнота\" , recall_score(target_valid, prediction))\n",
    "    print(\"Точность\", precision_score(target_valid, prediction))\n",
    "    print(\"F1-мера\", f1_score(target_valid, prediction))"
   ]
  },
  {
   "cell_type": "code",
   "execution_count": 27,
   "metadata": {},
   "outputs": [],
   "source": [
    "# Функция для поиска лучших гиперпараметров для Дерева решений и Случайного леса:\n",
    "def best_models(features_train, target_train, features_valid, target_valid):\n",
    "    best_model_DTC = None\n",
    "    best_result_DTC = 0\n",
    "    for depth in range(1, 16, 1):\n",
    "        model = DecisionTreeClassifier(max_depth=depth, random_state=12345)\n",
    "        model.fit(features_train, target_train)\n",
    "        predicted_valid = model.predict(features_valid)\n",
    "        result = f1_score(target_valid,predicted_valid)\n",
    "        if result > best_result_DTC:\n",
    "            best_model_DTC = model\n",
    "            best_result_DTC = result\n",
    "    \n",
    "    best_model_RFC = None\n",
    "    best_result_RFC = 0\n",
    "    for est in range(1, 100):\n",
    "        for depth in range(1, 16, 1):\n",
    "            model = RandomForestClassifier(n_estimators=est,max_depth=depth, random_state=12345)\n",
    "            model.fit(features_train,target_train) \n",
    "            predicted_valid = model.predict(features_valid)\n",
    "            result = f1_score(target_valid,predicted_valid)\n",
    "            if result > best_result_RFC:\n",
    "                best_model_RFC = model\n",
    "                best_result_RFC = result\n",
    "    print(\"Лучшие модели:\" \"Дерево решений\",best_model_DTC, best_result_DTC , \"Случайный лес \", best_model_RFC, best_result_RFC)"
   ]
  },
  {
   "cell_type": "code",
   "execution_count": 28,
   "metadata": {},
   "outputs": [
    {
     "name": "stdout",
     "output_type": "stream",
     "text": [
      "Лучшие модели:Дерево решений DecisionTreeClassifier(max_depth=6, random_state=12345) 0.5696969696969697 Случайный лес  RandomForestClassifier(max_depth=14, n_estimators=9, random_state=12345) 0.5999999999999999\n",
      "CPU times: user 6min 32s, sys: 2.05 s, total: 6min 34s\n",
      "Wall time: 6min 35s\n"
     ]
    }
   ],
   "source": [
    "%%time\n",
    "best_models(features_train, target_train, features_valid, target_valid)"
   ]
  },
  {
   "cell_type": "code",
   "execution_count": 29,
   "metadata": {},
   "outputs": [],
   "source": [
    "# Функция для отображения соотношения ответов моделей (сколько 0, сколько 1)\n",
    "def all_models_share(features_train, target_train, features_valid, target_valid):\n",
    "    model_DTC = DecisionTreeClassifier(random_state=1515,max_depth=6)\n",
    "    model_DTC.fit(features_train, target_train)\n",
    "    DTC_share = pd.Series(model_DTC.predict(features_valid)).value_counts(normalize = 1)\n",
    "    \n",
    "    \n",
    "    \n",
    "    model_RFC = RandomForestClassifier(random_state=1515,max_depth=14, n_estimators = 9)\n",
    "    model_RFC.fit(features_train, target_train)\n",
    "    RFC_share = pd.Series(model_RFC.predict(features_valid)).value_counts(normalize = 1)\n",
    "    \n",
    "    model_LgR = LogisticRegression(solver = 'liblinear')\n",
    "    model_LgR.fit(features_train, target_train)\n",
    "    LgR_share = pd.Series(model_LgR.predict(features_valid)).value_counts(normalize = 1)\n",
    "    \n",
    "\n",
    "    \n",
    "    print(\"Доли ответов:\" \"Дерево решений\", DTC_share, \"Случайный лес \", RFC_share, \"Логистческая регрессия\", LgR_share , end='')"
   ]
  },
  {
   "cell_type": "code",
   "execution_count": 30,
   "metadata": {},
   "outputs": [
    {
     "name": "stdout",
     "output_type": "stream",
     "text": [
      "Доли ответов:Дерево решений 0    0.8785\n",
      "1    0.1215\n",
      "dtype: float64 Случайный лес  0    0.8615\n",
      "1    0.1385\n",
      "dtype: float64 Логистческая регрессия 0    0.913\n",
      "1    0.087\n",
      "dtype: float64"
     ]
    }
   ],
   "source": [
    "#Применим функцию отображения соотношения ответов моделей\n",
    "all_models_share(features_train, target_train, features_valid, target_valid)"
   ]
  },
  {
   "cell_type": "markdown",
   "metadata": {},
   "source": [
    "Логистичесая регрессия показала самую высокую точность (0.91), далее случайный лес и в конце дерево решений.<br>\n",
    "С учетом дисбаланса результата неудивительно, что модели с большой вероятностью будут выдавать ответ 0, построим матрицы ошибок для моделей"
   ]
  },
  {
   "cell_type": "markdown",
   "metadata": {},
   "source": [
    "*Случайный лес*"
   ]
  },
  {
   "cell_type": "code",
   "execution_count": 31,
   "metadata": {},
   "outputs": [
    {
     "data": {
      "text/plain": [
       "array([[1541,   41],\n",
       "       [ 237,  181]])"
      ]
     },
     "execution_count": 31,
     "metadata": {},
     "output_type": "execute_result"
    }
   ],
   "source": [
    "model_RFC = RandomForestClassifier(random_state=1515, max_depth=9, n_estimators = 26)\n",
    "model_RFC.fit(features_train, target_train)\n",
    "RFC_prediction = model_RFC.predict(features_valid)\n",
    "confusion_matrix(target_valid, RFC_prediction)"
   ]
  },
  {
   "cell_type": "code",
   "execution_count": 32,
   "metadata": {},
   "outputs": [
    {
     "name": "stdout",
     "output_type": "stream",
     "text": [
      "Полнота 0.43301435406698563\n",
      "Точность 0.8153153153153153\n",
      "F1-мера 0.5656249999999999\n"
     ]
    }
   ],
   "source": [
    "rec_prec_f1(target_valid, RFC_prediction)"
   ]
  },
  {
   "cell_type": "code",
   "execution_count": 33,
   "metadata": {},
   "outputs": [
    {
     "data": {
      "text/plain": [
       "0.8434624876753428"
      ]
     },
     "execution_count": 33,
     "metadata": {},
     "output_type": "execute_result"
    }
   ],
   "source": [
    "#Расчет roc_auc_RFC\n",
    "RFC_probabilities_one_valid = model_RFC.predict_proba(features_valid)[:, 1]\n",
    "\n",
    "auc_roc_RFC = roc_auc_score(target_valid, RFC_probabilities_one_valid)\n",
    "\n",
    "auc_roc_RFC"
   ]
  },
  {
   "cell_type": "markdown",
   "metadata": {},
   "source": [
    "**Вывод:** Случайный лес имеет примерно равную пропорцию позитивных и негативных предсказаний, выдает заметно больше качественных предсказаний, но также сильно склоняется к ложно позитивным предсказаниям (FP). Точность и качество также низкое."
   ]
  },
  {
   "cell_type": "markdown",
   "metadata": {},
   "source": [
    "*Дерево решений*"
   ]
  },
  {
   "cell_type": "code",
   "execution_count": 34,
   "metadata": {},
   "outputs": [
    {
     "data": {
      "text/plain": [
       "array([[1527,   55],\n",
       "       [ 230,  188]])"
      ]
     },
     "execution_count": 34,
     "metadata": {},
     "output_type": "execute_result"
    }
   ],
   "source": [
    "#Матрица ошибок для дерево решений\n",
    "model_DTC = DecisionTreeClassifier(random_state=1515, max_depth=6)\n",
    "model_DTC.fit(features_train, target_train)\n",
    "DTC_prediction = model_DTC.predict(features_valid)\n",
    "confusion_matrix(target_valid, DTC_prediction)"
   ]
  },
  {
   "cell_type": "markdown",
   "metadata": {},
   "source": [
    "**Вывод:** Матрица показала, что дерево решений склонно выдавать позитивные предсказания, очень высокое количество ложных позитивных предсказания (FP)."
   ]
  },
  {
   "cell_type": "code",
   "execution_count": 35,
   "metadata": {},
   "outputs": [
    {
     "name": "stdout",
     "output_type": "stream",
     "text": [
      "Полнота 0.44976076555023925\n",
      "Точность 0.7736625514403292\n",
      "F1-мера 0.5688350983358548\n"
     ]
    }
   ],
   "source": [
    "rec_prec_f1(target_valid, DTC_prediction)"
   ]
  },
  {
   "cell_type": "code",
   "execution_count": 36,
   "metadata": {},
   "outputs": [
    {
     "data": {
      "text/plain": [
       "0.8160170639793367"
      ]
     },
     "execution_count": 36,
     "metadata": {},
     "output_type": "execute_result"
    }
   ],
   "source": [
    "#Расчет roc_auc_DTC\n",
    "DTC_probabilities_one_valid = model_DTC.predict_proba(features_valid)[:, 1]\n",
    "\n",
    "auc_roc_DTC = roc_auc_score(target_valid, DTC_probabilities_one_valid)\n",
    "\n",
    "auc_roc_DTC"
   ]
  },
  {
   "cell_type": "markdown",
   "metadata": {},
   "source": [
    "**Вывод:** Видим низкое значение F1, следовательно низкое качество модели, проблема в точности."
   ]
  },
  {
   "cell_type": "markdown",
   "metadata": {},
   "source": [
    "*Логистическая регрессия*"
   ]
  },
  {
   "cell_type": "code",
   "execution_count": 37,
   "metadata": {},
   "outputs": [
    {
     "data": {
      "text/plain": [
       "array([[1506,   76],\n",
       "       [ 320,   98]])"
      ]
     },
     "execution_count": 37,
     "metadata": {},
     "output_type": "execute_result"
    }
   ],
   "source": [
    "#Матрица ошибок для логистической регрессии\n",
    "model_LgR = LogisticRegression(solver = 'liblinear')\n",
    "model_LgR.fit(features_train, target_train)\n",
    "LgR_prediction = model_LgR.predict(features_valid)\n",
    "confusion_matrix(target_valid, LgR_prediction)"
   ]
  },
  {
   "cell_type": "code",
   "execution_count": 38,
   "metadata": {},
   "outputs": [
    {
     "name": "stdout",
     "output_type": "stream",
     "text": [
      "Полнота 0.23444976076555024\n",
      "Точность 0.5632183908045977\n",
      "F1-мера 0.33108108108108103\n"
     ]
    }
   ],
   "source": [
    "rec_prec_f1(target_valid, LgR_prediction)"
   ]
  },
  {
   "cell_type": "code",
   "execution_count": 39,
   "metadata": {},
   "outputs": [
    {
     "data": {
      "text/plain": [
       "0.7587512627102753"
      ]
     },
     "execution_count": 39,
     "metadata": {},
     "output_type": "execute_result"
    }
   ],
   "source": [
    "#Для логистической регрессии расчитаем метрику AUC-ROC\n",
    "LgR_probabilities_one_valid = model_LgR.predict_proba(features_valid)[:, 1]\n",
    "\n",
    "auc_roc_LgR = roc_auc_score(target_valid, LgR_probabilities_one_valid)\n",
    "\n",
    "auc_roc_LgR"
   ]
  },
  {
   "cell_type": "code",
   "execution_count": 40,
   "metadata": {},
   "outputs": [],
   "source": [
    "def plot_roc_curve(fper, tper):\n",
    "    plt.plot(fper, tper, color='red', label='ROC')\n",
    "    plt.plot([0, 1], [0, 1], color='green', linestyle='--')\n",
    "    plt.xlim([0.0, 1.0])\n",
    "    plt.ylim([0.0, 1.0])\n",
    "    plt.xlabel('False Positive Rate')\n",
    "    plt.ylabel('True Positive Rate')\n",
    "    plt.title('ROC-кривая')\n",
    "    plt.legend()\n",
    "    plt.show()"
   ]
  },
  {
   "cell_type": "code",
   "execution_count": 41,
   "metadata": {},
   "outputs": [
    {
     "data": {
      "image/png": "[encoded data removed]",
      "text/plain": [
       "<Figure size 432x288 with 1 Axes>"
      ]
     },
     "metadata": {
      "needs_background": "light"
     },
     "output_type": "display_data"
    }
   ],
   "source": [
    "fper, tper, thresholds = roc_curve(target_valid, LgR_probabilities_one_valid)\n",
    "plot_roc_curve(fper, tper)"
   ]
  },
  {
   "cell_type": "code",
   "execution_count": 42,
   "metadata": {},
   "outputs": [
    {
     "name": "stdout",
     "output_type": "stream",
     "text": [
      "Score 0.702\n",
      "AUC-ROC 0.7637310291013133\n"
     ]
    },
    {
     "data": {
      "image/png": "[encoded data removed]",
      "text/plain": [
       "<Figure size 432x288 with 1 Axes>"
      ]
     },
     "metadata": {
      "needs_background": "light"
     },
     "output_type": "display_data"
    }
   ],
   "source": [
    "#Попробуем обучать логистическую регресию сбалансировав классы\n",
    "model_LgR = LogisticRegression(solver = 'liblinear', class_weight='balanced')\n",
    "model_LgR.fit(features_train, target_train)\n",
    "LgR_probabilities_one_valid_class_weight = model_LgR.predict_proba(features_valid)[:, 1]\n",
    "print(\"Score\", model_LgR.score(features_valid, target_valid))\n",
    "print(\"AUC-ROC\", roc_auc_score(target_valid, LgR_probabilities_one_valid_class_weight))\n",
    "\n",
    "fper, tper, thresholds = roc_curve(target_valid, LgR_probabilities_one_valid_class_weight) \n",
    "plot_roc_curve(fper, tper)"
   ]
  },
  {
   "cell_type": "markdown",
   "metadata": {},
   "source": [
    "**Вывод:** Отстутсвие улучшений - тоже результат. Высокая точность модели объясняется высокой долей негативных ответов в валидационной выборке."
   ]
  },
  {
   "cell_type": "markdown",
   "metadata": {},
   "source": [
    "## Борьба с дисбалансом"
   ]
  },
  {
   "cell_type": "markdown",
   "metadata": {},
   "source": [
    "Как мы выяснили ранее в нашей выборке отрицательны ответов ≈80% , положитительных ≈ 20%. Нам необходмо увеличить количество положительных ответов в 4 раза для достижения баланса. Либо же уменьшить кол-во отрицтаельных ответов."
   ]
  },
  {
   "cell_type": "markdown",
   "metadata": {},
   "source": [
    "- Разделим обучающую выборку на отрицательные и положительные объекты;\n",
    "- Скопируем несколько раз положительные объекты;\n",
    "- С учётом полученных данных создадим новую обучающую выборку;\n",
    "- Перемешаем данные: идущие друг за другом одинаковые вопросы не помогут обучению.\n",
    "- Обучим новые модели"
   ]
  },
  {
   "cell_type": "code",
   "execution_count": 43,
   "metadata": {},
   "outputs": [],
   "source": [
    "#Создадим функцию для увеличения представленной класса в выборке \n",
    "def upsample(features, target, repeat, upsampled_сlass):\n",
    "    \"\"\"Функция принимаем значение признаков (features[]), целевого признака (target[]), repeat(int / float),\n",
    "    класс который будет увеличен (upsampled_сlass (0 or 1))\"\"\"\n",
    "    features_zeros = features[target == 0]\n",
    "    features_ones = features[target == 1]\n",
    "    target_zeros = target[target == 0]\n",
    "    target_ones = target[target == 1]\n",
    "    \n",
    "    if upsampled_сlass == 0:\n",
    "        features_upsampled = pd.concat([features_zeros]* repeat + [features_ones] )\n",
    "        target_upsampled = pd.concat([target_zeros]* repeat + [target_ones] )\n",
    "        features_upsampled, target_upsampled = shuffle(\n",
    "        features_upsampled, target_upsampled, random_state=12345)\n",
    "        \n",
    "    elif upsampled_сlass == 1:\n",
    "        features_upsampled = pd.concat([features_zeros] + [features_ones] * repeat)\n",
    "        target_upsampled = pd.concat([target_zeros] + [target_ones] * repeat)\n",
    "        features_upsampled, target_upsampled = shuffle(\n",
    "        features_upsampled, target_upsampled, random_state=12345)\n",
    "    else:\n",
    "        features_upsampled = 0\n",
    "        target_upsampled = 0  \n",
    "        \n",
    "        \n",
    "       \n",
    "    return features_upsampled, target_upsampled"
   ]
  },
  {
   "cell_type": "code",
   "execution_count": 44,
   "metadata": {},
   "outputs": [],
   "source": [
    "#Создадим функцию для уменьшения представленной класса в выборке \n",
    "def downsample(features, target, fraction):\n",
    "    features_zeros = features[target == 0]\n",
    "    features_ones = features[target == 1]\n",
    "    target_zeros = target[target == 0]\n",
    "    target_ones = target[target == 1]\n",
    "\n",
    "    features_downsampled = pd.concat(\n",
    "        [features_zeros.sample(frac=fraction, random_state=12345)] + [features_ones])\n",
    "    target_downsampled = pd.concat(\n",
    "        [target_zeros.sample(frac=fraction, random_state=12345)] + [target_ones])\n",
    "    \n",
    "    features_downsampled, target_downsampled = shuffle(\n",
    "        features_downsampled, target_downsampled, random_state=12345)\n",
    "    \n",
    "    return features_downsampled, target_downsampled"
   ]
  },
  {
   "cell_type": "code",
   "execution_count": 45,
   "metadata": {},
   "outputs": [],
   "source": [
    "features_downsampled_train, target_downsampled_train = downsample(features_train, target_train, fraction=0.25)"
   ]
  },
  {
   "cell_type": "code",
   "execution_count": 46,
   "metadata": {},
   "outputs": [
    {
     "name": "stdout",
     "output_type": "stream",
     "text": [
      "0    0.941407\n",
      "1    0.058593\n",
      "Name: Exited, dtype: float64\n",
      "(20412,)\n"
     ]
    }
   ],
   "source": [
    "#Протестируем функцию (верное значение)\n",
    "features_train_upsampled, target_train_upsampled = upsample(features_train, target_train, 4, 0)\n",
    "print(target_train_upsampled.value_counts(normalize = 1))\n",
    "print(target_train_upsampled.shape)"
   ]
  },
  {
   "cell_type": "code",
   "execution_count": 47,
   "metadata": {},
   "outputs": [
    {
     "data": {
      "text/plain": [
       "0"
      ]
     },
     "execution_count": 47,
     "metadata": {},
     "output_type": "execute_result"
    }
   ],
   "source": [
    "#Протестируем функцию (верное значение)\n",
    "features_train_upsampled, target_train_upsampled = upsample(features_train, target_train, 4, 3)\n",
    "features_train_upsampled"
   ]
  },
  {
   "cell_type": "code",
   "execution_count": 48,
   "metadata": {},
   "outputs": [
    {
     "name": "stdout",
     "output_type": "stream",
     "text": [
      "0    0.501043\n",
      "1    0.498957\n",
      "Name: Exited, dtype: float64\n",
      "(9588,)\n"
     ]
    }
   ],
   "source": [
    "#Применим функцию upsample \n",
    "#увеличим количество положительных ответов в 4 раза\n",
    "features_train_upsampled, target_train_upsampled = upsample(features_train, target_train, 4, 1)\n",
    "print(target_train_upsampled.value_counts(normalize = 1))\n",
    "print(target_train_upsampled.shape)"
   ]
  },
  {
   "cell_type": "code",
   "execution_count": 49,
   "metadata": {},
   "outputs": [
    {
     "name": "stdout",
     "output_type": "stream",
     "text": [
      "1    1196\n",
      "0     961\n",
      "Name: Exited, dtype: int64\n",
      "(2157,)\n"
     ]
    }
   ],
   "source": [
    "#Применим функцию downsample\n",
    "#Уменьшим кол-в пооложительных ответов в 4 раза\n",
    "#Протестируем функцию (верное значение)\n",
    "features_downsampled_train, target_downsampled_train = downsample(features_train, target_train, 0.2)\n",
    "print(target_downsampled_train.value_counts(normalize = 0))\n",
    "print(target_downsampled_train.shape)"
   ]
  },
  {
   "cell_type": "code",
   "execution_count": 50,
   "metadata": {},
   "outputs": [
    {
     "data": {
      "text/plain": [
       "<AxesSubplot:ylabel='Frequency'>"
      ]
     },
     "execution_count": 50,
     "metadata": {},
     "output_type": "execute_result"
    },
    {
     "data": {
      "image/png": "[encoded data removed]",
      "text/plain": [
       "<Figure size 360x360 with 1 Axes>"
      ]
     },
     "metadata": {
      "needs_background": "light"
     },
     "output_type": "display_data"
    }
   ],
   "source": [
    "#Ну почти идеально и выигрышнее выглядит upsample с ним и будем работать\n",
    "target_train_upsampled.plot(kind ='hist', bins=3, figsize=(5,5))"
   ]
  },
  {
   "cell_type": "markdown",
   "metadata": {},
   "source": [
    "### Обучение моделей на сбалансированной выборке"
   ]
  },
  {
   "cell_type": "code",
   "execution_count": 51,
   "metadata": {},
   "outputs": [
    {
     "name": "stdout",
     "output_type": "stream",
     "text": [
      "Точность:дерево решений 0.79 случайный лес  0.8585 логистческая регрессия 0.802\n",
      "F1_score:дерево решений 0.49275362318840576 случайный лес  0.54281098546042 логистческая регрессия 0.33108108108108103\n"
     ]
    }
   ],
   "source": [
    "#Точность моделей и F1 на выборке с дисбалансом\n",
    "all_models_score(features_train, target_train, features_valid, target_valid)"
   ]
  },
  {
   "cell_type": "code",
   "execution_count": 52,
   "metadata": {},
   "outputs": [
    {
     "name": "stdout",
     "output_type": "stream",
     "text": [
      "Точность:дерево решений 0.793 случайный лес  0.8105 логистческая регрессия 0.702\n",
      "F1_score:дерево решений 0.49140049140049147 случайный лес  0.6136595310907238 логистческая регрессия 0.4888507718696398\n"
     ]
    }
   ],
   "source": [
    "#Точность моделей и F1 на сбалансированной выборке\n",
    "all_models_score(features_train_upsampled, target_train_upsampled, features_valid, target_valid)"
   ]
  },
  {
   "cell_type": "markdown",
   "metadata": {},
   "source": [
    "**Вывод:** Точность сильно не изменилась. Проверим качество ответов."
   ]
  },
  {
   "cell_type": "code",
   "execution_count": 53,
   "metadata": {},
   "outputs": [],
   "source": [
    "def best_upsampled_models(features_train_upsampled, target_train_upsampled, features_valid, target_valid):\n",
    "    best_upsampled_model_DTC = None\n",
    "    best_result_upsampled_DTC = 0\n",
    "    for depth in range(1, 16, 1):\n",
    "        model = DecisionTreeClassifier(max_depth=depth, random_state=12345)\n",
    "        model.fit(features_train_upsampled, target_train_upsampled)\n",
    "        predicted_valid = model.predict(features_valid)\n",
    "        result = f1_score(target_valid,predicted_valid)\n",
    "        if result > best_result_upsampled_DTC:\n",
    "            best_upsampled_model_DTC = model\n",
    "            best_result_upsampled_DTC = result\n",
    "    \n",
    "    best_model_upsampled_RFC = None\n",
    "    best_result_upsampled_RFC = 0\n",
    "    for est in range(1, 100):\n",
    "        for depth in range(1, 16, 1):\n",
    "            model = RandomForestClassifier(n_estimators=est,max_depth=depth, random_state=12345)\n",
    "            model.fit(features_train_upsampled,target_train_upsampled) \n",
    "            predicted_valid = model.predict(features_valid)\n",
    "            result = f1_score(target_valid,predicted_valid)\n",
    "            if result > best_result_upsampled_RFC:\n",
    "                best_upsampled_model_RFC = model\n",
    "                best_result_upsampled_RFC = result\n",
    "    print(\"Лучшие модели:\" \"Дерево решений\",best_upsampled_model_DTC, best_result_upsampled_DTC,\n",
    "          \"Случайный лес \", best_upsampled_model_RFC, best_result_upsampled_RFC)"
   ]
  },
  {
   "cell_type": "code",
   "execution_count": 54,
   "metadata": {},
   "outputs": [
    {
     "name": "stdout",
     "output_type": "stream",
     "text": [
      "Лучшие модели:Дерево решений DecisionTreeClassifier(max_depth=5, random_state=12345) 0.5963791267305644 Случайный лес  RandomForestClassifier(max_depth=9, n_estimators=67, random_state=12345) 0.6312433581296492\n",
      "CPU times: user 8min 52s, sys: 2.82 s, total: 8min 55s\n",
      "Wall time: 8min 55s\n"
     ]
    }
   ],
   "source": [
    "%%time\n",
    "best_upsampled_models(features_train_upsampled, target_train_upsampled, features_valid, target_valid)"
   ]
  },
  {
   "cell_type": "code",
   "execution_count": 55,
   "metadata": {},
   "outputs": [
    {
     "name": "stdout",
     "output_type": "stream",
     "text": [
      "Полнота 0.6698564593301436\n",
      "Точность 0.5374280230326296\n",
      "F1-мера 0.5963791267305644\n"
     ]
    }
   ],
   "source": [
    "#Решающее дерево\n",
    "model_DTC_upsampled = DecisionTreeClassifier(random_state=1515,max_depth=5)\n",
    "model_DTC_upsampled.fit(features_train_upsampled, target_train_upsampled)\n",
    "DTC_prediction_upsampled = model_DTC_upsampled.predict(features_valid)\n",
    "rec_prec_f1(target_valid, DTC_prediction_upsampled)"
   ]
  },
  {
   "cell_type": "code",
   "execution_count": 56,
   "metadata": {},
   "outputs": [
    {
     "data": {
      "text/plain": [
       "0.8310244134068074"
      ]
     },
     "execution_count": 56,
     "metadata": {},
     "output_type": "execute_result"
    }
   ],
   "source": [
    "#Расчитаем auc_roc для DTC на сбалансированной выборке\n",
    "DTC_upsampled_valid = model_DTC_upsampled.predict_proba(features_valid)[:, 1]\n",
    "\n",
    "auc_roc_DTC = roc_auc_score(target_valid, DTC_upsampled_valid)\n",
    "\n",
    "auc_roc_DTC"
   ]
  },
  {
   "cell_type": "code",
   "execution_count": 57,
   "metadata": {},
   "outputs": [
    {
     "name": "stdout",
     "output_type": "stream",
     "text": [
      "Полнота 0.6842105263157895\n",
      "Точность 0.55\n",
      "F1-мера 0.6098081023454158\n"
     ]
    }
   ],
   "source": [
    "#Случайный лес\n",
    "model_RFC_upsampled = RandomForestClassifier(max_depth=9, n_estimators=67, random_state=1515)\n",
    "model_RFC_upsampled.fit(features_train_upsampled, target_train_upsampled)\n",
    "RFC_prediction_upsampled = model_RFC_upsampled.predict(features_valid)\n",
    "rec_prec_f1(target_valid, RFC_prediction_upsampled)"
   ]
  },
  {
   "cell_type": "code",
   "execution_count": 58,
   "metadata": {},
   "outputs": [
    {
     "data": {
      "text/plain": [
       "0.852264410019417"
      ]
     },
     "execution_count": 58,
     "metadata": {},
     "output_type": "execute_result"
    }
   ],
   "source": [
    "#Расчитаем auc_roc для RFC на сбалансированной выборке\n",
    "RFC_upsampled_valid = model_RFC_upsampled.predict_proba(features_valid)[:, 1]\n",
    "\n",
    "auc_roc_RFC = roc_auc_score(target_valid, RFC_upsampled_valid)\n",
    "\n",
    "auc_roc_RFC"
   ]
  },
  {
   "cell_type": "code",
   "execution_count": 59,
   "metadata": {},
   "outputs": [
    {
     "name": "stdout",
     "output_type": "stream",
     "text": [
      "Полнота 0.6818181818181818\n",
      "Точность 0.3810160427807487\n",
      "F1-мера 0.4888507718696398\n"
     ]
    }
   ],
   "source": [
    "#Логистическая регрессия\n",
    "model_LgR_upsampled = LogisticRegression(solver = 'liblinear', class_weight='balanced')\n",
    "model_LgR_upsampled.fit(features_train_upsampled, target_train_upsampled)\n",
    "LgR_prediction_upsampled = model_LgR_upsampled.predict(features_valid)\n",
    "rec_prec_f1(target_valid, LgR_prediction_upsampled)"
   ]
  },
  {
   "cell_type": "code",
   "execution_count": 60,
   "metadata": {},
   "outputs": [
    {
     "data": {
      "text/plain": [
       "0.7636584421633327"
      ]
     },
     "execution_count": 60,
     "metadata": {},
     "output_type": "execute_result"
    }
   ],
   "source": [
    "#Расчитаем auc_roc для LgR на сбалансированной выборке\n",
    "LgR_upsampled_valid = model_LgR_upsampled.predict_proba(features_valid)[:, 1]\n",
    "\n",
    "auc_roc_LgR = roc_auc_score(target_valid, LgR_upsampled_valid)\n",
    "\n",
    "auc_roc_LgR"
   ]
  },
  {
   "cell_type": "markdown",
   "metadata": {},
   "source": [
    "**Вывод:**\n",
    "<br>\n",
    "Показаели всех моделей улучшились.\n",
    "<br>\n",
    "Лучшие результаты показывает алгоритм Случайного леса (RandomForestClassifier) c глубиной 9 и количеством деревьев 67. На валидационной выборке RandomForestClassifier уже показывает результаты F1 меры = 0.609, что выше целевого значения. Ее и возьмем на тестирование."
   ]
  },
  {
   "cell_type": "markdown",
   "metadata": {},
   "source": [
    "## Тестирование модели"
   ]
  },
  {
   "cell_type": "code",
   "execution_count": 61,
   "metadata": {},
   "outputs": [
    {
     "data": {
      "text/plain": [
       "RandomForestClassifier(class_weight='balanced', max_depth=9, n_estimators=67,\n",
       "                       random_state=12345)"
      ]
     },
     "execution_count": 61,
     "metadata": {},
     "output_type": "execute_result"
    }
   ],
   "source": [
    "#Обучим финальную модель\n",
    "model_RFC_final = RandomForestClassifier(\n",
    "    bootstrap = True, class_weight = 'balanced', max_depth= 9,  n_estimators = 67, random_state=12345)\n",
    "model_RFC_final.fit(features_train_upsampled, target_train_upsampled)"
   ]
  },
  {
   "cell_type": "code",
   "execution_count": 62,
   "metadata": {},
   "outputs": [
    {
     "name": "stdout",
     "output_type": "stream",
     "text": [
      "Полнота 0.7092198581560284\n",
      "Точность 0.5484460694698354\n",
      "F1-мера 0.6185567010309277\n"
     ]
    }
   ],
   "source": [
    "model_RFC_final_prediction = model_RFC_final.predict(features_test)\n",
    "rec_prec_f1(target_test, model_RFC_final_prediction)"
   ]
  },
  {
   "cell_type": "code",
   "execution_count": 63,
   "metadata": {},
   "outputs": [
    {
     "data": {
      "text/plain": [
       "0.8543708240951862"
      ]
     },
     "execution_count": 63,
     "metadata": {},
     "output_type": "execute_result"
    }
   ],
   "source": [
    "#Расчитаем auc_roc для RFC на тестовой выборке\n",
    "model_RFC_final_valid = model_RFC_final.predict_proba(features_test)[:, 1]\n",
    "\n",
    "auc_roc_RFC = roc_auc_score(target_test, model_RFC_final_valid)\n",
    "\n",
    "auc_roc_RFC"
   ]
  },
  {
   "cell_type": "code",
   "execution_count": 1,
   "metadata": {},
   "outputs": [
    {
     "ename": "NameError",
     "evalue": "name 'pd' is not defined",
     "output_type": "error",
     "traceback": [
      "\u001b[0;31m---------------------------------------------------------------------------\u001b[0m",
      "\u001b[0;31mNameError\u001b[0m                                 Traceback (most recent call last)",
      "\u001b[0;32m/tmp/ipykernel_31/50616213.py\u001b[0m in \u001b[0;36m<module>\u001b[0;34m\u001b[0m\n\u001b[1;32m      1\u001b[0m \u001b[0;31m#Создаем константную модель\u001b[0m\u001b[0;34m\u001b[0m\u001b[0;34m\u001b[0m\u001b[0;34m\u001b[0m\u001b[0m\n\u001b[0;32m----> 2\u001b[0;31m \u001b[0mtarget_predict_constant\u001b[0m \u001b[0;34m=\u001b[0m \u001b[0mpd\u001b[0m\u001b[0;34m.\u001b[0m\u001b[0mSeries\u001b[0m\u001b[0;34m(\u001b[0m\u001b[0;34m[\u001b[0m\u001b[0;36m1\u001b[0m\u001b[0;34m]\u001b[0m\u001b[0;34m*\u001b[0m\u001b[0mlen\u001b[0m\u001b[0;34m(\u001b[0m\u001b[0mtarget_test\u001b[0m\u001b[0;34m)\u001b[0m\u001b[0;34m)\u001b[0m\u001b[0;34m\u001b[0m\u001b[0;34m\u001b[0m\u001b[0m\n\u001b[0m\u001b[1;32m      3\u001b[0m \u001b[0mtarget_predict_constant\u001b[0m\u001b[0;34m.\u001b[0m\u001b[0mvalue_counts\u001b[0m\u001b[0;34m(\u001b[0m\u001b[0;34m)\u001b[0m\u001b[0;34m\u001b[0m\u001b[0;34m\u001b[0m\u001b[0m\n",
      "\u001b[0;31mNameError\u001b[0m: name 'pd' is not defined"
     ]
    }
   ],
   "source": [
    "#Создаем константную модель\n",
    "target_predict_constant = pd.Series([0]*len(target_test))\n",
    "target_predict_constant.value_counts()"
   ]
  },
  {
   "cell_type": "code",
   "execution_count": 65,
   "metadata": {},
   "outputs": [
    {
     "name": "stdout",
     "output_type": "stream",
     "text": [
      "accuracy_score константой модели: 0.791\n",
      "accuracy_score финальной модели: 0.815\n",
      "AUC-ROC константой модели: 0.5\n",
      "AUC-ROC финальной модели: 0.8543708240951862\n"
     ]
    }
   ],
   "source": [
    "#Сравним показатель точности (accuracy_score) константной модели и финальной\n",
    "print('accuracy_score константой модели:', accuracy_score(target_valid, target_predict_constant))\n",
    "print('accuracy_score финальной модели:', accuracy_score(target_test, model_RFC_final_prediction))\n",
    "#Дополнительно сравним AUC-ROC — единственный параметр подающийся сравнению, потому что константная подель содержит только негативные ответы\n",
    "print('AUC-ROC константой модели:', roc_auc_score(target_valid, target_predict_constant))\n",
    "print('AUC-ROC финальной модели:', roc_auc_score(target_test, model_RFC_final_valid))"
   ]
  },
  {
   "cell_type": "markdown",
   "metadata": {},
   "source": [
    "Финальная модель показывает результаты лучше, чем константная модель — модель можно считать адекватной."
   ]
  },
  {
   "cell_type": "markdown",
   "metadata": {},
   "source": [
    "## Выводы"
   ]
  },
  {
   "cell_type": "markdown",
   "metadata": {},
   "source": [
    "- В первоначальные данных наблюдался значительный дисбаланс (80% ответов целевого признака были негативными и только 20% позитивными), из-за чего обученная на этих данных модель не проходила проверку на адекватность. Все модели не первоначальных данных характеризовались высокой степенью ошибок и низким качеством взвешенной величины (F1) — модели показывали низкие результаты точности и полноты.\n",
    "\n",
    "- Мы устранили дисбаланс классов в обучающей выборки методом upsampling — увеличили количество значений позитивного класса в 4 раза. Так мы достигли баланса классо в обучеющей выборки: `0` - 0.501043, `1` - 0.498957\n",
    "\n",
    "- Разобрали несколько вариантов борьбы с дисбалансом upsampling и downsampling\n",
    "\n",
    "- На новых данных все модели показали результат выше, чем на несбалансированной выборке. Лучшие показатели были у модели случайного леса: <br>\n",
    "`Полнота` 0.6842105263157895<br>\n",
    "`Точность` 0.55<br>\n",
    "`F1-мера` 0.6098081023454158<br>\n",
    "`AUC-ROC` 0.852264410019417<br>\n",
    "- Финальная модель прошла проверку на адекватность в сравнении с контантной моделью: <br>\n",
    "`accuracy_score` константой модели: 0.791 <br>\n",
    "`accuracy_score` финальной модели: 0.815 <br>\n",
    "`AUC-ROC` константой модели: 0.5 <br>\n",
    "`AUC-ROC` финальной модели: 0.8543708240951862"
   ]
  },
  {
   "cell_type": "markdown",
   "metadata": {},
   "source": [
    "## Чек-лист готовности проекта"
   ]
  },
  {
   "cell_type": "markdown",
   "metadata": {},
   "source": [
    "Поставьте 'x' в выполненных пунктах. Далее нажмите Shift+Enter."
   ]
  },
  {
   "cell_type": "markdown",
   "metadata": {},
   "source": [
    "- [x]  Jupyter Notebook открыт\n",
    "- [x]  Весь код выполняется без ошибок\n",
    "- [x]  Ячейки с кодом расположены в порядке исполнения\n",
    "- [x]  Выполнен шаг 1: данные подготовлены\n",
    "- [x]  Выполнен шаг 2: задача исследована\n",
    "    - [x]  Исследован баланс классов\n",
    "    - [x]  Изучены модели без учёта дисбаланса\n",
    "    - [x]  Написаны выводы по результатам исследования\n",
    "- [x]  Выполнен шаг 3: учтён дисбаланс\n",
    "    - [x]  Применено несколько способов борьбы с дисбалансом\n",
    "    - [x]  Написаны выводы по результатам исследования\n",
    "- [x]  Выполнен шаг 4: проведено тестирование\n",
    "- [x]  Удалось достичь *F1*-меры не менее 0.59\n",
    "- [x]  Исследована метрика *AUC-ROC*"
   ]
  }
 ],
 "metadata": {
  "ExecuteTimeLog": [
   {
    "duration": 1693,
    "start_time": "2023-07-19T14:35:25.978Z"
   },
   {
    "duration": 449,
    "start_time": "2023-07-19T14:35:37.128Z"
   },
   {
    "duration": 17,
    "start_time": "2023-07-19T14:35:50.376Z"
   },
   {
    "duration": 13,
    "start_time": "2023-07-19T14:36:03.198Z"
   },
   {
    "duration": 54,
    "start_time": "2023-07-19T14:36:13.733Z"
   },
   {
    "duration": 11,
    "start_time": "2023-07-19T14:38:50.200Z"
   },
   {
    "duration": 4,
    "start_time": "2023-07-19T14:40:17.780Z"
   },
   {
    "duration": 44,
    "start_time": "2023-07-19T14:40:20.687Z"
   },
   {
    "duration": 17,
    "start_time": "2023-07-19T14:40:24.727Z"
   },
   {
    "duration": 18,
    "start_time": "2023-07-19T14:40:33.918Z"
   },
   {
    "duration": 12,
    "start_time": "2023-07-19T14:40:36.198Z"
   },
   {
    "duration": 6,
    "start_time": "2023-07-19T14:41:08.878Z"
   },
   {
    "duration": 14,
    "start_time": "2023-07-19T14:44:04.507Z"
   },
   {
    "duration": 4,
    "start_time": "2023-07-19T14:44:44.060Z"
   },
   {
    "duration": 18,
    "start_time": "2023-07-19T14:44:52.180Z"
   },
   {
    "duration": 4,
    "start_time": "2023-07-19T14:45:13.844Z"
   },
   {
    "duration": 7,
    "start_time": "2023-07-19T14:47:09.633Z"
   },
   {
    "duration": 8,
    "start_time": "2023-07-19T14:47:28.219Z"
   },
   {
    "duration": 6,
    "start_time": "2023-07-19T14:47:35.360Z"
   },
   {
    "duration": 12,
    "start_time": "2023-07-19T14:48:57.147Z"
   },
   {
    "duration": 3,
    "start_time": "2023-07-19T14:49:07.695Z"
   },
   {
    "duration": 12,
    "start_time": "2023-07-19T14:49:16.037Z"
   },
   {
    "duration": 23,
    "start_time": "2023-07-19T14:49:23.428Z"
   },
   {
    "duration": 18,
    "start_time": "2023-07-19T14:49:36.188Z"
   },
   {
    "duration": 26,
    "start_time": "2023-07-19T14:49:43.648Z"
   },
   {
    "duration": 5,
    "start_time": "2023-07-19T14:50:33.837Z"
   },
   {
    "duration": 269,
    "start_time": "2023-07-19T14:51:00.747Z"
   },
   {
    "duration": 9,
    "start_time": "2023-07-19T14:51:23.848Z"
   },
   {
    "duration": 85,
    "start_time": "2023-07-19T14:51:33.080Z"
   },
   {
    "duration": 20,
    "start_time": "2023-07-20T07:58:06.324Z"
   },
   {
    "duration": 1995,
    "start_time": "2023-07-20T07:58:11.883Z"
   },
   {
    "duration": 94,
    "start_time": "2023-07-20T07:58:13.881Z"
   },
   {
    "duration": 28,
    "start_time": "2023-07-20T07:58:13.978Z"
   },
   {
    "duration": 45,
    "start_time": "2023-07-20T07:58:14.008Z"
   },
   {
    "duration": 4,
    "start_time": "2023-07-20T07:58:14.056Z"
   },
   {
    "duration": 68,
    "start_time": "2023-07-20T07:58:14.062Z"
   },
   {
    "duration": 13,
    "start_time": "2023-07-20T07:58:14.132Z"
   },
   {
    "duration": 10,
    "start_time": "2023-07-20T07:58:14.147Z"
   },
   {
    "duration": 21,
    "start_time": "2023-07-20T07:58:14.159Z"
   },
   {
    "duration": 31,
    "start_time": "2023-07-20T07:58:14.181Z"
   },
   {
    "duration": 35,
    "start_time": "2023-07-20T07:58:14.214Z"
   },
   {
    "duration": 5,
    "start_time": "2023-07-20T07:58:14.251Z"
   },
   {
    "duration": 12,
    "start_time": "2023-07-20T07:58:14.258Z"
   },
   {
    "duration": 45,
    "start_time": "2023-07-20T07:58:14.274Z"
   },
   {
    "duration": 23,
    "start_time": "2023-07-20T07:58:14.331Z"
   },
   {
    "duration": 22,
    "start_time": "2023-07-20T07:58:14.356Z"
   },
   {
    "duration": 7,
    "start_time": "2023-07-20T07:58:14.380Z"
   },
   {
    "duration": 13,
    "start_time": "2023-07-20T07:58:14.390Z"
   },
   {
    "duration": 70,
    "start_time": "2023-07-20T07:58:14.406Z"
   },
   {
    "duration": 44,
    "start_time": "2023-07-20T07:58:14.479Z"
   },
   {
    "duration": 23,
    "start_time": "2023-07-20T07:58:14.529Z"
   },
   {
    "duration": 6,
    "start_time": "2023-07-20T07:58:14.554Z"
   },
   {
    "duration": 359,
    "start_time": "2023-07-20T07:58:14.563Z"
   },
   {
    "duration": 14,
    "start_time": "2023-07-20T07:58:14.927Z"
   },
   {
    "duration": 222,
    "start_time": "2023-07-20T07:58:14.943Z"
   },
   {
    "duration": 4,
    "start_time": "2023-07-20T07:58:15.166Z"
   },
   {
    "duration": 8,
    "start_time": "2023-07-20T07:58:25.803Z"
   },
   {
    "duration": 886,
    "start_time": "2023-07-20T07:58:42.362Z"
   },
   {
    "duration": 867,
    "start_time": "2023-07-20T08:00:25.090Z"
   },
   {
    "duration": 16,
    "start_time": "2023-07-20T08:00:33.891Z"
   },
   {
    "duration": 76,
    "start_time": "2023-07-20T08:00:42.072Z"
   },
   {
    "duration": 46,
    "start_time": "2023-07-20T08:01:48.971Z"
   },
   {
    "duration": 16,
    "start_time": "2023-07-20T08:02:31.500Z"
   },
   {
    "duration": 10,
    "start_time": "2023-07-20T08:02:38.537Z"
   },
   {
    "duration": 27,
    "start_time": "2023-07-20T08:03:41.249Z"
   },
   {
    "duration": 9,
    "start_time": "2023-07-20T08:03:54.090Z"
   },
   {
    "duration": 14,
    "start_time": "2023-07-20T08:04:03.263Z"
   },
   {
    "duration": 6,
    "start_time": "2023-07-20T08:04:15.952Z"
   },
   {
    "duration": 154,
    "start_time": "2023-07-20T08:04:27.083Z"
   },
   {
    "duration": 302,
    "start_time": "2023-07-20T08:04:54.943Z"
   },
   {
    "duration": 6,
    "start_time": "2023-07-20T08:06:18.690Z"
   },
   {
    "duration": 9,
    "start_time": "2023-07-20T08:06:28.910Z"
   },
   {
    "duration": 11,
    "start_time": "2023-07-20T08:06:38.424Z"
   },
   {
    "duration": 21,
    "start_time": "2023-07-20T08:06:45.492Z"
   },
   {
    "duration": 9,
    "start_time": "2023-07-20T08:06:53.139Z"
   },
   {
    "duration": 15,
    "start_time": "2023-07-20T08:07:01.948Z"
   },
   {
    "duration": 12,
    "start_time": "2023-07-20T08:07:12.171Z"
   },
   {
    "duration": 131,
    "start_time": "2023-07-20T08:07:22.176Z"
   },
   {
    "duration": 315,
    "start_time": "2023-07-20T08:07:48.215Z"
   },
   {
    "duration": 383,
    "start_time": "2023-07-20T08:07:59.071Z"
   },
   {
    "duration": 53,
    "start_time": "2023-07-20T08:08:26.592Z"
   },
   {
    "duration": 21,
    "start_time": "2023-07-20T08:08:33.000Z"
   },
   {
    "duration": 333,
    "start_time": "2023-07-20T08:08:39.470Z"
   },
   {
    "duration": 30,
    "start_time": "2023-07-20T08:08:47.492Z"
   },
   {
    "duration": 98,
    "start_time": "2023-07-20T08:08:56.224Z"
   },
   {
    "duration": 12,
    "start_time": "2023-07-20T08:09:02.678Z"
   },
   {
    "duration": 307,
    "start_time": "2023-07-20T08:10:08.628Z"
   },
   {
    "duration": 28,
    "start_time": "2023-07-20T08:10:15.460Z"
   },
   {
    "duration": 29,
    "start_time": "2023-07-20T08:10:21.598Z"
   },
   {
    "duration": 19,
    "start_time": "2023-07-20T08:10:29.508Z"
   },
   {
    "duration": 13,
    "start_time": "2023-07-20T08:10:35.836Z"
   },
   {
    "duration": 2400,
    "start_time": "2023-07-20T08:22:46.854Z"
   },
   {
    "duration": 103,
    "start_time": "2023-07-20T08:22:49.256Z"
   },
   {
    "duration": 21,
    "start_time": "2023-07-20T08:22:49.361Z"
   },
   {
    "duration": 17,
    "start_time": "2023-07-20T08:22:49.384Z"
   },
   {
    "duration": 24,
    "start_time": "2023-07-20T08:22:49.404Z"
   },
   {
    "duration": 79,
    "start_time": "2023-07-20T08:22:49.429Z"
   },
   {
    "duration": 20,
    "start_time": "2023-07-20T08:22:49.510Z"
   },
   {
    "duration": 16,
    "start_time": "2023-07-20T08:22:49.541Z"
   },
   {
    "duration": 20,
    "start_time": "2023-07-20T08:22:49.559Z"
   },
   {
    "duration": 8,
    "start_time": "2023-07-20T08:22:49.581Z"
   },
   {
    "duration": 42,
    "start_time": "2023-07-20T08:22:49.591Z"
   },
   {
    "duration": 6,
    "start_time": "2023-07-20T08:22:49.635Z"
   },
   {
    "duration": 17,
    "start_time": "2023-07-20T08:22:49.643Z"
   },
   {
    "duration": 7,
    "start_time": "2023-07-20T08:22:49.664Z"
   },
   {
    "duration": 8,
    "start_time": "2023-07-20T08:22:49.673Z"
   },
   {
    "duration": 44,
    "start_time": "2023-07-20T08:22:49.683Z"
   },
   {
    "duration": 8,
    "start_time": "2023-07-20T08:22:49.729Z"
   },
   {
    "duration": 19,
    "start_time": "2023-07-20T08:22:49.739Z"
   },
   {
    "duration": 29,
    "start_time": "2023-07-20T08:22:49.760Z"
   },
   {
    "duration": 36,
    "start_time": "2023-07-20T08:22:49.791Z"
   },
   {
    "duration": 24,
    "start_time": "2023-07-20T08:22:49.829Z"
   },
   {
    "duration": 5,
    "start_time": "2023-07-20T08:22:49.855Z"
   },
   {
    "duration": 360,
    "start_time": "2023-07-20T08:22:49.861Z"
   },
   {
    "duration": 87,
    "start_time": "2023-07-20T08:22:50.223Z"
   },
   {
    "duration": 130,
    "start_time": "2023-07-20T08:22:50.322Z"
   },
   {
    "duration": 3,
    "start_time": "2023-07-20T08:22:50.454Z"
   },
   {
    "duration": 25,
    "start_time": "2023-07-20T08:22:50.459Z"
   },
   {
    "duration": 935,
    "start_time": "2023-07-20T08:22:50.487Z"
   },
   {
    "duration": 891,
    "start_time": "2023-07-20T08:22:51.427Z"
   },
   {
    "duration": 11,
    "start_time": "2023-07-20T08:22:52.320Z"
   },
   {
    "duration": 111,
    "start_time": "2023-07-20T08:22:52.332Z"
   },
   {
    "duration": 138,
    "start_time": "2023-07-20T08:22:52.445Z"
   },
   {
    "duration": 72,
    "start_time": "2023-07-20T08:22:52.585Z"
   },
   {
    "duration": 91,
    "start_time": "2023-07-20T08:22:52.659Z"
   },
   {
    "duration": 161,
    "start_time": "2023-07-20T08:22:52.753Z"
   },
   {
    "duration": 104,
    "start_time": "2023-07-20T08:22:52.916Z"
   },
   {
    "duration": 31,
    "start_time": "2023-07-20T08:22:53.027Z"
   },
   {
    "duration": 175,
    "start_time": "2023-07-20T08:22:53.060Z"
   },
   {
    "duration": 195,
    "start_time": "2023-07-20T08:22:53.237Z"
   },
   {
    "duration": 316,
    "start_time": "2023-07-20T08:22:53.434Z"
   },
   {
    "duration": 6,
    "start_time": "2023-07-20T08:22:53.755Z"
   },
   {
    "duration": 40,
    "start_time": "2023-07-20T08:22:53.764Z"
   },
   {
    "duration": 51,
    "start_time": "2023-07-20T08:22:53.806Z"
   },
   {
    "duration": 57,
    "start_time": "2023-07-20T08:22:53.860Z"
   },
   {
    "duration": 13,
    "start_time": "2023-07-20T08:22:53.921Z"
   },
   {
    "duration": 22,
    "start_time": "2023-07-20T08:22:53.936Z"
   },
   {
    "duration": 31,
    "start_time": "2023-07-20T08:22:53.961Z"
   },
   {
    "duration": 137,
    "start_time": "2023-07-20T08:22:53.995Z"
   },
   {
    "duration": 304,
    "start_time": "2023-07-20T08:22:54.134Z"
   },
   {
    "duration": 586,
    "start_time": "2023-07-20T08:22:54.440Z"
   },
   {
    "duration": 184,
    "start_time": "2023-07-20T08:22:55.028Z"
   },
   {
    "duration": 14,
    "start_time": "2023-07-20T08:22:55.216Z"
   },
   {
    "duration": 319,
    "start_time": "2023-07-20T08:22:55.232Z"
   },
   {
    "duration": 24,
    "start_time": "2023-07-20T08:22:55.553Z"
   },
   {
    "duration": 128,
    "start_time": "2023-07-20T08:22:55.580Z"
   },
   {
    "duration": 114,
    "start_time": "2023-07-20T08:22:55.711Z"
   },
   {
    "duration": 552,
    "start_time": "2023-07-20T08:22:55.828Z"
   },
   {
    "duration": 42,
    "start_time": "2023-07-20T08:22:56.382Z"
   },
   {
    "duration": 25,
    "start_time": "2023-07-20T08:22:56.426Z"
   },
   {
    "duration": 17,
    "start_time": "2023-07-20T08:22:56.453Z"
   },
   {
    "duration": 65,
    "start_time": "2023-07-20T08:22:56.471Z"
   },
   {
    "duration": 1737,
    "start_time": "2023-07-20T10:29:32.864Z"
   },
   {
    "duration": 161,
    "start_time": "2023-07-20T10:31:57.589Z"
   },
   {
    "duration": 19,
    "start_time": "2023-07-20T10:31:58.459Z"
   },
   {
    "duration": 15,
    "start_time": "2023-07-20T10:32:00.009Z"
   },
   {
    "duration": 5,
    "start_time": "2023-07-20T10:32:05.775Z"
   },
   {
    "duration": 43,
    "start_time": "2023-07-20T10:32:10.119Z"
   },
   {
    "duration": 4,
    "start_time": "2023-07-20T10:32:37.047Z"
   },
   {
    "duration": 53,
    "start_time": "2023-07-20T10:33:26.576Z"
   },
   {
    "duration": 41,
    "start_time": "2023-07-20T10:33:37.644Z"
   },
   {
    "duration": 4,
    "start_time": "2023-07-20T10:43:24.795Z"
   },
   {
    "duration": 59,
    "start_time": "2023-07-20T10:43:24.801Z"
   },
   {
    "duration": 16,
    "start_time": "2023-07-20T10:43:24.862Z"
   },
   {
    "duration": 16,
    "start_time": "2023-07-20T10:43:24.880Z"
   },
   {
    "duration": 14,
    "start_time": "2023-07-20T10:43:24.900Z"
   },
   {
    "duration": 43,
    "start_time": "2023-07-20T10:43:24.916Z"
   },
   {
    "duration": 14,
    "start_time": "2023-07-20T10:43:24.967Z"
   },
   {
    "duration": 5,
    "start_time": "2023-07-20T10:43:24.984Z"
   },
   {
    "duration": 18,
    "start_time": "2023-07-20T10:43:24.990Z"
   },
   {
    "duration": 17,
    "start_time": "2023-07-20T10:43:25.010Z"
   },
   {
    "duration": 46,
    "start_time": "2023-07-20T10:43:25.029Z"
   },
   {
    "duration": 11,
    "start_time": "2023-07-20T10:43:25.077Z"
   },
   {
    "duration": 29,
    "start_time": "2023-07-20T10:43:25.090Z"
   },
   {
    "duration": 28,
    "start_time": "2023-07-20T10:43:25.122Z"
   },
   {
    "duration": 43,
    "start_time": "2023-07-20T10:43:25.153Z"
   },
   {
    "duration": 18,
    "start_time": "2023-07-20T10:43:25.198Z"
   },
   {
    "duration": 37,
    "start_time": "2023-07-20T10:43:25.217Z"
   },
   {
    "duration": 14,
    "start_time": "2023-07-20T10:43:25.256Z"
   },
   {
    "duration": 28,
    "start_time": "2023-07-20T10:43:25.272Z"
   },
   {
    "duration": 19,
    "start_time": "2023-07-20T10:43:25.303Z"
   },
   {
    "duration": 19,
    "start_time": "2023-07-20T10:43:25.324Z"
   },
   {
    "duration": 5,
    "start_time": "2023-07-20T10:43:31.812Z"
   },
   {
    "duration": 154,
    "start_time": "2023-07-20T10:43:34.646Z"
   },
   {
    "duration": 5,
    "start_time": "2023-07-20T10:44:06.446Z"
   },
   {
    "duration": 266,
    "start_time": "2023-07-20T10:44:08.024Z"
   },
   {
    "duration": 269,
    "start_time": "2023-07-20T10:48:32.785Z"
   },
   {
    "duration": 115,
    "start_time": "2023-07-20T10:48:40.439Z"
   },
   {
    "duration": 81,
    "start_time": "2023-07-20T10:49:13.597Z"
   },
   {
    "duration": 74,
    "start_time": "2023-07-20T10:50:25.647Z"
   },
   {
    "duration": 102,
    "start_time": "2023-07-20T10:50:38.579Z"
   },
   {
    "duration": 8,
    "start_time": "2023-07-20T10:51:22.356Z"
   },
   {
    "duration": 45,
    "start_time": "2023-07-20T10:51:25.017Z"
   },
   {
    "duration": 6,
    "start_time": "2023-07-20T10:51:56.574Z"
   },
   {
    "duration": 339,
    "start_time": "2023-07-20T10:51:58.733Z"
   },
   {
    "duration": 8,
    "start_time": "2023-07-20T10:52:39.938Z"
   },
   {
    "duration": 149,
    "start_time": "2023-07-20T10:52:41.678Z"
   },
   {
    "duration": 140,
    "start_time": "2023-07-20T10:57:54.527Z"
   },
   {
    "duration": 133,
    "start_time": "2023-07-20T10:59:14.421Z"
   },
   {
    "duration": 144,
    "start_time": "2023-07-20T10:59:26.384Z"
   },
   {
    "duration": 242,
    "start_time": "2023-07-20T11:00:05.722Z"
   },
   {
    "duration": 168,
    "start_time": "2023-07-20T11:01:37.322Z"
   },
   {
    "duration": 201,
    "start_time": "2023-07-20T11:01:52.459Z"
   },
   {
    "duration": 163,
    "start_time": "2023-07-20T11:02:09.292Z"
   },
   {
    "duration": 6,
    "start_time": "2023-07-20T11:15:33.862Z"
   },
   {
    "duration": 51,
    "start_time": "2023-07-20T11:15:33.871Z"
   },
   {
    "duration": 23,
    "start_time": "2023-07-20T11:15:33.926Z"
   },
   {
    "duration": 27,
    "start_time": "2023-07-20T11:15:33.954Z"
   },
   {
    "duration": 6,
    "start_time": "2023-07-20T11:15:33.984Z"
   },
   {
    "duration": 74,
    "start_time": "2023-07-20T11:15:33.992Z"
   },
   {
    "duration": 19,
    "start_time": "2023-07-20T11:15:34.069Z"
   },
   {
    "duration": 6,
    "start_time": "2023-07-20T11:15:34.090Z"
   },
   {
    "duration": 26,
    "start_time": "2023-07-20T11:15:34.099Z"
   },
   {
    "duration": 14,
    "start_time": "2023-07-20T11:15:34.127Z"
   },
   {
    "duration": 43,
    "start_time": "2023-07-20T11:15:34.143Z"
   },
   {
    "duration": 16,
    "start_time": "2023-07-20T11:15:34.189Z"
   },
   {
    "duration": 8,
    "start_time": "2023-07-20T11:15:34.209Z"
   },
   {
    "duration": 23,
    "start_time": "2023-07-20T11:15:34.221Z"
   },
   {
    "duration": 20,
    "start_time": "2023-07-20T11:15:34.247Z"
   },
   {
    "duration": 18,
    "start_time": "2023-07-20T11:15:34.269Z"
   },
   {
    "duration": 25,
    "start_time": "2023-07-20T11:15:34.290Z"
   },
   {
    "duration": 27,
    "start_time": "2023-07-20T11:15:34.318Z"
   },
   {
    "duration": 43,
    "start_time": "2023-07-20T11:15:34.347Z"
   },
   {
    "duration": 31,
    "start_time": "2023-07-20T11:15:34.392Z"
   },
   {
    "duration": 50,
    "start_time": "2023-07-20T11:15:34.425Z"
   },
   {
    "duration": 7,
    "start_time": "2023-07-20T11:15:34.478Z"
   },
   {
    "duration": 385,
    "start_time": "2023-07-20T11:15:34.489Z"
   },
   {
    "duration": 10,
    "start_time": "2023-07-20T11:15:34.876Z"
   },
   {
    "duration": 166,
    "start_time": "2023-07-20T11:15:34.967Z"
   },
   {
    "duration": 3,
    "start_time": "2023-07-20T11:15:35.135Z"
   },
   {
    "duration": 7,
    "start_time": "2023-07-20T11:15:37.820Z"
   },
   {
    "duration": 80579,
    "start_time": "2023-07-20T11:15:55.954Z"
   },
   {
    "duration": 6,
    "start_time": "2023-07-20T11:19:01.021Z"
   },
   {
    "duration": 5885,
    "start_time": "2023-07-20T11:19:14.912Z"
   },
   {
    "duration": 6,
    "start_time": "2023-07-20T11:19:50.607Z"
   },
   {
    "duration": 6,
    "start_time": "2023-07-20T11:20:52.754Z"
   },
   {
    "duration": 116,
    "start_time": "2023-07-20T11:20:56.554Z"
   },
   {
    "duration": 6,
    "start_time": "2023-07-20T11:22:01.251Z"
   },
   {
    "duration": 399761,
    "start_time": "2023-07-20T11:22:03.703Z"
   },
   {
    "duration": 5,
    "start_time": "2023-07-20T11:29:06.694Z"
   },
   {
    "duration": 196,
    "start_time": "2023-07-20T11:29:08.994Z"
   },
   {
    "duration": 166,
    "start_time": "2023-07-20T11:30:12.564Z"
   },
   {
    "duration": 12,
    "start_time": "2023-07-20T11:30:36.516Z"
   },
   {
    "duration": 21,
    "start_time": "2023-07-20T11:30:48.185Z"
   },
   {
    "duration": 26,
    "start_time": "2023-07-20T11:31:30.955Z"
   },
   {
    "duration": 12,
    "start_time": "2023-07-20T11:31:39.673Z"
   },
   {
    "duration": 9,
    "start_time": "2023-07-20T11:31:44.803Z"
   },
   {
    "duration": 79,
    "start_time": "2023-07-20T11:33:27.951Z"
   },
   {
    "duration": 58,
    "start_time": "2023-07-20T11:37:21.620Z"
   },
   {
    "duration": 10,
    "start_time": "2023-07-20T11:37:22.794Z"
   },
   {
    "duration": 12,
    "start_time": "2023-07-20T11:37:26.294Z"
   },
   {
    "duration": 5,
    "start_time": "2023-07-20T11:37:28.504Z"
   },
   {
    "duration": 150,
    "start_time": "2023-07-20T11:37:29.695Z"
   },
   {
    "duration": 351,
    "start_time": "2023-07-20T11:37:31.277Z"
   },
   {
    "duration": 9,
    "start_time": "2023-07-20T11:37:36.851Z"
   },
   {
    "duration": 7,
    "start_time": "2023-07-20T11:37:40.987Z"
   },
   {
    "duration": 10,
    "start_time": "2023-07-20T11:37:42.625Z"
   },
   {
    "duration": 15,
    "start_time": "2023-07-20T11:37:43.356Z"
   },
   {
    "duration": 9,
    "start_time": "2023-07-20T11:37:46.197Z"
   },
   {
    "duration": 13,
    "start_time": "2023-07-20T11:37:47.355Z"
   },
   {
    "duration": 12,
    "start_time": "2023-07-20T11:37:50.515Z"
   },
   {
    "duration": 102,
    "start_time": "2023-07-20T11:37:52.020Z"
   },
   {
    "duration": 130,
    "start_time": "2023-07-20T11:37:59.075Z"
   },
   {
    "duration": 12,
    "start_time": "2023-07-20T11:38:02.975Z"
   },
   {
    "duration": 499,
    "start_time": "2023-07-20T11:39:39.574Z"
   },
   {
    "duration": 490,
    "start_time": "2023-07-20T11:39:46.487Z"
   },
   {
    "duration": 53,
    "start_time": "2023-07-20T11:40:12.121Z"
   },
   {
    "duration": 6,
    "start_time": "2023-07-20T11:50:05.823Z"
   },
   {
    "duration": 6,
    "start_time": "2023-07-20T11:51:11.718Z"
   },
   {
    "duration": 125,
    "start_time": "2023-07-20T11:51:14.689Z"
   },
   {
    "duration": 8,
    "start_time": "2023-07-20T11:51:54.900Z"
   },
   {
    "duration": 549372,
    "start_time": "2023-07-20T11:52:08.379Z"
   },
   {
    "duration": 29,
    "start_time": "2023-07-20T12:02:46.336Z"
   },
   {
    "duration": 9,
    "start_time": "2023-07-20T12:02:50.811Z"
   },
   {
    "duration": 269,
    "start_time": "2023-07-20T12:02:59.541Z"
   },
   {
    "duration": 31,
    "start_time": "2023-07-20T12:03:03.071Z"
   },
   {
    "duration": 31,
    "start_time": "2023-07-20T12:03:07.058Z"
   },
   {
    "duration": 13,
    "start_time": "2023-07-20T12:03:13.959Z"
   },
   {
    "duration": 280,
    "start_time": "2023-07-20T12:05:39.791Z"
   },
   {
    "duration": 35,
    "start_time": "2023-07-20T12:07:00.650Z"
   },
   {
    "duration": 23,
    "start_time": "2023-07-20T12:08:09.457Z"
   },
   {
    "duration": 8,
    "start_time": "2023-07-20T12:08:16.424Z"
   },
   {
    "duration": 10,
    "start_time": "2023-07-20T12:08:20.640Z"
   },
   {
    "duration": 265,
    "start_time": "2023-07-20T12:17:51.876Z"
   },
   {
    "duration": 29,
    "start_time": "2023-07-20T12:17:54.666Z"
   },
   {
    "duration": 299,
    "start_time": "2023-07-20T12:19:32.397Z"
   },
   {
    "duration": 32,
    "start_time": "2023-07-20T12:19:34.788Z"
   },
   {
    "duration": 24,
    "start_time": "2023-07-20T12:20:15.320Z"
   },
   {
    "duration": 1835,
    "start_time": "2023-07-21T06:31:36.472Z"
   },
   {
    "duration": 88,
    "start_time": "2023-07-21T06:31:38.309Z"
   },
   {
    "duration": 19,
    "start_time": "2023-07-21T06:31:38.399Z"
   },
   {
    "duration": 20,
    "start_time": "2023-07-21T06:31:38.419Z"
   },
   {
    "duration": 30,
    "start_time": "2023-07-21T06:31:38.442Z"
   },
   {
    "duration": 54,
    "start_time": "2023-07-21T06:31:38.474Z"
   },
   {
    "duration": 13,
    "start_time": "2023-07-21T06:31:38.530Z"
   },
   {
    "duration": 15,
    "start_time": "2023-07-21T06:31:38.544Z"
   },
   {
    "duration": 41,
    "start_time": "2023-07-21T06:31:38.561Z"
   },
   {
    "duration": 14,
    "start_time": "2023-07-21T06:31:38.604Z"
   },
   {
    "duration": 47,
    "start_time": "2023-07-21T06:31:38.620Z"
   },
   {
    "duration": 13,
    "start_time": "2023-07-21T06:31:38.669Z"
   },
   {
    "duration": 24,
    "start_time": "2023-07-21T06:31:38.684Z"
   },
   {
    "duration": 13,
    "start_time": "2023-07-21T06:31:38.711Z"
   },
   {
    "duration": 30,
    "start_time": "2023-07-21T06:31:38.726Z"
   },
   {
    "duration": 51,
    "start_time": "2023-07-21T06:31:38.758Z"
   },
   {
    "duration": 20,
    "start_time": "2023-07-21T06:31:38.810Z"
   },
   {
    "duration": 37,
    "start_time": "2023-07-21T06:31:38.831Z"
   },
   {
    "duration": 53,
    "start_time": "2023-07-21T06:31:38.870Z"
   },
   {
    "duration": 29,
    "start_time": "2023-07-21T06:31:38.925Z"
   },
   {
    "duration": 37,
    "start_time": "2023-07-21T06:31:38.956Z"
   },
   {
    "duration": 11,
    "start_time": "2023-07-21T06:31:39.011Z"
   },
   {
    "duration": 394,
    "start_time": "2023-07-21T06:31:39.024Z"
   },
   {
    "duration": 92,
    "start_time": "2023-07-21T06:31:39.421Z"
   },
   {
    "duration": 254,
    "start_time": "2023-07-21T06:31:39.515Z"
   },
   {
    "duration": 4,
    "start_time": "2023-07-21T06:31:43.234Z"
   },
   {
    "duration": 6,
    "start_time": "2023-07-21T06:32:17.523Z"
   },
   {
    "duration": 395054,
    "start_time": "2023-07-21T06:32:22.943Z"
   },
   {
    "duration": 5,
    "start_time": "2023-07-21T06:39:49.816Z"
   },
   {
    "duration": 116,
    "start_time": "2023-07-21T06:39:53.640Z"
   },
   {
    "duration": 163,
    "start_time": "2023-07-21T06:40:09.474Z"
   },
   {
    "duration": 9,
    "start_time": "2023-07-21T06:40:21.561Z"
   },
   {
    "duration": 20,
    "start_time": "2023-07-21T06:40:22.454Z"
   },
   {
    "duration": 25,
    "start_time": "2023-07-21T06:40:23.912Z"
   },
   {
    "duration": 9,
    "start_time": "2023-07-21T06:40:26.384Z"
   },
   {
    "duration": 9,
    "start_time": "2023-07-21T06:40:27.572Z"
   },
   {
    "duration": 27,
    "start_time": "2023-07-21T06:40:47.275Z"
   },
   {
    "duration": 10,
    "start_time": "2023-07-21T06:40:47.963Z"
   },
   {
    "duration": 13,
    "start_time": "2023-07-21T06:40:50.902Z"
   },
   {
    "duration": 5,
    "start_time": "2023-07-21T06:40:52.674Z"
   },
   {
    "duration": 142,
    "start_time": "2023-07-21T06:40:52.965Z"
   },
   {
    "duration": 354,
    "start_time": "2023-07-21T06:40:54.582Z"
   },
   {
    "duration": 9,
    "start_time": "2023-07-21T06:43:50.504Z"
   },
   {
    "duration": 7,
    "start_time": "2023-07-21T06:43:52.666Z"
   },
   {
    "duration": 15,
    "start_time": "2023-07-21T06:43:53.633Z"
   },
   {
    "duration": 15,
    "start_time": "2023-07-21T06:43:54.471Z"
   },
   {
    "duration": 9,
    "start_time": "2023-07-21T06:43:57.861Z"
   },
   {
    "duration": 12,
    "start_time": "2023-07-21T06:43:59.084Z"
   },
   {
    "duration": 15,
    "start_time": "2023-07-21T06:44:01.966Z"
   },
   {
    "duration": 132,
    "start_time": "2023-07-21T06:44:02.693Z"
   },
   {
    "duration": 349,
    "start_time": "2023-07-21T06:44:05.664Z"
   },
   {
    "duration": 407,
    "start_time": "2023-07-21T06:44:10.706Z"
   },
   {
    "duration": 6,
    "start_time": "2023-07-21T06:45:36.084Z"
   },
   {
    "duration": 535565,
    "start_time": "2023-07-21T06:45:45.134Z"
   },
   {
    "duration": 32,
    "start_time": "2023-07-21T06:55:07.453Z"
   },
   {
    "duration": 9,
    "start_time": "2023-07-21T06:55:11.436Z"
   },
   {
    "duration": 533,
    "start_time": "2023-07-21T06:55:14.752Z"
   },
   {
    "duration": 35,
    "start_time": "2023-07-21T06:55:26.628Z"
   },
   {
    "duration": 75,
    "start_time": "2023-07-21T06:55:28.438Z"
   },
   {
    "duration": 12,
    "start_time": "2023-07-21T06:55:30.210Z"
   },
   {
    "duration": 489,
    "start_time": "2023-07-21T06:57:03.242Z"
   },
   {
    "duration": 39,
    "start_time": "2023-07-21T06:57:07.932Z"
   },
   {
    "duration": 53,
    "start_time": "2023-07-21T06:58:38.482Z"
   },
   {
    "duration": 8,
    "start_time": "2023-07-21T06:58:40.754Z"
   },
   {
    "duration": 10,
    "start_time": "2023-07-21T06:58:41.923Z"
   },
   {
    "duration": 52,
    "start_time": "2023-07-26T17:19:35.643Z"
   }
  ],
  "kernelspec": {
   "display_name": "Python 3 (ipykernel)",
   "language": "python",
   "name": "python3"
  },
  "language_info": {
   "codemirror_mode": {
    "name": "ipython",
    "version": 3
   },
   "file_extension": ".py",
   "mimetype": "text/x-python",
   "name": "python",
   "nbconvert_exporter": "python",
   "pygments_lexer": "ipython3",
   "version": "3.9.5"
  },
  "toc": {
   "base_numbering": 1,
   "nav_menu": {},
   "number_sections": true,
   "sideBar": true,
   "skip_h1_title": true,
   "title_cell": "Содержание",
   "title_sidebar": "Contents",
   "toc_cell": true,
   "toc_position": {},
   "toc_section_display": true,
   "toc_window_display": false
  }
 },
 "nbformat": 4,
 "nbformat_minor": 2
}
