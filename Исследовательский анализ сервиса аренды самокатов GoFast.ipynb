{
 "cells": [
  {
   "cell_type": "markdown",
   "id": "a44a9260",
   "metadata": {},
   "source": [
    "# Исследовательский анализ сервиса аренды самокатов *GoFast*"
   ]
  },
  {
   "cell_type": "markdown",
   "id": "7d26fd97",
   "metadata": {},
   "source": [
    "**Описание проекта:**\n",
    "Нам передали данные о некоторых пользователях из нескольких городов, а также об их поездках. Проанализируем данные и проверем некоторые гипотезы, которые могут помочь бизнесу вырасти."
   ]
  },
  {
   "cell_type": "markdown",
   "id": "70aee54b",
   "metadata": {},
   "source": [
    "**Описание данных:**\n",
    "В основных данных есть информация о пользователях, их поездках и подписках.<br>\n",
    "<br>Пользователи — users_go.csv\n",
    "- *user_id*\tуникальный идентификатор пользователя<br>\n",
    "- *name*\tимя пользователя<br>\n",
    "- *age*\tвозраст<br>\n",
    "- *city*\tгород<br>\n",
    "- *subscription_type*\tтип подписки (free, ultra)<br>\n",
    "<br>Поездки — rides_go.csv<br>\n",
    "- *user_id*\tуникальный идентификатор пользователя<br>\n",
    "- *distance*\tрасстояние, которое пользователь проехал в текущей сессии (в метрах)<br>\n",
    "- *duration*\tпродолжительность сессии (в минутах) — время с того момента, как пользователь нажал кнопку «Начать поездку» до момента, как он нажал кнопку «Завершить поездку»<br>\n",
    "- *date*\tдата совершения поездки<br>\n",
    "<br>Подписки — subscriptions_go.csv<br>\n",
    "- *subscription_type*\tтип подписки<br>\n",
    "- *minute_price*\tстоимость одной минуты поездки по данной подписке<br>\n",
    "- *start_ride_price*\tстоимость начала поездки<br>\n",
    "- *subscription_fee*\tстоимость ежемесячного платежа<br>"
   ]
  },
  {
   "cell_type": "code",
   "execution_count": 2,
   "id": "72576667",
   "metadata": {},
   "outputs": [],
   "source": [
    "import pandas as pd\n",
    "import matplotlib.pyplot as plt\n",
    "from scipy import stats as st\n",
    "import numpy as np\n",
    "import math"
   ]
  },
  {
   "cell_type": "markdown",
   "id": "c42cbe00",
   "metadata": {},
   "source": [
    "#### Шаг 1. Загрузка данных"
   ]
  },
  {
   "cell_type": "code",
   "execution_count": 3,
   "id": "eff9f206",
   "metadata": {},
   "outputs": [
    {
     "data": {
      "text/html": [
       "<div>\n",
       "<style scoped>\n",
       "    .dataframe tbody tr th:only-of-type {\n",
       "        vertical-align: middle;\n",
       "    }\n",
       "\n",
       "    .dataframe tbody tr th {\n",
       "        vertical-align: top;\n",
       "    }\n",
       "\n",
       "    .dataframe thead th {\n",
       "        text-align: right;\n",
       "    }\n",
       "</style>\n",
       "<table border=\"1\" class=\"dataframe\">\n",
       "  <thead>\n",
       "    <tr style=\"text-align: right;\">\n",
       "      <th></th>\n",
       "      <th>user_id</th>\n",
       "      <th>name</th>\n",
       "      <th>age</th>\n",
       "      <th>city</th>\n",
       "      <th>subscription_type</th>\n",
       "    </tr>\n",
       "  </thead>\n",
       "  <tbody>\n",
       "    <tr>\n",
       "      <th>0</th>\n",
       "      <td>1</td>\n",
       "      <td>Кира</td>\n",
       "      <td>22</td>\n",
       "      <td>Тюмень</td>\n",
       "      <td>ultra</td>\n",
       "    </tr>\n",
       "    <tr>\n",
       "      <th>1</th>\n",
       "      <td>2</td>\n",
       "      <td>Станислав</td>\n",
       "      <td>31</td>\n",
       "      <td>Омск</td>\n",
       "      <td>ultra</td>\n",
       "    </tr>\n",
       "    <tr>\n",
       "      <th>2</th>\n",
       "      <td>3</td>\n",
       "      <td>Алексей</td>\n",
       "      <td>20</td>\n",
       "      <td>Москва</td>\n",
       "      <td>ultra</td>\n",
       "    </tr>\n",
       "    <tr>\n",
       "      <th>3</th>\n",
       "      <td>4</td>\n",
       "      <td>Константин</td>\n",
       "      <td>26</td>\n",
       "      <td>Ростов-на-Дону</td>\n",
       "      <td>ultra</td>\n",
       "    </tr>\n",
       "    <tr>\n",
       "      <th>4</th>\n",
       "      <td>5</td>\n",
       "      <td>Адель</td>\n",
       "      <td>28</td>\n",
       "      <td>Омск</td>\n",
       "      <td>ultra</td>\n",
       "    </tr>\n",
       "    <tr>\n",
       "      <th>5</th>\n",
       "      <td>6</td>\n",
       "      <td>Регина</td>\n",
       "      <td>25</td>\n",
       "      <td>Краснодар</td>\n",
       "      <td>ultra</td>\n",
       "    </tr>\n",
       "    <tr>\n",
       "      <th>6</th>\n",
       "      <td>7</td>\n",
       "      <td>Игорь</td>\n",
       "      <td>23</td>\n",
       "      <td>Омск</td>\n",
       "      <td>ultra</td>\n",
       "    </tr>\n",
       "    <tr>\n",
       "      <th>7</th>\n",
       "      <td>8</td>\n",
       "      <td>Юрий</td>\n",
       "      <td>23</td>\n",
       "      <td>Краснодар</td>\n",
       "      <td>ultra</td>\n",
       "    </tr>\n",
       "    <tr>\n",
       "      <th>8</th>\n",
       "      <td>9</td>\n",
       "      <td>Ян</td>\n",
       "      <td>21</td>\n",
       "      <td>Пятигорск</td>\n",
       "      <td>ultra</td>\n",
       "    </tr>\n",
       "    <tr>\n",
       "      <th>9</th>\n",
       "      <td>10</td>\n",
       "      <td>Валерий</td>\n",
       "      <td>18</td>\n",
       "      <td>Екатеринбург</td>\n",
       "      <td>ultra</td>\n",
       "    </tr>\n",
       "  </tbody>\n",
       "</table>\n",
       "</div>"
      ],
      "text/plain": [
       "   user_id        name  age            city subscription_type\n",
       "0        1        Кира   22          Тюмень             ultra\n",
       "1        2   Станислав   31            Омск             ultra\n",
       "2        3     Алексей   20          Москва             ultra\n",
       "3        4  Константин   26  Ростов-на-Дону             ultra\n",
       "4        5       Адель   28            Омск             ultra\n",
       "5        6      Регина   25       Краснодар             ultra\n",
       "6        7       Игорь   23            Омск             ultra\n",
       "7        8        Юрий   23       Краснодар             ultra\n",
       "8        9          Ян   21       Пятигорск             ultra\n",
       "9       10     Валерий   18    Екатеринбург             ultra"
      ]
     },
     "metadata": {},
     "output_type": "display_data"
    },
    {
     "name": "stdout",
     "output_type": "stream",
     "text": [
      "<class 'pandas.core.frame.DataFrame'>\n",
      "RangeIndex: 1565 entries, 0 to 1564\n",
      "Data columns (total 5 columns):\n",
      " #   Column             Non-Null Count  Dtype \n",
      "---  ------             --------------  ----- \n",
      " 0   user_id            1565 non-null   int64 \n",
      " 1   name               1565 non-null   object\n",
      " 2   age                1565 non-null   int64 \n",
      " 3   city               1565 non-null   object\n",
      " 4   subscription_type  1565 non-null   object\n",
      "dtypes: int64(2), object(3)\n",
      "memory usage: 61.3+ KB\n"
     ]
    },
    {
     "data": {
      "text/plain": [
       "None"
      ]
     },
     "metadata": {},
     "output_type": "display_data"
    },
    {
     "data": {
      "text/plain": [
       "(1565, 5)"
      ]
     },
     "metadata": {},
     "output_type": "display_data"
    },
    {
     "data": {
      "text/plain": [
       "user_id              0\n",
       "name                 0\n",
       "age                  0\n",
       "city                 0\n",
       "subscription_type    0\n",
       "dtype: int64"
      ]
     },
     "metadata": {},
     "output_type": "display_data"
    }
   ],
   "source": [
    "data1 = pd.read_csv('/datasets/users_go.csv')\n",
    "display(data1.head(10))\n",
    "display(data1.info())\n",
    "display(data1.shape)\n",
    "display(data1.isna().sum())"
   ]
  },
  {
   "cell_type": "code",
   "execution_count": 4,
   "id": "cdb9c158",
   "metadata": {},
   "outputs": [
    {
     "data": {
      "text/html": [
       "<div>\n",
       "<style scoped>\n",
       "    .dataframe tbody tr th:only-of-type {\n",
       "        vertical-align: middle;\n",
       "    }\n",
       "\n",
       "    .dataframe tbody tr th {\n",
       "        vertical-align: top;\n",
       "    }\n",
       "\n",
       "    .dataframe thead th {\n",
       "        text-align: right;\n",
       "    }\n",
       "</style>\n",
       "<table border=\"1\" class=\"dataframe\">\n",
       "  <thead>\n",
       "    <tr style=\"text-align: right;\">\n",
       "      <th></th>\n",
       "      <th>user_id</th>\n",
       "      <th>distance</th>\n",
       "      <th>duration</th>\n",
       "      <th>date</th>\n",
       "    </tr>\n",
       "  </thead>\n",
       "  <tbody>\n",
       "    <tr>\n",
       "      <th>0</th>\n",
       "      <td>1</td>\n",
       "      <td>4409.919140</td>\n",
       "      <td>25.599769</td>\n",
       "      <td>2021-01-01</td>\n",
       "    </tr>\n",
       "    <tr>\n",
       "      <th>1</th>\n",
       "      <td>1</td>\n",
       "      <td>2617.592153</td>\n",
       "      <td>15.816871</td>\n",
       "      <td>2021-01-18</td>\n",
       "    </tr>\n",
       "    <tr>\n",
       "      <th>2</th>\n",
       "      <td>1</td>\n",
       "      <td>754.159807</td>\n",
       "      <td>6.232113</td>\n",
       "      <td>2021-04-20</td>\n",
       "    </tr>\n",
       "    <tr>\n",
       "      <th>3</th>\n",
       "      <td>1</td>\n",
       "      <td>2694.783254</td>\n",
       "      <td>18.511000</td>\n",
       "      <td>2021-08-11</td>\n",
       "    </tr>\n",
       "    <tr>\n",
       "      <th>4</th>\n",
       "      <td>1</td>\n",
       "      <td>4028.687306</td>\n",
       "      <td>26.265803</td>\n",
       "      <td>2021-08-28</td>\n",
       "    </tr>\n",
       "    <tr>\n",
       "      <th>5</th>\n",
       "      <td>1</td>\n",
       "      <td>2770.890808</td>\n",
       "      <td>16.650138</td>\n",
       "      <td>2021-10-09</td>\n",
       "    </tr>\n",
       "    <tr>\n",
       "      <th>6</th>\n",
       "      <td>1</td>\n",
       "      <td>3039.020292</td>\n",
       "      <td>14.927879</td>\n",
       "      <td>2021-10-19</td>\n",
       "    </tr>\n",
       "    <tr>\n",
       "      <th>7</th>\n",
       "      <td>1</td>\n",
       "      <td>2842.118050</td>\n",
       "      <td>23.117468</td>\n",
       "      <td>2021-11-06</td>\n",
       "    </tr>\n",
       "    <tr>\n",
       "      <th>8</th>\n",
       "      <td>1</td>\n",
       "      <td>3412.690668</td>\n",
       "      <td>15.238072</td>\n",
       "      <td>2021-11-14</td>\n",
       "    </tr>\n",
       "    <tr>\n",
       "      <th>9</th>\n",
       "      <td>1</td>\n",
       "      <td>748.690645</td>\n",
       "      <td>15.041884</td>\n",
       "      <td>2021-11-22</td>\n",
       "    </tr>\n",
       "  </tbody>\n",
       "</table>\n",
       "</div>"
      ],
      "text/plain": [
       "   user_id     distance   duration        date\n",
       "0        1  4409.919140  25.599769  2021-01-01\n",
       "1        1  2617.592153  15.816871  2021-01-18\n",
       "2        1   754.159807   6.232113  2021-04-20\n",
       "3        1  2694.783254  18.511000  2021-08-11\n",
       "4        1  4028.687306  26.265803  2021-08-28\n",
       "5        1  2770.890808  16.650138  2021-10-09\n",
       "6        1  3039.020292  14.927879  2021-10-19\n",
       "7        1  2842.118050  23.117468  2021-11-06\n",
       "8        1  3412.690668  15.238072  2021-11-14\n",
       "9        1   748.690645  15.041884  2021-11-22"
      ]
     },
     "metadata": {},
     "output_type": "display_data"
    },
    {
     "name": "stdout",
     "output_type": "stream",
     "text": [
      "<class 'pandas.core.frame.DataFrame'>\n",
      "RangeIndex: 18068 entries, 0 to 18067\n",
      "Data columns (total 4 columns):\n",
      " #   Column    Non-Null Count  Dtype  \n",
      "---  ------    --------------  -----  \n",
      " 0   user_id   18068 non-null  int64  \n",
      " 1   distance  18068 non-null  float64\n",
      " 2   duration  18068 non-null  float64\n",
      " 3   date      18068 non-null  object \n",
      "dtypes: float64(2), int64(1), object(1)\n",
      "memory usage: 564.8+ KB\n"
     ]
    },
    {
     "data": {
      "text/plain": [
       "None"
      ]
     },
     "metadata": {},
     "output_type": "display_data"
    },
    {
     "data": {
      "text/plain": [
       "(18068, 4)"
      ]
     },
     "metadata": {},
     "output_type": "display_data"
    },
    {
     "data": {
      "text/plain": [
       "user_id     0\n",
       "distance    0\n",
       "duration    0\n",
       "date        0\n",
       "dtype: int64"
      ]
     },
     "metadata": {},
     "output_type": "display_data"
    }
   ],
   "source": [
    "data2 = pd.read_csv('/datasets/rides_go.csv')\n",
    "display(data2.head(10))\n",
    "display(data2.info())\n",
    "display(data2.shape)\n",
    "display(data2.isna().sum())"
   ]
  },
  {
   "cell_type": "code",
   "execution_count": 5,
   "id": "c010db1f",
   "metadata": {},
   "outputs": [
    {
     "data": {
      "text/html": [
       "<div>\n",
       "<style scoped>\n",
       "    .dataframe tbody tr th:only-of-type {\n",
       "        vertical-align: middle;\n",
       "    }\n",
       "\n",
       "    .dataframe tbody tr th {\n",
       "        vertical-align: top;\n",
       "    }\n",
       "\n",
       "    .dataframe thead th {\n",
       "        text-align: right;\n",
       "    }\n",
       "</style>\n",
       "<table border=\"1\" class=\"dataframe\">\n",
       "  <thead>\n",
       "    <tr style=\"text-align: right;\">\n",
       "      <th></th>\n",
       "      <th>subscription_type</th>\n",
       "      <th>minute_price</th>\n",
       "      <th>start_ride_price</th>\n",
       "      <th>subscription_fee</th>\n",
       "    </tr>\n",
       "  </thead>\n",
       "  <tbody>\n",
       "    <tr>\n",
       "      <th>0</th>\n",
       "      <td>free</td>\n",
       "      <td>8</td>\n",
       "      <td>50</td>\n",
       "      <td>0</td>\n",
       "    </tr>\n",
       "    <tr>\n",
       "      <th>1</th>\n",
       "      <td>ultra</td>\n",
       "      <td>6</td>\n",
       "      <td>0</td>\n",
       "      <td>199</td>\n",
       "    </tr>\n",
       "  </tbody>\n",
       "</table>\n",
       "</div>"
      ],
      "text/plain": [
       "  subscription_type  minute_price  start_ride_price  subscription_fee\n",
       "0              free             8                50                 0\n",
       "1             ultra             6                 0               199"
      ]
     },
     "metadata": {},
     "output_type": "display_data"
    },
    {
     "name": "stdout",
     "output_type": "stream",
     "text": [
      "<class 'pandas.core.frame.DataFrame'>\n",
      "RangeIndex: 2 entries, 0 to 1\n",
      "Data columns (total 4 columns):\n",
      " #   Column             Non-Null Count  Dtype \n",
      "---  ------             --------------  ----- \n",
      " 0   subscription_type  2 non-null      object\n",
      " 1   minute_price       2 non-null      int64 \n",
      " 2   start_ride_price   2 non-null      int64 \n",
      " 3   subscription_fee   2 non-null      int64 \n",
      "dtypes: int64(3), object(1)\n",
      "memory usage: 192.0+ bytes\n"
     ]
    },
    {
     "data": {
      "text/plain": [
       "None"
      ]
     },
     "metadata": {},
     "output_type": "display_data"
    },
    {
     "data": {
      "text/plain": [
       "(2, 4)"
      ]
     },
     "metadata": {},
     "output_type": "display_data"
    },
    {
     "data": {
      "text/plain": [
       "subscription_type    0\n",
       "minute_price         0\n",
       "start_ride_price     0\n",
       "subscription_fee     0\n",
       "dtype: int64"
      ]
     },
     "metadata": {},
     "output_type": "display_data"
    }
   ],
   "source": [
    "data3 = pd.read_csv('/datasets/subscriptions_go.csv')\n",
    "display(data3.head(10))\n",
    "display(data3.info())\n",
    "display(data3.shape)\n",
    "display(data3.isna().sum())"
   ]
  },
  {
   "cell_type": "markdown",
   "id": "4ae05ef9",
   "metadata": {},
   "source": [
    "**Вывод:** <br>\n",
    "- В датасетах отсутствуют пропуски.<br>\n",
    "- Необходимо перевести столбец с датой в нужный формат.<br>\n",
    "- Проверить данные на наличие дубликатов."
   ]
  },
  {
   "cell_type": "markdown",
   "id": "e95ebca7",
   "metadata": {},
   "source": [
    "#### Шаг 2. Предобработка данных"
   ]
  },
  {
   "cell_type": "code",
   "execution_count": 6,
   "id": "af6d202c",
   "metadata": {},
   "outputs": [],
   "source": [
    "data2['date'] = pd.to_datetime(data2['date'], format='%Y-%m-%d')"
   ]
  },
  {
   "cell_type": "code",
   "execution_count": 7,
   "id": "47215eaf",
   "metadata": {},
   "outputs": [],
   "source": [
    "data2['month'] = data2['date'].dt.month"
   ]
  },
  {
   "cell_type": "code",
   "execution_count": 8,
   "id": "ed532d7b",
   "metadata": {},
   "outputs": [
    {
     "data": {
      "text/plain": [
       "31"
      ]
     },
     "execution_count": 8,
     "metadata": {},
     "output_type": "execute_result"
    }
   ],
   "source": [
    "data1.duplicated().sum()"
   ]
  },
  {
   "cell_type": "code",
   "execution_count": 9,
   "id": "5dcb5002",
   "metadata": {},
   "outputs": [],
   "source": [
    "data1 = data1.drop_duplicates()\n",
    "data1 = data1.reset_index(drop=True)"
   ]
  },
  {
   "cell_type": "code",
   "execution_count": 10,
   "id": "885484b2",
   "metadata": {},
   "outputs": [
    {
     "data": {
      "text/plain": [
       "0"
      ]
     },
     "execution_count": 10,
     "metadata": {},
     "output_type": "execute_result"
    }
   ],
   "source": [
    "data2.duplicated().sum()"
   ]
  },
  {
   "cell_type": "code",
   "execution_count": 11,
   "id": "d2b7351e",
   "metadata": {},
   "outputs": [
    {
     "data": {
      "text/plain": [
       "0"
      ]
     },
     "execution_count": 11,
     "metadata": {},
     "output_type": "execute_result"
    }
   ],
   "source": [
    "data3.duplicated().sum()"
   ]
  },
  {
   "cell_type": "markdown",
   "id": "e2fdb17f",
   "metadata": {},
   "source": [
    "**Вывод:**<br>\n",
    "Дубликаты устранены, столбец с датой привели к нужному формату и добавили столбец с номером месяца."
   ]
  },
  {
   "cell_type": "markdown",
   "id": "212593c7",
   "metadata": {},
   "source": [
    "#### Шаг 3. Исследовательский анализ данных"
   ]
  },
  {
   "cell_type": "code",
   "execution_count": 12,
   "id": "e3a4274c",
   "metadata": {},
   "outputs": [
    {
     "data": {
      "text/plain": [
       "Пятигорск         219\n",
       "Екатеринбург      204\n",
       "Ростов-на-Дону    198\n",
       "Краснодар         193\n",
       "Сочи              189\n",
       "Омск              183\n",
       "Тюмень            180\n",
       "Москва            168\n",
       "Name: city, dtype: int64"
      ]
     },
     "execution_count": 12,
     "metadata": {},
     "output_type": "execute_result"
    },
    {
     "data": {
      "image/png": "[encoded data removed]",
      "text/plain": [
       "<Figure size 432x288 with 1 Axes>"
      ]
     },
     "metadata": {
      "needs_background": "light"
     },
     "output_type": "display_data"
    }
   ],
   "source": [
    "data1['city'].value_counts().plot(kind='bar');\n",
    "plt.title('Количество пользователей в каждом городе');\n",
    "data1['city'].value_counts()"
   ]
  },
  {
   "cell_type": "markdown",
   "id": "a74cd69e",
   "metadata": {},
   "source": [
    "**Вывод:**<br>\n",
    "В представленной выборке больше всего пользователей находятся в городе Пятигорск, аж целых 219 человека. Примечательно, что город представленный меньше всех - Москва, всего 168 человек в выборке."
   ]
  },
  {
   "cell_type": "code",
   "execution_count": 13,
   "id": "6f52896e",
   "metadata": {},
   "outputs": [
    {
     "name": "stdout",
     "output_type": "stream",
     "text": [
      "Пользователей без подписки: 54.4%\n",
      "Пользователей c подпиской: 45.6%\n"
     ]
    },
    {
     "data": {
      "image/png": "[encoded data removed]",
      "text/plain": [
       "<Figure size 432x288 with 1 Axes>"
      ]
     },
     "metadata": {},
     "output_type": "display_data"
    }
   ],
   "source": [
    "data1['subscription_type'].value_counts().plot(kind='pie', autopct='%.1f%%');\n",
    "plt.title('Количество пользователей по категориям');\n",
    "print(f'Пользователей без подписки:', '54.4%')\n",
    "print(f'Пользователей c подпиской:', '45.6%')"
   ]
  },
  {
   "cell_type": "markdown",
   "id": "e73e414d",
   "metadata": {},
   "source": [
    "**Вывод:**<br>\n",
    "В представленной выборке пользователей без подписки больше, чем пользователей с подпиской почти на 10%. Соотношение 54.4% к 45.6%"
   ]
  },
  {
   "cell_type": "code",
   "execution_count": 14,
   "id": "39294820",
   "metadata": {},
   "outputs": [
    {
     "name": "stdout",
     "output_type": "stream",
     "text": [
      "Минимальный возраст пользователей: 12\n",
      "Максимальный возраст пользователей: 43\n"
     ]
    },
    {
     "data": {
      "image/png": "[encoded data removed]",
      "text/plain": [
       "<Figure size 720x360 with 1 Axes>"
      ]
     },
     "metadata": {
      "needs_background": "light"
     },
     "output_type": "display_data"
    }
   ],
   "source": [
    "data1['age'].hist (bins= 100, figsize = (10,5));\n",
    "plt.title('Количество пользователей по возрасту');\n",
    "plt.ylabel('Количество');\n",
    "plt.xlabel('Возраст');\n",
    "print(f'Минимальный возраст пользователей:', data1['age'].min())\n",
    "print(f'Максимальный возраст пользователей:', data1['age'].max())"
   ]
  },
  {
   "cell_type": "markdown",
   "id": "1099674e",
   "metadata": {},
   "source": [
    "**Вывод:**<br>\n",
    "В представленной выборке возраст пользователей распределен нормально с центром у значения - 25 лет (около 143 пользователей).<br>Разброс - от 12 до 43 лет. Представленные пользователи это молодые люди не старше 43 лет."
   ]
  },
  {
   "cell_type": "code",
   "execution_count": 15,
   "id": "ca690496",
   "metadata": {},
   "outputs": [
    {
     "data": {
      "text/plain": [
       "count    18068.000000\n",
       "mean      3070.659976\n",
       "std       1116.831209\n",
       "min          0.855683\n",
       "25%       2543.226360\n",
       "50%       3133.609994\n",
       "75%       3776.222735\n",
       "max       7211.007745\n",
       "Name: distance, dtype: float64"
      ]
     },
     "execution_count": 15,
     "metadata": {},
     "output_type": "execute_result"
    },
    {
     "data": {
      "image/png": "[encoded data removed]",
      "text/plain": [
       "<Figure size 720x360 with 1 Axes>"
      ]
     },
     "metadata": {
      "needs_background": "light"
     },
     "output_type": "display_data"
    }
   ],
   "source": [
    "data2['distance'].hist(bins=100, figsize = (10,5))\n",
    "plt.title('Расстояние поездок у пользователей');\n",
    "plt.xlabel('Расстояние, м.');\n",
    "data2['distance'].describe()"
   ]
  },
  {
   "cell_type": "markdown",
   "id": "5bf75c2d",
   "metadata": {},
   "source": [
    "**Вывод:**<br>\n",
    "В представленной выборке расстояние, которое пользователь преодолел за одну поездку, распределено близко к нормальному с центром у значения - 3133 метров (около 660 поездок из всех представленных). Минимальное преодоленное расстояние - 85 метров. Максимальное - 7211 метров. Межквартильный размах - от 2543 метров до 3776 метров, что говорит нам о том, что в основном пользователи предпочитали использовать самокат для преодоления средних дистанций."
   ]
  },
  {
   "cell_type": "code",
   "execution_count": 16,
   "id": "df6941f7",
   "metadata": {},
   "outputs": [
    {
     "data": {
      "text/plain": [
       "count    18068.000000\n",
       "mean        17.805011\n",
       "std          6.091051\n",
       "min          0.500000\n",
       "25%         13.597563\n",
       "50%         17.678395\n",
       "75%         21.724800\n",
       "max         40.823963\n",
       "Name: duration, dtype: float64"
      ]
     },
     "execution_count": 16,
     "metadata": {},
     "output_type": "execute_result"
    },
    {
     "data": {
      "image/png": "[encoded data removed]",
      "text/plain": [
       "<Figure size 720x360 with 1 Axes>"
      ]
     },
     "metadata": {
      "needs_background": "light"
     },
     "output_type": "display_data"
    }
   ],
   "source": [
    "data2['duration'].hist(bins=100, figsize = (10,5))\n",
    "plt.title('Продолжительность аренды у пользователей');\n",
    "plt.xlabel('Время, мин.');\n",
    "data2['duration'].describe()"
   ]
  },
  {
   "cell_type": "markdown",
   "id": "2eb6f3d7",
   "metadata": {},
   "source": [
    "**Вывод:**<br>\n",
    "Если отсечь значения близкие к нулю, около 100 наблюдений с продолжительностью поездки в 50 секунд (это могли быть поездки на очень короткие дистанции, либо человек передумал пользоваться самокатом), в представленной выборке продолжительность поездок распределена нормально с центром у значения - 17м 45с (чуть больше 500 поездок из представленных). Межквартильный разброс - от 13м 35с до 21м 40с. Максимальное время одной поездки - 40м 45с."
   ]
  },
  {
   "cell_type": "markdown",
   "id": "4ef51331",
   "metadata": {},
   "source": [
    "#### Шаг 4. Объединение данных"
   ]
  },
  {
   "cell_type": "code",
   "execution_count": 17,
   "id": "6bf288b5",
   "metadata": {},
   "outputs": [
    {
     "data": {
      "text/html": [
       "<div>\n",
       "<style scoped>\n",
       "    .dataframe tbody tr th:only-of-type {\n",
       "        vertical-align: middle;\n",
       "    }\n",
       "\n",
       "    .dataframe tbody tr th {\n",
       "        vertical-align: top;\n",
       "    }\n",
       "\n",
       "    .dataframe thead th {\n",
       "        text-align: right;\n",
       "    }\n",
       "</style>\n",
       "<table border=\"1\" class=\"dataframe\">\n",
       "  <thead>\n",
       "    <tr style=\"text-align: right;\">\n",
       "      <th></th>\n",
       "      <th>user_id</th>\n",
       "      <th>name</th>\n",
       "      <th>age</th>\n",
       "      <th>city</th>\n",
       "      <th>subscription_type</th>\n",
       "      <th>distance</th>\n",
       "      <th>duration</th>\n",
       "      <th>date</th>\n",
       "      <th>month</th>\n",
       "    </tr>\n",
       "  </thead>\n",
       "  <tbody>\n",
       "    <tr>\n",
       "      <th>0</th>\n",
       "      <td>1</td>\n",
       "      <td>Кира</td>\n",
       "      <td>22</td>\n",
       "      <td>Тюмень</td>\n",
       "      <td>ultra</td>\n",
       "      <td>4409.919140</td>\n",
       "      <td>25.599769</td>\n",
       "      <td>2021-01-01</td>\n",
       "      <td>1</td>\n",
       "    </tr>\n",
       "    <tr>\n",
       "      <th>1</th>\n",
       "      <td>1</td>\n",
       "      <td>Кира</td>\n",
       "      <td>22</td>\n",
       "      <td>Тюмень</td>\n",
       "      <td>ultra</td>\n",
       "      <td>2617.592153</td>\n",
       "      <td>15.816871</td>\n",
       "      <td>2021-01-18</td>\n",
       "      <td>1</td>\n",
       "    </tr>\n",
       "    <tr>\n",
       "      <th>2</th>\n",
       "      <td>1</td>\n",
       "      <td>Кира</td>\n",
       "      <td>22</td>\n",
       "      <td>Тюмень</td>\n",
       "      <td>ultra</td>\n",
       "      <td>754.159807</td>\n",
       "      <td>6.232113</td>\n",
       "      <td>2021-04-20</td>\n",
       "      <td>4</td>\n",
       "    </tr>\n",
       "    <tr>\n",
       "      <th>3</th>\n",
       "      <td>1</td>\n",
       "      <td>Кира</td>\n",
       "      <td>22</td>\n",
       "      <td>Тюмень</td>\n",
       "      <td>ultra</td>\n",
       "      <td>2694.783254</td>\n",
       "      <td>18.511000</td>\n",
       "      <td>2021-08-11</td>\n",
       "      <td>8</td>\n",
       "    </tr>\n",
       "    <tr>\n",
       "      <th>4</th>\n",
       "      <td>1</td>\n",
       "      <td>Кира</td>\n",
       "      <td>22</td>\n",
       "      <td>Тюмень</td>\n",
       "      <td>ultra</td>\n",
       "      <td>4028.687306</td>\n",
       "      <td>26.265803</td>\n",
       "      <td>2021-08-28</td>\n",
       "      <td>8</td>\n",
       "    </tr>\n",
       "    <tr>\n",
       "      <th>...</th>\n",
       "      <td>...</td>\n",
       "      <td>...</td>\n",
       "      <td>...</td>\n",
       "      <td>...</td>\n",
       "      <td>...</td>\n",
       "      <td>...</td>\n",
       "      <td>...</td>\n",
       "      <td>...</td>\n",
       "      <td>...</td>\n",
       "    </tr>\n",
       "    <tr>\n",
       "      <th>18063</th>\n",
       "      <td>1534</td>\n",
       "      <td>Альберт</td>\n",
       "      <td>25</td>\n",
       "      <td>Краснодар</td>\n",
       "      <td>free</td>\n",
       "      <td>3781.098080</td>\n",
       "      <td>19.822962</td>\n",
       "      <td>2021-11-04</td>\n",
       "      <td>11</td>\n",
       "    </tr>\n",
       "    <tr>\n",
       "      <th>18064</th>\n",
       "      <td>1534</td>\n",
       "      <td>Альберт</td>\n",
       "      <td>25</td>\n",
       "      <td>Краснодар</td>\n",
       "      <td>free</td>\n",
       "      <td>2840.423057</td>\n",
       "      <td>21.409799</td>\n",
       "      <td>2021-11-16</td>\n",
       "      <td>11</td>\n",
       "    </tr>\n",
       "    <tr>\n",
       "      <th>18065</th>\n",
       "      <td>1534</td>\n",
       "      <td>Альберт</td>\n",
       "      <td>25</td>\n",
       "      <td>Краснодар</td>\n",
       "      <td>free</td>\n",
       "      <td>3826.185507</td>\n",
       "      <td>18.435051</td>\n",
       "      <td>2021-11-18</td>\n",
       "      <td>11</td>\n",
       "    </tr>\n",
       "    <tr>\n",
       "      <th>18066</th>\n",
       "      <td>1534</td>\n",
       "      <td>Альберт</td>\n",
       "      <td>25</td>\n",
       "      <td>Краснодар</td>\n",
       "      <td>free</td>\n",
       "      <td>2902.308661</td>\n",
       "      <td>16.674362</td>\n",
       "      <td>2021-11-27</td>\n",
       "      <td>11</td>\n",
       "    </tr>\n",
       "    <tr>\n",
       "      <th>18067</th>\n",
       "      <td>1534</td>\n",
       "      <td>Альберт</td>\n",
       "      <td>25</td>\n",
       "      <td>Краснодар</td>\n",
       "      <td>free</td>\n",
       "      <td>2371.711192</td>\n",
       "      <td>15.893917</td>\n",
       "      <td>2021-12-29</td>\n",
       "      <td>12</td>\n",
       "    </tr>\n",
       "  </tbody>\n",
       "</table>\n",
       "<p>17973 rows × 9 columns</p>\n",
       "</div>"
      ],
      "text/plain": [
       "       user_id     name  age       city subscription_type     distance  \\\n",
       "0            1     Кира   22     Тюмень             ultra  4409.919140   \n",
       "1            1     Кира   22     Тюмень             ultra  2617.592153   \n",
       "2            1     Кира   22     Тюмень             ultra   754.159807   \n",
       "3            1     Кира   22     Тюмень             ultra  2694.783254   \n",
       "4            1     Кира   22     Тюмень             ultra  4028.687306   \n",
       "...        ...      ...  ...        ...               ...          ...   \n",
       "18063     1534  Альберт   25  Краснодар              free  3781.098080   \n",
       "18064     1534  Альберт   25  Краснодар              free  2840.423057   \n",
       "18065     1534  Альберт   25  Краснодар              free  3826.185507   \n",
       "18066     1534  Альберт   25  Краснодар              free  2902.308661   \n",
       "18067     1534  Альберт   25  Краснодар              free  2371.711192   \n",
       "\n",
       "        duration       date  month  \n",
       "0      25.599769 2021-01-01      1  \n",
       "1      15.816871 2021-01-18      1  \n",
       "2       6.232113 2021-04-20      4  \n",
       "3      18.511000 2021-08-11      8  \n",
       "4      26.265803 2021-08-28      8  \n",
       "...          ...        ...    ...  \n",
       "18063  19.822962 2021-11-04     11  \n",
       "18064  21.409799 2021-11-16     11  \n",
       "18065  18.435051 2021-11-18     11  \n",
       "18066  16.674362 2021-11-27     11  \n",
       "18067  15.893917 2021-12-29     12  \n",
       "\n",
       "[17973 rows x 9 columns]"
      ]
     },
     "execution_count": 17,
     "metadata": {},
     "output_type": "execute_result"
    }
   ],
   "source": [
    "data4=data1.merge(data2, on='user_id', how='left')\n",
    "data4=data4.query('duration > 1.0')\n",
    "data4"
   ]
  },
  {
   "cell_type": "code",
   "execution_count": 18,
   "id": "3e5d9504",
   "metadata": {},
   "outputs": [],
   "source": [
    "data5 = data4.loc[data4['subscription_type'] == 'ultra']\n",
    "data6 = data4.loc[data4['subscription_type'] == 'free']"
   ]
  },
  {
   "cell_type": "code",
   "execution_count": 19,
   "id": "19077282",
   "metadata": {},
   "outputs": [
    {
     "data": {
      "image/png": "[encoded data removed]",
      "text/plain": [
       "<Figure size 720x360 with 1 Axes>"
      ]
     },
     "metadata": {
      "needs_background": "light"
     },
     "output_type": "display_data"
    },
    {
     "data": {
      "image/png": "[encoded data removed]",
      "text/plain": [
       "<Figure size 720x360 with 1 Axes>"
      ]
     },
     "metadata": {
      "needs_background": "light"
     },
     "output_type": "display_data"
    }
   ],
   "source": [
    "data5['distance'].hist(bins=100, figsize = (10,5))\n",
    "plt.title('Расстояние поездок у пользователей, оформивших платную подписку');\n",
    "plt.xlabel('Расстояние, м.');\n",
    "plt.show()\n",
    "data5['duration'].hist(bins=100, figsize = (10,5))\n",
    "plt.title('Продолжительность поездок у пользователей, оформивших платную подписку');\n",
    "plt.xlabel('Время, мин.');"
   ]
  },
  {
   "cell_type": "markdown",
   "id": "34486251",
   "metadata": {},
   "source": [
    "**Вывод:**<br>\n",
    "Среднее расстояние у пользователей, оформивших платную подписку, - 3100 метров (почти 300 пользователей). Среднее время поездки - около 18 минут (чуть более 175 пользователей)."
   ]
  },
  {
   "cell_type": "code",
   "execution_count": 20,
   "id": "7f379292",
   "metadata": {},
   "outputs": [
    {
     "data": {
      "image/png": "[encoded data removed]",
      "text/plain": [
       "<Figure size 720x360 with 1 Axes>"
      ]
     },
     "metadata": {
      "needs_background": "light"
     },
     "output_type": "display_data"
    },
    {
     "data": {
      "image/png": "[encoded data removed]",
      "text/plain": [
       "<Figure size 720x360 with 1 Axes>"
      ]
     },
     "metadata": {
      "needs_background": "light"
     },
     "output_type": "display_data"
    }
   ],
   "source": [
    "data6['distance'].hist(bins=100, figsize = (10,5))\n",
    "plt.title('Расстояние поездок у пользователей, не оформлявших платную подписку');\n",
    "plt.xlabel('Расстояние, м.');\n",
    "plt.show()\n",
    "data6['duration'].hist(bins=100, figsize = (10,5))\n",
    "plt.title('Продолжительность поездок у пользователей, не оформлявших платную подписку');\n",
    "plt.xlabel('Время, мин.');"
   ]
  },
  {
   "cell_type": "markdown",
   "id": "d6f7e0d1",
   "metadata": {},
   "source": [
    "**Вывод:**<br>\n",
    "Среднее расстояние у пользователей, не оформлявших платную подписку, - 3000 метров (почти 300 пользователей). Среднее время поездки - около 17-18 минут (чуть более 175 пользователей)."
   ]
  },
  {
   "cell_type": "markdown",
   "id": "487b8191",
   "metadata": {},
   "source": [
    "**Общий вывод:**<br>\n",
    "Данные на графиках распределены приблизительно одинаково, что у пользователей оформивших подписку, что у пользователей без подписки."
   ]
  },
  {
   "cell_type": "markdown",
   "id": "402d620f",
   "metadata": {},
   "source": [
    "#### Шаг 5. Подсчёт выручки"
   ]
  },
  {
   "cell_type": "code",
   "execution_count": 21,
   "id": "53049e0a",
   "metadata": {},
   "outputs": [],
   "source": [
    "data4_pivot = data4.pivot_table(index=['user_id', 'month'],\n",
    "                  values=['distance', 'duration', 'name', 'subscription_type'],\n",
    "                  aggfunc={'distance':'sum', 'duration':'sum', 'name':'count', 'subscription_type': 'min'})\n",
    "data4_pivot.columns = ['total_distance', 'total_duration', 'trip_count', 'subscription_type']"
   ]
  },
  {
   "cell_type": "code",
   "execution_count": 22,
   "id": "14293453",
   "metadata": {},
   "outputs": [],
   "source": [
    "data4_pivot['total_duration'] = round(data4_pivot['total_duration'], 0)"
   ]
  },
  {
   "cell_type": "code",
   "execution_count": 23,
   "id": "a2bf31d0",
   "metadata": {},
   "outputs": [],
   "source": [
    "def money(row):\n",
    "    total_distance = row['total_distance']\n",
    "    total_duration = row['total_duration']\n",
    "    trip_count = row['trip_count']\n",
    "    subscription_type = row['subscription_type']\n",
    "   \n",
    "    if subscription_type == 'ultra':\n",
    "        return total_duration * 6 + 199\n",
    "    if subscription_type == 'free':\n",
    "        return total_duration * 8 + trip_count * 50"
   ]
  },
  {
   "cell_type": "code",
   "execution_count": 24,
   "id": "d4251bbe",
   "metadata": {},
   "outputs": [],
   "source": [
    "data4_pivot['money'] = data4_pivot.apply(money, axis=1)"
   ]
  },
  {
   "cell_type": "code",
   "execution_count": 25,
   "id": "26329aaa",
   "metadata": {},
   "outputs": [
    {
     "data": {
      "text/html": [
       "<div>\n",
       "<style scoped>\n",
       "    .dataframe tbody tr th:only-of-type {\n",
       "        vertical-align: middle;\n",
       "    }\n",
       "\n",
       "    .dataframe tbody tr th {\n",
       "        vertical-align: top;\n",
       "    }\n",
       "\n",
       "    .dataframe thead th {\n",
       "        text-align: right;\n",
       "    }\n",
       "</style>\n",
       "<table border=\"1\" class=\"dataframe\">\n",
       "  <thead>\n",
       "    <tr style=\"text-align: right;\">\n",
       "      <th></th>\n",
       "      <th></th>\n",
       "      <th>total_distance</th>\n",
       "      <th>total_duration</th>\n",
       "      <th>trip_count</th>\n",
       "      <th>subscription_type</th>\n",
       "      <th>money</th>\n",
       "    </tr>\n",
       "    <tr>\n",
       "      <th>user_id</th>\n",
       "      <th>month</th>\n",
       "      <th></th>\n",
       "      <th></th>\n",
       "      <th></th>\n",
       "      <th></th>\n",
       "      <th></th>\n",
       "    </tr>\n",
       "  </thead>\n",
       "  <tbody>\n",
       "    <tr>\n",
       "      <th rowspan=\"5\" valign=\"top\">1</th>\n",
       "      <th>1</th>\n",
       "      <td>7027.511294</td>\n",
       "      <td>41.0</td>\n",
       "      <td>2</td>\n",
       "      <td>ultra</td>\n",
       "      <td>445.0</td>\n",
       "    </tr>\n",
       "    <tr>\n",
       "      <th>4</th>\n",
       "      <td>754.159807</td>\n",
       "      <td>6.0</td>\n",
       "      <td>1</td>\n",
       "      <td>ultra</td>\n",
       "      <td>235.0</td>\n",
       "    </tr>\n",
       "    <tr>\n",
       "      <th>8</th>\n",
       "      <td>6723.470560</td>\n",
       "      <td>45.0</td>\n",
       "      <td>2</td>\n",
       "      <td>ultra</td>\n",
       "      <td>469.0</td>\n",
       "    </tr>\n",
       "    <tr>\n",
       "      <th>10</th>\n",
       "      <td>5809.911100</td>\n",
       "      <td>32.0</td>\n",
       "      <td>2</td>\n",
       "      <td>ultra</td>\n",
       "      <td>391.0</td>\n",
       "    </tr>\n",
       "    <tr>\n",
       "      <th>11</th>\n",
       "      <td>7003.499363</td>\n",
       "      <td>53.0</td>\n",
       "      <td>3</td>\n",
       "      <td>ultra</td>\n",
       "      <td>517.0</td>\n",
       "    </tr>\n",
       "    <tr>\n",
       "      <th>...</th>\n",
       "      <th>...</th>\n",
       "      <td>...</td>\n",
       "      <td>...</td>\n",
       "      <td>...</td>\n",
       "      <td>...</td>\n",
       "      <td>...</td>\n",
       "    </tr>\n",
       "    <tr>\n",
       "      <th rowspan=\"5\" valign=\"top\">1534</th>\n",
       "      <th>6</th>\n",
       "      <td>3409.468534</td>\n",
       "      <td>25.0</td>\n",
       "      <td>2</td>\n",
       "      <td>free</td>\n",
       "      <td>300.0</td>\n",
       "    </tr>\n",
       "    <tr>\n",
       "      <th>8</th>\n",
       "      <td>7622.453034</td>\n",
       "      <td>47.0</td>\n",
       "      <td>2</td>\n",
       "      <td>free</td>\n",
       "      <td>476.0</td>\n",
       "    </tr>\n",
       "    <tr>\n",
       "      <th>9</th>\n",
       "      <td>4928.173852</td>\n",
       "      <td>23.0</td>\n",
       "      <td>1</td>\n",
       "      <td>free</td>\n",
       "      <td>234.0</td>\n",
       "    </tr>\n",
       "    <tr>\n",
       "      <th>11</th>\n",
       "      <td>13350.015305</td>\n",
       "      <td>76.0</td>\n",
       "      <td>4</td>\n",
       "      <td>free</td>\n",
       "      <td>808.0</td>\n",
       "    </tr>\n",
       "    <tr>\n",
       "      <th>12</th>\n",
       "      <td>2371.711192</td>\n",
       "      <td>16.0</td>\n",
       "      <td>1</td>\n",
       "      <td>free</td>\n",
       "      <td>178.0</td>\n",
       "    </tr>\n",
       "  </tbody>\n",
       "</table>\n",
       "<p>11300 rows × 5 columns</p>\n",
       "</div>"
      ],
      "text/plain": [
       "               total_distance  total_duration  trip_count subscription_type  \\\n",
       "user_id month                                                                 \n",
       "1       1         7027.511294            41.0           2             ultra   \n",
       "        4          754.159807             6.0           1             ultra   \n",
       "        8         6723.470560            45.0           2             ultra   \n",
       "        10        5809.911100            32.0           2             ultra   \n",
       "        11        7003.499363            53.0           3             ultra   \n",
       "...                       ...             ...         ...               ...   \n",
       "1534    6         3409.468534            25.0           2              free   \n",
       "        8         7622.453034            47.0           2              free   \n",
       "        9         4928.173852            23.0           1              free   \n",
       "        11       13350.015305            76.0           4              free   \n",
       "        12        2371.711192            16.0           1              free   \n",
       "\n",
       "               money  \n",
       "user_id month         \n",
       "1       1      445.0  \n",
       "        4      235.0  \n",
       "        8      469.0  \n",
       "        10     391.0  \n",
       "        11     517.0  \n",
       "...              ...  \n",
       "1534    6      300.0  \n",
       "        8      476.0  \n",
       "        9      234.0  \n",
       "        11     808.0  \n",
       "        12     178.0  \n",
       "\n",
       "[11300 rows x 5 columns]"
      ]
     },
     "execution_count": 25,
     "metadata": {},
     "output_type": "execute_result"
    }
   ],
   "source": [
    "data4_pivot"
   ]
  },
  {
   "cell_type": "markdown",
   "id": "41545ac0",
   "metadata": {},
   "source": [
    "#### Шаг 6. Проверка гипотез"
   ]
  },
  {
   "cell_type": "markdown",
   "id": "4e665c7c",
   "metadata": {},
   "source": [
    "*Тратят ли пользователи с подпиской больше времени на поездки?* <br>\n",
    "Проверим гипотезы, что <br>\n",
    "H0 : μ1 = μ2   и    H1 : μ1 > μ2,   где μ1 - пользователи с подпиской, а μ2 - пользователи без подписки"
   ]
  },
  {
   "cell_type": "code",
   "execution_count": 27,
   "id": "23ea867b",
   "metadata": {},
   "outputs": [
    {
     "name": "stdout",
     "output_type": "stream",
     "text": [
      "p-значение: 4.704468074453899e-28\n",
      "Отвергаем нулевую гипотезу\n"
     ]
    }
   ],
   "source": [
    "alpha = 0.05\n",
    "results = st.ttest_ind(data5['duration'], data6['duration'], alternative = 'greater')\n",
    "print('p-значение:', results.pvalue)\n",
    "if results.pvalue < alpha:\n",
    "    print('Отвергаем нулевую гипотезу')\n",
    "else:\n",
    "    print('Не получилось отвергнуть нулевую гипотезу')"
   ]
  },
  {
   "cell_type": "code",
   "execution_count": 28,
   "id": "c09560ec",
   "metadata": {},
   "outputs": [
    {
     "name": "stdout",
     "output_type": "stream",
     "text": [
      "\n",
      "Средняя продолжительность аренды у пользователей с подпиской: 18.54 минут, а у пользователей без подписки 17.53 минут\n",
      "\n",
      "В среднем пользователи с подпиской арендуют самокат на 1.01 минут больше, чем пользователи без подписки\n"
     ]
    }
   ],
   "source": [
    "print()    \n",
    "print('Средняя продолжительность аренды у пользователей с подпиской:',\n",
    "      round(data5['duration'].mean(), 2), 'минут, а у пользователей без подписки',\n",
    "      round(data6['duration'].mean(), 2), 'минут')\n",
    "print()\n",
    "print('В среднем пользователи с подпиской арендуют самокат на',\n",
    "      round(round(data5['duration'].mean(), 2) - round(data6['duration'].mean(), 2), 2),\n",
    "      'минут больше, чем пользователи без подписки')"
   ]
  },
  {
   "cell_type": "markdown",
   "id": "20cd365c",
   "metadata": {},
   "source": [
    "*Можно ли сказать, что расстояние, которое проезжают пользователи с подпиской за одну поездку, не превышает \n",
    "3130 метров?*<br>\n",
    "Проверим гипотезы, что <br>\n",
    "H0 : μ1 = 3130   и    H1 : μ1 < 3130,   где μ1 - пользователи с подпиской"
   ]
  },
  {
   "cell_type": "code",
   "execution_count": 29,
   "id": "97a614fc",
   "metadata": {},
   "outputs": [
    {
     "name": "stdout",
     "output_type": "stream",
     "text": [
      "p-значение: 0.08046311521502146\n",
      "Не отвергаем нулевую гипотезу\n",
      "\n",
      "В среднем платные пользователи проезжают 3115.45 метров\n"
     ]
    }
   ],
   "source": [
    "optimal_distance = 3130\n",
    "alpha = 0.05\n",
    "results = st.ttest_1samp(\n",
    "    data5['distance'],\n",
    "    optimal_distance,\n",
    "    alternative='less')\n",
    "print('p-значение:', results.pvalue)\n",
    "if (results.pvalue < alpha):\n",
    "    print('Отвергаем нулевую гипотезу')\n",
    "else:\n",
    "    print('Не отвергаем нулевую гипотезу')\n",
    "print()\n",
    "print('В среднем платные пользователи проезжают', round(data5['distance'].mean(),2), 'метров')"
   ]
  },
  {
   "cell_type": "markdown",
   "id": "c4c1a24c",
   "metadata": {},
   "source": [
    "**Вывод:**<br>\n",
    "Пользователи оформившие подписку в среднем проезжают 3115.45 метров, что ниже оптимального с точки зрения износа самоката расстояния в 3130 метров. Однако, разница не значительная и мы не можем отвергнуть гипотезу."
   ]
  },
  {
   "cell_type": "markdown",
   "id": "69bb8eba",
   "metadata": {},
   "source": [
    "*Будет ли помесячная выручка от пользователей с подпиской по месяцам выше, чем выручка от пользователей без подписки?*<br>\n",
    "Проверим гипотезы, что <br>\n",
    "H0 : μ1 = μ2   и    H1 : μ1 > μ2,   где μ1 - пользователи с подпиской, а μ2 - пользователи без подписки"
   ]
  },
  {
   "cell_type": "code",
   "execution_count": 30,
   "id": "bffea393",
   "metadata": {},
   "outputs": [
    {
     "name": "stdout",
     "output_type": "stream",
     "text": [
      "p-значение: 1.2192607127486412e-45\n",
      "Отвергаем нулевую гипотезу\n",
      "\n",
      "В среднем в месяц пользователи с подпиской тратят на аренду самокатов 358.54 руб , а пользователи без подписки 322.52 руб\n",
      "\n",
      "В среднем пользователи с подпиской приносят компании на 36.02 руб больше, чем пользователи без платной подписки\n"
     ]
    }
   ],
   "source": [
    "ultra = data4_pivot.query('subscription_type == \"ultra\"')\n",
    "free = data4_pivot.query('subscription_type == \"free\"')\n",
    "alpha = 0.05\n",
    "results = st.ttest_ind(ultra['money'],free['money'], equal_var=False, alternative = 'greater')\n",
    "print('p-значение:', results.pvalue)\n",
    "if results.pvalue < alpha:\n",
    "    print('Отвергаем нулевую гипотезу')\n",
    "else:\n",
    "    print('Не получилось отвергнуть нулевую гипотезу')\n",
    "print()\n",
    "print('В среднем в месяц пользователи с подпиской тратят на аренду самокатов',\n",
    "      round(ultra['money'].mean(), 2), 'руб',\n",
    "      ', а пользователи без подписки', round(free['money'].mean(), 2), 'руб')\n",
    "print()\n",
    "print('В среднем пользователи с подпиской приносят компании на',\n",
    "      round(round(ultra['money'].mean(), 2) - round(free['money'].mean(),2),2),\n",
    "      'руб больше, чем пользователи без платной подписки')"
   ]
  },
  {
   "cell_type": "markdown",
   "id": "c8202e96",
   "metadata": {},
   "source": [
    "*Задача 6.4.* Комментарий:\n",
    "<br> Для решения подобной задачи подойдет проверка гипотезы о равенстве средних для зависимых (парных) выборок, поскольку исходный датафрейм (генеральная совокупность) не изменился количественно (количество пользователей осталось прежним), но изменился качественно (появились данные о количестве обращений до и после обновления).\n",
    "Решить такую задачу можно методом scipy.stats.ttest_rel()"
   ]
  },
  {
   "cell_type": "markdown",
   "id": "dc79c2a3",
   "metadata": {},
   "source": [
    "**Вывод:**<br>\n",
    "*Пункт 1:* В среднем пользователи с подпиской арендуют самокат на 1.01 минут больше, чем пользователи без подписки, следовательно они тратят больше времени на аренду самоката.\n",
    "<br>*Пункт 2:* Пользователи оформившие подписку в среднем проезжают 3115.45 метров, что ниже оптимального с точки зрения износа самоката расстояния в 3130 метров. Однако, разница не значительная и мы не можем отвергнуть гипотезу.\n",
    "<br>*Пункт 3:* В среднем пользователи с подпиской приносят компании на 36.02 руб больше, чем пользователи без платной подписки.<br>"
   ]
  },
  {
   "cell_type": "markdown",
   "id": "5b79cf28",
   "metadata": {},
   "source": [
    "**Общий Вывод:** <br>\n",
    "Можно с уверенностью сделать вывод, что пользователи с подпиской более рентабельны и выгодны для компании, чем пользователи без подписки.\n",
    "По статистике, средний пользователь выглядит так: он из города Пятигорск, без подписки, средний возраст - 25 лет, в среднем проежает на самокате 3000м., с арендой по времени в 17 м 45 сек."
   ]
  }
 ],
 "metadata": {
  "ExecuteTimeLog": [
   {
    "duration": 1763,
    "start_time": "2023-06-02T11:15:10.860Z"
   },
   {
    "duration": 112,
    "start_time": "2023-06-02T11:16:37.987Z"
   },
   {
    "duration": 111,
    "start_time": "2023-06-02T11:16:40.866Z"
   },
   {
    "duration": 82,
    "start_time": "2023-06-02T11:16:43.322Z"
   },
   {
    "duration": 9,
    "start_time": "2023-06-02T11:19:31.196Z"
   },
   {
    "duration": 6,
    "start_time": "2023-06-02T11:20:51.507Z"
   },
   {
    "duration": 8,
    "start_time": "2023-06-02T11:26:44.783Z"
   },
   {
    "duration": 48,
    "start_time": "2023-06-02T11:27:12.392Z"
   },
   {
    "duration": 3,
    "start_time": "2023-06-02T11:27:17.405Z"
   },
   {
    "duration": 68,
    "start_time": "2023-06-02T11:27:17.411Z"
   },
   {
    "duration": 48,
    "start_time": "2023-06-02T11:27:17.481Z"
   },
   {
    "duration": 32,
    "start_time": "2023-06-02T11:27:17.542Z"
   },
   {
    "duration": 9,
    "start_time": "2023-06-02T11:27:17.576Z"
   },
   {
    "duration": 9,
    "start_time": "2023-06-02T11:27:17.587Z"
   },
   {
    "duration": 8,
    "start_time": "2023-06-02T11:27:17.598Z"
   },
   {
    "duration": 6,
    "start_time": "2023-06-02T11:27:43.665Z"
   },
   {
    "duration": 9,
    "start_time": "2023-06-02T11:27:47.105Z"
   },
   {
    "duration": 10,
    "start_time": "2023-06-02T11:27:55.790Z"
   },
   {
    "duration": 5,
    "start_time": "2023-06-02T11:28:02.347Z"
   },
   {
    "duration": 13,
    "start_time": "2023-06-02T11:29:23.702Z"
   },
   {
    "duration": 5,
    "start_time": "2023-06-02T11:29:24.745Z"
   },
   {
    "duration": 7,
    "start_time": "2023-06-02T11:29:25.176Z"
   },
   {
    "duration": 5,
    "start_time": "2023-06-02T11:29:25.683Z"
   },
   {
    "duration": 9,
    "start_time": "2023-06-02T11:29:26.571Z"
   },
   {
    "duration": 4,
    "start_time": "2023-06-02T11:29:31.353Z"
   },
   {
    "duration": 218,
    "start_time": "2023-06-02T11:29:31.359Z"
   },
   {
    "duration": 93,
    "start_time": "2023-06-02T11:29:31.579Z"
   },
   {
    "duration": 39,
    "start_time": "2023-06-02T11:29:31.674Z"
   },
   {
    "duration": 42,
    "start_time": "2023-06-02T11:29:31.716Z"
   },
   {
    "duration": 50,
    "start_time": "2023-06-02T11:29:31.760Z"
   },
   {
    "duration": 20,
    "start_time": "2023-06-02T11:29:31.812Z"
   },
   {
    "duration": 45,
    "start_time": "2023-06-02T11:29:31.834Z"
   },
   {
    "duration": 29,
    "start_time": "2023-06-02T11:29:31.881Z"
   },
   {
    "duration": 12,
    "start_time": "2023-06-02T11:29:31.912Z"
   },
   {
    "duration": 183,
    "start_time": "2023-06-02T11:29:31.926Z"
   },
   {
    "duration": 100,
    "start_time": "2023-06-02T11:30:09.496Z"
   },
   {
    "duration": 294,
    "start_time": "2023-06-02T11:30:58.495Z"
   },
   {
    "duration": 284,
    "start_time": "2023-06-02T11:31:11.749Z"
   },
   {
    "duration": 290,
    "start_time": "2023-06-02T11:31:37.242Z"
   },
   {
    "duration": 7,
    "start_time": "2023-06-02T11:40:59.847Z"
   },
   {
    "duration": 180,
    "start_time": "2023-06-02T11:42:09.844Z"
   },
   {
    "duration": 5,
    "start_time": "2023-06-02T11:51:46.882Z"
   },
   {
    "duration": 4,
    "start_time": "2023-06-02T11:51:53.881Z"
   },
   {
    "duration": 271,
    "start_time": "2023-06-02T11:53:56.200Z"
   },
   {
    "duration": 106,
    "start_time": "2023-06-02T11:55:13.461Z"
   },
   {
    "duration": 50,
    "start_time": "2023-06-02T11:57:34.984Z"
   },
   {
    "duration": 278,
    "start_time": "2023-06-02T11:57:54.435Z"
   },
   {
    "duration": 263,
    "start_time": "2023-06-02T11:58:13.170Z"
   },
   {
    "duration": 272,
    "start_time": "2023-06-02T11:58:49.457Z"
   },
   {
    "duration": 293,
    "start_time": "2023-06-02T11:58:54.757Z"
   },
   {
    "duration": 30,
    "start_time": "2023-06-02T12:24:10.170Z"
   },
   {
    "duration": 11,
    "start_time": "2023-06-02T12:25:32.774Z"
   },
   {
    "duration": 12,
    "start_time": "2023-06-02T12:25:49.286Z"
   },
   {
    "duration": 715,
    "start_time": "2023-06-02T12:26:19.024Z"
   },
   {
    "duration": 557,
    "start_time": "2023-06-02T12:26:28.982Z"
   },
   {
    "duration": 863,
    "start_time": "2023-06-02T12:53:40.008Z"
   },
   {
    "duration": 28,
    "start_time": "2023-06-02T13:03:19.903Z"
   },
   {
    "duration": 37,
    "start_time": "2023-06-02T13:06:04.851Z"
   },
   {
    "duration": 34,
    "start_time": "2023-06-02T13:06:12.788Z"
   },
   {
    "duration": 4,
    "start_time": "2023-06-02T13:07:00.672Z"
   },
   {
    "duration": 111,
    "start_time": "2023-06-02T13:07:00.678Z"
   },
   {
    "duration": 59,
    "start_time": "2023-06-02T13:07:00.791Z"
   },
   {
    "duration": 38,
    "start_time": "2023-06-02T13:07:00.852Z"
   },
   {
    "duration": 17,
    "start_time": "2023-06-02T13:07:00.892Z"
   },
   {
    "duration": 51,
    "start_time": "2023-06-02T13:07:00.911Z"
   },
   {
    "duration": 37,
    "start_time": "2023-06-02T13:07:00.964Z"
   },
   {
    "duration": 32,
    "start_time": "2023-06-02T13:07:01.003Z"
   },
   {
    "duration": 45,
    "start_time": "2023-06-02T13:07:01.037Z"
   },
   {
    "duration": 32,
    "start_time": "2023-06-02T13:07:01.084Z"
   },
   {
    "duration": 212,
    "start_time": "2023-06-02T13:07:01.119Z"
   },
   {
    "duration": 126,
    "start_time": "2023-06-02T13:07:01.333Z"
   },
   {
    "duration": 345,
    "start_time": "2023-06-02T13:07:01.461Z"
   },
   {
    "duration": 396,
    "start_time": "2023-06-02T13:07:01.808Z"
   },
   {
    "duration": 379,
    "start_time": "2023-06-02T13:07:02.207Z"
   },
   {
    "duration": 59,
    "start_time": "2023-06-02T13:07:02.589Z"
   },
   {
    "duration": 20,
    "start_time": "2023-06-02T13:07:02.651Z"
   },
   {
    "duration": 831,
    "start_time": "2023-06-02T13:07:02.673Z"
   },
   {
    "duration": 672,
    "start_time": "2023-06-02T13:07:03.506Z"
   },
   {
    "duration": 27,
    "start_time": "2023-06-02T13:07:04.181Z"
   },
   {
    "duration": 4,
    "start_time": "2023-06-02T13:09:30.571Z"
   },
   {
    "duration": 126,
    "start_time": "2023-06-02T13:09:30.577Z"
   },
   {
    "duration": 47,
    "start_time": "2023-06-02T13:09:30.704Z"
   },
   {
    "duration": 35,
    "start_time": "2023-06-02T13:09:30.754Z"
   },
   {
    "duration": 15,
    "start_time": "2023-06-02T13:09:30.791Z"
   },
   {
    "duration": 50,
    "start_time": "2023-06-02T13:09:30.809Z"
   },
   {
    "duration": 51,
    "start_time": "2023-06-02T13:09:30.862Z"
   },
   {
    "duration": 36,
    "start_time": "2023-06-02T13:09:30.916Z"
   },
   {
    "duration": 63,
    "start_time": "2023-06-02T13:09:30.954Z"
   },
   {
    "duration": 38,
    "start_time": "2023-06-02T13:09:31.019Z"
   },
   {
    "duration": 218,
    "start_time": "2023-06-02T13:09:31.059Z"
   },
   {
    "duration": 100,
    "start_time": "2023-06-02T13:09:31.279Z"
   },
   {
    "duration": 296,
    "start_time": "2023-06-02T13:09:31.381Z"
   },
   {
    "duration": 457,
    "start_time": "2023-06-02T13:09:31.681Z"
   },
   {
    "duration": 308,
    "start_time": "2023-06-02T13:09:32.142Z"
   },
   {
    "duration": 31,
    "start_time": "2023-06-02T13:09:32.453Z"
   },
   {
    "duration": 9,
    "start_time": "2023-06-02T13:09:32.486Z"
   },
   {
    "duration": 612,
    "start_time": "2023-06-02T13:09:32.497Z"
   },
   {
    "duration": 580,
    "start_time": "2023-06-02T13:09:33.112Z"
   },
   {
    "duration": 12,
    "start_time": "2023-06-02T13:09:33.694Z"
   },
   {
    "duration": 911,
    "start_time": "2023-06-02T13:13:34.753Z"
   },
   {
    "duration": 17,
    "start_time": "2023-06-02T13:14:43.651Z"
   },
   {
    "duration": 1158,
    "start_time": "2023-06-02T13:15:31.044Z"
   },
   {
    "duration": 4,
    "start_time": "2023-06-02T13:15:35.189Z"
   },
   {
    "duration": 4,
    "start_time": "2023-06-02T13:16:01.876Z"
   },
   {
    "duration": 234,
    "start_time": "2023-06-02T13:16:12.056Z"
   },
   {
    "duration": 21,
    "start_time": "2023-06-02T13:17:30.558Z"
   },
   {
    "duration": 4,
    "start_time": "2023-06-02T13:17:38.202Z"
   },
   {
    "duration": 91,
    "start_time": "2023-06-02T13:17:38.209Z"
   },
   {
    "duration": 66,
    "start_time": "2023-06-02T13:17:38.302Z"
   },
   {
    "duration": 43,
    "start_time": "2023-06-02T13:17:38.370Z"
   },
   {
    "duration": 11,
    "start_time": "2023-06-02T13:17:38.416Z"
   },
   {
    "duration": 9,
    "start_time": "2023-06-02T13:17:38.442Z"
   },
   {
    "duration": 12,
    "start_time": "2023-06-02T13:17:38.453Z"
   },
   {
    "duration": 19,
    "start_time": "2023-06-02T13:17:38.468Z"
   },
   {
    "duration": 19,
    "start_time": "2023-06-02T13:17:38.489Z"
   },
   {
    "duration": 13,
    "start_time": "2023-06-02T13:17:38.511Z"
   },
   {
    "duration": 191,
    "start_time": "2023-06-02T13:17:38.526Z"
   },
   {
    "duration": 134,
    "start_time": "2023-06-02T13:17:38.720Z"
   },
   {
    "duration": 329,
    "start_time": "2023-06-02T13:17:38.857Z"
   },
   {
    "duration": 384,
    "start_time": "2023-06-02T13:17:39.190Z"
   },
   {
    "duration": 377,
    "start_time": "2023-06-02T13:17:39.576Z"
   },
   {
    "duration": 30,
    "start_time": "2023-06-02T13:17:39.955Z"
   },
   {
    "duration": 9,
    "start_time": "2023-06-02T13:17:39.988Z"
   },
   {
    "duration": 749,
    "start_time": "2023-06-02T13:17:39.999Z"
   },
   {
    "duration": 598,
    "start_time": "2023-06-02T13:17:40.750Z"
   },
   {
    "duration": 931,
    "start_time": "2023-06-02T13:17:41.351Z"
   },
   {
    "duration": 12,
    "start_time": "2023-06-02T13:17:42.285Z"
   },
   {
    "duration": 38,
    "start_time": "2023-06-02T13:17:42.301Z"
   },
   {
    "duration": 242,
    "start_time": "2023-06-02T13:17:42.342Z"
   },
   {
    "duration": 33,
    "start_time": "2023-06-02T13:17:42.586Z"
   },
   {
    "duration": 4,
    "start_time": "2023-06-02T13:25:44.193Z"
   },
   {
    "duration": 7,
    "start_time": "2023-06-02T13:25:47.650Z"
   },
   {
    "duration": 9,
    "start_time": "2023-06-02T13:26:15.673Z"
   },
   {
    "duration": 11,
    "start_time": "2023-06-02T13:29:55.126Z"
   },
   {
    "duration": 20,
    "start_time": "2023-06-02T13:33:47.756Z"
   },
   {
    "duration": 1054,
    "start_time": "2023-06-04T11:04:17.408Z"
   },
   {
    "duration": 48,
    "start_time": "2023-06-04T11:04:18.464Z"
   },
   {
    "duration": 44,
    "start_time": "2023-06-04T11:04:18.513Z"
   },
   {
    "duration": 27,
    "start_time": "2023-06-04T11:04:18.559Z"
   },
   {
    "duration": 31,
    "start_time": "2023-06-04T11:04:18.588Z"
   },
   {
    "duration": 39,
    "start_time": "2023-06-04T11:04:18.620Z"
   },
   {
    "duration": 21,
    "start_time": "2023-06-04T11:04:18.661Z"
   },
   {
    "duration": 21,
    "start_time": "2023-06-04T11:04:18.683Z"
   },
   {
    "duration": 28,
    "start_time": "2023-06-04T11:04:18.707Z"
   },
   {
    "duration": 36,
    "start_time": "2023-06-04T11:04:18.737Z"
   },
   {
    "duration": 145,
    "start_time": "2023-06-04T11:04:18.774Z"
   },
   {
    "duration": 68,
    "start_time": "2023-06-04T11:04:18.924Z"
   },
   {
    "duration": 230,
    "start_time": "2023-06-04T11:04:18.994Z"
   },
   {
    "duration": 250,
    "start_time": "2023-06-04T11:04:19.227Z"
   },
   {
    "duration": 252,
    "start_time": "2023-06-04T11:04:19.478Z"
   },
   {
    "duration": 29,
    "start_time": "2023-06-04T11:04:19.732Z"
   },
   {
    "duration": 12,
    "start_time": "2023-06-04T11:04:19.774Z"
   },
   {
    "duration": 531,
    "start_time": "2023-06-04T11:04:19.787Z"
   },
   {
    "duration": 463,
    "start_time": "2023-06-04T11:04:20.319Z"
   },
   {
    "duration": 807,
    "start_time": "2023-06-04T11:04:20.783Z"
   },
   {
    "duration": 3,
    "start_time": "2023-06-04T11:04:21.592Z"
   },
   {
    "duration": 9,
    "start_time": "2023-06-04T11:04:21.597Z"
   },
   {
    "duration": 158,
    "start_time": "2023-06-04T11:04:21.608Z"
   },
   {
    "duration": 20,
    "start_time": "2023-06-04T11:04:21.768Z"
   },
   {
    "duration": 5,
    "start_time": "2023-06-04T11:04:21.790Z"
   },
   {
    "duration": 17,
    "start_time": "2023-06-04T11:04:21.797Z"
   },
   {
    "duration": 12,
    "start_time": "2023-06-04T11:04:21.824Z"
   },
   {
    "duration": 25,
    "start_time": "2023-06-04T11:04:21.838Z"
   },
   {
    "duration": 5,
    "start_time": "2023-06-04T11:19:30.110Z"
   },
   {
    "duration": 6,
    "start_time": "2023-06-04T11:19:44.266Z"
   },
   {
    "duration": 117,
    "start_time": "2023-06-05T06:35:49.275Z"
   },
   {
    "duration": 110,
    "start_time": "2023-06-05T06:36:12.654Z"
   },
   {
    "duration": 112,
    "start_time": "2023-06-05T06:36:22.704Z"
   },
   {
    "duration": 81,
    "start_time": "2023-06-05T06:36:46.062Z"
   },
   {
    "duration": 86,
    "start_time": "2023-06-05T06:37:19.152Z"
   },
   {
    "duration": 101,
    "start_time": "2023-06-05T06:37:37.540Z"
   },
   {
    "duration": 3,
    "start_time": "2023-06-05T06:41:02.947Z"
   },
   {
    "duration": 76,
    "start_time": "2023-06-05T06:42:06.775Z"
   },
   {
    "duration": 110,
    "start_time": "2023-06-05T06:47:32.746Z"
   },
   {
    "duration": 50,
    "start_time": "2023-06-05T06:55:19.670Z"
   },
   {
    "duration": 1297,
    "start_time": "2023-06-05T06:55:45.011Z"
   },
   {
    "duration": 118,
    "start_time": "2023-06-05T06:55:46.310Z"
   },
   {
    "duration": 179,
    "start_time": "2023-06-05T06:55:46.430Z"
   },
   {
    "duration": 72,
    "start_time": "2023-06-05T06:55:46.610Z"
   },
   {
    "duration": 10,
    "start_time": "2023-06-05T06:55:46.685Z"
   },
   {
    "duration": 26,
    "start_time": "2023-06-05T06:55:46.696Z"
   },
   {
    "duration": 9,
    "start_time": "2023-06-05T06:55:46.724Z"
   },
   {
    "duration": 5,
    "start_time": "2023-06-05T06:55:46.734Z"
   },
   {
    "duration": 8,
    "start_time": "2023-06-05T06:55:46.740Z"
   },
   {
    "duration": 4,
    "start_time": "2023-06-05T06:55:46.750Z"
   },
   {
    "duration": 166,
    "start_time": "2023-06-05T06:55:46.756Z"
   },
   {
    "duration": 82,
    "start_time": "2023-06-05T06:55:46.924Z"
   },
   {
    "duration": 245,
    "start_time": "2023-06-05T06:55:47.008Z"
   },
   {
    "duration": 338,
    "start_time": "2023-06-05T06:55:47.255Z"
   },
   {
    "duration": 267,
    "start_time": "2023-06-05T06:55:47.594Z"
   },
   {
    "duration": 34,
    "start_time": "2023-06-05T06:55:47.863Z"
   },
   {
    "duration": 9,
    "start_time": "2023-06-05T06:55:47.899Z"
   },
   {
    "duration": 581,
    "start_time": "2023-06-05T06:55:47.909Z"
   },
   {
    "duration": 560,
    "start_time": "2023-06-05T06:55:48.492Z"
   },
   {
    "duration": 844,
    "start_time": "2023-06-05T06:55:49.054Z"
   },
   {
    "duration": 4,
    "start_time": "2023-06-05T06:55:49.900Z"
   },
   {
    "duration": 5,
    "start_time": "2023-06-05T06:55:49.905Z"
   },
   {
    "duration": 167,
    "start_time": "2023-06-05T06:55:49.912Z"
   },
   {
    "duration": 20,
    "start_time": "2023-06-05T06:55:50.082Z"
   },
   {
    "duration": 12,
    "start_time": "2023-06-05T06:55:50.103Z"
   },
   {
    "duration": 6,
    "start_time": "2023-06-05T06:55:50.116Z"
   },
   {
    "duration": 6,
    "start_time": "2023-06-05T06:55:50.125Z"
   },
   {
    "duration": 13,
    "start_time": "2023-06-05T06:55:50.132Z"
   },
   {
    "duration": 1256,
    "start_time": "2023-06-05T12:34:17.275Z"
   },
   {
    "duration": 56,
    "start_time": "2023-06-05T12:34:18.534Z"
   },
   {
    "duration": 51,
    "start_time": "2023-06-05T12:34:18.592Z"
   },
   {
    "duration": 37,
    "start_time": "2023-06-05T12:34:18.645Z"
   },
   {
    "duration": 9,
    "start_time": "2023-06-05T12:34:18.683Z"
   },
   {
    "duration": 8,
    "start_time": "2023-06-05T12:34:18.694Z"
   },
   {
    "duration": 7,
    "start_time": "2023-06-05T12:34:18.704Z"
   },
   {
    "duration": 6,
    "start_time": "2023-06-05T12:34:18.713Z"
   },
   {
    "duration": 45,
    "start_time": "2023-06-05T12:34:18.721Z"
   },
   {
    "duration": 5,
    "start_time": "2023-06-05T12:34:18.769Z"
   },
   {
    "duration": 186,
    "start_time": "2023-06-05T12:34:18.776Z"
   },
   {
    "duration": 104,
    "start_time": "2023-06-05T12:34:18.964Z"
   },
   {
    "duration": 317,
    "start_time": "2023-06-05T12:34:19.070Z"
   },
   {
    "duration": 322,
    "start_time": "2023-06-05T12:34:19.389Z"
   },
   {
    "duration": 307,
    "start_time": "2023-06-05T12:34:19.713Z"
   },
   {
    "duration": 38,
    "start_time": "2023-06-05T12:34:20.022Z"
   },
   {
    "duration": 8,
    "start_time": "2023-06-05T12:34:20.062Z"
   },
   {
    "duration": 628,
    "start_time": "2023-06-05T12:34:20.072Z"
   },
   {
    "duration": 513,
    "start_time": "2023-06-05T12:34:20.702Z"
   },
   {
    "duration": 860,
    "start_time": "2023-06-05T12:34:21.217Z"
   },
   {
    "duration": 4,
    "start_time": "2023-06-05T12:34:22.078Z"
   },
   {
    "duration": 13,
    "start_time": "2023-06-05T12:34:22.083Z"
   },
   {
    "duration": 175,
    "start_time": "2023-06-05T12:34:22.097Z"
   },
   {
    "duration": 19,
    "start_time": "2023-06-05T12:34:22.274Z"
   },
   {
    "duration": 6,
    "start_time": "2023-06-05T12:34:22.295Z"
   },
   {
    "duration": 10,
    "start_time": "2023-06-05T12:34:22.302Z"
   },
   {
    "duration": 6,
    "start_time": "2023-06-05T12:34:22.314Z"
   },
   {
    "duration": 43,
    "start_time": "2023-06-05T12:34:22.322Z"
   },
   {
    "duration": 61,
    "start_time": "2023-06-07T10:35:34.131Z"
   },
   {
    "duration": 1122,
    "start_time": "2023-06-07T10:35:44.081Z"
   },
   {
    "duration": 110,
    "start_time": "2023-06-07T10:35:45.205Z"
   },
   {
    "duration": 162,
    "start_time": "2023-06-07T10:35:45.317Z"
   },
   {
    "duration": 70,
    "start_time": "2023-06-07T10:35:45.481Z"
   },
   {
    "duration": 7,
    "start_time": "2023-06-07T10:35:45.553Z"
   },
   {
    "duration": 7,
    "start_time": "2023-06-07T10:35:45.561Z"
   },
   {
    "duration": 6,
    "start_time": "2023-06-07T10:35:45.569Z"
   },
   {
    "duration": 5,
    "start_time": "2023-06-07T10:35:45.576Z"
   },
   {
    "duration": 8,
    "start_time": "2023-06-07T10:35:45.583Z"
   },
   {
    "duration": 4,
    "start_time": "2023-06-07T10:35:45.593Z"
   },
   {
    "duration": 190,
    "start_time": "2023-06-07T10:35:45.599Z"
   },
   {
    "duration": 95,
    "start_time": "2023-06-07T10:35:45.791Z"
   },
   {
    "duration": 281,
    "start_time": "2023-06-07T10:35:45.887Z"
   },
   {
    "duration": 288,
    "start_time": "2023-06-07T10:35:46.171Z"
   },
   {
    "duration": 278,
    "start_time": "2023-06-07T10:35:46.461Z"
   },
   {
    "duration": 31,
    "start_time": "2023-06-07T10:35:46.740Z"
   },
   {
    "duration": 7,
    "start_time": "2023-06-07T10:35:46.773Z"
   },
   {
    "duration": 624,
    "start_time": "2023-06-07T10:35:46.782Z"
   },
   {
    "duration": 532,
    "start_time": "2023-06-07T10:35:47.407Z"
   },
   {
    "duration": 824,
    "start_time": "2023-06-07T10:35:47.941Z"
   },
   {
    "duration": 4,
    "start_time": "2023-06-07T10:35:48.766Z"
   },
   {
    "duration": 5,
    "start_time": "2023-06-07T10:35:48.771Z"
   },
   {
    "duration": 181,
    "start_time": "2023-06-07T10:35:48.777Z"
   },
   {
    "duration": 18,
    "start_time": "2023-06-07T10:35:48.960Z"
   },
   {
    "duration": 5,
    "start_time": "2023-06-07T10:35:48.979Z"
   },
   {
    "duration": 22,
    "start_time": "2023-06-07T10:35:48.986Z"
   },
   {
    "duration": 12,
    "start_time": "2023-06-07T10:35:49.010Z"
   },
   {
    "duration": 6,
    "start_time": "2023-06-07T10:35:49.024Z"
   },
   {
    "duration": 28,
    "start_time": "2023-06-07T10:35:49.032Z"
   }
  ],
  "kernelspec": {
   "display_name": "Python 3 (ipykernel)",
   "language": "python",
   "name": "python3"
  },
  "language_info": {
   "codemirror_mode": {
    "name": "ipython",
    "version": 3
   },
   "file_extension": ".py",
   "mimetype": "text/x-python",
   "name": "python",
   "nbconvert_exporter": "python",
   "pygments_lexer": "ipython3",
   "version": "3.9.5"
  },
  "toc": {
   "base_numbering": 1,
   "nav_menu": {},
   "number_sections": true,
   "sideBar": true,
   "skip_h1_title": true,
   "title_cell": "Table of Contents",
   "title_sidebar": "Contents",
   "toc_cell": false,
   "toc_position": {},
   "toc_section_display": true,
   "toc_window_display": true
  }
 },
 "nbformat": 4,
 "nbformat_minor": 5
}
