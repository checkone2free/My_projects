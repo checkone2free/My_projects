{
 "cells": [
  {
   "cell_type": "markdown",
   "metadata": {
    "toc": true
   },
   "source": [
    "<h1>Содержание<span class=\"tocSkip\"></span></h1>\n",
    "<div class=\"toc\"><ul class=\"toc-item\"><li><span><a href=\"#Подготовка-данных\" data-toc-modified-id=\"Подготовка-данных-1\"><span class=\"toc-item-num\">1&nbsp;&nbsp;</span>Подготовка данных</a></span><ul class=\"toc-item\"><li><span><a href=\"#Откроем-и-изучим-данные\" data-toc-modified-id=\"Откроем-и-изучим-данные-1.1\"><span class=\"toc-item-num\">1.1&nbsp;&nbsp;</span>Откроем и изучим данные</a></span></li><li><span><a href=\"#Проверка-правильности-расчета-эффективности-обогащения\" data-toc-modified-id=\"Проверка-правильности-расчета-эффективности-обогащения-1.2\"><span class=\"toc-item-num\">1.2&nbsp;&nbsp;</span>Проверка правильности расчета эффективности обогащения</a></span></li><li><span><a href=\"#Анализ-признаков,-недоступных-в-тестовой-выборке\" data-toc-modified-id=\"Анализ-признаков,-недоступных-в-тестовой-выборке-1.3\"><span class=\"toc-item-num\">1.3&nbsp;&nbsp;</span>Анализ признаков, недоступных в тестовой выборке</a></span></li><li><span><a href=\"#Предобработка-данных\" data-toc-modified-id=\"Предобработка-данных-1.4\"><span class=\"toc-item-num\">1.4&nbsp;&nbsp;</span>Предобработка данных</a></span></li></ul></li><li><span><a href=\"#Анализ-данных\" data-toc-modified-id=\"Анализ-данных-2\"><span class=\"toc-item-num\">2&nbsp;&nbsp;</span>Анализ данных</a></span><ul class=\"toc-item\"><li><span><a href=\"#Исследование-изменения-концентрации-металлов-(Au,-Ag,-Pb)-на-различных-этапах-очистки\" data-toc-modified-id=\"Исследование-изменения-концентрации-металлов-(Au,-Ag,-Pb)-на-различных-этапах-очистки-2.1\"><span class=\"toc-item-num\">2.1&nbsp;&nbsp;</span>Исследование изменения концентрации металлов (Au, Ag, Pb) на различных этапах очистки</a></span></li><li><span><a href=\"#Сравнение-распределения-размеров-гранул-сырья-на-обучающей-и-тестовой-выборках\" data-toc-modified-id=\"Сравнение-распределения-размеров-гранул-сырья-на-обучающей-и-тестовой-выборках-2.2\"><span class=\"toc-item-num\">2.2&nbsp;&nbsp;</span>Сравнение распределения размеров гранул сырья на обучающей и тестовой выборках</a></span></li><li><span><a href=\"#Исследование-суммарной-концентрацию-всех-веществ-на-разных-стадиях\" data-toc-modified-id=\"Исследование-суммарной-концентрацию-всех-веществ-на-разных-стадиях-2.3\"><span class=\"toc-item-num\">2.3&nbsp;&nbsp;</span>Исследование суммарной концентрацию всех веществ на разных стадиях</a></span></li></ul></li><li><span><a href=\"#Модель\" data-toc-modified-id=\"Модель-3\"><span class=\"toc-item-num\">3&nbsp;&nbsp;</span>Модель</a></span><ul class=\"toc-item\"><li><span><a href=\"#Подготовка-данных-к-обучению\" data-toc-modified-id=\"Подготовка-данных-к-обучению-3.1\"><span class=\"toc-item-num\">3.1&nbsp;&nbsp;</span>Подготовка данных к обучению</a></span></li><li><span><a href=\"#Функция-для-вычисления-sMAPE\" data-toc-modified-id=\"Функция-для-вычисления-sMAPE-3.2\"><span class=\"toc-item-num\">3.2&nbsp;&nbsp;</span>Функция для вычисления sMAPE</a></span></li><li><span><a href=\"#Обучение-модели-для-предсказания-эффективности-обогащения-чернового-концентрата\" data-toc-modified-id=\"Обучение-модели-для-предсказания-эффективности-обогащения-чернового-концентрата-3.3\"><span class=\"toc-item-num\">3.3&nbsp;&nbsp;</span>Обучение модели для предсказания эффективности обогащения чернового концентрата</a></span></li><li><span><a href=\"#Обучение-модели-для-предсказания-эффективности-обогащения-финального-концентрата\" data-toc-modified-id=\"Обучение-модели-для-предсказания-эффективности-обогащения-финального-концентрата-3.4\"><span class=\"toc-item-num\">3.4&nbsp;&nbsp;</span>Обучение модели для предсказания эффективности обогащения финального концентрата</a></span></li><li><span><a href=\"#Тестирование-моделей\" data-toc-modified-id=\"Тестирование-моделей-3.5\"><span class=\"toc-item-num\">3.5&nbsp;&nbsp;</span>Тестирование моделей</a></span></li></ul></li><li><span><a href=\"#Общий-вывод-по-проекту\" data-toc-modified-id=\"Общий-вывод-по-проекту-4\"><span class=\"toc-item-num\">4&nbsp;&nbsp;</span>Общий вывод по проекту</a></span></li><li><span><a href=\"#Чек-лист-готовности-проекта\" data-toc-modified-id=\"Чек-лист-готовности-проекта-5\"><span class=\"toc-item-num\">5&nbsp;&nbsp;</span>Чек-лист готовности проекта</a></span></li></ul></div>"
   ]
  },
  {
   "cell_type": "markdown",
   "metadata": {},
   "source": [
    "# Восстановление золота из руды"
   ]
  },
  {
   "cell_type": "markdown",
   "metadata": {},
   "source": [
    "Подготовьте прототип модели машинного обучения для «Цифры». Компания разрабатывает решения для эффективной работы промышленных предприятий.\n",
    "\n",
    "Модель должна предсказать коэффициент восстановления золота из золотосодержащей руды. Используйте данные с параметрами добычи и очистки. \n",
    "\n",
    "Модель поможет оптимизировать производство, чтобы не запускать предприятие с убыточными характеристиками.\n",
    "\n",
    "Вам нужно:\n",
    "\n",
    "1. Подготовить данные;\n",
    "2. Провести исследовательский анализ данных;\n",
    "3. Построить и обучить модель.\n",
    "\n",
    "Чтобы выполнить проект, обращайтесь к библиотекам *pandas*, *matplotlib* и *sklearn.* Вам поможет их документация."
   ]
  },
  {
   "cell_type": "markdown",
   "metadata": {},
   "source": [
    "**Задача проекта:**\n",
    "\n",
    "На основе сырых данных с параметрами добычи и очистки золотоносной руды, представленных в файлах:\n",
    "\n",
    "- `gold_industry_train.csv` — обучающая выборка\n",
    "- `gold_industry_test.csv` — тестовая выборка\n",
    "- `gold_industry_full.csv` — исходные данные\n",
    "\n",
    "Данные индексируются датой и временем получения информации (признак date). \n",
    "Соседние по времени параметры часто похожи.\n",
    "\n",
    "**Описание данных:**\n",
    "\n",
    "*Технологический процесс*\n",
    "- `Rougher feed` — исходное сырье\n",
    "- `Rougher additions` (или reagent additions) — флотационные реагенты: Xanthate, Sulphate, Depressant\n",
    "- `Xanthate` — ксантогенат (промотер, или активатор флотации)\n",
    "- `Sulphate` — сульфат (на данном производстве сульфид натрия)\n",
    "- `Depressant` — депрессант (силикат натрия).\n",
    "- `Rougher process` (англ. «грубый процесс») — флотация\n",
    "- `Rougher tails` — отвальные хвосты\n",
    "- `Float banks` — флотационная установка\n",
    "- `Cleaner process` — очистка\n",
    "- `Rougher Au` — черновой концентрат золота\n",
    "- `Final Au` — финальный концентрат золота\n",
    "\n",
    "*Параметры этапов:*\n",
    "- `air amount` — объём воздуха\n",
    "- `fluid levels` — уровень жидкости\n",
    "- `feed size` — размер гранул сырья\n",
    "- `feed rate` — скорость подачи\n",
    "\n",
    "*Наименование признаков:*\n",
    "Наименование признаков должно быть такое: [этап].[тип_параметра].[название_параметра]\n",
    "\n",
    "*Возможные значения для блока [этап]:*\n",
    "- `rougher` — флотация\n",
    "- `primary_cleaner` — первичная очистка\n",
    "- `secondary_cleaner` — вторичная очистка\n",
    "- `final` — финальные характеристики\n",
    "\n",
    "*Возможные значения для блока [тип_параметра]:*\n",
    "- `input` — параметры сырья\n",
    "- `output` — параметры продукта\n",
    "- `state` — параметры, характеризующие текущее состояние этапа\n",
    "- `calculation` — расчётные характеристики\n",
    "\n",
    "Подготовить прототип модели машинного обучения для компании, разрабатывающей решения для эффективной работы промышленных предприятий.\n",
    "\n",
    "Модель должна предсказать коэффициент восстановления золота из золотосодержащей руды.\n",
    "\n",
    "Модель поможет оптимизировать производство, чтобы не запускать предприятие с убыточными характеристиками."
   ]
  },
  {
   "cell_type": "markdown",
   "metadata": {},
   "source": [
    "## Подготовка данных"
   ]
  },
  {
   "cell_type": "markdown",
   "metadata": {},
   "source": [
    "### Откроем и изучим данные"
   ]
  },
  {
   "cell_type": "code",
   "execution_count": 117,
   "metadata": {},
   "outputs": [],
   "source": [
    "import pandas as pd\n",
    "import numpy as np\n",
    "from IPython.display import display \n",
    "\n",
    "import matplotlib.pyplot as plt\n",
    "from datetime import date\n",
    "import seaborn as sns\n",
    "%matplotlib inline\n",
    "\n",
    "from sklearn.metrics import roc_auc_score,f1_score,precision_score,recall_score,accuracy_score\n",
    "from sklearn.metrics import mean_absolute_error,r2_score, make_scorer\n",
    "from sklearn.model_selection import GridSearchCV, cross_val_score\n",
    "from sklearn.linear_model  import LinearRegression\n",
    "from sklearn.tree import DecisionTreeRegressor\n",
    "from sklearn.ensemble import RandomForestRegressor\n",
    "from sklearn.metrics import make_scorer\n",
    "from sklearn.dummy import DummyRegressor\n",
    "\n",
    "\n",
    "# Формат представления чисел с плавающей точкой в таблицах\n",
    "pd.options.display.float_format = '{:,.2f}'.format\n",
    "\n",
    "# увеличим дефолтный размер графиков\n",
    "from pylab import rcParams\n",
    "rcParams[\"figure.figsize\"] = 8, 5\n",
    "\n",
    "#Осуществим подавление вывода  ошибок FutureWarning \n",
    "import warnings\n",
    "warnings.simplefilter(action='ignore', category=FutureWarning)"
   ]
  },
  {
   "cell_type": "code",
   "execution_count": 118,
   "metadata": {},
   "outputs": [
    {
     "name": "stdout",
     "output_type": "stream",
     "text": [
      "(14579, 87)\n",
      "(4860, 53)\n",
      "(19439, 87)\n"
     ]
    }
   ],
   "source": [
    "#считаем данные\n",
    "train = pd.read_csv('/datasets/gold_industry_train.csv')\n",
    "test = pd.read_csv('/datasets/gold_industry_test.csv')\n",
    "full = pd.read_csv('/datasets/gold_industry_full.csv')\n",
    "\n",
    "#посмотрим размер \n",
    "for df in train,test,full:\n",
    "    print(df.shape)"
   ]
  },
  {
   "cell_type": "code",
   "execution_count": 119,
   "metadata": {},
   "outputs": [
    {
     "name": "stdout",
     "output_type": "stream",
     "text": [
      "0\n",
      "0\n",
      "0\n"
     ]
    }
   ],
   "source": [
    "#проверим на дубликаты\n",
    "for df in train,test,full:\n",
    "    print(df.duplicated().sum())   "
   ]
  },
  {
   "cell_type": "code",
   "execution_count": 120,
   "metadata": {
    "scrolled": true
   },
   "outputs": [
    {
     "name": "stdout",
     "output_type": "stream",
     "text": [
      "<class 'pandas.core.frame.DataFrame'>\n",
      "RangeIndex: 14579 entries, 0 to 14578\n",
      "Data columns (total 87 columns):\n",
      " #   Column                                              Non-Null Count  Dtype  \n",
      "---  ------                                              --------------  -----  \n",
      " 0   date                                                14579 non-null  object \n",
      " 1   rougher.input.feed_au                               14579 non-null  float64\n",
      " 2   rougher.input.feed_ag                               14579 non-null  float64\n",
      " 3   rougher.input.feed_pb                               14507 non-null  float64\n",
      " 4   rougher.input.feed_sol                              14502 non-null  float64\n",
      " 5   rougher.input.feed_rate                             14572 non-null  float64\n",
      " 6   rougher.input.feed_size                             14478 non-null  float64\n",
      " 7   rougher.input.floatbank10_sulfate                   14548 non-null  float64\n",
      " 8   rougher.input.floatbank10_xanthate                  14572 non-null  float64\n",
      " 9   rougher.state.floatbank10_a_air                     14579 non-null  float64\n",
      " 10  rougher.state.floatbank10_a_level                   14579 non-null  float64\n",
      " 11  rougher.state.floatbank10_b_air                     14579 non-null  float64\n",
      " 12  rougher.state.floatbank10_b_level                   14579 non-null  float64\n",
      " 13  rougher.state.floatbank10_c_air                     14579 non-null  float64\n",
      " 14  rougher.state.floatbank10_c_level                   14579 non-null  float64\n",
      " 15  rougher.state.floatbank10_d_air                     14579 non-null  float64\n",
      " 16  rougher.state.floatbank10_d_level                   14579 non-null  float64\n",
      " 17  rougher.state.floatbank10_e_air                     14150 non-null  float64\n",
      " 18  rougher.state.floatbank10_e_level                   14579 non-null  float64\n",
      " 19  rougher.state.floatbank10_f_air                     14579 non-null  float64\n",
      " 20  rougher.state.floatbank10_f_level                   14579 non-null  float64\n",
      " 21  rougher.input.floatbank11_sulfate                   14543 non-null  float64\n",
      " 22  rougher.input.floatbank11_xanthate                  14172 non-null  float64\n",
      " 23  rougher.calculation.sulfate_to_au_concentrate       14578 non-null  float64\n",
      " 24  rougher.calculation.floatbank10_sulfate_to_au_feed  14578 non-null  float64\n",
      " 25  rougher.calculation.floatbank11_sulfate_to_au_feed  14578 non-null  float64\n",
      " 26  rougher.calculation.au_pb_ratio                     14579 non-null  float64\n",
      " 27  rougher.output.concentrate_au                       14579 non-null  float64\n",
      " 28  rougher.output.concentrate_ag                       14579 non-null  float64\n",
      " 29  rougher.output.concentrate_pb                       14579 non-null  float64\n",
      " 30  rougher.output.concentrate_sol                      14561 non-null  float64\n",
      " 31  rougher.output.recovery                             14579 non-null  float64\n",
      " 32  rougher.output.tail_au                              14579 non-null  float64\n",
      " 33  rougher.output.tail_ag                              14578 non-null  float64\n",
      " 34  rougher.output.tail_pb                              14579 non-null  float64\n",
      " 35  rougher.output.tail_sol                             14579 non-null  float64\n",
      " 36  primary_cleaner.input.sulfate                       14556 non-null  float64\n",
      " 37  primary_cleaner.input.depressant                    14551 non-null  float64\n",
      " 38  primary_cleaner.input.feed_size                     14579 non-null  float64\n",
      " 39  primary_cleaner.input.xanthate                      14518 non-null  float64\n",
      " 40  primary_cleaner.state.floatbank8_a_air              14576 non-null  float64\n",
      " 41  primary_cleaner.state.floatbank8_a_level            14579 non-null  float64\n",
      " 42  primary_cleaner.state.floatbank8_b_air              14576 non-null  float64\n",
      " 43  primary_cleaner.state.floatbank8_b_level            14579 non-null  float64\n",
      " 44  primary_cleaner.state.floatbank8_c_air              14579 non-null  float64\n",
      " 45  primary_cleaner.state.floatbank8_c_level            14579 non-null  float64\n",
      " 46  primary_cleaner.state.floatbank8_d_air              14578 non-null  float64\n",
      " 47  primary_cleaner.state.floatbank8_d_level            14579 non-null  float64\n",
      " 48  primary_cleaner.output.concentrate_au               14579 non-null  float64\n",
      " 49  primary_cleaner.output.concentrate_ag               14579 non-null  float64\n",
      " 50  primary_cleaner.output.concentrate_pb               14491 non-null  float64\n",
      " 51  primary_cleaner.output.concentrate_sol              14314 non-null  float64\n",
      " 52  primary_cleaner.output.tail_au                      14579 non-null  float64\n",
      " 53  primary_cleaner.output.tail_ag                      14575 non-null  float64\n",
      " 54  primary_cleaner.output.tail_pb                      14573 non-null  float64\n",
      " 55  primary_cleaner.output.tail_sol                     14534 non-null  float64\n",
      " 56  secondary_cleaner.state.floatbank2_a_air            14485 non-null  float64\n",
      " 57  secondary_cleaner.state.floatbank2_a_level          14579 non-null  float64\n",
      " 58  secondary_cleaner.state.floatbank2_b_air            14557 non-null  float64\n",
      " 59  secondary_cleaner.state.floatbank2_b_level          14579 non-null  float64\n",
      " 60  secondary_cleaner.state.floatbank3_a_air            14567 non-null  float64\n",
      " 61  secondary_cleaner.state.floatbank3_a_level          14579 non-null  float64\n",
      " 62  secondary_cleaner.state.floatbank3_b_air            14579 non-null  float64\n",
      " 63  secondary_cleaner.state.floatbank3_b_level          14579 non-null  float64\n",
      " 64  secondary_cleaner.state.floatbank4_a_air            14574 non-null  float64\n",
      " 65  secondary_cleaner.state.floatbank4_a_level          14579 non-null  float64\n",
      " 66  secondary_cleaner.state.floatbank4_b_air            14579 non-null  float64\n",
      " 67  secondary_cleaner.state.floatbank4_b_level          14579 non-null  float64\n",
      " 68  secondary_cleaner.state.floatbank5_a_air            14579 non-null  float64\n",
      " 69  secondary_cleaner.state.floatbank5_a_level          14579 non-null  float64\n",
      " 70  secondary_cleaner.state.floatbank5_b_air            14579 non-null  float64\n",
      " 71  secondary_cleaner.state.floatbank5_b_level          14579 non-null  float64\n",
      " 72  secondary_cleaner.state.floatbank6_a_air            14578 non-null  float64\n",
      " 73  secondary_cleaner.state.floatbank6_a_level          14579 non-null  float64\n",
      " 74  secondary_cleaner.output.tail_au                    14579 non-null  float64\n",
      " 75  secondary_cleaner.output.tail_ag                    14578 non-null  float64\n",
      " 76  secondary_cleaner.output.tail_pb                    14575 non-null  float64\n",
      " 77  secondary_cleaner.output.tail_sol                   13659 non-null  float64\n",
      " 78  final.output.concentrate_au                         14579 non-null  float64\n",
      " 79  final.output.concentrate_ag                         14578 non-null  float64\n",
      " 80  final.output.concentrate_pb                         14578 non-null  float64\n",
      " 81  final.output.concentrate_sol                        14387 non-null  float64\n",
      " 82  final.output.recovery                               14579 non-null  float64\n",
      " 83  final.output.tail_au                                14579 non-null  float64\n",
      " 84  final.output.tail_ag                                14578 non-null  float64\n",
      " 85  final.output.tail_pb                                14504 non-null  float64\n",
      " 86  final.output.tail_sol                               14574 non-null  float64\n",
      "dtypes: float64(86), object(1)\n",
      "memory usage: 9.7+ MB\n"
     ]
    }
   ],
   "source": [
    "train.info()"
   ]
  },
  {
   "cell_type": "code",
   "execution_count": 121,
   "metadata": {
    "scrolled": true
   },
   "outputs": [
    {
     "name": "stdout",
     "output_type": "stream",
     "text": [
      "<class 'pandas.core.frame.DataFrame'>\n",
      "RangeIndex: 4860 entries, 0 to 4859\n",
      "Data columns (total 53 columns):\n",
      " #   Column                                      Non-Null Count  Dtype  \n",
      "---  ------                                      --------------  -----  \n",
      " 0   date                                        4860 non-null   object \n",
      " 1   rougher.input.feed_au                       4860 non-null   float64\n",
      " 2   rougher.input.feed_ag                       4860 non-null   float64\n",
      " 3   rougher.input.feed_pb                       4832 non-null   float64\n",
      " 4   rougher.input.feed_sol                      4838 non-null   float64\n",
      " 5   rougher.input.feed_rate                     4856 non-null   float64\n",
      " 6   rougher.input.feed_size                     4816 non-null   float64\n",
      " 7   rougher.input.floatbank10_sulfate           4857 non-null   float64\n",
      " 8   rougher.input.floatbank10_xanthate          4859 non-null   float64\n",
      " 9   rougher.state.floatbank10_a_air             4859 non-null   float64\n",
      " 10  rougher.state.floatbank10_a_level           4859 non-null   float64\n",
      " 11  rougher.state.floatbank10_b_air             4859 non-null   float64\n",
      " 12  rougher.state.floatbank10_b_level           4859 non-null   float64\n",
      " 13  rougher.state.floatbank10_c_air             4859 non-null   float64\n",
      " 14  rougher.state.floatbank10_c_level           4859 non-null   float64\n",
      " 15  rougher.state.floatbank10_d_air             4860 non-null   float64\n",
      " 16  rougher.state.floatbank10_d_level           4860 non-null   float64\n",
      " 17  rougher.state.floatbank10_e_air             4853 non-null   float64\n",
      " 18  rougher.state.floatbank10_e_level           4860 non-null   float64\n",
      " 19  rougher.state.floatbank10_f_air             4860 non-null   float64\n",
      " 20  rougher.state.floatbank10_f_level           4860 non-null   float64\n",
      " 21  rougher.input.floatbank11_sulfate           4852 non-null   float64\n",
      " 22  rougher.input.floatbank11_xanthate          4814 non-null   float64\n",
      " 23  primary_cleaner.input.sulfate               4859 non-null   float64\n",
      " 24  primary_cleaner.input.depressant            4851 non-null   float64\n",
      " 25  primary_cleaner.input.feed_size             4860 non-null   float64\n",
      " 26  primary_cleaner.input.xanthate              4817 non-null   float64\n",
      " 27  primary_cleaner.state.floatbank8_a_air      4859 non-null   float64\n",
      " 28  primary_cleaner.state.floatbank8_a_level    4859 non-null   float64\n",
      " 29  primary_cleaner.state.floatbank8_b_air      4859 non-null   float64\n",
      " 30  primary_cleaner.state.floatbank8_b_level    4859 non-null   float64\n",
      " 31  primary_cleaner.state.floatbank8_c_air      4858 non-null   float64\n",
      " 32  primary_cleaner.state.floatbank8_c_level    4859 non-null   float64\n",
      " 33  primary_cleaner.state.floatbank8_d_air      4858 non-null   float64\n",
      " 34  primary_cleaner.state.floatbank8_d_level    4859 non-null   float64\n",
      " 35  secondary_cleaner.state.floatbank2_a_air    4734 non-null   float64\n",
      " 36  secondary_cleaner.state.floatbank2_a_level  4859 non-null   float64\n",
      " 37  secondary_cleaner.state.floatbank2_b_air    4859 non-null   float64\n",
      " 38  secondary_cleaner.state.floatbank2_b_level  4859 non-null   float64\n",
      " 39  secondary_cleaner.state.floatbank3_a_air    4859 non-null   float64\n",
      " 40  secondary_cleaner.state.floatbank3_a_level  4859 non-null   float64\n",
      " 41  secondary_cleaner.state.floatbank3_b_air    4859 non-null   float64\n",
      " 42  secondary_cleaner.state.floatbank3_b_level  4859 non-null   float64\n",
      " 43  secondary_cleaner.state.floatbank4_a_air    4859 non-null   float64\n",
      " 44  secondary_cleaner.state.floatbank4_a_level  4859 non-null   float64\n",
      " 45  secondary_cleaner.state.floatbank4_b_air    4859 non-null   float64\n",
      " 46  secondary_cleaner.state.floatbank4_b_level  4859 non-null   float64\n",
      " 47  secondary_cleaner.state.floatbank5_a_air    4859 non-null   float64\n",
      " 48  secondary_cleaner.state.floatbank5_a_level  4859 non-null   float64\n",
      " 49  secondary_cleaner.state.floatbank5_b_air    4859 non-null   float64\n",
      " 50  secondary_cleaner.state.floatbank5_b_level  4859 non-null   float64\n",
      " 51  secondary_cleaner.state.floatbank6_a_air    4859 non-null   float64\n",
      " 52  secondary_cleaner.state.floatbank6_a_level  4859 non-null   float64\n",
      "dtypes: float64(52), object(1)\n",
      "memory usage: 2.0+ MB\n"
     ]
    }
   ],
   "source": [
    "test.info()"
   ]
  },
  {
   "cell_type": "code",
   "execution_count": 122,
   "metadata": {
    "scrolled": true
   },
   "outputs": [
    {
     "name": "stdout",
     "output_type": "stream",
     "text": [
      "<class 'pandas.core.frame.DataFrame'>\n",
      "RangeIndex: 19439 entries, 0 to 19438\n",
      "Data columns (total 87 columns):\n",
      " #   Column                                              Non-Null Count  Dtype  \n",
      "---  ------                                              --------------  -----  \n",
      " 0   date                                                19439 non-null  object \n",
      " 1   rougher.input.feed_au                               19439 non-null  float64\n",
      " 2   rougher.input.feed_ag                               19439 non-null  float64\n",
      " 3   rougher.input.feed_pb                               19339 non-null  float64\n",
      " 4   rougher.input.feed_sol                              19340 non-null  float64\n",
      " 5   rougher.input.feed_rate                             19428 non-null  float64\n",
      " 6   rougher.input.feed_size                             19294 non-null  float64\n",
      " 7   rougher.input.floatbank10_sulfate                   19405 non-null  float64\n",
      " 8   rougher.input.floatbank10_xanthate                  19431 non-null  float64\n",
      " 9   rougher.state.floatbank10_a_air                     19438 non-null  float64\n",
      " 10  rougher.state.floatbank10_a_level                   19438 non-null  float64\n",
      " 11  rougher.state.floatbank10_b_air                     19438 non-null  float64\n",
      " 12  rougher.state.floatbank10_b_level                   19438 non-null  float64\n",
      " 13  rougher.state.floatbank10_c_air                     19438 non-null  float64\n",
      " 14  rougher.state.floatbank10_c_level                   19438 non-null  float64\n",
      " 15  rougher.state.floatbank10_d_air                     19439 non-null  float64\n",
      " 16  rougher.state.floatbank10_d_level                   19439 non-null  float64\n",
      " 17  rougher.state.floatbank10_e_air                     19003 non-null  float64\n",
      " 18  rougher.state.floatbank10_e_level                   19439 non-null  float64\n",
      " 19  rougher.state.floatbank10_f_air                     19439 non-null  float64\n",
      " 20  rougher.state.floatbank10_f_level                   19439 non-null  float64\n",
      " 21  rougher.input.floatbank11_sulfate                   19395 non-null  float64\n",
      " 22  rougher.input.floatbank11_xanthate                  18986 non-null  float64\n",
      " 23  rougher.calculation.sulfate_to_au_concentrate       19437 non-null  float64\n",
      " 24  rougher.calculation.floatbank10_sulfate_to_au_feed  19437 non-null  float64\n",
      " 25  rougher.calculation.floatbank11_sulfate_to_au_feed  19437 non-null  float64\n",
      " 26  rougher.calculation.au_pb_ratio                     19439 non-null  float64\n",
      " 27  rougher.output.concentrate_au                       19439 non-null  float64\n",
      " 28  rougher.output.concentrate_ag                       19439 non-null  float64\n",
      " 29  rougher.output.concentrate_pb                       19439 non-null  float64\n",
      " 30  rougher.output.concentrate_sol                      19416 non-null  float64\n",
      " 31  rougher.output.recovery                             19439 non-null  float64\n",
      " 32  rougher.output.tail_au                              19439 non-null  float64\n",
      " 33  rougher.output.tail_ag                              19438 non-null  float64\n",
      " 34  rougher.output.tail_pb                              19439 non-null  float64\n",
      " 35  rougher.output.tail_sol                             19439 non-null  float64\n",
      " 36  primary_cleaner.input.sulfate                       19415 non-null  float64\n",
      " 37  primary_cleaner.input.depressant                    19402 non-null  float64\n",
      " 38  primary_cleaner.input.feed_size                     19439 non-null  float64\n",
      " 39  primary_cleaner.input.xanthate                      19335 non-null  float64\n",
      " 40  primary_cleaner.state.floatbank8_a_air              19435 non-null  float64\n",
      " 41  primary_cleaner.state.floatbank8_a_level            19438 non-null  float64\n",
      " 42  primary_cleaner.state.floatbank8_b_air              19435 non-null  float64\n",
      " 43  primary_cleaner.state.floatbank8_b_level            19438 non-null  float64\n",
      " 44  primary_cleaner.state.floatbank8_c_air              19437 non-null  float64\n",
      " 45  primary_cleaner.state.floatbank8_c_level            19438 non-null  float64\n",
      " 46  primary_cleaner.state.floatbank8_d_air              19436 non-null  float64\n",
      " 47  primary_cleaner.state.floatbank8_d_level            19438 non-null  float64\n",
      " 48  primary_cleaner.output.concentrate_au               19439 non-null  float64\n",
      " 49  primary_cleaner.output.concentrate_ag               19439 non-null  float64\n",
      " 50  primary_cleaner.output.concentrate_pb               19323 non-null  float64\n",
      " 51  primary_cleaner.output.concentrate_sol              19069 non-null  float64\n",
      " 52  primary_cleaner.output.tail_au                      19439 non-null  float64\n",
      " 53  primary_cleaner.output.tail_ag                      19435 non-null  float64\n",
      " 54  primary_cleaner.output.tail_pb                      19418 non-null  float64\n",
      " 55  primary_cleaner.output.tail_sol                     19377 non-null  float64\n",
      " 56  secondary_cleaner.state.floatbank2_a_air            19219 non-null  float64\n",
      " 57  secondary_cleaner.state.floatbank2_a_level          19438 non-null  float64\n",
      " 58  secondary_cleaner.state.floatbank2_b_air            19416 non-null  float64\n",
      " 59  secondary_cleaner.state.floatbank2_b_level          19438 non-null  float64\n",
      " 60  secondary_cleaner.state.floatbank3_a_air            19426 non-null  float64\n",
      " 61  secondary_cleaner.state.floatbank3_a_level          19438 non-null  float64\n",
      " 62  secondary_cleaner.state.floatbank3_b_air            19438 non-null  float64\n",
      " 63  secondary_cleaner.state.floatbank3_b_level          19438 non-null  float64\n",
      " 64  secondary_cleaner.state.floatbank4_a_air            19433 non-null  float64\n",
      " 65  secondary_cleaner.state.floatbank4_a_level          19438 non-null  float64\n",
      " 66  secondary_cleaner.state.floatbank4_b_air            19438 non-null  float64\n",
      " 67  secondary_cleaner.state.floatbank4_b_level          19438 non-null  float64\n",
      " 68  secondary_cleaner.state.floatbank5_a_air            19438 non-null  float64\n",
      " 69  secondary_cleaner.state.floatbank5_a_level          19438 non-null  float64\n",
      " 70  secondary_cleaner.state.floatbank5_b_air            19438 non-null  float64\n",
      " 71  secondary_cleaner.state.floatbank5_b_level          19438 non-null  float64\n",
      " 72  secondary_cleaner.state.floatbank6_a_air            19437 non-null  float64\n",
      " 73  secondary_cleaner.state.floatbank6_a_level          19438 non-null  float64\n",
      " 74  secondary_cleaner.output.tail_au                    19439 non-null  float64\n",
      " 75  secondary_cleaner.output.tail_ag                    19437 non-null  float64\n",
      " 76  secondary_cleaner.output.tail_pb                    19427 non-null  float64\n",
      " 77  secondary_cleaner.output.tail_sol                   17691 non-null  float64\n",
      " 78  final.output.concentrate_au                         19439 non-null  float64\n",
      " 79  final.output.concentrate_ag                         19438 non-null  float64\n",
      " 80  final.output.concentrate_pb                         19438 non-null  float64\n",
      " 81  final.output.concentrate_sol                        19228 non-null  float64\n",
      " 82  final.output.recovery                               19439 non-null  float64\n",
      " 83  final.output.tail_au                                19439 non-null  float64\n",
      " 84  final.output.tail_ag                                19438 non-null  float64\n",
      " 85  final.output.tail_pb                                19338 non-null  float64\n",
      " 86  final.output.tail_sol                               19433 non-null  float64\n",
      "dtypes: float64(86), object(1)\n",
      "memory usage: 12.9+ MB\n"
     ]
    }
   ],
   "source": [
    "full.info()"
   ]
  },
  {
   "cell_type": "code",
   "execution_count": 123,
   "metadata": {},
   "outputs": [
    {
     "data": {
      "text/plain": [
       "0.25"
      ]
     },
     "metadata": {},
     "output_type": "display_data"
    },
    {
     "data": {
      "text/plain": [
       "0.75"
      ]
     },
     "metadata": {},
     "output_type": "display_data"
    }
   ],
   "source": [
    "# посмотрим в каком соотношение данные разделены на train и test\n",
    "display(round(len(test) / len(full), 2))\n",
    "display(round(len(train) / len(full), 2))"
   ]
  },
  {
   "cell_type": "markdown",
   "metadata": {},
   "source": [
    "**Вывод:**<br>\n",
    "- Датасет `full` содержит 87 столбцов и 19439 строк. В строках есть пропуски. Скорее всего это из-за того, что они измеряются позже.\n",
    "- Датасет `train` содержит 87 столбцов и 14579 строк. В строках есть пропуски. Скорее всего это из-за того, что они измеряются позже.\n",
    "- Датасет `test` содержит 53 столбцов и 4860 строк. В строках есть пропуски. Скорее всего это из-за того, что они измеряются позже.\n",
    "<br>\n",
    "Дубликаты отсутствуют <br>\n",
    "Соотношение train/test к исходным данным 0.25 к 0.75. Идеально."
   ]
  },
  {
   "cell_type": "markdown",
   "metadata": {},
   "source": [
    "### Проверка правильности расчета эффективности обогащения"
   ]
  },
  {
   "cell_type": "code",
   "execution_count": 124,
   "metadata": {},
   "outputs": [],
   "source": [
    "# расчитаем эффективность на обучающей выборке для признака rougher.output.recovery\n",
    "C = train['rougher.output.concentrate_au']\n",
    "F = train['rougher.input.feed_au']\n",
    "T = train['rougher.output.tail_au']\n",
    "\n",
    "conculated_rougher_output_recovery = ((C * (F - T)) / (F * (C - T))) * 100"
   ]
  },
  {
   "cell_type": "code",
   "execution_count": 125,
   "metadata": {},
   "outputs": [
    {
     "data": {
      "text/plain": [
       "'0.0000000000000098375857764'"
      ]
     },
     "execution_count": 125,
     "metadata": {},
     "output_type": "execute_result"
    }
   ],
   "source": [
    "# расчитаем MAE между расчетами и значением признака\n",
    "'{:.25f}'.format(mean_absolute_error(train['rougher.output.recovery'], conculated_rougher_output_recovery))"
   ]
  },
  {
   "cell_type": "markdown",
   "metadata": {},
   "source": [
    "**Вывод:** <br>\n",
    "Значение MAE почти равно 0, следовательно эффективность обогащения рассчитана правильно. Расхождение между значением rougher.output.recovery расчитанным по формуле и представленным в обучающих данных минимальное."
   ]
  },
  {
   "cell_type": "markdown",
   "metadata": {},
   "source": [
    "### Анализ признаков, недоступных в тестовой выборке"
   ]
  },
  {
   "cell_type": "code",
   "execution_count": 126,
   "metadata": {},
   "outputs": [
    {
     "data": {
      "text/plain": [
       "{'final.output.concentrate_ag',\n",
       " 'final.output.concentrate_au',\n",
       " 'final.output.concentrate_pb',\n",
       " 'final.output.concentrate_sol',\n",
       " 'final.output.recovery',\n",
       " 'final.output.tail_ag',\n",
       " 'final.output.tail_au',\n",
       " 'final.output.tail_pb',\n",
       " 'final.output.tail_sol',\n",
       " 'primary_cleaner.output.concentrate_ag',\n",
       " 'primary_cleaner.output.concentrate_au',\n",
       " 'primary_cleaner.output.concentrate_pb',\n",
       " 'primary_cleaner.output.concentrate_sol',\n",
       " 'primary_cleaner.output.tail_ag',\n",
       " 'primary_cleaner.output.tail_au',\n",
       " 'primary_cleaner.output.tail_pb',\n",
       " 'primary_cleaner.output.tail_sol',\n",
       " 'rougher.calculation.au_pb_ratio',\n",
       " 'rougher.calculation.floatbank10_sulfate_to_au_feed',\n",
       " 'rougher.calculation.floatbank11_sulfate_to_au_feed',\n",
       " 'rougher.calculation.sulfate_to_au_concentrate',\n",
       " 'rougher.output.concentrate_ag',\n",
       " 'rougher.output.concentrate_au',\n",
       " 'rougher.output.concentrate_pb',\n",
       " 'rougher.output.concentrate_sol',\n",
       " 'rougher.output.recovery',\n",
       " 'rougher.output.tail_ag',\n",
       " 'rougher.output.tail_au',\n",
       " 'rougher.output.tail_pb',\n",
       " 'rougher.output.tail_sol',\n",
       " 'secondary_cleaner.output.tail_ag',\n",
       " 'secondary_cleaner.output.tail_au',\n",
       " 'secondary_cleaner.output.tail_pb',\n",
       " 'secondary_cleaner.output.tail_sol'}"
      ]
     },
     "execution_count": 126,
     "metadata": {},
     "output_type": "execute_result"
    }
   ],
   "source": [
    "# выведем наименования тех признаков, которые недоступны в тестовой выборке\n",
    "# соберем список таких признаков\n",
    "features_to_delete = set(train.columns) - set(test.columns)\n",
    "features_to_delete"
   ]
  },
  {
   "cell_type": "code",
   "execution_count": 127,
   "metadata": {},
   "outputs": [],
   "source": [
    "# уберем из списка на удаление целевые признаки\n",
    "features_to_delete.remove('final.output.recovery')\n",
    "features_to_delete.remove('rougher.output.recovery')"
   ]
  },
  {
   "cell_type": "markdown",
   "metadata": {},
   "source": [
    "**Выводы:** <br>\n",
    "Все признаки, недоступные в тестовой выборке, как и другие признаки в данных, имеют тип данных `float`.\n",
    "Все найденные признаки относятся к типу `output` или `calculation`. Это говорит о том, что это параметры, которые не могут быть получены во время самого процесса. Эти данные описывают полученный продукт или какие-то его характеристики. Такие данные не должны участвовать в обучении и предсказании.<br>\n",
    "Уберем ненужные признаки из обучающей выборки после этапа анализа данных"
   ]
  },
  {
   "cell_type": "markdown",
   "metadata": {},
   "source": [
    "### Предобработка данных"
   ]
  },
  {
   "cell_type": "code",
   "execution_count": 128,
   "metadata": {},
   "outputs": [],
   "source": [
    "#создадим функцию для нахождения и визуализации доли пропусков\n",
    "def pass_value_barh(df):\n",
    "    if df.isna().sum().sum() > 0:\n",
    "        (\n",
    "            (df.isna().mean()*100)\n",
    "            .to_frame()\n",
    "            .rename(columns = {0:'space'})\n",
    "            .query('space > 0')\n",
    "            .sort_values(by = 'space', ascending = True)\n",
    "            .plot(kind= 'barh', figsize=(30, 25), legend = False, fontsize = 20)\n",
    "            .set_title('Доля пропусков' + \"\\n\", fontsize = 25)    \n",
    "        )   \n",
    "    else:\n",
    "        print('Пропусков не осталось!')"
   ]
  },
  {
   "cell_type": "code",
   "execution_count": 129,
   "metadata": {},
   "outputs": [
    {
     "data": {
      "image/png": "[encoded data removed]",
      "text/plain": [
       "<Figure size 2160x1800 with 1 Axes>"
      ]
     },
     "metadata": {
      "needs_background": "light"
     },
     "output_type": "display_data"
    }
   ],
   "source": [
    "# визуализация доли пропусков в каждом столбце обучающей выборки\n",
    "pass_value_barh(train)"
   ]
  },
  {
   "cell_type": "code",
   "execution_count": 130,
   "metadata": {},
   "outputs": [],
   "source": [
    "# заполняем пропущенные значения первым не пропущенным значением, которое встречается перед ними\n",
    "train.fillna(method='ffill', inplace=True)"
   ]
  },
  {
   "cell_type": "code",
   "execution_count": 131,
   "metadata": {},
   "outputs": [
    {
     "name": "stdout",
     "output_type": "stream",
     "text": [
      "Пропусков не осталось!\n"
     ]
    }
   ],
   "source": [
    "# проверяем, что все пропуски заполнены\n",
    "pass_value_barh(train)"
   ]
  },
  {
   "cell_type": "code",
   "execution_count": 132,
   "metadata": {},
   "outputs": [
    {
     "data": {
      "image/png": "[encoded data removed]",
      "text/plain": [
       "<Figure size 2160x1800 with 1 Axes>"
      ]
     },
     "metadata": {
      "needs_background": "light"
     },
     "output_type": "display_data"
    }
   ],
   "source": [
    "# визуализация доли пропусков в каждом столбце тестовой выборки\n",
    "pass_value_barh(test)"
   ]
  },
  {
   "cell_type": "code",
   "execution_count": 133,
   "metadata": {},
   "outputs": [
    {
     "name": "stdout",
     "output_type": "stream",
     "text": [
      "Пропусков не осталось!\n"
     ]
    }
   ],
   "source": [
    "# заполняем пропущенные значения первым не пропущенным значением, которое встречается перед ними\n",
    "test.fillna(method='ffill', inplace=True)\n",
    "pass_value_barh(test)"
   ]
  },
  {
   "cell_type": "markdown",
   "metadata": {},
   "source": [
    "**Вывод:** <br>\n",
    "В наших датасетах есть пропуски. Поскольку данные – это просто последовательные этапы процесса (замеры), соседние по времени параметры часто похожи (что следует из условий задачи) и можно использовать заполнение предыдущим значением."
   ]
  },
  {
   "cell_type": "markdown",
   "metadata": {},
   "source": [
    "## Анализ данных"
   ]
  },
  {
   "cell_type": "markdown",
   "metadata": {},
   "source": [
    "### Исследование изменения концентрации металлов (Au, Ag, Pb) на различных этапах очистки"
   ]
  },
  {
   "cell_type": "markdown",
   "metadata": {},
   "source": [
    "Для исследования изменения концентрации будем рассматривать распределения концентрации металлов на разных этапах и медианные значения."
   ]
  },
  {
   "cell_type": "code",
   "execution_count": 134,
   "metadata": {},
   "outputs": [],
   "source": [
    "# вводим переменные для графиков\n",
    "metals = ['ag', 'pb', 'au']\n",
    "concentrate_median_feed = [full['rougher.input.feed_ag'].median(),\n",
    "               full['rougher.input.feed_pb'].median(),\n",
    "               full['rougher.input.feed_au'].median()]\n",
    "concentrate_median_rougher = [full['rougher.output.concentrate_ag'].median(),\n",
    "               full['rougher.output.concentrate_pb'].median(),\n",
    "               full['rougher.output.concentrate_au'].median()]\n",
    "concentrate_median_1 = [full['primary_cleaner.output.concentrate_ag'].median(),\n",
    "               full['primary_cleaner.output.concentrate_pb'].median(),\n",
    "               full['primary_cleaner.output.concentrate_au'].median()]\n",
    "concentrate_median_2 = [full['final.output.concentrate_ag'].median(),\n",
    "               full['final.output.concentrate_pb'].median(),\n",
    "               full['final.output.concentrate_au'].median()]\n",
    "stages = ['rougher.input.feed_',\n",
    "          'rougher.output.concentrate_',\n",
    "          'primary_cleaner.output.concentrate_',\n",
    "          'final.output.concentrate_']\n",
    "stages_names = ['сырье до флотации',\n",
    "                'черновой концентрат после флотации', \n",
    "                'концентрат после 1-й очистки', \n",
    "                'финальный концентрат после 2-й очистки']"
   ]
  },
  {
   "cell_type": "code",
   "execution_count": 135,
   "metadata": {},
   "outputs": [
    {
     "data": {
      "image/png": "[encoded data removed]",
      "text/plain": [
       "<Figure size 792x432 with 1 Axes>"
      ]
     },
     "metadata": {
      "needs_background": "light"
     },
     "output_type": "display_data"
    },
    {
     "data": {
      "image/png": "[encoded data removed]",
      "text/plain": [
       "<Figure size 792x432 with 1 Axes>"
      ]
     },
     "metadata": {
      "needs_background": "light"
     },
     "output_type": "display_data"
    },
    {
     "data": {
      "image/png": "[encoded data removed]",
      "text/plain": [
       "<Figure size 792x432 with 1 Axes>"
      ]
     },
     "metadata": {
      "needs_background": "light"
     },
     "output_type": "display_data"
    }
   ],
   "source": [
    "# визуализация концентрации на разных этапах\n",
    "for metal in metals:\n",
    "    plt.figure(figsize=(11, 6))\n",
    "    for stage in stages:\n",
    "        plt.hist(full[f'{stage}{metal}'], bins=30, alpha=0.5)\n",
    "    plt.legend(stages_names)\n",
    "    plt.title(f'Распределение концентрации {metal} на разных этапах')"
   ]
  },
  {
   "cell_type": "code",
   "execution_count": 136,
   "metadata": {},
   "outputs": [
    {
     "data": {
      "image/png": "[encoded data removed]",
      "text/plain": [
       "<Figure size 936x576 with 1 Axes>"
      ]
     },
     "metadata": {
      "needs_background": "light"
     },
     "output_type": "display_data"
    }
   ],
   "source": [
    "# визуализация изменения средней концентрации металлов на разных этапах процесса\n",
    "fig = plt.figure(figsize=(13, 8))\n",
    "ax = fig.add_subplot()\n",
    "x = np.arange(3)\n",
    "w = 0.2\n",
    "ax.bar(x - 1.5*w, concentrate_median_feed, width=w)\n",
    "ax.bar(x - w/2, concentrate_median_rougher, width=w)\n",
    "ax.bar(x + w/2, concentrate_median_1, width=w)\n",
    "ax.bar(x + 1.5*w, concentrate_median_2, width=w)\n",
    "plt.xticks(x, ['Cеребро', 'Свинец', 'Золото'])\n",
    "plt.legend(['feed', 'rougher', 'primary_cleaner', 'secondary_cleaner'])\n",
    "plt.title('Концетрация металлов (Au, Ag, Pb) на различных этапах очистки')\n",
    "plt.show()"
   ]
  },
  {
   "cell_type": "markdown",
   "metadata": {},
   "source": [
    "**Выводы:**<br>\n",
    "Очистка чернового концентрата после флотации (обогащения) проходит в 2 этапа.<br>\n",
    "После обоих этапов наблюдается значительное преобладание золота (Au) над другими металлами, что вполне ожидаемое, ведь именно на получение золота нацелен данный процесс.<br>\n",
    "Процесс флотации увеличивает концентрацию всех металлов по сравнению с их содержанием в сырье.<br>\n",
    "После флотации на каждом этапе очистки концентрация серебра (Ag) падает.<br>\n",
    "После флотации на 1-м этапе очистки концентрация свинца (Pb) растет, а на 2-м этапе почти не меняется по сравнению с 1-м.<br>\n",
    "Концентрация золото значительно увеличивается на каждом этапе очистки."
   ]
  },
  {
   "cell_type": "markdown",
   "metadata": {},
   "source": [
    "### Сравнение распределения размеров гранул сырья на обучающей и тестовой выборках"
   ]
  },
  {
   "cell_type": "code",
   "execution_count": 137,
   "metadata": {},
   "outputs": [
    {
     "data": {
      "image/png": "[encoded data removed]",
      "text/plain": [
       "<Figure size 720x432 with 1 Axes>"
      ]
     },
     "metadata": {
      "needs_background": "light"
     },
     "output_type": "display_data"
    },
    {
     "data": {
      "image/png": "[encoded data removed]",
      "text/plain": [
       "<Figure size 720x432 with 1 Axes>"
      ]
     },
     "metadata": {
      "needs_background": "light"
     },
     "output_type": "display_data"
    }
   ],
   "source": [
    "# визуализация распределения размеров гранул сырья до флотации\n",
    "train['rougher.input.feed_size'].hist(density=True, figsize=(10,6), bins=90)\n",
    "plt.xlim(0, 200)\n",
    "plt.title('Распределение размеров гранул сырья до флотации на обучающей выборке')\n",
    "plt.show()\n",
    "\n",
    "test['rougher.input.feed_size'].hist(density=True, figsize=(10,6), bins=90)\n",
    "plt.xlim(0, 200)\n",
    "plt.title('Распределение размеров гранул сырья до флотации на тестовой выборке')\n",
    "plt.show()"
   ]
  },
  {
   "cell_type": "code",
   "execution_count": 138,
   "metadata": {},
   "outputs": [
    {
     "data": {
      "image/png": "[encoded data removed]",
      "text/plain": [
       "<Figure size 720x432 with 1 Axes>"
      ]
     },
     "metadata": {
      "needs_background": "light"
     },
     "output_type": "display_data"
    },
    {
     "data": {
      "image/png": "[encoded data removed]",
      "text/plain": [
       "<Figure size 720x432 with 1 Axes>"
      ]
     },
     "metadata": {
      "needs_background": "light"
     },
     "output_type": "display_data"
    }
   ],
   "source": [
    "# визуализация распределения размеров гранул сырья после флотации\n",
    "train['primary_cleaner.input.feed_size'].hist(density=True, figsize=(10,6), bins=70)\n",
    "plt.xlim(4, 15)\n",
    "plt.title('Распределение размеров гранул сырья после флотации на обучающей выборке')\n",
    "plt.show()\n",
    "\n",
    "test['primary_cleaner.input.feed_size'].hist(density=True, figsize=(10,6), bins=70)\n",
    "plt.xlim(4, 15)\n",
    "plt.title('Распределение размеров гранул сырья после флотации на тестовой выборке')\n",
    "plt.show()"
   ]
  },
  {
   "cell_type": "markdown",
   "metadata": {},
   "source": [
    "**Вывод:** <br>\n",
    "Как до флотации, так и после нее (перед первым этапом очистки) распределения размеров гранул сырья на обучающей и тестовой выборках очень похожи. Это говорит о том, что оценку модели можно будет расценивать как достаточно достоверную."
   ]
  },
  {
   "cell_type": "markdown",
   "metadata": {},
   "source": [
    "### Исследование суммарной концентрацию всех веществ на разных стадиях"
   ]
  },
  {
   "cell_type": "code",
   "execution_count": 139,
   "metadata": {},
   "outputs": [
    {
     "data": {
      "image/png": "[encoded data removed]",
      "text/plain": [
       "<Figure size 792x432 with 1 Axes>"
      ]
     },
     "metadata": {
      "needs_background": "light"
     },
     "output_type": "display_data"
    }
   ],
   "source": [
    "# визуализация распеределения суммарной концентрации всех веществ\n",
    "chemicals = ['ag', 'pb', 'au', 'sol']\n",
    "stages = ['rougher.input.feed_',\n",
    "          'rougher.output.concentrate_',\n",
    "          'primary_cleaner.output.concentrate_',\n",
    "          'final.output.concentrate_']\n",
    "stages_names = ['сырье до флотации', \n",
    "                'черновой концентрат после флотации', \n",
    "                'концентрат после 1-й очистки', \n",
    "                'финальный концентрат после 2-й очистки']\n",
    "plt.figure(figsize=(11, 6))\n",
    "for stage in stages:\n",
    "    features_input_concentrate = []\n",
    "    for chemical in chemicals:\n",
    "        features_input_concentrate.append(f'{stage}{chemical}')\n",
    "    concentration = full[features_input_concentrate].sum(axis=1)\n",
    "    plt.hist(concentration, bins=30, alpha=0.5)\n",
    "    plt.legend(stages_names)"
   ]
  },
  {
   "cell_type": "markdown",
   "metadata": {},
   "source": [
    "**Вывод:** <br>\n",
    "Распределение суммарной концентрацию всех веществ похоже на разных стадиях.<br>\n",
    "На всех стадиях распределение напоминает нормальное с длинным хвостов влево от среднего.<br>\n",
    "Имеются аномальные значения, когда суммарная концентрация равна 0. Такое возможно только если концентрация каждого вещества равна 0. Такие объекты нужно убрать из обучающей выборки."
   ]
  },
  {
   "cell_type": "code",
   "execution_count": 140,
   "metadata": {},
   "outputs": [],
   "source": [
    "# удаляем все объекты, где значение концентрации каких-либо веществ равно 0\n",
    "features_input_concentrate = []\n",
    "for stage in stages:\n",
    "    for chemical in chemicals:\n",
    "        features_input_concentrate.append(f'{stage}{chemical}')\n",
    "\n",
    "for col in features_input_concentrate:\n",
    "    train = train[train[col] > 0]"
   ]
  },
  {
   "cell_type": "code",
   "execution_count": 141,
   "metadata": {
    "scrolled": true
   },
   "outputs": [
    {
     "name": "stdout",
     "output_type": "stream",
     "text": [
      "<class 'pandas.core.frame.DataFrame'>\n",
      "Int64Index: 13978 entries, 0 to 14578\n",
      "Data columns (total 87 columns):\n",
      " #   Column                                              Non-Null Count  Dtype  \n",
      "---  ------                                              --------------  -----  \n",
      " 0   date                                                13978 non-null  object \n",
      " 1   rougher.input.feed_au                               13978 non-null  float64\n",
      " 2   rougher.input.feed_ag                               13978 non-null  float64\n",
      " 3   rougher.input.feed_pb                               13978 non-null  float64\n",
      " 4   rougher.input.feed_sol                              13978 non-null  float64\n",
      " 5   rougher.input.feed_rate                             13978 non-null  float64\n",
      " 6   rougher.input.feed_size                             13978 non-null  float64\n",
      " 7   rougher.input.floatbank10_sulfate                   13978 non-null  float64\n",
      " 8   rougher.input.floatbank10_xanthate                  13978 non-null  float64\n",
      " 9   rougher.state.floatbank10_a_air                     13978 non-null  float64\n",
      " 10  rougher.state.floatbank10_a_level                   13978 non-null  float64\n",
      " 11  rougher.state.floatbank10_b_air                     13978 non-null  float64\n",
      " 12  rougher.state.floatbank10_b_level                   13978 non-null  float64\n",
      " 13  rougher.state.floatbank10_c_air                     13978 non-null  float64\n",
      " 14  rougher.state.floatbank10_c_level                   13978 non-null  float64\n",
      " 15  rougher.state.floatbank10_d_air                     13978 non-null  float64\n",
      " 16  rougher.state.floatbank10_d_level                   13978 non-null  float64\n",
      " 17  rougher.state.floatbank10_e_air                     13978 non-null  float64\n",
      " 18  rougher.state.floatbank10_e_level                   13978 non-null  float64\n",
      " 19  rougher.state.floatbank10_f_air                     13978 non-null  float64\n",
      " 20  rougher.state.floatbank10_f_level                   13978 non-null  float64\n",
      " 21  rougher.input.floatbank11_sulfate                   13978 non-null  float64\n",
      " 22  rougher.input.floatbank11_xanthate                  13978 non-null  float64\n",
      " 23  rougher.calculation.sulfate_to_au_concentrate       13978 non-null  float64\n",
      " 24  rougher.calculation.floatbank10_sulfate_to_au_feed  13978 non-null  float64\n",
      " 25  rougher.calculation.floatbank11_sulfate_to_au_feed  13978 non-null  float64\n",
      " 26  rougher.calculation.au_pb_ratio                     13978 non-null  float64\n",
      " 27  rougher.output.concentrate_au                       13978 non-null  float64\n",
      " 28  rougher.output.concentrate_ag                       13978 non-null  float64\n",
      " 29  rougher.output.concentrate_pb                       13978 non-null  float64\n",
      " 30  rougher.output.concentrate_sol                      13978 non-null  float64\n",
      " 31  rougher.output.recovery                             13978 non-null  float64\n",
      " 32  rougher.output.tail_au                              13978 non-null  float64\n",
      " 33  rougher.output.tail_ag                              13978 non-null  float64\n",
      " 34  rougher.output.tail_pb                              13978 non-null  float64\n",
      " 35  rougher.output.tail_sol                             13978 non-null  float64\n",
      " 36  primary_cleaner.input.sulfate                       13978 non-null  float64\n",
      " 37  primary_cleaner.input.depressant                    13978 non-null  float64\n",
      " 38  primary_cleaner.input.feed_size                     13978 non-null  float64\n",
      " 39  primary_cleaner.input.xanthate                      13978 non-null  float64\n",
      " 40  primary_cleaner.state.floatbank8_a_air              13978 non-null  float64\n",
      " 41  primary_cleaner.state.floatbank8_a_level            13978 non-null  float64\n",
      " 42  primary_cleaner.state.floatbank8_b_air              13978 non-null  float64\n",
      " 43  primary_cleaner.state.floatbank8_b_level            13978 non-null  float64\n",
      " 44  primary_cleaner.state.floatbank8_c_air              13978 non-null  float64\n",
      " 45  primary_cleaner.state.floatbank8_c_level            13978 non-null  float64\n",
      " 46  primary_cleaner.state.floatbank8_d_air              13978 non-null  float64\n",
      " 47  primary_cleaner.state.floatbank8_d_level            13978 non-null  float64\n",
      " 48  primary_cleaner.output.concentrate_au               13978 non-null  float64\n",
      " 49  primary_cleaner.output.concentrate_ag               13978 non-null  float64\n",
      " 50  primary_cleaner.output.concentrate_pb               13978 non-null  float64\n",
      " 51  primary_cleaner.output.concentrate_sol              13978 non-null  float64\n",
      " 52  primary_cleaner.output.tail_au                      13978 non-null  float64\n",
      " 53  primary_cleaner.output.tail_ag                      13978 non-null  float64\n",
      " 54  primary_cleaner.output.tail_pb                      13978 non-null  float64\n",
      " 55  primary_cleaner.output.tail_sol                     13978 non-null  float64\n",
      " 56  secondary_cleaner.state.floatbank2_a_air            13978 non-null  float64\n",
      " 57  secondary_cleaner.state.floatbank2_a_level          13978 non-null  float64\n",
      " 58  secondary_cleaner.state.floatbank2_b_air            13978 non-null  float64\n",
      " 59  secondary_cleaner.state.floatbank2_b_level          13978 non-null  float64\n",
      " 60  secondary_cleaner.state.floatbank3_a_air            13978 non-null  float64\n",
      " 61  secondary_cleaner.state.floatbank3_a_level          13978 non-null  float64\n",
      " 62  secondary_cleaner.state.floatbank3_b_air            13978 non-null  float64\n",
      " 63  secondary_cleaner.state.floatbank3_b_level          13978 non-null  float64\n",
      " 64  secondary_cleaner.state.floatbank4_a_air            13978 non-null  float64\n",
      " 65  secondary_cleaner.state.floatbank4_a_level          13978 non-null  float64\n",
      " 66  secondary_cleaner.state.floatbank4_b_air            13978 non-null  float64\n",
      " 67  secondary_cleaner.state.floatbank4_b_level          13978 non-null  float64\n",
      " 68  secondary_cleaner.state.floatbank5_a_air            13978 non-null  float64\n",
      " 69  secondary_cleaner.state.floatbank5_a_level          13978 non-null  float64\n",
      " 70  secondary_cleaner.state.floatbank5_b_air            13978 non-null  float64\n",
      " 71  secondary_cleaner.state.floatbank5_b_level          13978 non-null  float64\n",
      " 72  secondary_cleaner.state.floatbank6_a_air            13978 non-null  float64\n",
      " 73  secondary_cleaner.state.floatbank6_a_level          13978 non-null  float64\n",
      " 74  secondary_cleaner.output.tail_au                    13978 non-null  float64\n",
      " 75  secondary_cleaner.output.tail_ag                    13978 non-null  float64\n",
      " 76  secondary_cleaner.output.tail_pb                    13978 non-null  float64\n",
      " 77  secondary_cleaner.output.tail_sol                   13978 non-null  float64\n",
      " 78  final.output.concentrate_au                         13978 non-null  float64\n",
      " 79  final.output.concentrate_ag                         13978 non-null  float64\n",
      " 80  final.output.concentrate_pb                         13978 non-null  float64\n",
      " 81  final.output.concentrate_sol                        13978 non-null  float64\n",
      " 82  final.output.recovery                               13978 non-null  float64\n",
      " 83  final.output.tail_au                                13978 non-null  float64\n",
      " 84  final.output.tail_ag                                13978 non-null  float64\n",
      " 85  final.output.tail_pb                                13978 non-null  float64\n",
      " 86  final.output.tail_sol                               13978 non-null  float64\n",
      "dtypes: float64(86), object(1)\n",
      "memory usage: 9.4+ MB\n"
     ]
    }
   ],
   "source": [
    "train.info()"
   ]
  },
  {
   "cell_type": "markdown",
   "metadata": {},
   "source": [
    "Мы убрали из данных все объекты в которых значение концентрации каких-либо веществ равно 0. <br>\n",
    "Количество данных уменьшилось лишь на **4%**, что не является существенной потерей."
   ]
  },
  {
   "cell_type": "markdown",
   "metadata": {},
   "source": [
    "## Модель"
   ]
  },
  {
   "cell_type": "markdown",
   "metadata": {},
   "source": [
    "### Подготовка данных к обучению"
   ]
  },
  {
   "cell_type": "code",
   "execution_count": 142,
   "metadata": {
    "scrolled": true
   },
   "outputs": [
    {
     "name": "stdout",
     "output_type": "stream",
     "text": [
      "<class 'pandas.core.frame.DataFrame'>\n",
      "Int64Index: 13978 entries, 0 to 14578\n",
      "Data columns (total 55 columns):\n",
      " #   Column                                      Non-Null Count  Dtype  \n",
      "---  ------                                      --------------  -----  \n",
      " 0   date                                        13978 non-null  object \n",
      " 1   rougher.input.feed_au                       13978 non-null  float64\n",
      " 2   rougher.input.feed_ag                       13978 non-null  float64\n",
      " 3   rougher.input.feed_pb                       13978 non-null  float64\n",
      " 4   rougher.input.feed_sol                      13978 non-null  float64\n",
      " 5   rougher.input.feed_rate                     13978 non-null  float64\n",
      " 6   rougher.input.feed_size                     13978 non-null  float64\n",
      " 7   rougher.input.floatbank10_sulfate           13978 non-null  float64\n",
      " 8   rougher.input.floatbank10_xanthate          13978 non-null  float64\n",
      " 9   rougher.state.floatbank10_a_air             13978 non-null  float64\n",
      " 10  rougher.state.floatbank10_a_level           13978 non-null  float64\n",
      " 11  rougher.state.floatbank10_b_air             13978 non-null  float64\n",
      " 12  rougher.state.floatbank10_b_level           13978 non-null  float64\n",
      " 13  rougher.state.floatbank10_c_air             13978 non-null  float64\n",
      " 14  rougher.state.floatbank10_c_level           13978 non-null  float64\n",
      " 15  rougher.state.floatbank10_d_air             13978 non-null  float64\n",
      " 16  rougher.state.floatbank10_d_level           13978 non-null  float64\n",
      " 17  rougher.state.floatbank10_e_air             13978 non-null  float64\n",
      " 18  rougher.state.floatbank10_e_level           13978 non-null  float64\n",
      " 19  rougher.state.floatbank10_f_air             13978 non-null  float64\n",
      " 20  rougher.state.floatbank10_f_level           13978 non-null  float64\n",
      " 21  rougher.input.floatbank11_sulfate           13978 non-null  float64\n",
      " 22  rougher.input.floatbank11_xanthate          13978 non-null  float64\n",
      " 23  rougher.output.recovery                     13978 non-null  float64\n",
      " 24  primary_cleaner.input.sulfate               13978 non-null  float64\n",
      " 25  primary_cleaner.input.depressant            13978 non-null  float64\n",
      " 26  primary_cleaner.input.feed_size             13978 non-null  float64\n",
      " 27  primary_cleaner.input.xanthate              13978 non-null  float64\n",
      " 28  primary_cleaner.state.floatbank8_a_air      13978 non-null  float64\n",
      " 29  primary_cleaner.state.floatbank8_a_level    13978 non-null  float64\n",
      " 30  primary_cleaner.state.floatbank8_b_air      13978 non-null  float64\n",
      " 31  primary_cleaner.state.floatbank8_b_level    13978 non-null  float64\n",
      " 32  primary_cleaner.state.floatbank8_c_air      13978 non-null  float64\n",
      " 33  primary_cleaner.state.floatbank8_c_level    13978 non-null  float64\n",
      " 34  primary_cleaner.state.floatbank8_d_air      13978 non-null  float64\n",
      " 35  primary_cleaner.state.floatbank8_d_level    13978 non-null  float64\n",
      " 36  secondary_cleaner.state.floatbank2_a_air    13978 non-null  float64\n",
      " 37  secondary_cleaner.state.floatbank2_a_level  13978 non-null  float64\n",
      " 38  secondary_cleaner.state.floatbank2_b_air    13978 non-null  float64\n",
      " 39  secondary_cleaner.state.floatbank2_b_level  13978 non-null  float64\n",
      " 40  secondary_cleaner.state.floatbank3_a_air    13978 non-null  float64\n",
      " 41  secondary_cleaner.state.floatbank3_a_level  13978 non-null  float64\n",
      " 42  secondary_cleaner.state.floatbank3_b_air    13978 non-null  float64\n",
      " 43  secondary_cleaner.state.floatbank3_b_level  13978 non-null  float64\n",
      " 44  secondary_cleaner.state.floatbank4_a_air    13978 non-null  float64\n",
      " 45  secondary_cleaner.state.floatbank4_a_level  13978 non-null  float64\n",
      " 46  secondary_cleaner.state.floatbank4_b_air    13978 non-null  float64\n",
      " 47  secondary_cleaner.state.floatbank4_b_level  13978 non-null  float64\n",
      " 48  secondary_cleaner.state.floatbank5_a_air    13978 non-null  float64\n",
      " 49  secondary_cleaner.state.floatbank5_a_level  13978 non-null  float64\n",
      " 50  secondary_cleaner.state.floatbank5_b_air    13978 non-null  float64\n",
      " 51  secondary_cleaner.state.floatbank5_b_level  13978 non-null  float64\n",
      " 52  secondary_cleaner.state.floatbank6_a_air    13978 non-null  float64\n",
      " 53  secondary_cleaner.state.floatbank6_a_level  13978 non-null  float64\n",
      " 54  final.output.recovery                       13978 non-null  float64\n",
      "dtypes: float64(54), object(1)\n",
      "memory usage: 6.0+ MB\n"
     ]
    }
   ],
   "source": [
    "# удаляем из обучающих данных столбцы с признаками, которых нет в тесте\n",
    "train = train.drop(columns=features_to_delete, axis = 1)\n",
    "train.info()"
   ]
  },
  {
   "cell_type": "markdown",
   "metadata": {},
   "source": [
    "**Делим выборки на features и target**\n",
    "\n",
    "Целевые признаки, отсутвующие в тестовой выборке, можно извлечь из исходного датасета `full` по дате и времени."
   ]
  },
  {
   "cell_type": "code",
   "execution_count": 143,
   "metadata": {},
   "outputs": [
    {
     "data": {
      "text/html": [
       "<div>\n",
       "<style scoped>\n",
       "    .dataframe tbody tr th:only-of-type {\n",
       "        vertical-align: middle;\n",
       "    }\n",
       "\n",
       "    .dataframe tbody tr th {\n",
       "        vertical-align: top;\n",
       "    }\n",
       "\n",
       "    .dataframe thead th {\n",
       "        text-align: right;\n",
       "    }\n",
       "</style>\n",
       "<table border=\"1\" class=\"dataframe\">\n",
       "  <thead>\n",
       "    <tr style=\"text-align: right;\">\n",
       "      <th></th>\n",
       "      <th>date</th>\n",
       "      <th>rougher.input.feed_au</th>\n",
       "      <th>rougher.input.feed_ag</th>\n",
       "      <th>rougher.input.feed_pb</th>\n",
       "      <th>rougher.input.feed_sol</th>\n",
       "      <th>rougher.input.feed_rate</th>\n",
       "      <th>rougher.input.feed_size</th>\n",
       "      <th>rougher.input.floatbank10_sulfate</th>\n",
       "      <th>rougher.input.floatbank10_xanthate</th>\n",
       "      <th>rougher.state.floatbank10_a_air</th>\n",
       "      <th>...</th>\n",
       "      <th>secondary_cleaner.state.floatbank4_b_air</th>\n",
       "      <th>secondary_cleaner.state.floatbank4_b_level</th>\n",
       "      <th>secondary_cleaner.state.floatbank5_a_air</th>\n",
       "      <th>secondary_cleaner.state.floatbank5_a_level</th>\n",
       "      <th>secondary_cleaner.state.floatbank5_b_air</th>\n",
       "      <th>secondary_cleaner.state.floatbank5_b_level</th>\n",
       "      <th>secondary_cleaner.state.floatbank6_a_air</th>\n",
       "      <th>secondary_cleaner.state.floatbank6_a_level</th>\n",
       "      <th>rougher.output.recovery</th>\n",
       "      <th>final.output.recovery</th>\n",
       "    </tr>\n",
       "  </thead>\n",
       "  <tbody>\n",
       "    <tr>\n",
       "      <th>4855</th>\n",
       "      <td>2018-08-18 06:59:59</td>\n",
       "      <td>6.62</td>\n",
       "      <td>5.99</td>\n",
       "      <td>2.59</td>\n",
       "      <td>39.93</td>\n",
       "      <td>578.65</td>\n",
       "      <td>63.47</td>\n",
       "      <td>14.69</td>\n",
       "      <td>6.90</td>\n",
       "      <td>999.69</td>\n",
       "      <td>...</td>\n",
       "      <td>12.02</td>\n",
       "      <td>-501.14</td>\n",
       "      <td>10.04</td>\n",
       "      <td>-499.34</td>\n",
       "      <td>8.01</td>\n",
       "      <td>-500.28</td>\n",
       "      <td>14.00</td>\n",
       "      <td>-602.07</td>\n",
       "      <td>85.46</td>\n",
       "      <td>68.79</td>\n",
       "    </tr>\n",
       "    <tr>\n",
       "      <th>4856</th>\n",
       "      <td>2018-08-18 07:59:59</td>\n",
       "      <td>6.74</td>\n",
       "      <td>6.16</td>\n",
       "      <td>2.65</td>\n",
       "      <td>40.18</td>\n",
       "      <td>571.62</td>\n",
       "      <td>62.82</td>\n",
       "      <td>14.89</td>\n",
       "      <td>6.90</td>\n",
       "      <td>1,000.48</td>\n",
       "      <td>...</td>\n",
       "      <td>11.97</td>\n",
       "      <td>-500.66</td>\n",
       "      <td>10.05</td>\n",
       "      <td>-498.32</td>\n",
       "      <td>8.02</td>\n",
       "      <td>-499.70</td>\n",
       "      <td>13.96</td>\n",
       "      <td>-599.21</td>\n",
       "      <td>85.44</td>\n",
       "      <td>67.84</td>\n",
       "    </tr>\n",
       "    <tr>\n",
       "      <th>4857</th>\n",
       "      <td>2018-08-18 08:59:59</td>\n",
       "      <td>6.63</td>\n",
       "      <td>6.02</td>\n",
       "      <td>2.47</td>\n",
       "      <td>39.84</td>\n",
       "      <td>563.73</td>\n",
       "      <td>61.29</td>\n",
       "      <td>13.72</td>\n",
       "      <td>6.70</td>\n",
       "      <td>1,000.01</td>\n",
       "      <td>...</td>\n",
       "      <td>11.98</td>\n",
       "      <td>-500.61</td>\n",
       "      <td>9.96</td>\n",
       "      <td>-499.26</td>\n",
       "      <td>8.07</td>\n",
       "      <td>-499.49</td>\n",
       "      <td>14.00</td>\n",
       "      <td>-600.62</td>\n",
       "      <td>87.24</td>\n",
       "      <td>70.85</td>\n",
       "    </tr>\n",
       "    <tr>\n",
       "      <th>4858</th>\n",
       "      <td>2018-08-18 09:59:59</td>\n",
       "      <td>6.70</td>\n",
       "      <td>6.10</td>\n",
       "      <td>2.28</td>\n",
       "      <td>37.73</td>\n",
       "      <td>549.81</td>\n",
       "      <td>59.64</td>\n",
       "      <td>13.75</td>\n",
       "      <td>6.71</td>\n",
       "      <td>999.64</td>\n",
       "      <td>...</td>\n",
       "      <td>11.93</td>\n",
       "      <td>-500.58</td>\n",
       "      <td>9.97</td>\n",
       "      <td>-498.82</td>\n",
       "      <td>8.02</td>\n",
       "      <td>-499.01</td>\n",
       "      <td>14.00</td>\n",
       "      <td>-600.02</td>\n",
       "      <td>89.30</td>\n",
       "      <td>72.66</td>\n",
       "    </tr>\n",
       "    <tr>\n",
       "      <th>4859</th>\n",
       "      <td>2018-08-18 10:59:59</td>\n",
       "      <td>6.63</td>\n",
       "      <td>5.91</td>\n",
       "      <td>2.44</td>\n",
       "      <td>36.96</td>\n",
       "      <td>573.08</td>\n",
       "      <td>58.51</td>\n",
       "      <td>13.71</td>\n",
       "      <td>6.82</td>\n",
       "      <td>1,000.59</td>\n",
       "      <td>...</td>\n",
       "      <td>12.05</td>\n",
       "      <td>-500.93</td>\n",
       "      <td>9.96</td>\n",
       "      <td>-502.99</td>\n",
       "      <td>7.98</td>\n",
       "      <td>-500.15</td>\n",
       "      <td>13.98</td>\n",
       "      <td>-598.07</td>\n",
       "      <td>87.65</td>\n",
       "      <td>70.28</td>\n",
       "    </tr>\n",
       "  </tbody>\n",
       "</table>\n",
       "<p>5 rows × 55 columns</p>\n",
       "</div>"
      ],
      "text/plain": [
       "                     date  rougher.input.feed_au  rougher.input.feed_ag  \\\n",
       "4855  2018-08-18 06:59:59                   6.62                   5.99   \n",
       "4856  2018-08-18 07:59:59                   6.74                   6.16   \n",
       "4857  2018-08-18 08:59:59                   6.63                   6.02   \n",
       "4858  2018-08-18 09:59:59                   6.70                   6.10   \n",
       "4859  2018-08-18 10:59:59                   6.63                   5.91   \n",
       "\n",
       "      rougher.input.feed_pb  rougher.input.feed_sol  rougher.input.feed_rate  \\\n",
       "4855                   2.59                   39.93                   578.65   \n",
       "4856                   2.65                   40.18                   571.62   \n",
       "4857                   2.47                   39.84                   563.73   \n",
       "4858                   2.28                   37.73                   549.81   \n",
       "4859                   2.44                   36.96                   573.08   \n",
       "\n",
       "      rougher.input.feed_size  rougher.input.floatbank10_sulfate  \\\n",
       "4855                    63.47                              14.69   \n",
       "4856                    62.82                              14.89   \n",
       "4857                    61.29                              13.72   \n",
       "4858                    59.64                              13.75   \n",
       "4859                    58.51                              13.71   \n",
       "\n",
       "      rougher.input.floatbank10_xanthate  rougher.state.floatbank10_a_air  \\\n",
       "4855                                6.90                           999.69   \n",
       "4856                                6.90                         1,000.48   \n",
       "4857                                6.70                         1,000.01   \n",
       "4858                                6.71                           999.64   \n",
       "4859                                6.82                         1,000.59   \n",
       "\n",
       "      ...  secondary_cleaner.state.floatbank4_b_air  \\\n",
       "4855  ...                                     12.02   \n",
       "4856  ...                                     11.97   \n",
       "4857  ...                                     11.98   \n",
       "4858  ...                                     11.93   \n",
       "4859  ...                                     12.05   \n",
       "\n",
       "      secondary_cleaner.state.floatbank4_b_level  \\\n",
       "4855                                     -501.14   \n",
       "4856                                     -500.66   \n",
       "4857                                     -500.61   \n",
       "4858                                     -500.58   \n",
       "4859                                     -500.93   \n",
       "\n",
       "      secondary_cleaner.state.floatbank5_a_air  \\\n",
       "4855                                     10.04   \n",
       "4856                                     10.05   \n",
       "4857                                      9.96   \n",
       "4858                                      9.97   \n",
       "4859                                      9.96   \n",
       "\n",
       "      secondary_cleaner.state.floatbank5_a_level  \\\n",
       "4855                                     -499.34   \n",
       "4856                                     -498.32   \n",
       "4857                                     -499.26   \n",
       "4858                                     -498.82   \n",
       "4859                                     -502.99   \n",
       "\n",
       "      secondary_cleaner.state.floatbank5_b_air  \\\n",
       "4855                                      8.01   \n",
       "4856                                      8.02   \n",
       "4857                                      8.07   \n",
       "4858                                      8.02   \n",
       "4859                                      7.98   \n",
       "\n",
       "      secondary_cleaner.state.floatbank5_b_level  \\\n",
       "4855                                     -500.28   \n",
       "4856                                     -499.70   \n",
       "4857                                     -499.49   \n",
       "4858                                     -499.01   \n",
       "4859                                     -500.15   \n",
       "\n",
       "      secondary_cleaner.state.floatbank6_a_air  \\\n",
       "4855                                     14.00   \n",
       "4856                                     13.96   \n",
       "4857                                     14.00   \n",
       "4858                                     14.00   \n",
       "4859                                     13.98   \n",
       "\n",
       "      secondary_cleaner.state.floatbank6_a_level  rougher.output.recovery  \\\n",
       "4855                                     -602.07                    85.46   \n",
       "4856                                     -599.21                    85.44   \n",
       "4857                                     -600.62                    87.24   \n",
       "4858                                     -600.02                    89.30   \n",
       "4859                                     -598.07                    87.65   \n",
       "\n",
       "      final.output.recovery  \n",
       "4855                  68.79  \n",
       "4856                  67.84  \n",
       "4857                  70.85  \n",
       "4858                  72.66  \n",
       "4859                  70.28  \n",
       "\n",
       "[5 rows x 55 columns]"
      ]
     },
     "metadata": {},
     "output_type": "display_data"
    }
   ],
   "source": [
    "full_recovery = full[['date','rougher.output.recovery','final.output.recovery']].copy()\n",
    "test_from_full = full_recovery.query('date in @test.date')\n",
    "\n",
    "#добавим данные recovery к тесту\n",
    "test= test.merge(test_from_full,on='date')\n",
    "display(test[-5:])"
   ]
  },
  {
   "cell_type": "code",
   "execution_count": 144,
   "metadata": {},
   "outputs": [],
   "source": [
    "# делим выборки на features и target\n",
    "features_train = train.drop(['rougher.output.recovery', 'final.output.recovery', 'date'], axis=1).reset_index(drop=True)\n",
    "target_train_rougher = train['rougher.output.recovery'].reset_index(drop=True)\n",
    "target_train_final = train['final.output.recovery'].reset_index(drop=True)\n",
    "\n",
    "features_test = test.drop(['rougher.output.recovery', 'final.output.recovery', 'date'], axis=1).reset_index(drop=True)\n",
    "target_test_rougher = test['rougher.output.recovery'].reset_index(drop=True)\n",
    "target_test_final = test['final.output.recovery'].reset_index(drop=True)"
   ]
  },
  {
   "cell_type": "markdown",
   "metadata": {},
   "source": [
    "Данные для обучения и проверки качества готовы:\n",
    "- `features_train`, `target_train_rougher` и `target_train_final`   - **обучающая выборка**\n",
    "- `features_test`, `target_test_rougher` и `target_test_final`      - **тестовая выборка**\n"
   ]
  },
  {
   "cell_type": "markdown",
   "metadata": {},
   "source": [
    "### Функция для вычисления sMAPE"
   ]
  },
  {
   "cell_type": "code",
   "execution_count": 146,
   "metadata": {},
   "outputs": [],
   "source": [
    "def smape(y_true, y_pred):\n",
    "    error = np.abs(y_true - y_pred)\n",
    "    scale = (np.abs(y_true) + np.abs(y_pred)) / 2\n",
    "    return np.mean(error / scale) * 100"
   ]
  },
  {
   "cell_type": "code",
   "execution_count": 147,
   "metadata": {},
   "outputs": [],
   "source": [
    "smape_scorer = make_scorer(smape, greater_is_better=False)"
   ]
  },
  {
   "cell_type": "markdown",
   "metadata": {},
   "source": [
    "### Обучение модели для предсказания эффективности обогащения чернового концентрата"
   ]
  },
  {
   "cell_type": "markdown",
   "metadata": {},
   "source": [
    "**Дерево решений**"
   ]
  },
  {
   "cell_type": "code",
   "execution_count": 45,
   "metadata": {},
   "outputs": [
    {
     "name": "stdout",
     "output_type": "stream",
     "text": [
      "Fitting 5 folds for each of 12 candidates, totalling 60 fits\n",
      "CPU times: user 22 s, sys: 52.6 ms, total: 22 s\n",
      "Wall time: 22.2 s\n"
     ]
    }
   ],
   "source": [
    "%%time\n",
    "\n",
    "parametrs = {'max_depth': range(1, 13)}\n",
    "\n",
    "model = DecisionTreeRegressor(random_state=42)\n",
    "# подбор лучших параметров модели\n",
    "grid = GridSearchCV(model, parametrs, scoring=smape_scorer, verbose=1)\n",
    "grid.fit(features_train, target_train_rougher)\n",
    "\n",
    "best_model_tree_rougher = grid.best_estimator_\n",
    "best_parametrs_tree_rougher = grid.best_params_\n",
    "best_result_tree_rougher = grid.best_score_"
   ]
  },
  {
   "cell_type": "code",
   "execution_count": 46,
   "metadata": {},
   "outputs": [
    {
     "data": {
      "text/plain": [
       "-6.669419107768784"
      ]
     },
     "metadata": {},
     "output_type": "display_data"
    },
    {
     "data": {
      "text/plain": [
       "{'max_depth': 6}"
      ]
     },
     "metadata": {},
     "output_type": "display_data"
    }
   ],
   "source": [
    "display(best_result_tree_rougher) # лучший результат sMAPE модели\n",
    "display(best_parametrs_tree_rougher) # лучшие параметры модели"
   ]
  },
  {
   "cell_type": "markdown",
   "metadata": {},
   "source": [
    "**Случайный лес**"
   ]
  },
  {
   "cell_type": "code",
   "execution_count": 187,
   "metadata": {
    "scrolled": true
   },
   "outputs": [
    {
     "name": "stdout",
     "output_type": "stream",
     "text": [
      "Fitting 5 folds for each of 72 candidates, totalling 360 fits\n",
      "[CV] END .......................max_depth=1, n_estimators=30; total time=   1.3s\n",
      "[CV] END .......................max_depth=1, n_estimators=30; total time=   1.3s\n",
      "[CV] END .......................max_depth=1, n_estimators=30; total time=   1.3s\n",
      "[CV] END .......................max_depth=1, n_estimators=30; total time=   1.3s\n",
      "[CV] END .......................max_depth=1, n_estimators=30; total time=   1.3s\n",
      "[CV] END .......................max_depth=1, n_estimators=40; total time=   1.7s\n",
      "[CV] END .......................max_depth=1, n_estimators=40; total time=   1.8s\n",
      "[CV] END .......................max_depth=1, n_estimators=40; total time=   1.9s\n",
      "[CV] END .......................max_depth=1, n_estimators=40; total time=   1.9s\n",
      "[CV] END .......................max_depth=1, n_estimators=40; total time=   1.9s\n",
      "[CV] END .......................max_depth=1, n_estimators=50; total time=   2.2s\n",
      "[CV] END .......................max_depth=1, n_estimators=50; total time=   2.3s\n",
      "[CV] END .......................max_depth=1, n_estimators=50; total time=   2.2s\n",
      "[CV] END .......................max_depth=1, n_estimators=50; total time=   2.2s\n",
      "[CV] END .......................max_depth=1, n_estimators=50; total time=   2.1s\n",
      "[CV] END .......................max_depth=1, n_estimators=60; total time=   2.6s\n",
      "[CV] END .......................max_depth=1, n_estimators=60; total time=   2.5s\n",
      "[CV] END .......................max_depth=1, n_estimators=60; total time=   2.5s\n",
      "[CV] END .......................max_depth=1, n_estimators=60; total time=   2.5s\n",
      "[CV] END .......................max_depth=1, n_estimators=60; total time=   2.6s\n",
      "[CV] END .......................max_depth=1, n_estimators=70; total time=   3.1s\n",
      "[CV] END .......................max_depth=1, n_estimators=70; total time=   3.2s\n",
      "[CV] END .......................max_depth=1, n_estimators=70; total time=   3.2s\n",
      "[CV] END .......................max_depth=1, n_estimators=70; total time=   3.2s\n",
      "[CV] END .......................max_depth=1, n_estimators=70; total time=   3.2s\n",
      "[CV] END .......................max_depth=1, n_estimators=80; total time=   3.5s\n",
      "[CV] END .......................max_depth=1, n_estimators=80; total time=   3.4s\n",
      "[CV] END .......................max_depth=1, n_estimators=80; total time=   3.4s\n",
      "[CV] END .......................max_depth=1, n_estimators=80; total time=   3.5s\n",
      "[CV] END .......................max_depth=1, n_estimators=80; total time=   3.7s\n",
      "[CV] END .......................max_depth=1, n_estimators=90; total time=   4.2s\n",
      "[CV] END .......................max_depth=1, n_estimators=90; total time=   3.9s\n",
      "[CV] END .......................max_depth=1, n_estimators=90; total time=   3.8s\n",
      "[CV] END .......................max_depth=1, n_estimators=90; total time=   3.9s\n",
      "[CV] END .......................max_depth=1, n_estimators=90; total time=   4.0s\n",
      "[CV] END ......................max_depth=1, n_estimators=100; total time=   4.4s\n",
      "[CV] END ......................max_depth=1, n_estimators=100; total time=   4.4s\n",
      "[CV] END ......................max_depth=1, n_estimators=100; total time=   4.6s\n",
      "[CV] END ......................max_depth=1, n_estimators=100; total time=   4.4s\n",
      "[CV] END ......................max_depth=1, n_estimators=100; total time=   4.3s\n",
      "[CV] END .......................max_depth=2, n_estimators=30; total time=   2.5s\n",
      "[CV] END .......................max_depth=2, n_estimators=30; total time=   2.5s\n",
      "[CV] END .......................max_depth=2, n_estimators=30; total time=   2.4s\n",
      "[CV] END .......................max_depth=2, n_estimators=30; total time=   2.4s\n",
      "[CV] END .......................max_depth=2, n_estimators=30; total time=   2.4s\n",
      "[CV] END .......................max_depth=2, n_estimators=40; total time=   3.4s\n",
      "[CV] END .......................max_depth=2, n_estimators=40; total time=   3.4s\n",
      "[CV] END .......................max_depth=2, n_estimators=40; total time=   3.4s\n",
      "[CV] END .......................max_depth=2, n_estimators=40; total time=   3.5s\n",
      "[CV] END .......................max_depth=2, n_estimators=40; total time=   3.3s\n",
      "[CV] END .......................max_depth=2, n_estimators=50; total time=   4.1s\n",
      "[CV] END .......................max_depth=2, n_estimators=50; total time=   4.2s\n",
      "[CV] END .......................max_depth=2, n_estimators=50; total time=   4.0s\n",
      "[CV] END .......................max_depth=2, n_estimators=50; total time=   4.1s\n",
      "[CV] END .......................max_depth=2, n_estimators=50; total time=   4.4s\n",
      "[CV] END .......................max_depth=2, n_estimators=60; total time=   5.2s\n",
      "[CV] END .......................max_depth=2, n_estimators=60; total time=   5.2s\n",
      "[CV] END .......................max_depth=2, n_estimators=60; total time=   5.0s\n",
      "[CV] END .......................max_depth=2, n_estimators=60; total time=   4.8s\n",
      "[CV] END .......................max_depth=2, n_estimators=60; total time=   4.8s\n",
      "[CV] END .......................max_depth=2, n_estimators=70; total time=   5.6s\n",
      "[CV] END .......................max_depth=2, n_estimators=70; total time=   5.7s\n",
      "[CV] END .......................max_depth=2, n_estimators=70; total time=   5.6s\n",
      "[CV] END .......................max_depth=2, n_estimators=70; total time=   5.6s\n",
      "[CV] END .......................max_depth=2, n_estimators=70; total time=   5.5s\n",
      "[CV] END .......................max_depth=2, n_estimators=80; total time=   6.8s\n",
      "[CV] END .......................max_depth=2, n_estimators=80; total time=   6.5s\n",
      "[CV] END .......................max_depth=2, n_estimators=80; total time=   6.5s\n",
      "[CV] END .......................max_depth=2, n_estimators=80; total time=   6.5s\n",
      "[CV] END .......................max_depth=2, n_estimators=80; total time=   6.6s\n",
      "[CV] END .......................max_depth=2, n_estimators=90; total time=   7.6s\n",
      "[CV] END .......................max_depth=2, n_estimators=90; total time=   7.2s\n",
      "[CV] END .......................max_depth=2, n_estimators=90; total time=   7.2s\n",
      "[CV] END .......................max_depth=2, n_estimators=90; total time=   7.3s\n",
      "[CV] END .......................max_depth=2, n_estimators=90; total time=   7.7s\n",
      "[CV] END ......................max_depth=2, n_estimators=100; total time=   8.1s\n",
      "[CV] END ......................max_depth=2, n_estimators=100; total time=   8.0s\n",
      "[CV] END ......................max_depth=2, n_estimators=100; total time=   8.4s\n",
      "[CV] END ......................max_depth=2, n_estimators=100; total time=   8.3s\n",
      "[CV] END ......................max_depth=2, n_estimators=100; total time=   8.0s\n",
      "[CV] END .......................max_depth=3, n_estimators=30; total time=   3.5s\n",
      "[CV] END .......................max_depth=3, n_estimators=30; total time=   3.5s\n",
      "[CV] END .......................max_depth=3, n_estimators=30; total time=   3.8s\n",
      "[CV] END .......................max_depth=3, n_estimators=30; total time=   3.9s\n",
      "[CV] END .......................max_depth=3, n_estimators=30; total time=   3.6s\n",
      "[CV] END .......................max_depth=3, n_estimators=40; total time=   4.7s\n",
      "[CV] END .......................max_depth=3, n_estimators=40; total time=   4.6s\n",
      "[CV] END .......................max_depth=3, n_estimators=40; total time=   4.7s\n",
      "[CV] END .......................max_depth=3, n_estimators=40; total time=   4.6s\n",
      "[CV] END .......................max_depth=3, n_estimators=40; total time=   4.8s\n",
      "[CV] END .......................max_depth=3, n_estimators=50; total time=   6.3s\n",
      "[CV] END .......................max_depth=3, n_estimators=50; total time=   5.8s\n",
      "[CV] END .......................max_depth=3, n_estimators=50; total time=   5.7s\n",
      "[CV] END .......................max_depth=3, n_estimators=50; total time=   5.8s\n",
      "[CV] END .......................max_depth=3, n_estimators=50; total time=   5.8s\n",
      "[CV] END .......................max_depth=3, n_estimators=60; total time=   7.4s\n",
      "[CV] END .......................max_depth=3, n_estimators=60; total time=   7.0s\n",
      "[CV] END .......................max_depth=3, n_estimators=60; total time=   7.0s\n",
      "[CV] END .......................max_depth=3, n_estimators=60; total time=   6.8s\n",
      "[CV] END .......................max_depth=3, n_estimators=60; total time=   6.9s\n",
      "[CV] END .......................max_depth=3, n_estimators=70; total time=   8.1s\n",
      "[CV] END .......................max_depth=3, n_estimators=70; total time=   8.1s\n",
      "[CV] END .......................max_depth=3, n_estimators=70; total time=   8.1s\n",
      "[CV] END .......................max_depth=3, n_estimators=70; total time=   8.8s\n",
      "[CV] END .......................max_depth=3, n_estimators=70; total time=   8.2s\n",
      "[CV] END .......................max_depth=3, n_estimators=80; total time=   9.4s\n",
      "[CV] END .......................max_depth=3, n_estimators=80; total time=  10.0s\n",
      "[CV] END .......................max_depth=3, n_estimators=80; total time=   9.3s\n",
      "[CV] END .......................max_depth=3, n_estimators=80; total time=   9.3s\n",
      "[CV] END .......................max_depth=3, n_estimators=80; total time=   9.5s\n",
      "[CV] END .......................max_depth=3, n_estimators=90; total time=  10.9s\n",
      "[CV] END .......................max_depth=3, n_estimators=90; total time=  10.7s\n",
      "[CV] END .......................max_depth=3, n_estimators=90; total time=  10.5s\n",
      "[CV] END .......................max_depth=3, n_estimators=90; total time=  10.4s\n",
      "[CV] END .......................max_depth=3, n_estimators=90; total time=  10.4s\n",
      "[CV] END ......................max_depth=3, n_estimators=100; total time=  12.6s\n",
      "[CV] END ......................max_depth=3, n_estimators=100; total time=  11.6s\n",
      "[CV] END ......................max_depth=3, n_estimators=100; total time=  11.5s\n",
      "[CV] END ......................max_depth=3, n_estimators=100; total time=  11.5s\n",
      "[CV] END ......................max_depth=3, n_estimators=100; total time=  11.5s\n",
      "[CV] END .......................max_depth=4, n_estimators=30; total time=   4.6s\n",
      "[CV] END .......................max_depth=4, n_estimators=30; total time=   4.7s\n",
      "[CV] END .......................max_depth=4, n_estimators=30; total time=   4.6s\n",
      "[CV] END .......................max_depth=4, n_estimators=30; total time=   4.5s\n",
      "[CV] END .......................max_depth=4, n_estimators=30; total time=   4.6s\n",
      "[CV] END .......................max_depth=4, n_estimators=40; total time=   6.2s\n",
      "[CV] END .......................max_depth=4, n_estimators=40; total time=   6.1s\n",
      "[CV] END .......................max_depth=4, n_estimators=40; total time=   6.2s\n",
      "[CV] END .......................max_depth=4, n_estimators=40; total time=   6.3s\n",
      "[CV] END .......................max_depth=4, n_estimators=40; total time=   6.4s\n",
      "[CV] END .......................max_depth=4, n_estimators=50; total time=   8.0s\n",
      "[CV] END .......................max_depth=4, n_estimators=50; total time=   8.6s\n",
      "[CV] END .......................max_depth=4, n_estimators=50; total time=   8.2s\n",
      "[CV] END .......................max_depth=4, n_estimators=50; total time=   7.8s\n",
      "[CV] END .......................max_depth=4, n_estimators=50; total time=   8.1s\n",
      "[CV] END .......................max_depth=4, n_estimators=60; total time=   9.4s\n",
      "[CV] END .......................max_depth=4, n_estimators=60; total time=   9.4s\n",
      "[CV] END .......................max_depth=4, n_estimators=60; total time=   9.3s\n",
      "[CV] END .......................max_depth=4, n_estimators=60; total time=   9.2s\n",
      "[CV] END .......................max_depth=4, n_estimators=60; total time=   9.4s\n",
      "[CV] END .......................max_depth=4, n_estimators=70; total time=  11.0s\n",
      "[CV] END .......................max_depth=4, n_estimators=70; total time=  11.0s\n",
      "[CV] END .......................max_depth=4, n_estimators=70; total time=  10.4s\n",
      "[CV] END .......................max_depth=4, n_estimators=70; total time=  10.4s\n",
      "[CV] END .......................max_depth=4, n_estimators=70; total time=  11.0s\n",
      "[CV] END .......................max_depth=4, n_estimators=80; total time=  12.2s\n",
      "[CV] END .......................max_depth=4, n_estimators=80; total time=  12.0s\n",
      "[CV] END .......................max_depth=4, n_estimators=80; total time=  12.1s\n",
      "[CV] END .......................max_depth=4, n_estimators=80; total time=  11.9s\n",
      "[CV] END .......................max_depth=4, n_estimators=80; total time=  12.4s\n",
      "[CV] END .......................max_depth=4, n_estimators=90; total time=  13.7s\n",
      "[CV] END .......................max_depth=4, n_estimators=90; total time=  13.6s\n",
      "[CV] END .......................max_depth=4, n_estimators=90; total time=  13.6s\n",
      "[CV] END .......................max_depth=4, n_estimators=90; total time=  13.9s\n",
      "[CV] END .......................max_depth=4, n_estimators=90; total time=  14.1s\n",
      "[CV] END ......................max_depth=4, n_estimators=100; total time=  16.0s\n",
      "[CV] END ......................max_depth=4, n_estimators=100; total time=  15.2s\n",
      "[CV] END ......................max_depth=4, n_estimators=100; total time=  15.3s\n",
      "[CV] END ......................max_depth=4, n_estimators=100; total time=  14.9s\n",
      "[CV] END ......................max_depth=4, n_estimators=100; total time=  15.7s\n",
      "[CV] END .......................max_depth=5, n_estimators=30; total time=   5.8s\n",
      "[CV] END .......................max_depth=5, n_estimators=30; total time=   5.5s\n",
      "[CV] END .......................max_depth=5, n_estimators=30; total time=   5.5s\n",
      "[CV] END .......................max_depth=5, n_estimators=30; total time=   5.5s\n",
      "[CV] END .......................max_depth=5, n_estimators=30; total time=   5.9s\n",
      "[CV] END .......................max_depth=5, n_estimators=40; total time=   7.4s\n",
      "[CV] END .......................max_depth=5, n_estimators=40; total time=   7.3s\n",
      "[CV] END .......................max_depth=5, n_estimators=40; total time=   7.3s\n",
      "[CV] END .......................max_depth=5, n_estimators=40; total time=   7.4s\n",
      "[CV] END .......................max_depth=5, n_estimators=40; total time=   7.2s\n",
      "[CV] END .......................max_depth=5, n_estimators=50; total time=   9.0s\n",
      "[CV] END .......................max_depth=5, n_estimators=50; total time=   8.9s\n",
      "[CV] END .......................max_depth=5, n_estimators=50; total time=   9.9s\n",
      "[CV] END .......................max_depth=5, n_estimators=50; total time=   9.3s\n",
      "[CV] END .......................max_depth=5, n_estimators=50; total time=   9.0s\n",
      "[CV] END .......................max_depth=5, n_estimators=60; total time=  11.0s\n",
      "[CV] END .......................max_depth=5, n_estimators=60; total time=  10.7s\n",
      "[CV] END .......................max_depth=5, n_estimators=60; total time=  10.7s\n",
      "[CV] END .......................max_depth=5, n_estimators=60; total time=  11.6s\n",
      "[CV] END .......................max_depth=5, n_estimators=60; total time=  10.6s\n",
      "[CV] END .......................max_depth=5, n_estimators=70; total time=  12.7s\n",
      "[CV] END .......................max_depth=5, n_estimators=70; total time=  12.5s\n",
      "[CV] END .......................max_depth=5, n_estimators=70; total time=  12.8s\n",
      "[CV] END .......................max_depth=5, n_estimators=70; total time=  13.5s\n",
      "[CV] END .......................max_depth=5, n_estimators=70; total time=  12.8s\n",
      "[CV] END .......................max_depth=5, n_estimators=80; total time=  15.5s\n",
      "[CV] END .......................max_depth=5, n_estimators=80; total time=  14.5s\n",
      "[CV] END .......................max_depth=5, n_estimators=80; total time=  15.8s\n",
      "[CV] END .......................max_depth=5, n_estimators=80; total time=  14.6s\n",
      "[CV] END .......................max_depth=5, n_estimators=80; total time=  15.2s\n",
      "[CV] END .......................max_depth=5, n_estimators=90; total time=  16.4s\n",
      "[CV] END .......................max_depth=5, n_estimators=90; total time=  17.0s\n",
      "[CV] END .......................max_depth=5, n_estimators=90; total time=  16.2s\n",
      "[CV] END .......................max_depth=5, n_estimators=90; total time=  16.0s\n",
      "[CV] END .......................max_depth=5, n_estimators=90; total time=  16.7s\n",
      "[CV] END ......................max_depth=5, n_estimators=100; total time=  19.0s\n",
      "[CV] END ......................max_depth=5, n_estimators=100; total time=  18.1s\n",
      "[CV] END ......................max_depth=5, n_estimators=100; total time=  18.0s\n",
      "[CV] END ......................max_depth=5, n_estimators=100; total time=  18.4s\n",
      "[CV] END ......................max_depth=5, n_estimators=100; total time=  18.2s\n",
      "[CV] END .......................max_depth=6, n_estimators=30; total time=   6.6s\n",
      "[CV] END .......................max_depth=6, n_estimators=30; total time=   6.6s\n",
      "[CV] END .......................max_depth=6, n_estimators=30; total time=   6.4s\n",
      "[CV] END .......................max_depth=6, n_estimators=30; total time=   6.7s\n",
      "[CV] END .......................max_depth=6, n_estimators=30; total time=   6.6s\n",
      "[CV] END .......................max_depth=6, n_estimators=40; total time=   8.5s\n",
      "[CV] END .......................max_depth=6, n_estimators=40; total time=   8.6s\n",
      "[CV] END .......................max_depth=6, n_estimators=40; total time=   8.9s\n",
      "[CV] END .......................max_depth=6, n_estimators=40; total time=   8.4s\n",
      "[CV] END .......................max_depth=6, n_estimators=40; total time=   8.5s\n",
      "[CV] END .......................max_depth=6, n_estimators=50; total time=  11.2s\n",
      "[CV] END .......................max_depth=6, n_estimators=50; total time=  11.5s\n",
      "[CV] END .......................max_depth=6, n_estimators=50; total time=  10.9s\n",
      "[CV] END .......................max_depth=6, n_estimators=50; total time=  11.0s\n",
      "[CV] END .......................max_depth=6, n_estimators=50; total time=  10.7s\n",
      "[CV] END .......................max_depth=6, n_estimators=60; total time=  13.4s\n",
      "[CV] END .......................max_depth=6, n_estimators=60; total time=  14.1s\n",
      "[CV] END .......................max_depth=6, n_estimators=60; total time=  13.5s\n",
      "[CV] END .......................max_depth=6, n_estimators=60; total time=  13.5s\n",
      "[CV] END .......................max_depth=6, n_estimators=60; total time=  13.3s\n",
      "[CV] END .......................max_depth=6, n_estimators=70; total time=  16.0s\n",
      "[CV] END .......................max_depth=6, n_estimators=70; total time=  15.7s\n",
      "[CV] END .......................max_depth=6, n_estimators=70; total time=  15.8s\n",
      "[CV] END .......................max_depth=6, n_estimators=70; total time=  16.3s\n",
      "[CV] END .......................max_depth=6, n_estimators=70; total time=  16.3s\n",
      "[CV] END .......................max_depth=6, n_estimators=80; total time=  17.8s\n",
      "[CV] END .......................max_depth=6, n_estimators=80; total time=  17.2s\n",
      "[CV] END .......................max_depth=6, n_estimators=80; total time=  17.6s\n",
      "[CV] END .......................max_depth=6, n_estimators=80; total time=  17.4s\n",
      "[CV] END .......................max_depth=6, n_estimators=80; total time=  17.6s\n",
      "[CV] END .......................max_depth=6, n_estimators=90; total time=  20.0s\n",
      "[CV] END .......................max_depth=6, n_estimators=90; total time=  19.7s\n",
      "[CV] END .......................max_depth=6, n_estimators=90; total time=  19.9s\n",
      "[CV] END .......................max_depth=6, n_estimators=90; total time=  19.4s\n",
      "[CV] END .......................max_depth=6, n_estimators=90; total time=  19.6s\n",
      "[CV] END ......................max_depth=6, n_estimators=100; total time=  22.1s\n",
      "[CV] END ......................max_depth=6, n_estimators=100; total time=  22.0s\n",
      "[CV] END ......................max_depth=6, n_estimators=100; total time=  21.7s\n",
      "[CV] END ......................max_depth=6, n_estimators=100; total time=  21.5s\n",
      "[CV] END ......................max_depth=6, n_estimators=100; total time=  21.9s\n",
      "[CV] END .......................max_depth=7, n_estimators=30; total time=   7.9s\n",
      "[CV] END .......................max_depth=7, n_estimators=30; total time=   7.7s\n",
      "[CV] END .......................max_depth=7, n_estimators=30; total time=   8.1s\n",
      "[CV] END .......................max_depth=7, n_estimators=30; total time=   7.5s\n",
      "[CV] END .......................max_depth=7, n_estimators=30; total time=   7.4s\n",
      "[CV] END .......................max_depth=7, n_estimators=40; total time=  10.0s\n",
      "[CV] END .......................max_depth=7, n_estimators=40; total time=  10.1s\n",
      "[CV] END .......................max_depth=7, n_estimators=40; total time=   9.8s\n",
      "[CV] END .......................max_depth=7, n_estimators=40; total time=   9.6s\n",
      "[CV] END .......................max_depth=7, n_estimators=40; total time=  10.1s\n",
      "[CV] END .......................max_depth=7, n_estimators=50; total time=  12.4s\n",
      "[CV] END .......................max_depth=7, n_estimators=50; total time=  12.4s\n",
      "[CV] END .......................max_depth=7, n_estimators=50; total time=  12.3s\n",
      "[CV] END .......................max_depth=7, n_estimators=50; total time=  12.2s\n",
      "[CV] END .......................max_depth=7, n_estimators=50; total time=  12.2s\n",
      "[CV] END .......................max_depth=7, n_estimators=60; total time=  15.1s\n",
      "[CV] END .......................max_depth=7, n_estimators=60; total time=  15.0s\n",
      "[CV] END .......................max_depth=7, n_estimators=60; total time=  14.8s\n",
      "[CV] END .......................max_depth=7, n_estimators=60; total time=  15.2s\n",
      "[CV] END .......................max_depth=7, n_estimators=60; total time=  14.6s\n",
      "[CV] END .......................max_depth=7, n_estimators=70; total time=  17.8s\n",
      "[CV] END .......................max_depth=7, n_estimators=70; total time=  17.5s\n",
      "[CV] END .......................max_depth=7, n_estimators=70; total time=  17.4s\n",
      "[CV] END .......................max_depth=7, n_estimators=70; total time=  17.7s\n",
      "[CV] END .......................max_depth=7, n_estimators=70; total time=  17.3s\n",
      "[CV] END .......................max_depth=7, n_estimators=80; total time=  20.0s\n",
      "[CV] END .......................max_depth=7, n_estimators=80; total time=  19.8s\n",
      "[CV] END .......................max_depth=7, n_estimators=80; total time=  19.4s\n",
      "[CV] END .......................max_depth=7, n_estimators=80; total time=  19.2s\n",
      "[CV] END .......................max_depth=7, n_estimators=80; total time=  19.8s\n",
      "[CV] END .......................max_depth=7, n_estimators=90; total time=  22.1s\n",
      "[CV] END .......................max_depth=7, n_estimators=90; total time=  22.4s\n",
      "[CV] END .......................max_depth=7, n_estimators=90; total time=  22.5s\n",
      "[CV] END .......................max_depth=7, n_estimators=90; total time=  21.7s\n",
      "[CV] END .......................max_depth=7, n_estimators=90; total time=  21.7s\n",
      "[CV] END ......................max_depth=7, n_estimators=100; total time=  25.5s\n",
      "[CV] END ......................max_depth=7, n_estimators=100; total time=  24.9s\n",
      "[CV] END ......................max_depth=7, n_estimators=100; total time=  24.8s\n",
      "[CV] END ......................max_depth=7, n_estimators=100; total time=  24.2s\n",
      "[CV] END ......................max_depth=7, n_estimators=100; total time=  24.8s\n",
      "[CV] END .......................max_depth=8, n_estimators=30; total time=   8.6s\n",
      "[CV] END .......................max_depth=8, n_estimators=30; total time=   8.3s\n",
      "[CV] END .......................max_depth=8, n_estimators=30; total time=   8.4s\n",
      "[CV] END .......................max_depth=8, n_estimators=30; total time=   8.2s\n",
      "[CV] END .......................max_depth=8, n_estimators=30; total time=   8.8s\n",
      "[CV] END .......................max_depth=8, n_estimators=40; total time=  11.1s\n",
      "[CV] END .......................max_depth=8, n_estimators=40; total time=  10.8s\n",
      "[CV] END .......................max_depth=8, n_estimators=40; total time=  11.0s\n",
      "[CV] END .......................max_depth=8, n_estimators=40; total time=  10.8s\n",
      "[CV] END .......................max_depth=8, n_estimators=40; total time=  11.3s\n",
      "[CV] END .......................max_depth=8, n_estimators=50; total time=  14.2s\n",
      "[CV] END .......................max_depth=8, n_estimators=50; total time=  14.3s\n",
      "[CV] END .......................max_depth=8, n_estimators=50; total time=  14.6s\n",
      "[CV] END .......................max_depth=8, n_estimators=50; total time=  14.2s\n",
      "[CV] END .......................max_depth=8, n_estimators=50; total time=  15.2s\n",
      "[CV] END .......................max_depth=8, n_estimators=60; total time=  18.0s\n",
      "[CV] END .......................max_depth=8, n_estimators=60; total time=  17.5s\n",
      "[CV] END .......................max_depth=8, n_estimators=60; total time=  16.9s\n",
      "[CV] END .......................max_depth=8, n_estimators=60; total time=  16.8s\n",
      "[CV] END .......................max_depth=8, n_estimators=60; total time=  18.2s\n",
      "[CV] END .......................max_depth=8, n_estimators=70; total time=  20.3s\n",
      "[CV] END .......................max_depth=8, n_estimators=70; total time=  19.8s\n",
      "[CV] END .......................max_depth=8, n_estimators=70; total time=  20.0s\n",
      "[CV] END .......................max_depth=8, n_estimators=70; total time=  19.7s\n",
      "[CV] END .......................max_depth=8, n_estimators=70; total time=  20.2s\n",
      "[CV] END .......................max_depth=8, n_estimators=80; total time=  23.2s\n",
      "[CV] END .......................max_depth=8, n_estimators=80; total time=  22.1s\n",
      "[CV] END .......................max_depth=8, n_estimators=80; total time=  22.1s\n",
      "[CV] END .......................max_depth=8, n_estimators=80; total time=  22.5s\n",
      "[CV] END .......................max_depth=8, n_estimators=80; total time=  22.6s\n",
      "[CV] END .......................max_depth=8, n_estimators=90; total time=  26.4s\n",
      "[CV] END .......................max_depth=8, n_estimators=90; total time=  25.4s\n",
      "[CV] END .......................max_depth=8, n_estimators=90; total time=  24.9s\n",
      "[CV] END .......................max_depth=8, n_estimators=90; total time=  25.3s\n",
      "[CV] END .......................max_depth=8, n_estimators=90; total time=  24.5s\n",
      "[CV] END ......................max_depth=8, n_estimators=100; total time=  28.0s\n",
      "[CV] END ......................max_depth=8, n_estimators=100; total time=  27.6s\n",
      "[CV] END ......................max_depth=8, n_estimators=100; total time=  28.5s\n",
      "[CV] END ......................max_depth=8, n_estimators=100; total time=  27.2s\n",
      "[CV] END ......................max_depth=8, n_estimators=100; total time=  28.5s\n",
      "[CV] END .......................max_depth=9, n_estimators=30; total time=   9.4s\n",
      "[CV] END .......................max_depth=9, n_estimators=30; total time=   9.3s\n",
      "[CV] END .......................max_depth=9, n_estimators=30; total time=   9.1s\n",
      "[CV] END .......................max_depth=9, n_estimators=30; total time=   8.9s\n",
      "[CV] END .......................max_depth=9, n_estimators=30; total time=   9.1s\n",
      "[CV] END .......................max_depth=9, n_estimators=40; total time=  13.5s\n",
      "[CV] END .......................max_depth=9, n_estimators=40; total time=  12.4s\n",
      "[CV] END .......................max_depth=9, n_estimators=40; total time=  12.5s\n",
      "[CV] END .......................max_depth=9, n_estimators=40; total time=  12.3s\n",
      "[CV] END .......................max_depth=9, n_estimators=40; total time=  12.5s\n",
      "[CV] END .......................max_depth=9, n_estimators=50; total time=  15.7s\n",
      "[CV] END .......................max_depth=9, n_estimators=50; total time=  15.8s\n",
      "[CV] END .......................max_depth=9, n_estimators=50; total time=  15.6s\n",
      "[CV] END .......................max_depth=9, n_estimators=50; total time=  15.8s\n",
      "[CV] END .......................max_depth=9, n_estimators=50; total time=  16.1s\n",
      "[CV] END .......................max_depth=9, n_estimators=60; total time=  18.4s\n",
      "[CV] END .......................max_depth=9, n_estimators=60; total time=  17.9s\n",
      "[CV] END .......................max_depth=9, n_estimators=60; total time=  19.0s\n",
      "[CV] END .......................max_depth=9, n_estimators=60; total time=  17.9s\n",
      "[CV] END .......................max_depth=9, n_estimators=60; total time=  18.5s\n",
      "[CV] END .......................max_depth=9, n_estimators=70; total time=  23.2s\n",
      "[CV] END .......................max_depth=9, n_estimators=70; total time=  21.7s\n",
      "[CV] END .......................max_depth=9, n_estimators=70; total time=  23.7s\n",
      "[CV] END .......................max_depth=9, n_estimators=70; total time=  21.7s\n",
      "[CV] END .......................max_depth=9, n_estimators=70; total time=  21.9s\n",
      "[CV] END .......................max_depth=9, n_estimators=80; total time=  26.1s\n",
      "[CV] END .......................max_depth=9, n_estimators=80; total time=  25.1s\n",
      "[CV] END .......................max_depth=9, n_estimators=80; total time=  24.9s\n",
      "[CV] END .......................max_depth=9, n_estimators=80; total time=  25.5s\n",
      "[CV] END .......................max_depth=9, n_estimators=80; total time=  25.1s\n",
      "[CV] END .......................max_depth=9, n_estimators=90; total time=  32.4s\n",
      "[CV] END .......................max_depth=9, n_estimators=90; total time=  30.0s\n",
      "[CV] END .......................max_depth=9, n_estimators=90; total time=  28.7s\n",
      "[CV] END .......................max_depth=9, n_estimators=90; total time=  27.2s\n",
      "[CV] END .......................max_depth=9, n_estimators=90; total time=  26.2s\n",
      "[CV] END ......................max_depth=9, n_estimators=100; total time=  29.2s\n",
      "[CV] END ......................max_depth=9, n_estimators=100; total time=  29.5s\n",
      "[CV] END ......................max_depth=9, n_estimators=100; total time=  29.6s\n",
      "[CV] END ......................max_depth=9, n_estimators=100; total time=  29.1s\n",
      "[CV] END ......................max_depth=9, n_estimators=100; total time=  29.0s\n",
      "CPU times: user 1h 11min 25s, sys: 4.97 s, total: 1h 11min 30s\n",
      "Wall time: 1h 11min 42s\n"
     ]
    }
   ],
   "source": [
    "%%time\n",
    "\n",
    "parametrs = {'n_estimators': range(30, 101, 10),\n",
    "              'max_depth': range(1, 10)}\n",
    "\n",
    "model = RandomForestRegressor(random_state=42)\n",
    "# подбор лучших параметров модели\n",
    "grid = GridSearchCV(model, parametrs, scoring=smape_scorer, verbose=2)\n",
    "grid.fit(features_train, target_train_rougher)\n",
    "\n",
    "best_model_forest_rougher = grid.best_estimator_\n",
    "best_parametrs_forest_rougher = grid.best_params_\n",
    "best_result_forest_rougher = grid.best_score_"
   ]
  },
  {
   "cell_type": "code",
   "execution_count": 188,
   "metadata": {},
   "outputs": [
    {
     "data": {
      "text/plain": [
       "-6.53698576257873"
      ]
     },
     "metadata": {},
     "output_type": "display_data"
    },
    {
     "data": {
      "text/plain": [
       "{'max_depth': 5, 'n_estimators': 90}"
      ]
     },
     "metadata": {},
     "output_type": "display_data"
    }
   ],
   "source": [
    "display(best_result_forest_rougher) # лучший результат sMAPE модели\n",
    "display(best_parametrs_forest_rougher) # лучшие параметры модели"
   ]
  },
  {
   "cell_type": "markdown",
   "metadata": {},
   "source": [
    "**Линейная регрессия**"
   ]
  },
  {
   "cell_type": "code",
   "execution_count": 47,
   "metadata": {},
   "outputs": [
    {
     "name": "stderr",
     "output_type": "stream",
     "text": [
      "[Parallel(n_jobs=1)]: Using backend SequentialBackend with 1 concurrent workers.\n"
     ]
    },
    {
     "name": "stdout",
     "output_type": "stream",
     "text": [
      "[CV] END .................................................... total time=   0.1s\n",
      "[CV] END .................................................... total time=   0.2s\n",
      "[CV] END .................................................... total time=   0.3s\n",
      "[CV] END .................................................... total time=   0.3s\n",
      "[CV] END .................................................... total time=   0.4s\n",
      "CPU times: user 699 ms, sys: 691 ms, total: 1.39 s\n",
      "Wall time: 1.33 s\n"
     ]
    },
    {
     "name": "stderr",
     "output_type": "stream",
     "text": [
      "[Parallel(n_jobs=1)]: Done   1 out of   1 | elapsed:    0.1s remaining:    0.0s\n",
      "[Parallel(n_jobs=1)]: Done   5 out of   5 | elapsed:    1.3s finished\n"
     ]
    }
   ],
   "source": [
    "%%time\n",
    "\n",
    "model = LinearRegression()\n",
    "\n",
    "scores = cross_val_score(model, features_train, target_train_rougher, scoring=smape_scorer, cv=5, verbose=2)\n",
    "\n",
    "best_model_lin_reg_rougher = model\n",
    "best_result_lin_reg_rougher = sum(scores)/len(scores)"
   ]
  },
  {
   "cell_type": "code",
   "execution_count": 48,
   "metadata": {},
   "outputs": [
    {
     "data": {
      "text/plain": [
       "-7.026917103128801"
      ]
     },
     "metadata": {},
     "output_type": "display_data"
    }
   ],
   "source": [
    "display(best_result_lin_reg_rougher) # лучший результат sMAPE модели"
   ]
  },
  {
   "cell_type": "markdown",
   "metadata": {},
   "source": [
    "### Обучение модели для предсказания эффективности обогащения финального концентрата"
   ]
  },
  {
   "cell_type": "markdown",
   "metadata": {},
   "source": [
    "**Дерево решений**"
   ]
  },
  {
   "cell_type": "code",
   "execution_count": 191,
   "metadata": {},
   "outputs": [
    {
     "name": "stdout",
     "output_type": "stream",
     "text": [
      "Fitting 5 folds for each of 7 candidates, totalling 35 fits\n",
      "CPU times: user 9.15 s, sys: 7.99 ms, total: 9.16 s\n",
      "Wall time: 9.17 s\n"
     ]
    }
   ],
   "source": [
    "%%time\n",
    "\n",
    "parametrs = {'max_depth': range(1, 8)}\n",
    "\n",
    "model = DecisionTreeRegressor(random_state=42)\n",
    "# подбор лучших параметров модели\n",
    "grid = GridSearchCV(model, parametrs, scoring=smape_scorer, verbose=1)\n",
    "grid.fit(features_train, target_train_final)\n",
    "\n",
    "best_model_tree_final = grid.best_estimator_\n",
    "best_parametrs_tree_final = grid.best_params_\n",
    "best_result_tree_final = grid.best_score_"
   ]
  },
  {
   "cell_type": "code",
   "execution_count": 192,
   "metadata": {},
   "outputs": [
    {
     "data": {
      "text/plain": [
       "-9.207862105261011"
      ]
     },
     "metadata": {},
     "output_type": "display_data"
    },
    {
     "data": {
      "text/plain": [
       "{'max_depth': 3}"
      ]
     },
     "metadata": {},
     "output_type": "display_data"
    }
   ],
   "source": [
    "display(best_result_tree_final) # лучший результат sMAPE модели\n",
    "display(best_parametrs_tree_final) # лучшие параметры модели"
   ]
  },
  {
   "cell_type": "code",
   "execution_count": 193,
   "metadata": {
    "scrolled": true
   },
   "outputs": [
    {
     "name": "stdout",
     "output_type": "stream",
     "text": [
      "Fitting 5 folds for each of 54 candidates, totalling 270 fits\n",
      "[CV] END .......................max_depth=1, n_estimators=40; total time=   1.8s\n",
      "[CV] END .......................max_depth=1, n_estimators=40; total time=   1.8s\n",
      "[CV] END .......................max_depth=1, n_estimators=40; total time=   1.8s\n",
      "[CV] END .......................max_depth=1, n_estimators=40; total time=   1.9s\n",
      "[CV] END .......................max_depth=1, n_estimators=40; total time=   2.1s\n",
      "[CV] END .......................max_depth=1, n_estimators=50; total time=   2.4s\n",
      "[CV] END .......................max_depth=1, n_estimators=50; total time=   2.2s\n",
      "[CV] END .......................max_depth=1, n_estimators=50; total time=   2.2s\n",
      "[CV] END .......................max_depth=1, n_estimators=50; total time=   2.2s\n",
      "[CV] END .......................max_depth=1, n_estimators=50; total time=   2.2s\n",
      "[CV] END .......................max_depth=1, n_estimators=60; total time=   2.6s\n",
      "[CV] END .......................max_depth=1, n_estimators=60; total time=   2.6s\n",
      "[CV] END .......................max_depth=1, n_estimators=60; total time=   2.7s\n",
      "[CV] END .......................max_depth=1, n_estimators=60; total time=   2.7s\n",
      "[CV] END .......................max_depth=1, n_estimators=60; total time=   2.6s\n",
      "[CV] END .......................max_depth=1, n_estimators=70; total time=   3.0s\n",
      "[CV] END .......................max_depth=1, n_estimators=70; total time=   3.3s\n",
      "[CV] END .......................max_depth=1, n_estimators=70; total time=   3.3s\n",
      "[CV] END .......................max_depth=1, n_estimators=70; total time=   3.2s\n",
      "[CV] END .......................max_depth=1, n_estimators=70; total time=   3.1s\n",
      "[CV] END .......................max_depth=1, n_estimators=80; total time=   3.6s\n",
      "[CV] END .......................max_depth=1, n_estimators=80; total time=   3.5s\n",
      "[CV] END .......................max_depth=1, n_estimators=80; total time=   3.5s\n",
      "[CV] END .......................max_depth=1, n_estimators=80; total time=   3.6s\n",
      "[CV] END .......................max_depth=1, n_estimators=80; total time=   3.9s\n",
      "[CV] END .......................max_depth=1, n_estimators=90; total time=   4.6s\n",
      "[CV] END .......................max_depth=1, n_estimators=90; total time=   4.2s\n",
      "[CV] END .......................max_depth=1, n_estimators=90; total time=   3.9s\n",
      "[CV] END .......................max_depth=1, n_estimators=90; total time=   3.9s\n",
      "[CV] END .......................max_depth=1, n_estimators=90; total time=   3.9s\n",
      "[CV] END .......................max_depth=2, n_estimators=40; total time=   3.3s\n",
      "[CV] END .......................max_depth=2, n_estimators=40; total time=   3.4s\n",
      "[CV] END .......................max_depth=2, n_estimators=40; total time=   3.5s\n",
      "[CV] END .......................max_depth=2, n_estimators=40; total time=   3.6s\n",
      "[CV] END .......................max_depth=2, n_estimators=40; total time=   3.4s\n",
      "[CV] END .......................max_depth=2, n_estimators=50; total time=   4.2s\n",
      "[CV] END .......................max_depth=2, n_estimators=50; total time=   4.2s\n",
      "[CV] END .......................max_depth=2, n_estimators=50; total time=   4.4s\n",
      "[CV] END .......................max_depth=2, n_estimators=50; total time=   4.3s\n",
      "[CV] END .......................max_depth=2, n_estimators=50; total time=   4.2s\n",
      "[CV] END .......................max_depth=2, n_estimators=60; total time=   5.6s\n",
      "[CV] END .......................max_depth=2, n_estimators=60; total time=   5.1s\n",
      "[CV] END .......................max_depth=2, n_estimators=60; total time=   5.0s\n",
      "[CV] END .......................max_depth=2, n_estimators=60; total time=   5.3s\n",
      "[CV] END .......................max_depth=2, n_estimators=60; total time=   5.1s\n",
      "[CV] END .......................max_depth=2, n_estimators=70; total time=   5.9s\n",
      "[CV] END .......................max_depth=2, n_estimators=70; total time=   5.8s\n",
      "[CV] END .......................max_depth=2, n_estimators=70; total time=   5.9s\n",
      "[CV] END .......................max_depth=2, n_estimators=70; total time=   5.9s\n",
      "[CV] END .......................max_depth=2, n_estimators=70; total time=   5.8s\n",
      "[CV] END .......................max_depth=2, n_estimators=80; total time=   6.7s\n",
      "[CV] END .......................max_depth=2, n_estimators=80; total time=   6.9s\n",
      "[CV] END .......................max_depth=2, n_estimators=80; total time=   7.3s\n",
      "[CV] END .......................max_depth=2, n_estimators=80; total time=   6.7s\n",
      "[CV] END .......................max_depth=2, n_estimators=80; total time=   6.7s\n",
      "[CV] END .......................max_depth=2, n_estimators=90; total time=   8.0s\n",
      "[CV] END .......................max_depth=2, n_estimators=90; total time=   7.9s\n",
      "[CV] END .......................max_depth=2, n_estimators=90; total time=   7.8s\n",
      "[CV] END .......................max_depth=2, n_estimators=90; total time=   7.5s\n",
      "[CV] END .......................max_depth=2, n_estimators=90; total time=   7.8s\n",
      "[CV] END .......................max_depth=3, n_estimators=40; total time=   4.8s\n",
      "[CV] END .......................max_depth=3, n_estimators=40; total time=   4.7s\n",
      "[CV] END .......................max_depth=3, n_estimators=40; total time=   4.8s\n",
      "[CV] END .......................max_depth=3, n_estimators=40; total time=   4.7s\n",
      "[CV] END .......................max_depth=3, n_estimators=40; total time=   4.9s\n",
      "[CV] END .......................max_depth=3, n_estimators=50; total time=   6.0s\n",
      "[CV] END .......................max_depth=3, n_estimators=50; total time=   5.9s\n",
      "[CV] END .......................max_depth=3, n_estimators=50; total time=   5.9s\n",
      "[CV] END .......................max_depth=3, n_estimators=50; total time=   5.9s\n",
      "[CV] END .......................max_depth=3, n_estimators=50; total time=   6.0s\n",
      "[CV] END .......................max_depth=3, n_estimators=60; total time=   7.6s\n",
      "[CV] END .......................max_depth=3, n_estimators=60; total time=   7.1s\n",
      "[CV] END .......................max_depth=3, n_estimators=60; total time=   7.1s\n",
      "[CV] END .......................max_depth=3, n_estimators=60; total time=   7.2s\n",
      "[CV] END .......................max_depth=3, n_estimators=60; total time=   7.4s\n",
      "[CV] END .......................max_depth=3, n_estimators=70; total time=   8.4s\n",
      "[CV] END .......................max_depth=3, n_estimators=70; total time=   8.4s\n",
      "[CV] END .......................max_depth=3, n_estimators=70; total time=   9.4s\n",
      "[CV] END .......................max_depth=3, n_estimators=70; total time=   9.6s\n",
      "[CV] END .......................max_depth=3, n_estimators=70; total time=   8.9s\n",
      "[CV] END .......................max_depth=3, n_estimators=80; total time=  10.3s\n",
      "[CV] END .......................max_depth=3, n_estimators=80; total time=  10.2s\n",
      "[CV] END .......................max_depth=3, n_estimators=80; total time=  10.6s\n",
      "[CV] END .......................max_depth=3, n_estimators=80; total time=  10.7s\n",
      "[CV] END .......................max_depth=3, n_estimators=80; total time=  10.3s\n",
      "[CV] END .......................max_depth=3, n_estimators=90; total time=  11.6s\n",
      "[CV] END .......................max_depth=3, n_estimators=90; total time=  12.4s\n",
      "[CV] END .......................max_depth=3, n_estimators=90; total time=  11.8s\n",
      "[CV] END .......................max_depth=3, n_estimators=90; total time=  11.6s\n",
      "[CV] END .......................max_depth=3, n_estimators=90; total time=  11.6s\n",
      "[CV] END .......................max_depth=4, n_estimators=40; total time=   7.1s\n",
      "[CV] END .......................max_depth=4, n_estimators=40; total time=   7.0s\n",
      "[CV] END .......................max_depth=4, n_estimators=40; total time=   7.5s\n",
      "[CV] END .......................max_depth=4, n_estimators=40; total time=   6.7s\n",
      "[CV] END .......................max_depth=4, n_estimators=40; total time=   6.8s\n",
      "[CV] END .......................max_depth=4, n_estimators=50; total time=   8.4s\n",
      "[CV] END .......................max_depth=4, n_estimators=50; total time=   8.9s\n",
      "[CV] END .......................max_depth=4, n_estimators=50; total time=   8.5s\n",
      "[CV] END .......................max_depth=4, n_estimators=50; total time=   8.3s\n",
      "[CV] END .......................max_depth=4, n_estimators=50; total time=   8.8s\n",
      "[CV] END .......................max_depth=4, n_estimators=60; total time=  10.3s\n",
      "[CV] END .......................max_depth=4, n_estimators=60; total time=  10.2s\n",
      "[CV] END .......................max_depth=4, n_estimators=60; total time=  10.4s\n",
      "[CV] END .......................max_depth=4, n_estimators=60; total time=  10.6s\n",
      "[CV] END .......................max_depth=4, n_estimators=60; total time=  10.3s\n",
      "[CV] END .......................max_depth=4, n_estimators=70; total time=  12.5s\n",
      "[CV] END .......................max_depth=4, n_estimators=70; total time=  12.1s\n",
      "[CV] END .......................max_depth=4, n_estimators=70; total time=  11.2s\n",
      "[CV] END .......................max_depth=4, n_estimators=70; total time=  11.8s\n",
      "[CV] END .......................max_depth=4, n_estimators=70; total time=  11.2s\n",
      "[CV] END .......................max_depth=4, n_estimators=80; total time=  13.5s\n",
      "[CV] END .......................max_depth=4, n_estimators=80; total time=  14.0s\n",
      "[CV] END .......................max_depth=4, n_estimators=80; total time=  13.1s\n",
      "[CV] END .......................max_depth=4, n_estimators=80; total time=  13.2s\n",
      "[CV] END .......................max_depth=4, n_estimators=80; total time=  12.9s\n",
      "[CV] END .......................max_depth=4, n_estimators=90; total time=  15.0s\n",
      "[CV] END .......................max_depth=4, n_estimators=90; total time=  16.3s\n",
      "[CV] END .......................max_depth=4, n_estimators=90; total time=  15.1s\n",
      "[CV] END .......................max_depth=4, n_estimators=90; total time=  15.4s\n",
      "[CV] END .......................max_depth=4, n_estimators=90; total time=  16.3s\n",
      "[CV] END .......................max_depth=5, n_estimators=40; total time=   8.5s\n",
      "[CV] END .......................max_depth=5, n_estimators=40; total time=   9.4s\n",
      "[CV] END .......................max_depth=5, n_estimators=40; total time=   8.3s\n",
      "[CV] END .......................max_depth=5, n_estimators=40; total time=   7.7s\n",
      "[CV] END .......................max_depth=5, n_estimators=40; total time=   8.1s\n",
      "[CV] END .......................max_depth=5, n_estimators=50; total time=  10.1s\n",
      "[CV] END .......................max_depth=5, n_estimators=50; total time=  10.6s\n",
      "[CV] END .......................max_depth=5, n_estimators=50; total time=  10.8s\n",
      "[CV] END .......................max_depth=5, n_estimators=50; total time=  10.2s\n",
      "[CV] END .......................max_depth=5, n_estimators=50; total time=  10.1s\n",
      "[CV] END .......................max_depth=5, n_estimators=60; total time=  12.3s\n",
      "[CV] END .......................max_depth=5, n_estimators=60; total time=  12.1s\n",
      "[CV] END .......................max_depth=5, n_estimators=60; total time=  12.1s\n",
      "[CV] END .......................max_depth=5, n_estimators=60; total time=  13.0s\n",
      "[CV] END .......................max_depth=5, n_estimators=60; total time=  12.5s\n",
      "[CV] END .......................max_depth=5, n_estimators=70; total time=  15.2s\n",
      "[CV] END .......................max_depth=5, n_estimators=70; total time=  14.5s\n",
      "[CV] END .......................max_depth=5, n_estimators=70; total time=  14.3s\n",
      "[CV] END .......................max_depth=5, n_estimators=70; total time=  14.2s\n",
      "[CV] END .......................max_depth=5, n_estimators=70; total time=  14.2s\n",
      "[CV] END .......................max_depth=5, n_estimators=80; total time=  17.7s\n",
      "[CV] END .......................max_depth=5, n_estimators=80; total time=  17.0s\n",
      "[CV] END .......................max_depth=5, n_estimators=80; total time=  16.3s\n",
      "[CV] END .......................max_depth=5, n_estimators=80; total time=  16.4s\n",
      "[CV] END .......................max_depth=5, n_estimators=80; total time=  17.2s\n",
      "[CV] END .......................max_depth=5, n_estimators=90; total time=  19.4s\n",
      "[CV] END .......................max_depth=5, n_estimators=90; total time=  18.3s\n",
      "[CV] END .......................max_depth=5, n_estimators=90; total time=  19.1s\n",
      "[CV] END .......................max_depth=5, n_estimators=90; total time=  20.0s\n",
      "[CV] END .......................max_depth=5, n_estimators=90; total time=  19.1s\n",
      "[CV] END .......................max_depth=6, n_estimators=40; total time=  10.1s\n",
      "[CV] END .......................max_depth=6, n_estimators=40; total time=   9.9s\n",
      "[CV] END .......................max_depth=6, n_estimators=40; total time=  10.1s\n",
      "[CV] END .......................max_depth=6, n_estimators=40; total time=  10.3s\n",
      "[CV] END .......................max_depth=6, n_estimators=40; total time=  10.0s\n",
      "[CV] END .......................max_depth=6, n_estimators=50; total time=  13.1s\n",
      "[CV] END .......................max_depth=6, n_estimators=50; total time=  12.1s\n",
      "[CV] END .......................max_depth=6, n_estimators=50; total time=  12.6s\n",
      "[CV] END .......................max_depth=6, n_estimators=50; total time=  12.2s\n",
      "[CV] END .......................max_depth=6, n_estimators=50; total time=  13.5s\n",
      "[CV] END .......................max_depth=6, n_estimators=60; total time=  16.1s\n",
      "[CV] END .......................max_depth=6, n_estimators=60; total time=  16.1s\n",
      "[CV] END .......................max_depth=6, n_estimators=60; total time=  14.9s\n",
      "[CV] END .......................max_depth=6, n_estimators=60; total time=  15.2s\n",
      "[CV] END .......................max_depth=6, n_estimators=60; total time=  15.3s\n",
      "[CV] END .......................max_depth=6, n_estimators=70; total time=  17.7s\n",
      "[CV] END .......................max_depth=6, n_estimators=70; total time=  18.0s\n",
      "[CV] END .......................max_depth=6, n_estimators=70; total time=  17.9s\n",
      "[CV] END .......................max_depth=6, n_estimators=70; total time=  16.7s\n",
      "[CV] END .......................max_depth=6, n_estimators=70; total time=  17.0s\n",
      "[CV] END .......................max_depth=6, n_estimators=80; total time=  18.9s\n",
      "[CV] END .......................max_depth=6, n_estimators=80; total time=  19.0s\n",
      "[CV] END .......................max_depth=6, n_estimators=80; total time=  19.8s\n",
      "[CV] END .......................max_depth=6, n_estimators=80; total time=  19.0s\n",
      "[CV] END .......................max_depth=6, n_estimators=80; total time=  19.6s\n",
      "[CV] END .......................max_depth=6, n_estimators=90; total time=  22.0s\n",
      "[CV] END .......................max_depth=6, n_estimators=90; total time=  21.3s\n",
      "[CV] END .......................max_depth=6, n_estimators=90; total time=  21.2s\n",
      "[CV] END .......................max_depth=6, n_estimators=90; total time=  21.9s\n",
      "[CV] END .......................max_depth=6, n_estimators=90; total time=  21.5s\n",
      "[CV] END .......................max_depth=7, n_estimators=40; total time=  10.6s\n",
      "[CV] END .......................max_depth=7, n_estimators=40; total time=  10.5s\n",
      "[CV] END .......................max_depth=7, n_estimators=40; total time=  11.7s\n",
      "[CV] END .......................max_depth=7, n_estimators=40; total time=  10.9s\n",
      "[CV] END .......................max_depth=7, n_estimators=40; total time=  11.1s\n",
      "[CV] END .......................max_depth=7, n_estimators=50; total time=  14.1s\n",
      "[CV] END .......................max_depth=7, n_estimators=50; total time=  14.4s\n",
      "[CV] END .......................max_depth=7, n_estimators=50; total time=  16.5s\n",
      "[CV] END .......................max_depth=7, n_estimators=50; total time=  17.0s\n",
      "[CV] END .......................max_depth=7, n_estimators=50; total time=  16.5s\n",
      "[CV] END .......................max_depth=7, n_estimators=60; total time=  18.3s\n",
      "[CV] END .......................max_depth=7, n_estimators=60; total time=  16.5s\n",
      "[CV] END .......................max_depth=7, n_estimators=60; total time=  17.5s\n",
      "[CV] END .......................max_depth=7, n_estimators=60; total time=  16.9s\n",
      "[CV] END .......................max_depth=7, n_estimators=60; total time=  16.1s\n",
      "[CV] END .......................max_depth=7, n_estimators=70; total time=  18.2s\n",
      "[CV] END .......................max_depth=7, n_estimators=70; total time=  18.3s\n",
      "[CV] END .......................max_depth=7, n_estimators=70; total time=  18.3s\n",
      "[CV] END .......................max_depth=7, n_estimators=70; total time=  18.1s\n",
      "[CV] END .......................max_depth=7, n_estimators=70; total time=  18.2s\n",
      "[CV] END .......................max_depth=7, n_estimators=80; total time=  21.1s\n",
      "[CV] END .......................max_depth=7, n_estimators=80; total time=  20.6s\n",
      "[CV] END .......................max_depth=7, n_estimators=80; total time=  20.5s\n",
      "[CV] END .......................max_depth=7, n_estimators=80; total time=  21.5s\n",
      "[CV] END .......................max_depth=7, n_estimators=80; total time=  21.3s\n",
      "[CV] END .......................max_depth=7, n_estimators=90; total time=  23.4s\n",
      "[CV] END .......................max_depth=7, n_estimators=90; total time=  23.8s\n",
      "[CV] END .......................max_depth=7, n_estimators=90; total time=  23.6s\n",
      "[CV] END .......................max_depth=7, n_estimators=90; total time=  23.5s\n",
      "[CV] END .......................max_depth=7, n_estimators=90; total time=  24.2s\n",
      "[CV] END .......................max_depth=8, n_estimators=40; total time=  13.0s\n",
      "[CV] END .......................max_depth=8, n_estimators=40; total time=  12.0s\n",
      "[CV] END .......................max_depth=8, n_estimators=40; total time=  12.4s\n",
      "[CV] END .......................max_depth=8, n_estimators=40; total time=  12.0s\n",
      "[CV] END .......................max_depth=8, n_estimators=40; total time=  13.3s\n",
      "[CV] END .......................max_depth=8, n_estimators=50; total time=  15.6s\n",
      "[CV] END .......................max_depth=8, n_estimators=50; total time=  15.8s\n",
      "[CV] END .......................max_depth=8, n_estimators=50; total time=  15.0s\n",
      "[CV] END .......................max_depth=8, n_estimators=50; total time=  15.6s\n",
      "[CV] END .......................max_depth=8, n_estimators=50; total time=  15.4s\n",
      "[CV] END .......................max_depth=8, n_estimators=60; total time=  18.1s\n",
      "[CV] END .......................max_depth=8, n_estimators=60; total time=  19.3s\n",
      "[CV] END .......................max_depth=8, n_estimators=60; total time=  19.0s\n",
      "[CV] END .......................max_depth=8, n_estimators=60; total time=  19.6s\n",
      "[CV] END .......................max_depth=8, n_estimators=60; total time=  18.6s\n",
      "[CV] END .......................max_depth=8, n_estimators=70; total time=  22.5s\n",
      "[CV] END .......................max_depth=8, n_estimators=70; total time=  24.1s\n",
      "[CV] END .......................max_depth=8, n_estimators=70; total time=  22.6s\n",
      "[CV] END .......................max_depth=8, n_estimators=70; total time=  21.6s\n",
      "[CV] END .......................max_depth=8, n_estimators=70; total time=  22.2s\n",
      "[CV] END .......................max_depth=8, n_estimators=80; total time=  27.2s\n",
      "[CV] END .......................max_depth=8, n_estimators=80; total time=  26.4s\n",
      "[CV] END .......................max_depth=8, n_estimators=80; total time=  24.9s\n",
      "[CV] END .......................max_depth=8, n_estimators=80; total time=  30.3s\n",
      "[CV] END .......................max_depth=8, n_estimators=80; total time=  30.1s\n",
      "[CV] END .......................max_depth=8, n_estimators=90; total time=  31.5s\n",
      "[CV] END .......................max_depth=8, n_estimators=90; total time=  31.5s\n",
      "[CV] END .......................max_depth=8, n_estimators=90; total time=  30.3s\n",
      "[CV] END .......................max_depth=8, n_estimators=90; total time=  32.1s\n",
      "[CV] END .......................max_depth=8, n_estimators=90; total time=  31.7s\n",
      "[CV] END .......................max_depth=9, n_estimators=40; total time=  14.4s\n",
      "[CV] END .......................max_depth=9, n_estimators=40; total time=  13.7s\n",
      "[CV] END .......................max_depth=9, n_estimators=40; total time=  13.5s\n",
      "[CV] END .......................max_depth=9, n_estimators=40; total time=  14.1s\n",
      "[CV] END .......................max_depth=9, n_estimators=40; total time=  13.6s\n",
      "[CV] END .......................max_depth=9, n_estimators=50; total time=  16.7s\n",
      "[CV] END .......................max_depth=9, n_estimators=50; total time=  16.3s\n",
      "[CV] END .......................max_depth=9, n_estimators=50; total time=  17.5s\n",
      "[CV] END .......................max_depth=9, n_estimators=50; total time=  16.6s\n",
      "[CV] END .......................max_depth=9, n_estimators=50; total time=  17.3s\n",
      "[CV] END .......................max_depth=9, n_estimators=60; total time=  20.6s\n",
      "[CV] END .......................max_depth=9, n_estimators=60; total time=  19.8s\n",
      "[CV] END .......................max_depth=9, n_estimators=60; total time=  20.3s\n",
      "[CV] END .......................max_depth=9, n_estimators=60; total time=  20.7s\n",
      "[CV] END .......................max_depth=9, n_estimators=60; total time=  20.5s\n",
      "[CV] END .......................max_depth=9, n_estimators=70; total time=  24.2s\n",
      "[CV] END .......................max_depth=9, n_estimators=70; total time=  23.8s\n",
      "[CV] END .......................max_depth=9, n_estimators=70; total time=  26.4s\n",
      "[CV] END .......................max_depth=9, n_estimators=70; total time=  24.9s\n",
      "[CV] END .......................max_depth=9, n_estimators=70; total time=  28.0s\n",
      "[CV] END .......................max_depth=9, n_estimators=80; total time=  30.7s\n",
      "[CV] END .......................max_depth=9, n_estimators=80; total time=  27.1s\n",
      "[CV] END .......................max_depth=9, n_estimators=80; total time=  28.5s\n",
      "[CV] END .......................max_depth=9, n_estimators=80; total time=  26.9s\n",
      "[CV] END .......................max_depth=9, n_estimators=80; total time=  27.5s\n",
      "[CV] END .......................max_depth=9, n_estimators=90; total time=  30.1s\n",
      "[CV] END .......................max_depth=9, n_estimators=90; total time=  31.8s\n",
      "[CV] END .......................max_depth=9, n_estimators=90; total time=  30.8s\n",
      "[CV] END .......................max_depth=9, n_estimators=90; total time=  34.1s\n",
      "[CV] END .......................max_depth=9, n_estimators=90; total time=  32.6s\n",
      "CPU times: user 58min 51s, sys: 3.25 s, total: 58min 54s\n",
      "Wall time: 59min 51s\n"
     ]
    }
   ],
   "source": [
    "%%time\n",
    "\n",
    "parametrs = {'n_estimators': range(40, 91, 10),\n",
    "              'max_depth': range(1, 10)}\n",
    "\n",
    "model = RandomForestRegressor(random_state=42)\n",
    "# подбор лучших параметров модели\n",
    "grid = GridSearchCV(model, parametrs, scoring=smape_scorer, verbose=2)\n",
    "grid.fit(features_train, target_train_final)\n",
    "\n",
    "best_model_forest_final = grid.best_estimator_\n",
    "best_parametrs_forest_final = grid.best_params_\n",
    "best_result_forest_final = grid.best_score_"
   ]
  },
  {
   "cell_type": "code",
   "execution_count": 194,
   "metadata": {},
   "outputs": [
    {
     "data": {
      "text/plain": [
       "-8.821206729889802"
      ]
     },
     "metadata": {},
     "output_type": "display_data"
    },
    {
     "data": {
      "text/plain": [
       "{'max_depth': 2, 'n_estimators': 40}"
      ]
     },
     "metadata": {},
     "output_type": "display_data"
    }
   ],
   "source": [
    "display(best_result_forest_final) # лучший результат sMAPE модели\n",
    "display(best_parametrs_forest_final) # лучшие параметры модели"
   ]
  },
  {
   "cell_type": "markdown",
   "metadata": {},
   "source": [
    "**Линейная регрессия**"
   ]
  },
  {
   "cell_type": "code",
   "execution_count": 195,
   "metadata": {},
   "outputs": [
    {
     "name": "stderr",
     "output_type": "stream",
     "text": [
      "[Parallel(n_jobs=1)]: Using backend SequentialBackend with 1 concurrent workers.\n"
     ]
    },
    {
     "name": "stdout",
     "output_type": "stream",
     "text": [
      "[CV] END .................................................... total time=   0.7s\n"
     ]
    },
    {
     "name": "stderr",
     "output_type": "stream",
     "text": [
      "[Parallel(n_jobs=1)]: Done   1 out of   1 | elapsed:    0.7s remaining:    0.0s\n"
     ]
    },
    {
     "name": "stdout",
     "output_type": "stream",
     "text": [
      "[CV] END .................................................... total time=   0.6s\n",
      "[CV] END .................................................... total time=   0.5s\n",
      "[CV] END .................................................... total time=   0.3s\n",
      "[CV] END .................................................... total time=   0.6s\n",
      "CPU times: user 1.17 s, sys: 1.72 s, total: 2.88 s\n",
      "Wall time: 2.89 s\n"
     ]
    },
    {
     "name": "stderr",
     "output_type": "stream",
     "text": [
      "[Parallel(n_jobs=1)]: Done   5 out of   5 | elapsed:    2.9s finished\n"
     ]
    }
   ],
   "source": [
    "%%time\n",
    "\n",
    "model = LinearRegression()\n",
    "\n",
    "scores = cross_val_score(model, features_train, target_train_final, scoring=smape_scorer, cv=5, verbose=2)\n",
    "\n",
    "best_model_lin_reg_final = model\n",
    "best_result_lin_reg_final = sum(scores)/len(scores)"
   ]
  },
  {
   "cell_type": "code",
   "execution_count": 196,
   "metadata": {},
   "outputs": [
    {
     "data": {
      "text/plain": [
       "-9.476664401512442"
      ]
     },
     "metadata": {},
     "output_type": "display_data"
    }
   ],
   "source": [
    "display(best_result_lin_reg_final) # лучший результат sMAPE модели"
   ]
  },
  {
   "cell_type": "markdown",
   "metadata": {},
   "source": [
    "**Вывод по обучению моделей:**\n",
    "\n",
    "По результатам исследования можно сказать, что лучшие результаты показывает модель случайного леса.\n",
    "\n",
    "При оценке качества кросс-валидацией при предсказании эффективности обогащения чернового концентрата удалось получить значение метрики sMAPE равное 6.5 при следующих гиперпараметрах: максимальная глубина дерева – 5 и количество деревьев – 90.\n",
    "\n",
    "При оценке качества кросс-валидацией при предсказании эффективности обогащения финального концентрата удалось получить значение метрики sMAPE равное 8.8 при следующих гиперпараметрах: максимальная глубина дерева – 2 и количество деревьев – 40.\n",
    "\n",
    "Мы не учитаваем минус, который присутствует в значениях sMAPE, выводимых после кросс-валидации, так как sMAPE не является стандартным значением параметра scoring. sMAPE – это новая функция потерь, созданная с помощью make_scorer. Так как GridSearch и cross_val_score всегда максимизируют метрику, а нам нужно ее минимизаровать, в make_scorer мы добавляем параметр greater_is_better=False (больше - хуже). Тогда в метрике ставится минус. Она все равно максимизируется, но учитывая минус это как раз будет лучшее минимальное значение. Таким образом, минус подставляется только для оптимизации при переборе и фактическое значение метрики, на самом деле без него.\n",
    "\n",
    "Проверим данные модели на тестовой выборке и получим значение итогового sMAPE."
   ]
  },
  {
   "cell_type": "markdown",
   "metadata": {},
   "source": [
    "### Тестирование моделей"
   ]
  },
  {
   "cell_type": "code",
   "execution_count": 148,
   "metadata": {},
   "outputs": [
    {
     "data": {
      "text/plain": [
       "3.9373922851987695"
      ]
     },
     "execution_count": 148,
     "metadata": {},
     "output_type": "execute_result"
    }
   ],
   "source": [
    "model = RandomForestRegressor(random_state=42, n_estimators=90, max_depth=5)\n",
    "model.fit(features_train, target_train_rougher)\n",
    "predicted_test = model.predict(features_test)\n",
    "rougher_smape = smape(target_test_rougher, predicted_test)\n",
    "rougher_smape"
   ]
  },
  {
   "cell_type": "code",
   "execution_count": 149,
   "metadata": {},
   "outputs": [
    {
     "data": {
      "text/plain": [
       "8.463411188638664"
      ]
     },
     "execution_count": 149,
     "metadata": {},
     "output_type": "execute_result"
    }
   ],
   "source": [
    "model = RandomForestRegressor(random_state=42, n_estimators=40, max_depth=2)\n",
    "model.fit(features_train, target_train_final)\n",
    "predicted_test = model.predict(features_test)\n",
    "final_smape = smape(target_test_final, predicted_test)\n",
    "final_smape"
   ]
  },
  {
   "cell_type": "markdown",
   "metadata": {},
   "source": [
    "**Проверим модель на адекватность (сравнение с DummyRegressor)**"
   ]
  },
  {
   "cell_type": "code",
   "execution_count": 150,
   "metadata": {},
   "outputs": [
    {
     "data": {
      "text/plain": [
       "6.1071274129923365"
      ]
     },
     "execution_count": 150,
     "metadata": {},
     "output_type": "execute_result"
    }
   ],
   "source": [
    "dummy_regr = DummyRegressor(strategy=\"mean\")\n",
    "dummy_regr.fit(features_train, target_train_rougher)\n",
    "predictions = dummy_regr.predict(features_test)\n",
    "smape(target_test_rougher, predictions)"
   ]
  },
  {
   "cell_type": "code",
   "execution_count": 151,
   "metadata": {},
   "outputs": [
    {
     "data": {
      "text/plain": [
       "9.259438824342714"
      ]
     },
     "execution_count": 151,
     "metadata": {},
     "output_type": "execute_result"
    }
   ],
   "source": [
    "dummy_regr = DummyRegressor(strategy=\"mean\")\n",
    "dummy_regr.fit(features_train, target_train_final)\n",
    "predictions = dummy_regr.predict(features_test)\n",
    "smape(target_test_final, predictions)"
   ]
  },
  {
   "cell_type": "markdown",
   "metadata": {},
   "source": [
    "**Вывод:** <br> \n",
    "Можно сказать, что наша модель работает адекватно, так как ее качество действительно превышает наивную модель, которая просто каждому объекту выборки предсказывает среднее значение."
   ]
  },
  {
   "cell_type": "markdown",
   "metadata": {},
   "source": [
    "**Расчет итогового sMAPE**"
   ]
  },
  {
   "cell_type": "code",
   "execution_count": 152,
   "metadata": {},
   "outputs": [
    {
     "name": "stdout",
     "output_type": "stream",
     "text": [
      "Итоговое sMAPE: 7.33190646277869\n"
     ]
    }
   ],
   "source": [
    "# рассчитаем итоговое sMAPE\n",
    "general_smape = 0.25 * rougher_smape + 0.75 * final_smape\n",
    "print(f'Итоговое sMAPE: {general_smape}')"
   ]
  },
  {
   "cell_type": "markdown",
   "metadata": {},
   "source": [
    "**Вывод:** \n",
    "Итоговое sMAPE на тестовой выборке при предсказании выбранными моделями получилось равным 9.3."
   ]
  },
  {
   "cell_type": "markdown",
   "metadata": {},
   "source": [
    "## Общий вывод по проекту"
   ]
  },
  {
   "cell_type": "markdown",
   "metadata": {},
   "source": [
    "В проекте велась работа с данными, характеристеризующими технологический процесс очистки руды. Всего 3 датасета: обучающая выборка, тестовая выборка и исходные данные. Каждый объект в наборе данных — это информация об норм параметре на определенном этапе процесса. Наименование признаков следующее: [этап].[тип_параметра].[название_параметра]. Например: `rougher.input.feed_ag`\n",
    "\n",
    "Возможные значения для блока [этап]:\n",
    "\n",
    "- `rougher` — флотация,\n",
    "- `primary_cleaner` — первичная очистка,\n",
    "- `secondary_cleaner` — вторичная очистка,\n",
    "- `final` — финальные характеристики.\n",
    "\n",
    "Возможные значения для блока [тип_параметра]:\n",
    "\n",
    "- `input` — параметры сырья,\n",
    "- `output` — параметры продукта,\n",
    "- `state` — параметры, характеризующие текущее состояние этапа,\n",
    "- `calculation` — расчётные характеристики.\n",
    "\n",
    "Данные индексируются датой и временем получения информации (признак date). Соседние по времени параметры часто похожи.\n",
    "\n",
    "Необходимо смоделировать процесс восстановления золота из золотосодержащей руды. Основная задача состоит в прогнозирование сразу двух величин: эффективности обогащения чернового концентрата и эффективности обогащения финального концентрата.\n",
    "\n",
    "Как метрика качества в данном проекте использовалась sMAPE (англ. Symmetric Mean Absolute Percentage Error, «симметричное среднее абсолютное процентное отклонение»). Итоговое sMAPE для двух предсказаний расчитывалось следующим образом: 25% * sMAPE(rougher) + 75% * sMAPE(final)\n",
    "\n",
    "Проведены подготовка и анализ данных:\n",
    "\n",
    "заполнены пропуски в данных: соседние по времени параметры часто похожи, поэтому использовалось заполнение предыдущим значением;\n",
    "проверка на наличие полных дубликатов в данных показала, что их нет;\n",
    "исследованы изменения концентрации металлов (Au, Ag, Pb) на различных этапах очистки;\n",
    "проведено сравнение распределения размеров гранул сырья на обучающей и тестовой выборках;\n",
    "исследована суммарная концентрация всех веществ на разных стадиях;\n",
    "найдены признаки недоступные в тестовой выборке: признаки относятся к типу output или calculation, которые не могут быть получены во время самого процесса. Эти данные описывают полученный продукт или какие-то его характеристики. Такие данные не должны участвовать в обучении и предсказании и были удалены из обучающей выборки.\n",
    "Мы попробовали 3 различные модели: дерево решений, случайный лес и линейную регрессию. У каждой модели мы также меняли гиперпараметры, чтобы добиться наиболее высокой оценки качества. Мы оценивали качество кросс-валидацией.\n",
    "\n",
    "По результатам экспериментов лучшие результаты показывает модель случайного леса.\n",
    "\n",
    "При оценке качества кросс-валидацией при предсказании эффективности обогащения чернового концентрата удалось получить значение метрики sMAPE равное 6.5 при следующих гиперпараметрах: максимальная глубина дерева – 5 и количество деревьев – 90. При оценке качества кросс-валидацией при предсказании эффективности обогащения финального концентрата удалось получить значение метрики sMAPE равное 8.8 при следующих гиперпараметрах: максимальная глубина дерева – 2 и количество деревьев – 40.\n",
    "\n",
    "Итоговое sMAPE на тестовой выборке при предсказании выбранными моделями получилось равным 7.3."
   ]
  },
  {
   "cell_type": "markdown",
   "metadata": {},
   "source": [
    "## Чек-лист готовности проекта"
   ]
  },
  {
   "cell_type": "markdown",
   "metadata": {},
   "source": [
    "- [x]  Jupyter Notebook открыт\n",
    "- [x]  Весь код выполняется без ошибок\n",
    "- [x]  Ячейки с кодом расположены в порядке выполнения\n",
    "- [x]  Выполнен шаг 1: данные подготовлены\n",
    "    - [x]  Проверена формула вычисления эффективности обогащения\n",
    "    - [x]  Проанализированы признаки, недоступные в тестовой выборке\n",
    "    - [x]  Проведена предобработка данных\n",
    "- [x]  Выполнен шаг 2: данные проанализированы\n",
    "    - [x]  Исследовано изменение концентрации элементов на каждом этапе\n",
    "    - [x]  Проанализированы распределения размеров гранул на обучающей и тестовой выборках\n",
    "    - [x]  Исследованы суммарные концентрации\n",
    "- [x]  Выполнен шаг 3: построена модель прогнозирования\n",
    "    - [x]  Написана функция для вычисления итогового *sMAPE*\n",
    "    - [x]  Обучено и проверено несколько моделей\n",
    "    - [x]  Выбрана лучшая модель, её качество проверено на тестовой выборке"
   ]
  }
 ],
 "metadata": {
  "ExecuteTimeLog": [
   {
    "duration": 2437,
    "start_time": "2023-08-02T10:32:32.649Z"
   },
   {
    "duration": 158,
    "start_time": "2023-08-02T10:33:36.641Z"
   },
   {
    "duration": 2088,
    "start_time": "2023-08-02T10:34:06.791Z"
   },
   {
    "duration": 241,
    "start_time": "2023-08-02T10:34:41.745Z"
   },
   {
    "duration": 702,
    "start_time": "2023-08-02T10:36:16.243Z"
   },
   {
    "duration": 223,
    "start_time": "2023-08-02T10:36:19.623Z"
   },
   {
    "duration": 15,
    "start_time": "2023-08-02T10:36:25.464Z"
   },
   {
    "duration": 15,
    "start_time": "2023-08-02T10:36:36.567Z"
   },
   {
    "duration": 11,
    "start_time": "2023-08-02T10:36:49.981Z"
   },
   {
    "duration": 13,
    "start_time": "2023-08-02T10:36:54.871Z"
   },
   {
    "duration": 15,
    "start_time": "2023-08-02T10:36:57.073Z"
   },
   {
    "duration": 5,
    "start_time": "2023-08-02T10:37:43.855Z"
   },
   {
    "duration": 18,
    "start_time": "2023-08-02T10:40:41.072Z"
   },
   {
    "duration": 18,
    "start_time": "2023-08-02T10:40:49.050Z"
   },
   {
    "duration": 685,
    "start_time": "2023-08-02T10:42:03.294Z"
   },
   {
    "duration": 10,
    "start_time": "2023-08-02T10:50:07.183Z"
   },
   {
    "duration": 674,
    "start_time": "2023-08-02T10:50:08.016Z"
   },
   {
    "duration": 223,
    "start_time": "2023-08-02T10:50:10.444Z"
   },
   {
    "duration": 13,
    "start_time": "2023-08-02T10:50:11.806Z"
   },
   {
    "duration": 11,
    "start_time": "2023-08-02T10:50:12.433Z"
   },
   {
    "duration": 15,
    "start_time": "2023-08-02T10:50:13.083Z"
   },
   {
    "duration": 19,
    "start_time": "2023-08-02T10:50:14.453Z"
   },
   {
    "duration": 70,
    "start_time": "2023-08-02T10:50:27.344Z"
   },
   {
    "duration": 4,
    "start_time": "2023-08-02T10:50:29.437Z"
   },
   {
    "duration": 3,
    "start_time": "2023-08-02T10:52:23.535Z"
   },
   {
    "duration": 5,
    "start_time": "2023-08-02T10:55:23.943Z"
   },
   {
    "duration": 5,
    "start_time": "2023-08-02T10:55:42.083Z"
   },
   {
    "duration": 4,
    "start_time": "2023-08-02T11:00:11.060Z"
   },
   {
    "duration": 3,
    "start_time": "2023-08-02T11:00:26.713Z"
   },
   {
    "duration": 14,
    "start_time": "2023-08-02T11:05:16.614Z"
   },
   {
    "duration": 18,
    "start_time": "2023-08-02T11:06:08.238Z"
   },
   {
    "duration": 15,
    "start_time": "2023-08-02T11:06:11.333Z"
   },
   {
    "duration": 18,
    "start_time": "2023-08-02T11:06:39.504Z"
   },
   {
    "duration": 4,
    "start_time": "2023-08-02T11:08:33.803Z"
   },
   {
    "duration": 5,
    "start_time": "2023-08-02T11:09:03.252Z"
   },
   {
    "duration": 858,
    "start_time": "2023-08-02T11:09:13.713Z"
   },
   {
    "duration": 8,
    "start_time": "2023-08-02T11:10:08.312Z"
   },
   {
    "duration": 11,
    "start_time": "2023-08-02T11:10:16.671Z"
   },
   {
    "duration": 6,
    "start_time": "2023-08-02T11:10:21.417Z"
   },
   {
    "duration": 139,
    "start_time": "2023-08-02T11:10:45.793Z"
   },
   {
    "duration": 927,
    "start_time": "2023-08-02T11:11:03.786Z"
   },
   {
    "duration": 11,
    "start_time": "2023-08-02T11:11:23.728Z"
   },
   {
    "duration": 5,
    "start_time": "2023-08-02T11:11:27.804Z"
   },
   {
    "duration": 5,
    "start_time": "2023-08-02T11:11:35.204Z"
   },
   {
    "duration": 6,
    "start_time": "2023-08-02T11:11:41.495Z"
   },
   {
    "duration": 1830,
    "start_time": "2023-08-02T11:12:01.141Z"
   },
   {
    "duration": 1839,
    "start_time": "2023-08-02T11:14:10.085Z"
   },
   {
    "duration": 11,
    "start_time": "2023-08-02T11:14:30.483Z"
   },
   {
    "duration": 12,
    "start_time": "2023-08-02T11:18:39.071Z"
   },
   {
    "duration": 1148,
    "start_time": "2023-08-02T11:18:54.611Z"
   },
   {
    "duration": 154,
    "start_time": "2023-08-02T11:20:33.151Z"
   },
   {
    "duration": 517,
    "start_time": "2023-08-02T11:22:38.993Z"
   },
   {
    "duration": 12,
    "start_time": "2023-08-02T11:23:11.840Z"
   },
   {
    "duration": 559,
    "start_time": "2023-08-02T11:23:17.790Z"
   },
   {
    "duration": 391,
    "start_time": "2023-08-02T11:27:17.580Z"
   },
   {
    "duration": 49,
    "start_time": "2023-08-02T11:28:45.339Z"
   },
   {
    "duration": 20,
    "start_time": "2023-08-02T11:28:56.160Z"
   },
   {
    "duration": 4,
    "start_time": "2023-08-02T11:29:53.418Z"
   },
   {
    "duration": 118,
    "start_time": "2023-08-02T11:30:20.400Z"
   },
   {
    "duration": 787,
    "start_time": "2023-08-02T11:30:26.359Z"
   },
   {
    "duration": 15,
    "start_time": "2023-08-02T11:32:36.738Z"
   },
   {
    "duration": 9,
    "start_time": "2023-08-02T11:35:03.811Z"
   },
   {
    "duration": 4,
    "start_time": "2023-08-02T11:38:34.948Z"
   },
   {
    "duration": 3,
    "start_time": "2023-08-02T11:38:47.937Z"
   },
   {
    "duration": 7,
    "start_time": "2023-08-02T11:41:29.727Z"
   },
   {
    "duration": 549,
    "start_time": "2023-08-02T11:48:18.076Z"
   },
   {
    "duration": 9,
    "start_time": "2023-08-02T11:48:41.665Z"
   },
   {
    "duration": 7,
    "start_time": "2023-08-02T11:49:33.177Z"
   },
   {
    "duration": 612,
    "start_time": "2023-08-02T11:49:46.898Z"
   },
   {
    "duration": 14,
    "start_time": "2023-08-02T11:50:39.899Z"
   },
   {
    "duration": 4,
    "start_time": "2023-08-02T11:51:20.254Z"
   },
   {
    "duration": 3,
    "start_time": "2023-08-02T11:51:21.688Z"
   },
   {
    "duration": 515,
    "start_time": "2023-08-02T11:51:24.317Z"
   },
   {
    "duration": 7,
    "start_time": "2023-08-02T11:51:29.369Z"
   },
   {
    "duration": 716,
    "start_time": "2023-08-02T11:51:29.378Z"
   },
   {
    "duration": 238,
    "start_time": "2023-08-02T11:51:30.095Z"
   },
   {
    "duration": 14,
    "start_time": "2023-08-02T11:51:30.334Z"
   },
   {
    "duration": 44,
    "start_time": "2023-08-02T11:51:30.350Z"
   },
   {
    "duration": 60,
    "start_time": "2023-08-02T11:51:30.395Z"
   },
   {
    "duration": 87,
    "start_time": "2023-08-02T11:51:30.456Z"
   },
   {
    "duration": 36,
    "start_time": "2023-08-02T11:51:30.545Z"
   },
   {
    "duration": 47,
    "start_time": "2023-08-02T11:51:30.583Z"
   },
   {
    "duration": 56,
    "start_time": "2023-08-02T11:51:30.632Z"
   },
   {
    "duration": 70,
    "start_time": "2023-08-02T11:51:30.689Z"
   },
   {
    "duration": 41,
    "start_time": "2023-08-02T11:51:30.760Z"
   },
   {
    "duration": 60,
    "start_time": "2023-08-02T11:51:30.802Z"
   },
   {
    "duration": 805,
    "start_time": "2023-08-02T11:51:30.865Z"
   },
   {
    "duration": 7,
    "start_time": "2023-08-02T11:51:31.672Z"
   },
   {
    "duration": 39,
    "start_time": "2023-08-02T11:51:31.680Z"
   },
   {
    "duration": 1143,
    "start_time": "2023-08-02T11:51:31.722Z"
   },
   {
    "duration": 7,
    "start_time": "2023-08-02T11:51:32.867Z"
   },
   {
    "duration": 1802,
    "start_time": "2023-08-02T11:51:32.876Z"
   },
   {
    "duration": 22,
    "start_time": "2023-08-02T11:51:34.680Z"
   },
   {
    "duration": 12,
    "start_time": "2023-08-02T11:51:34.704Z"
   },
   {
    "duration": 994,
    "start_time": "2023-08-02T11:51:34.717Z"
   },
   {
    "duration": 178,
    "start_time": "2023-08-02T11:51:35.712Z"
   },
   {
    "duration": 604,
    "start_time": "2023-08-02T11:51:35.893Z"
   },
   {
    "duration": 395,
    "start_time": "2023-08-02T11:51:36.498Z"
   },
   {
    "duration": 348,
    "start_time": "2023-08-02T11:51:36.894Z"
   },
   {
    "duration": 72,
    "start_time": "2023-08-02T11:51:37.243Z"
   },
   {
    "duration": 19,
    "start_time": "2023-08-02T11:51:37.317Z"
   },
   {
    "duration": 18,
    "start_time": "2023-08-02T11:51:37.338Z"
   },
   {
    "duration": 10,
    "start_time": "2023-08-02T11:51:37.358Z"
   },
   {
    "duration": 46,
    "start_time": "2023-08-02T11:51:37.369Z"
   },
   {
    "duration": 18,
    "start_time": "2023-08-02T11:51:37.417Z"
   },
   {
    "duration": 1171,
    "start_time": "2023-08-02T11:51:37.437Z"
   },
   {
    "duration": 8,
    "start_time": "2023-08-02T11:51:38.610Z"
   },
   {
    "duration": 7,
    "start_time": "2023-08-02T11:53:18.927Z"
   },
   {
    "duration": 682,
    "start_time": "2023-08-02T11:53:29.397Z"
   },
   {
    "duration": 11,
    "start_time": "2023-08-02T11:53:51.841Z"
   },
   {
    "duration": 726,
    "start_time": "2023-08-02T11:53:51.855Z"
   },
   {
    "duration": 337,
    "start_time": "2023-08-02T11:53:52.583Z"
   },
   {
    "duration": 19,
    "start_time": "2023-08-02T11:53:52.922Z"
   },
   {
    "duration": 11,
    "start_time": "2023-08-02T11:53:52.944Z"
   },
   {
    "duration": 15,
    "start_time": "2023-08-02T11:53:52.956Z"
   },
   {
    "duration": 43,
    "start_time": "2023-08-02T11:53:52.973Z"
   },
   {
    "duration": 7,
    "start_time": "2023-08-02T11:53:53.018Z"
   },
   {
    "duration": 17,
    "start_time": "2023-08-02T11:53:53.026Z"
   },
   {
    "duration": 9,
    "start_time": "2023-08-02T11:53:53.045Z"
   },
   {
    "duration": 14,
    "start_time": "2023-08-02T11:53:53.055Z"
   },
   {
    "duration": 6,
    "start_time": "2023-08-02T11:53:53.070Z"
   },
   {
    "duration": 22,
    "start_time": "2023-08-02T11:53:53.078Z"
   },
   {
    "duration": 793,
    "start_time": "2023-08-02T11:53:53.103Z"
   },
   {
    "duration": 5,
    "start_time": "2023-08-02T11:53:53.900Z"
   },
   {
    "duration": 13,
    "start_time": "2023-08-02T11:53:53.907Z"
   },
   {
    "duration": 999,
    "start_time": "2023-08-02T11:53:53.922Z"
   },
   {
    "duration": 6,
    "start_time": "2023-08-02T11:53:54.923Z"
   },
   {
    "duration": 2088,
    "start_time": "2023-08-02T11:53:54.930Z"
   },
   {
    "duration": 15,
    "start_time": "2023-08-02T11:53:57.020Z"
   },
   {
    "duration": 14,
    "start_time": "2023-08-02T11:53:57.038Z"
   },
   {
    "duration": 1264,
    "start_time": "2023-08-02T11:53:57.054Z"
   },
   {
    "duration": 188,
    "start_time": "2023-08-02T11:53:58.320Z"
   },
   {
    "duration": 497,
    "start_time": "2023-08-02T11:53:58.509Z"
   },
   {
    "duration": 461,
    "start_time": "2023-08-02T11:53:59.009Z"
   },
   {
    "duration": 435,
    "start_time": "2023-08-02T11:53:59.472Z"
   },
   {
    "duration": 65,
    "start_time": "2023-08-02T11:53:59.909Z"
   },
   {
    "duration": 34,
    "start_time": "2023-08-02T11:53:59.976Z"
   },
   {
    "duration": 18,
    "start_time": "2023-08-02T11:54:00.011Z"
   },
   {
    "duration": 30,
    "start_time": "2023-08-02T11:54:00.031Z"
   },
   {
    "duration": 57,
    "start_time": "2023-08-02T11:54:00.063Z"
   },
   {
    "duration": 36,
    "start_time": "2023-08-02T11:54:00.122Z"
   },
   {
    "duration": 573,
    "start_time": "2023-08-02T11:54:00.160Z"
   },
   {
    "duration": 9,
    "start_time": "2023-08-02T11:54:00.734Z"
   },
   {
    "duration": 1152,
    "start_time": "2023-08-02T11:54:40.455Z"
   },
   {
    "duration": 916,
    "start_time": "2023-08-02T11:59:23.959Z"
   },
   {
    "duration": 12,
    "start_time": "2023-08-02T11:59:40.237Z"
   },
   {
    "duration": 599,
    "start_time": "2023-08-02T12:02:56.688Z"
   },
   {
    "duration": 908,
    "start_time": "2023-08-02T12:03:19.278Z"
   },
   {
    "duration": 11,
    "start_time": "2023-08-02T12:04:18.359Z"
   },
   {
    "duration": 949,
    "start_time": "2023-08-02T12:04:18.372Z"
   },
   {
    "duration": 297,
    "start_time": "2023-08-02T12:04:19.323Z"
   },
   {
    "duration": 16,
    "start_time": "2023-08-02T12:04:19.625Z"
   },
   {
    "duration": 12,
    "start_time": "2023-08-02T12:04:19.644Z"
   },
   {
    "duration": 51,
    "start_time": "2023-08-02T12:04:19.658Z"
   },
   {
    "duration": 21,
    "start_time": "2023-08-02T12:04:19.711Z"
   },
   {
    "duration": 18,
    "start_time": "2023-08-02T12:04:19.734Z"
   },
   {
    "duration": 13,
    "start_time": "2023-08-02T12:04:19.755Z"
   },
   {
    "duration": 18,
    "start_time": "2023-08-02T12:04:19.770Z"
   },
   {
    "duration": 7,
    "start_time": "2023-08-02T12:04:19.790Z"
   },
   {
    "duration": 29,
    "start_time": "2023-08-02T12:04:19.805Z"
   },
   {
    "duration": 941,
    "start_time": "2023-08-02T12:04:19.836Z"
   },
   {
    "duration": 24,
    "start_time": "2023-08-02T12:04:20.780Z"
   },
   {
    "duration": 23,
    "start_time": "2023-08-02T12:04:20.809Z"
   },
   {
    "duration": 1093,
    "start_time": "2023-08-02T12:04:20.835Z"
   },
   {
    "duration": 7,
    "start_time": "2023-08-02T12:04:21.929Z"
   },
   {
    "duration": 1912,
    "start_time": "2023-08-02T12:04:21.938Z"
   },
   {
    "duration": 13,
    "start_time": "2023-08-02T12:04:23.852Z"
   },
   {
    "duration": 50,
    "start_time": "2023-08-02T12:04:23.867Z"
   },
   {
    "duration": 1042,
    "start_time": "2023-08-02T12:04:23.919Z"
   },
   {
    "duration": 184,
    "start_time": "2023-08-02T12:04:24.963Z"
   },
   {
    "duration": 503,
    "start_time": "2023-08-02T12:04:25.148Z"
   },
   {
    "duration": 576,
    "start_time": "2023-08-02T12:04:25.653Z"
   },
   {
    "duration": 436,
    "start_time": "2023-08-02T12:04:26.231Z"
   },
   {
    "duration": 59,
    "start_time": "2023-08-02T12:04:26.669Z"
   },
   {
    "duration": 17,
    "start_time": "2023-08-02T12:04:26.730Z"
   },
   {
    "duration": 41,
    "start_time": "2023-08-02T12:04:26.749Z"
   },
   {
    "duration": 36,
    "start_time": "2023-08-02T12:04:26.792Z"
   },
   {
    "duration": 24,
    "start_time": "2023-08-02T12:04:26.831Z"
   },
   {
    "duration": 9,
    "start_time": "2023-08-02T12:04:26.858Z"
   },
   {
    "duration": 1942,
    "start_time": "2023-08-02T12:04:26.869Z"
   },
   {
    "duration": 12,
    "start_time": "2023-08-02T12:04:28.813Z"
   },
   {
    "duration": 21,
    "start_time": "2023-08-02T12:05:08.138Z"
   },
   {
    "duration": 1600,
    "start_time": "2023-08-02T12:05:27.515Z"
   },
   {
    "duration": 9,
    "start_time": "2023-08-02T12:06:27.477Z"
   },
   {
    "duration": 23033,
    "start_time": "2023-08-02T12:06:33.853Z"
   },
   {
    "duration": 5,
    "start_time": "2023-08-02T12:07:08.617Z"
   },
   {
    "duration": 4302920,
    "start_time": "2023-08-02T12:08:07.371Z"
   },
   {
    "duration": 5,
    "start_time": "2023-08-02T13:20:10.142Z"
   },
   {
    "duration": 2027,
    "start_time": "2023-08-02T13:20:29.174Z"
   },
   {
    "duration": 7,
    "start_time": "2023-08-02T13:20:44.800Z"
   },
   {
    "duration": 9181,
    "start_time": "2023-08-02T13:20:59.951Z"
   },
   {
    "duration": 4,
    "start_time": "2023-08-02T13:21:13.142Z"
   },
   {
    "duration": 3591562,
    "start_time": "2023-08-02T13:21:39.392Z"
   },
   {
    "duration": 11,
    "start_time": "2023-08-02T14:21:52.822Z"
   },
   {
    "duration": 2899,
    "start_time": "2023-08-02T14:22:05.215Z"
   },
   {
    "duration": 5,
    "start_time": "2023-08-02T14:22:10.642Z"
   },
   {
    "duration": 3,
    "start_time": "2023-08-02T14:24:38.451Z"
   },
   {
    "duration": 26137,
    "start_time": "2023-08-02T14:25:20.855Z"
   },
   {
    "duration": 9,
    "start_time": "2023-08-02T14:27:30.335Z"
   },
   {
    "duration": 23459,
    "start_time": "2023-08-02T14:27:40.446Z"
   },
   {
    "duration": 9,
    "start_time": "2023-08-02T14:28:28.653Z"
   },
   {
    "duration": 22,
    "start_time": "2023-08-02T14:28:33.375Z"
   },
   {
    "duration": 7,
    "start_time": "2023-08-02T14:28:42.585Z"
   },
   {
    "duration": 6,
    "start_time": "2023-08-02T14:28:48.465Z"
   },
   {
    "duration": 42,
    "start_time": "2023-08-02T14:29:13.786Z"
   },
   {
    "duration": 158,
    "start_time": "2023-08-02T14:29:30.431Z"
   },
   {
    "duration": 14,
    "start_time": "2023-08-02T14:29:41.032Z"
   },
   {
    "duration": 41,
    "start_time": "2023-08-02T14:29:47.519Z"
   },
   {
    "duration": 24204,
    "start_time": "2023-08-02T14:29:59.459Z"
   },
   {
    "duration": 4795,
    "start_time": "2023-08-02T14:30:37.930Z"
   },
   {
    "duration": 11,
    "start_time": "2023-08-02T14:31:48.742Z"
   },
   {
    "duration": 10,
    "start_time": "2023-08-02T14:32:04.985Z"
   },
   {
    "duration": 22801,
    "start_time": "2023-08-02T14:33:15.836Z"
   },
   {
    "duration": 41,
    "start_time": "2023-08-02T14:35:43.396Z"
   },
   {
    "duration": 32,
    "start_time": "2023-08-02T14:35:56.398Z"
   },
   {
    "duration": 28,
    "start_time": "2023-08-02T14:40:54.030Z"
   },
   {
    "duration": 36,
    "start_time": "2023-08-02T14:41:55.696Z"
   },
   {
    "duration": 22195,
    "start_time": "2023-08-02T14:42:29.914Z"
   },
   {
    "duration": 16881,
    "start_time": "2023-08-02T14:51:18.630Z"
   },
   {
    "duration": 21668,
    "start_time": "2023-08-02T14:51:38.218Z"
   },
   {
    "duration": 48,
    "start_time": "2023-08-03T07:48:27.399Z"
   },
   {
    "duration": 2078,
    "start_time": "2023-08-03T07:48:34.922Z"
   },
   {
    "duration": 2312,
    "start_time": "2023-08-03T07:48:37.003Z"
   },
   {
    "duration": 246,
    "start_time": "2023-08-03T07:48:39.317Z"
   },
   {
    "duration": 24,
    "start_time": "2023-08-03T07:48:39.565Z"
   },
   {
    "duration": 16,
    "start_time": "2023-08-03T07:48:39.598Z"
   },
   {
    "duration": 42,
    "start_time": "2023-08-03T07:48:39.616Z"
   },
   {
    "duration": 9,
    "start_time": "2023-08-03T07:48:39.660Z"
   },
   {
    "duration": 39,
    "start_time": "2023-08-03T07:48:39.671Z"
   },
   {
    "duration": 27,
    "start_time": "2023-08-03T07:48:39.712Z"
   },
   {
    "duration": 54,
    "start_time": "2023-08-03T07:48:39.741Z"
   },
   {
    "duration": 6,
    "start_time": "2023-08-03T07:48:39.804Z"
   },
   {
    "duration": 17,
    "start_time": "2023-08-03T07:48:39.814Z"
   },
   {
    "duration": 869,
    "start_time": "2023-08-03T07:48:39.834Z"
   },
   {
    "duration": 7,
    "start_time": "2023-08-03T07:48:40.706Z"
   },
   {
    "duration": 44,
    "start_time": "2023-08-03T07:48:40.714Z"
   },
   {
    "duration": 1088,
    "start_time": "2023-08-03T07:48:40.760Z"
   },
   {
    "duration": 9,
    "start_time": "2023-08-03T07:48:41.850Z"
   },
   {
    "duration": 49,
    "start_time": "2023-08-03T07:48:41.861Z"
   },
   {
    "duration": 1234,
    "start_time": "2023-08-03T07:48:41.912Z"
   },
   {
    "duration": 190,
    "start_time": "2023-08-03T07:48:43.148Z"
   },
   {
    "duration": 669,
    "start_time": "2023-08-03T07:48:43.340Z"
   },
   {
    "duration": 523,
    "start_time": "2023-08-03T07:48:44.011Z"
   },
   {
    "duration": 477,
    "start_time": "2023-08-03T07:48:44.536Z"
   },
   {
    "duration": 58,
    "start_time": "2023-08-03T07:48:45.016Z"
   },
   {
    "duration": 29,
    "start_time": "2023-08-03T07:48:45.076Z"
   },
   {
    "duration": 18,
    "start_time": "2023-08-03T07:48:45.110Z"
   },
   {
    "duration": 15,
    "start_time": "2023-08-03T07:48:54.756Z"
   },
   {
    "duration": 12,
    "start_time": "2023-08-03T07:49:22.937Z"
   },
   {
    "duration": 76,
    "start_time": "2023-08-03T07:50:26.005Z"
   },
   {
    "duration": 15,
    "start_time": "2023-08-03T07:50:32.401Z"
   },
   {
    "duration": 13,
    "start_time": "2023-08-03T07:50:44.435Z"
   },
   {
    "duration": 9,
    "start_time": "2023-08-03T07:51:03.416Z"
   },
   {
    "duration": 12,
    "start_time": "2023-08-03T07:51:12.126Z"
   },
   {
    "duration": 11,
    "start_time": "2023-08-03T07:51:17.436Z"
   },
   {
    "duration": 5,
    "start_time": "2023-08-03T07:51:20.634Z"
   },
   {
    "duration": 4,
    "start_time": "2023-08-03T07:51:27.727Z"
   },
   {
    "duration": 6,
    "start_time": "2023-08-03T07:51:32.967Z"
   },
   {
    "duration": 6,
    "start_time": "2023-08-03T07:51:37.455Z"
   },
   {
    "duration": 6,
    "start_time": "2023-08-03T07:51:45.074Z"
   },
   {
    "duration": 6,
    "start_time": "2023-08-03T07:51:48.756Z"
   },
   {
    "duration": 6,
    "start_time": "2023-08-03T07:51:52.436Z"
   },
   {
    "duration": 5,
    "start_time": "2023-08-03T07:52:06.115Z"
   },
   {
    "duration": 4,
    "start_time": "2023-08-03T07:52:06.765Z"
   },
   {
    "duration": 22155,
    "start_time": "2023-08-03T07:52:11.664Z"
   },
   {
    "duration": 7,
    "start_time": "2023-08-03T07:52:33.821Z"
   },
   {
    "duration": 1340,
    "start_time": "2023-08-03T07:52:44.955Z"
   },
   {
    "duration": 5,
    "start_time": "2023-08-03T07:52:48.594Z"
   },
   {
    "duration": 19371,
    "start_time": "2023-08-03T07:53:01.394Z"
   },
   {
    "duration": 3781,
    "start_time": "2023-08-03T07:53:26.847Z"
   },
   {
    "duration": 2183,
    "start_time": "2023-08-03T07:59:50.775Z"
   },
   {
    "duration": 19698,
    "start_time": "2023-08-03T07:59:56.447Z"
   },
   {
    "duration": 13,
    "start_time": "2023-08-03T08:02:12.754Z"
   },
   {
    "duration": 140,
    "start_time": "2023-08-03T08:02:15.084Z"
   },
   {
    "duration": 147,
    "start_time": "2023-08-03T08:03:06.304Z"
   },
   {
    "duration": 15,
    "start_time": "2023-08-03T08:05:19.425Z"
   },
   {
    "duration": 4912,
    "start_time": "2023-08-03T08:05:34.835Z"
   },
   {
    "duration": 24,
    "start_time": "2023-08-03T08:06:06.815Z"
   },
   {
    "duration": 3758,
    "start_time": "2023-08-03T08:06:50.416Z"
   },
   {
    "duration": 19763,
    "start_time": "2023-08-03T08:08:20.275Z"
   },
   {
    "duration": 3890,
    "start_time": "2023-08-03T08:17:24.244Z"
   },
   {
    "duration": 8,
    "start_time": "2023-08-03T08:17:35.225Z"
   },
   {
    "duration": 845,
    "start_time": "2023-08-03T08:17:35.235Z"
   },
   {
    "duration": 255,
    "start_time": "2023-08-03T08:17:36.082Z"
   },
   {
    "duration": 15,
    "start_time": "2023-08-03T08:17:36.338Z"
   },
   {
    "duration": 35,
    "start_time": "2023-08-03T08:17:36.355Z"
   },
   {
    "duration": 58,
    "start_time": "2023-08-03T08:17:36.393Z"
   },
   {
    "duration": 9,
    "start_time": "2023-08-03T08:17:36.454Z"
   },
   {
    "duration": 38,
    "start_time": "2023-08-03T08:17:36.466Z"
   },
   {
    "duration": 46,
    "start_time": "2023-08-03T08:17:36.506Z"
   },
   {
    "duration": 52,
    "start_time": "2023-08-03T08:17:36.554Z"
   },
   {
    "duration": 25,
    "start_time": "2023-08-03T08:17:36.608Z"
   },
   {
    "duration": 34,
    "start_time": "2023-08-03T08:17:36.635Z"
   },
   {
    "duration": 845,
    "start_time": "2023-08-03T08:17:36.671Z"
   },
   {
    "duration": 6,
    "start_time": "2023-08-03T08:17:37.519Z"
   },
   {
    "duration": 30,
    "start_time": "2023-08-03T08:17:37.527Z"
   },
   {
    "duration": 1166,
    "start_time": "2023-08-03T08:17:37.559Z"
   },
   {
    "duration": 9,
    "start_time": "2023-08-03T08:17:38.728Z"
   },
   {
    "duration": 58,
    "start_time": "2023-08-03T08:17:38.739Z"
   },
   {
    "duration": 1245,
    "start_time": "2023-08-03T08:17:38.798Z"
   },
   {
    "duration": 190,
    "start_time": "2023-08-03T08:17:40.045Z"
   },
   {
    "duration": 686,
    "start_time": "2023-08-03T08:17:40.237Z"
   },
   {
    "duration": 453,
    "start_time": "2023-08-03T08:17:40.925Z"
   },
   {
    "duration": 392,
    "start_time": "2023-08-03T08:17:41.380Z"
   },
   {
    "duration": 54,
    "start_time": "2023-08-03T08:18:02.037Z"
   },
   {
    "duration": 117,
    "start_time": "2023-08-03T08:18:06.085Z"
   },
   {
    "duration": 21,
    "start_time": "2023-08-03T08:18:15.373Z"
   },
   {
    "duration": 11,
    "start_time": "2023-08-03T08:20:27.927Z"
   },
   {
    "duration": 755,
    "start_time": "2023-08-03T08:20:27.940Z"
   },
   {
    "duration": 247,
    "start_time": "2023-08-03T08:20:28.696Z"
   },
   {
    "duration": 15,
    "start_time": "2023-08-03T08:20:28.944Z"
   },
   {
    "duration": 83,
    "start_time": "2023-08-03T08:20:28.961Z"
   },
   {
    "duration": 70,
    "start_time": "2023-08-03T08:20:29.046Z"
   },
   {
    "duration": 9,
    "start_time": "2023-08-03T08:20:29.118Z"
   },
   {
    "duration": 29,
    "start_time": "2023-08-03T08:20:29.129Z"
   },
   {
    "duration": 23,
    "start_time": "2023-08-03T08:20:29.161Z"
   },
   {
    "duration": 27,
    "start_time": "2023-08-03T08:20:29.186Z"
   },
   {
    "duration": 61,
    "start_time": "2023-08-03T08:20:29.215Z"
   },
   {
    "duration": 27,
    "start_time": "2023-08-03T08:20:29.278Z"
   },
   {
    "duration": 812,
    "start_time": "2023-08-03T08:20:29.307Z"
   },
   {
    "duration": 7,
    "start_time": "2023-08-03T08:20:30.122Z"
   },
   {
    "duration": 30,
    "start_time": "2023-08-03T08:20:30.131Z"
   },
   {
    "duration": 1110,
    "start_time": "2023-08-03T08:20:30.163Z"
   },
   {
    "duration": 13,
    "start_time": "2023-08-03T08:20:31.275Z"
   },
   {
    "duration": 42,
    "start_time": "2023-08-03T08:20:31.290Z"
   },
   {
    "duration": 1189,
    "start_time": "2023-08-03T08:20:31.334Z"
   },
   {
    "duration": 185,
    "start_time": "2023-08-03T08:20:32.525Z"
   },
   {
    "duration": 719,
    "start_time": "2023-08-03T08:20:32.712Z"
   },
   {
    "duration": 449,
    "start_time": "2023-08-03T08:20:33.433Z"
   },
   {
    "duration": 379,
    "start_time": "2023-08-03T08:20:33.884Z"
   },
   {
    "duration": 83,
    "start_time": "2023-08-03T08:20:34.265Z"
   },
   {
    "duration": 18,
    "start_time": "2023-08-03T08:20:34.350Z"
   },
   {
    "duration": 17,
    "start_time": "2023-08-03T08:21:02.714Z"
   },
   {
    "duration": 3,
    "start_time": "2023-08-03T08:21:07.442Z"
   },
   {
    "duration": 3,
    "start_time": "2023-08-03T08:21:08.036Z"
   },
   {
    "duration": 19496,
    "start_time": "2023-08-03T08:21:14.383Z"
   },
   {
    "duration": 7,
    "start_time": "2023-08-03T08:29:39.455Z"
   },
   {
    "duration": 811,
    "start_time": "2023-08-03T08:29:39.464Z"
   },
   {
    "duration": 282,
    "start_time": "2023-08-03T08:29:40.277Z"
   },
   {
    "duration": 29,
    "start_time": "2023-08-03T08:29:40.561Z"
   },
   {
    "duration": 17,
    "start_time": "2023-08-03T08:29:40.595Z"
   },
   {
    "duration": 27,
    "start_time": "2023-08-03T08:29:40.614Z"
   },
   {
    "duration": 20,
    "start_time": "2023-08-03T08:29:40.643Z"
   },
   {
    "duration": 38,
    "start_time": "2023-08-03T08:29:40.665Z"
   },
   {
    "duration": 54,
    "start_time": "2023-08-03T08:29:40.705Z"
   },
   {
    "duration": 55,
    "start_time": "2023-08-03T08:29:40.761Z"
   },
   {
    "duration": 37,
    "start_time": "2023-08-03T08:29:40.818Z"
   },
   {
    "duration": 56,
    "start_time": "2023-08-03T08:29:40.858Z"
   },
   {
    "duration": 805,
    "start_time": "2023-08-03T08:29:40.916Z"
   },
   {
    "duration": 8,
    "start_time": "2023-08-03T08:29:41.724Z"
   },
   {
    "duration": 20,
    "start_time": "2023-08-03T08:29:41.734Z"
   },
   {
    "duration": 1166,
    "start_time": "2023-08-03T08:29:41.756Z"
   },
   {
    "duration": 8,
    "start_time": "2023-08-03T08:29:42.924Z"
   },
   {
    "duration": 14,
    "start_time": "2023-08-03T08:29:42.934Z"
   },
   {
    "duration": 1194,
    "start_time": "2023-08-03T08:29:42.950Z"
   },
   {
    "duration": 189,
    "start_time": "2023-08-03T08:29:44.146Z"
   },
   {
    "duration": 745,
    "start_time": "2023-08-03T08:29:44.336Z"
   },
   {
    "duration": 477,
    "start_time": "2023-08-03T08:29:45.091Z"
   },
   {
    "duration": 395,
    "start_time": "2023-08-03T08:29:45.570Z"
   },
   {
    "duration": 57,
    "start_time": "2023-08-03T08:29:45.967Z"
   },
   {
    "duration": 16,
    "start_time": "2023-08-03T08:29:46.026Z"
   },
   {
    "duration": 82,
    "start_time": "2023-08-03T08:29:46.044Z"
   },
   {
    "duration": 32,
    "start_time": "2023-08-03T08:29:56.743Z"
   },
   {
    "duration": 11,
    "start_time": "2023-08-03T08:32:19.549Z"
   },
   {
    "duration": 12,
    "start_time": "2023-08-03T08:32:33.504Z"
   },
   {
    "duration": 4,
    "start_time": "2023-08-03T08:32:46.373Z"
   },
   {
    "duration": 4,
    "start_time": "2023-08-03T08:32:47.048Z"
   },
   {
    "duration": 19578,
    "start_time": "2023-08-03T08:32:54.597Z"
   },
   {
    "duration": 3851,
    "start_time": "2023-08-03T08:33:32.806Z"
   },
   {
    "duration": 8,
    "start_time": "2023-08-03T08:33:43.571Z"
   },
   {
    "duration": 9,
    "start_time": "2023-08-03T08:33:44.817Z"
   },
   {
    "duration": 5,
    "start_time": "2023-08-03T08:36:00.508Z"
   }
  ],
  "kernelspec": {
   "display_name": "Python 3 (ipykernel)",
   "language": "python",
   "name": "python3"
  },
  "language_info": {
   "codemirror_mode": {
    "name": "ipython",
    "version": 3
   },
   "file_extension": ".py",
   "mimetype": "text/x-python",
   "name": "python",
   "nbconvert_exporter": "python",
   "pygments_lexer": "ipython3",
   "version": "3.9.5"
  },
  "toc": {
   "base_numbering": 1,
   "nav_menu": {},
   "number_sections": true,
   "sideBar": true,
   "skip_h1_title": true,
   "title_cell": "Содержание",
   "title_sidebar": "Contents",
   "toc_cell": true,
   "toc_position": {
    "height": "calc(100% - 180px)",
    "left": "10px",
    "top": "150px",
    "width": "191px"
   },
   "toc_section_display": true,
   "toc_window_display": true
  }
 },
 "nbformat": 4,
 "nbformat_minor": 2
}
