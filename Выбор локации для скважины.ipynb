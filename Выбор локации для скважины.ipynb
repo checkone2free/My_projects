{
 "cells": [
  {
   "cell_type": "markdown",
   "metadata": {},
   "source": [
    "# Выбор локации для скважины"
   ]
  },
  {
   "cell_type": "markdown",
   "metadata": {},
   "source": [
    "Допустим, вы работаете в добывающей компании «ГлавРосГосНефть». Нужно решить, где бурить новую скважину.\n",
    "\n",
    "Вам предоставлены пробы нефти в трёх регионах: в каждом 10 000 месторождений, где измерили качество нефти и объём её запасов. Постройте модель машинного обучения, которая поможет определить регион, где добыча принесёт наибольшую прибыль. Проанализируйте возможную прибыль и риски техникой *Bootstrap.*\n",
    "\n",
    "Шаги для выбора локации:\n",
    "\n",
    "- В избранном регионе ищут месторождения, для каждого определяют значения признаков;\n",
    "- Строят модель и оценивают объём запасов;\n",
    "- Выбирают месторождения с самым высокими оценками значений. Количество месторождений зависит от бюджета компании и стоимости разработки одной скважины;\n",
    "- Прибыль равна суммарной прибыли отобранных месторождений."
   ]
  },
  {
   "cell_type": "markdown",
   "metadata": {},
   "source": [
    "## Загрузка и подготовка данных"
   ]
  },
  {
   "cell_type": "code",
   "execution_count": 1,
   "metadata": {},
   "outputs": [
    {
     "data": {
      "text/html": [
       "<style>.container { width:90% !important; }</style>"
      ],
      "text/plain": [
       "<IPython.core.display.HTML object>"
      ]
     },
     "metadata": {},
     "output_type": "display_data"
    }
   ],
   "source": [
    "import pandas as pd\n",
    "from sklearn.model_selection import train_test_split\n",
    "from sklearn.linear_model import LinearRegression\n",
    "from sklearn.preprocessing import StandardScaler\n",
    "from sklearn.metrics import accuracy_score\n",
    "from scipy import stats as st\n",
    "import numpy as np\n",
    "from sklearn.metrics import mean_squared_error, r2_score\n",
    "from tqdm.notebook import tqdm\n",
    "import matplotlib.pyplot as plt\n",
    "import seaborn as sns\n",
    "from sklearn.utils import shuffle\n",
    "from sklearn.preprocessing import OrdinalEncoder \n",
    "import warnings\n",
    "warnings.filterwarnings(\"ignore\")\n",
    "from IPython.core.display import display, HTML\n",
    "display(HTML(\"<style>.container { width:90% !important; }</style>\"))"
   ]
  },
  {
   "cell_type": "code",
   "execution_count": 2,
   "metadata": {},
   "outputs": [],
   "source": [
    "df1 = pd.read_csv('/datasets/geo_data_0.csv')\n",
    "df2 = pd.read_csv('/datasets/geo_data_1.csv')\n",
    "df3 = pd.read_csv('/datasets/geo_data_2.csv')"
   ]
  },
  {
   "cell_type": "markdown",
   "metadata": {},
   "source": [
    "*Данные геологоразведки 1-го региона*"
   ]
  },
  {
   "cell_type": "code",
   "execution_count": 3,
   "metadata": {},
   "outputs": [
    {
     "data": {
      "text/html": [
       "<div>\n",
       "<style scoped>\n",
       "    .dataframe tbody tr th:only-of-type {\n",
       "        vertical-align: middle;\n",
       "    }\n",
       "\n",
       "    .dataframe tbody tr th {\n",
       "        vertical-align: top;\n",
       "    }\n",
       "\n",
       "    .dataframe thead th {\n",
       "        text-align: right;\n",
       "    }\n",
       "</style>\n",
       "<table border=\"1\" class=\"dataframe\">\n",
       "  <thead>\n",
       "    <tr style=\"text-align: right;\">\n",
       "      <th></th>\n",
       "      <th>id</th>\n",
       "      <th>f0</th>\n",
       "      <th>f1</th>\n",
       "      <th>f2</th>\n",
       "      <th>product</th>\n",
       "    </tr>\n",
       "  </thead>\n",
       "  <tbody>\n",
       "    <tr>\n",
       "      <th>0</th>\n",
       "      <td>txEyH</td>\n",
       "      <td>0.705745</td>\n",
       "      <td>-0.497823</td>\n",
       "      <td>1.221170</td>\n",
       "      <td>105.280062</td>\n",
       "    </tr>\n",
       "    <tr>\n",
       "      <th>1</th>\n",
       "      <td>2acmU</td>\n",
       "      <td>1.334711</td>\n",
       "      <td>-0.340164</td>\n",
       "      <td>4.365080</td>\n",
       "      <td>73.037750</td>\n",
       "    </tr>\n",
       "    <tr>\n",
       "      <th>2</th>\n",
       "      <td>409Wp</td>\n",
       "      <td>1.022732</td>\n",
       "      <td>0.151990</td>\n",
       "      <td>1.419926</td>\n",
       "      <td>85.265647</td>\n",
       "    </tr>\n",
       "    <tr>\n",
       "      <th>3</th>\n",
       "      <td>iJLyR</td>\n",
       "      <td>-0.032172</td>\n",
       "      <td>0.139033</td>\n",
       "      <td>2.978566</td>\n",
       "      <td>168.620776</td>\n",
       "    </tr>\n",
       "    <tr>\n",
       "      <th>4</th>\n",
       "      <td>Xdl7t</td>\n",
       "      <td>1.988431</td>\n",
       "      <td>0.155413</td>\n",
       "      <td>4.751769</td>\n",
       "      <td>154.036647</td>\n",
       "    </tr>\n",
       "  </tbody>\n",
       "</table>\n",
       "</div>"
      ],
      "text/plain": [
       "      id        f0        f1        f2     product\n",
       "0  txEyH  0.705745 -0.497823  1.221170  105.280062\n",
       "1  2acmU  1.334711 -0.340164  4.365080   73.037750\n",
       "2  409Wp  1.022732  0.151990  1.419926   85.265647\n",
       "3  iJLyR -0.032172  0.139033  2.978566  168.620776\n",
       "4  Xdl7t  1.988431  0.155413  4.751769  154.036647"
      ]
     },
     "execution_count": 3,
     "metadata": {},
     "output_type": "execute_result"
    }
   ],
   "source": [
    "df1.head()"
   ]
  },
  {
   "cell_type": "code",
   "execution_count": 4,
   "metadata": {},
   "outputs": [
    {
     "name": "stdout",
     "output_type": "stream",
     "text": [
      "<class 'pandas.core.frame.DataFrame'>\n",
      "RangeIndex: 100000 entries, 0 to 99999\n",
      "Data columns (total 5 columns):\n",
      " #   Column   Non-Null Count   Dtype  \n",
      "---  ------   --------------   -----  \n",
      " 0   id       100000 non-null  object \n",
      " 1   f0       100000 non-null  float64\n",
      " 2   f1       100000 non-null  float64\n",
      " 3   f2       100000 non-null  float64\n",
      " 4   product  100000 non-null  float64\n",
      "dtypes: float64(4), object(1)\n",
      "memory usage: 3.8+ MB\n"
     ]
    }
   ],
   "source": [
    "df1.info()"
   ]
  },
  {
   "cell_type": "code",
   "execution_count": 5,
   "metadata": {},
   "outputs": [
    {
     "data": {
      "text/html": [
       "<style  type=\"text/css\" >\n",
       "#T_fd7e7_row0_col0,#T_fd7e7_row1_col1,#T_fd7e7_row2_col2,#T_fd7e7_row3_col3{\n",
       "            background-color:  #b40426;\n",
       "            color:  #f1f1f1;\n",
       "        }#T_fd7e7_row0_col1,#T_fd7e7_row0_col2,#T_fd7e7_row1_col0,#T_fd7e7_row1_col3{\n",
       "            background-color:  #3b4cc0;\n",
       "            color:  #f1f1f1;\n",
       "        }#T_fd7e7_row0_col3{\n",
       "            background-color:  #98b9ff;\n",
       "            color:  #000000;\n",
       "        }#T_fd7e7_row1_col2{\n",
       "            background-color:  #3c4ec2;\n",
       "            color:  #f1f1f1;\n",
       "        }#T_fd7e7_row2_col0{\n",
       "            background-color:  #9fbfff;\n",
       "            color:  #000000;\n",
       "        }#T_fd7e7_row2_col1{\n",
       "            background-color:  #a1c0ff;\n",
       "            color:  #000000;\n",
       "        }#T_fd7e7_row2_col3{\n",
       "            background-color:  #edd2c3;\n",
       "            color:  #000000;\n",
       "        }#T_fd7e7_row3_col0{\n",
       "            background-color:  #c1d4f4;\n",
       "            color:  #000000;\n",
       "        }#T_fd7e7_row3_col1{\n",
       "            background-color:  #7295f4;\n",
       "            color:  #000000;\n",
       "        }#T_fd7e7_row3_col2{\n",
       "            background-color:  #d9dce1;\n",
       "            color:  #000000;\n",
       "        }</style><table id=\"T_fd7e7_\" ><thead>    <tr>        <th class=\"blank level0\" ></th>        <th class=\"col_heading level0 col0\" >f0</th>        <th class=\"col_heading level0 col1\" >f1</th>        <th class=\"col_heading level0 col2\" >f2</th>        <th class=\"col_heading level0 col3\" >product</th>    </tr></thead><tbody>\n",
       "                <tr>\n",
       "                        <th id=\"T_fd7e7_level0_row0\" class=\"row_heading level0 row0\" >f0</th>\n",
       "                        <td id=\"T_fd7e7_row0_col0\" class=\"data row0 col0\" >1.000000</td>\n",
       "                        <td id=\"T_fd7e7_row0_col1\" class=\"data row0 col1\" >-0.440723</td>\n",
       "                        <td id=\"T_fd7e7_row0_col2\" class=\"data row0 col2\" >-0.003153</td>\n",
       "                        <td id=\"T_fd7e7_row0_col3\" class=\"data row0 col3\" >0.143536</td>\n",
       "            </tr>\n",
       "            <tr>\n",
       "                        <th id=\"T_fd7e7_level0_row1\" class=\"row_heading level0 row1\" >f1</th>\n",
       "                        <td id=\"T_fd7e7_row1_col0\" class=\"data row1 col0\" >-0.440723</td>\n",
       "                        <td id=\"T_fd7e7_row1_col1\" class=\"data row1 col1\" >1.000000</td>\n",
       "                        <td id=\"T_fd7e7_row1_col2\" class=\"data row1 col2\" >0.001724</td>\n",
       "                        <td id=\"T_fd7e7_row1_col3\" class=\"data row1 col3\" >-0.192356</td>\n",
       "            </tr>\n",
       "            <tr>\n",
       "                        <th id=\"T_fd7e7_level0_row2\" class=\"row_heading level0 row2\" >f2</th>\n",
       "                        <td id=\"T_fd7e7_row2_col0\" class=\"data row2 col0\" >-0.003153</td>\n",
       "                        <td id=\"T_fd7e7_row2_col1\" class=\"data row2 col1\" >0.001724</td>\n",
       "                        <td id=\"T_fd7e7_row2_col2\" class=\"data row2 col2\" >1.000000</td>\n",
       "                        <td id=\"T_fd7e7_row2_col3\" class=\"data row2 col3\" >0.483663</td>\n",
       "            </tr>\n",
       "            <tr>\n",
       "                        <th id=\"T_fd7e7_level0_row3\" class=\"row_heading level0 row3\" >product</th>\n",
       "                        <td id=\"T_fd7e7_row3_col0\" class=\"data row3 col0\" >0.143536</td>\n",
       "                        <td id=\"T_fd7e7_row3_col1\" class=\"data row3 col1\" >-0.192356</td>\n",
       "                        <td id=\"T_fd7e7_row3_col2\" class=\"data row3 col2\" >0.483663</td>\n",
       "                        <td id=\"T_fd7e7_row3_col3\" class=\"data row3 col3\" >1.000000</td>\n",
       "            </tr>\n",
       "    </tbody></table>"
      ],
      "text/plain": [
       "<pandas.io.formats.style.Styler at 0x7f6f51568a00>"
      ]
     },
     "execution_count": 5,
     "metadata": {},
     "output_type": "execute_result"
    }
   ],
   "source": [
    "df1\\\n",
    "    .corr()\\\n",
    "    .style\\\n",
    "    .background_gradient(cmap='coolwarm')"
   ]
  },
  {
   "cell_type": "code",
   "execution_count": 6,
   "metadata": {},
   "outputs": [
    {
     "data": {
      "text/html": [
       "<div>\n",
       "<style scoped>\n",
       "    .dataframe tbody tr th:only-of-type {\n",
       "        vertical-align: middle;\n",
       "    }\n",
       "\n",
       "    .dataframe tbody tr th {\n",
       "        vertical-align: top;\n",
       "    }\n",
       "\n",
       "    .dataframe thead th {\n",
       "        text-align: right;\n",
       "    }\n",
       "</style>\n",
       "<table border=\"1\" class=\"dataframe\">\n",
       "  <thead>\n",
       "    <tr style=\"text-align: right;\">\n",
       "      <th></th>\n",
       "      <th>f0</th>\n",
       "      <th>f1</th>\n",
       "      <th>f2</th>\n",
       "      <th>product</th>\n",
       "    </tr>\n",
       "  </thead>\n",
       "  <tbody>\n",
       "    <tr>\n",
       "      <th>count</th>\n",
       "      <td>100000.000000</td>\n",
       "      <td>100000.000000</td>\n",
       "      <td>100000.000000</td>\n",
       "      <td>100000.000000</td>\n",
       "    </tr>\n",
       "    <tr>\n",
       "      <th>mean</th>\n",
       "      <td>0.500419</td>\n",
       "      <td>0.250143</td>\n",
       "      <td>2.502647</td>\n",
       "      <td>92.500000</td>\n",
       "    </tr>\n",
       "    <tr>\n",
       "      <th>std</th>\n",
       "      <td>0.871832</td>\n",
       "      <td>0.504433</td>\n",
       "      <td>3.248248</td>\n",
       "      <td>44.288691</td>\n",
       "    </tr>\n",
       "    <tr>\n",
       "      <th>min</th>\n",
       "      <td>-1.408605</td>\n",
       "      <td>-0.848218</td>\n",
       "      <td>-12.088328</td>\n",
       "      <td>0.000000</td>\n",
       "    </tr>\n",
       "    <tr>\n",
       "      <th>25%</th>\n",
       "      <td>-0.072580</td>\n",
       "      <td>-0.200881</td>\n",
       "      <td>0.287748</td>\n",
       "      <td>56.497507</td>\n",
       "    </tr>\n",
       "    <tr>\n",
       "      <th>50%</th>\n",
       "      <td>0.502360</td>\n",
       "      <td>0.250252</td>\n",
       "      <td>2.515969</td>\n",
       "      <td>91.849972</td>\n",
       "    </tr>\n",
       "    <tr>\n",
       "      <th>75%</th>\n",
       "      <td>1.073581</td>\n",
       "      <td>0.700646</td>\n",
       "      <td>4.715088</td>\n",
       "      <td>128.564089</td>\n",
       "    </tr>\n",
       "    <tr>\n",
       "      <th>max</th>\n",
       "      <td>2.362331</td>\n",
       "      <td>1.343769</td>\n",
       "      <td>16.003790</td>\n",
       "      <td>185.364347</td>\n",
       "    </tr>\n",
       "  </tbody>\n",
       "</table>\n",
       "</div>"
      ],
      "text/plain": [
       "                  f0             f1             f2        product\n",
       "count  100000.000000  100000.000000  100000.000000  100000.000000\n",
       "mean        0.500419       0.250143       2.502647      92.500000\n",
       "std         0.871832       0.504433       3.248248      44.288691\n",
       "min        -1.408605      -0.848218     -12.088328       0.000000\n",
       "25%        -0.072580      -0.200881       0.287748      56.497507\n",
       "50%         0.502360       0.250252       2.515969      91.849972\n",
       "75%         1.073581       0.700646       4.715088     128.564089\n",
       "max         2.362331       1.343769      16.003790     185.364347"
      ]
     },
     "execution_count": 6,
     "metadata": {},
     "output_type": "execute_result"
    }
   ],
   "source": [
    "df1.describe()"
   ]
  },
  {
   "cell_type": "markdown",
   "metadata": {},
   "source": [
    "*Данные геологоразведки 2-го региона*"
   ]
  },
  {
   "cell_type": "code",
   "execution_count": 7,
   "metadata": {},
   "outputs": [
    {
     "data": {
      "text/html": [
       "<div>\n",
       "<style scoped>\n",
       "    .dataframe tbody tr th:only-of-type {\n",
       "        vertical-align: middle;\n",
       "    }\n",
       "\n",
       "    .dataframe tbody tr th {\n",
       "        vertical-align: top;\n",
       "    }\n",
       "\n",
       "    .dataframe thead th {\n",
       "        text-align: right;\n",
       "    }\n",
       "</style>\n",
       "<table border=\"1\" class=\"dataframe\">\n",
       "  <thead>\n",
       "    <tr style=\"text-align: right;\">\n",
       "      <th></th>\n",
       "      <th>id</th>\n",
       "      <th>f0</th>\n",
       "      <th>f1</th>\n",
       "      <th>f2</th>\n",
       "      <th>product</th>\n",
       "    </tr>\n",
       "  </thead>\n",
       "  <tbody>\n",
       "    <tr>\n",
       "      <th>0</th>\n",
       "      <td>kBEdx</td>\n",
       "      <td>-15.001348</td>\n",
       "      <td>-8.276000</td>\n",
       "      <td>-0.005876</td>\n",
       "      <td>3.179103</td>\n",
       "    </tr>\n",
       "    <tr>\n",
       "      <th>1</th>\n",
       "      <td>62mP7</td>\n",
       "      <td>14.272088</td>\n",
       "      <td>-3.475083</td>\n",
       "      <td>0.999183</td>\n",
       "      <td>26.953261</td>\n",
       "    </tr>\n",
       "    <tr>\n",
       "      <th>2</th>\n",
       "      <td>vyE1P</td>\n",
       "      <td>6.263187</td>\n",
       "      <td>-5.948386</td>\n",
       "      <td>5.001160</td>\n",
       "      <td>134.766305</td>\n",
       "    </tr>\n",
       "    <tr>\n",
       "      <th>3</th>\n",
       "      <td>KcrkZ</td>\n",
       "      <td>-13.081196</td>\n",
       "      <td>-11.506057</td>\n",
       "      <td>4.999415</td>\n",
       "      <td>137.945408</td>\n",
       "    </tr>\n",
       "    <tr>\n",
       "      <th>4</th>\n",
       "      <td>AHL4O</td>\n",
       "      <td>12.702195</td>\n",
       "      <td>-8.147433</td>\n",
       "      <td>5.004363</td>\n",
       "      <td>134.766305</td>\n",
       "    </tr>\n",
       "  </tbody>\n",
       "</table>\n",
       "</div>"
      ],
      "text/plain": [
       "      id         f0         f1        f2     product\n",
       "0  kBEdx -15.001348  -8.276000 -0.005876    3.179103\n",
       "1  62mP7  14.272088  -3.475083  0.999183   26.953261\n",
       "2  vyE1P   6.263187  -5.948386  5.001160  134.766305\n",
       "3  KcrkZ -13.081196 -11.506057  4.999415  137.945408\n",
       "4  AHL4O  12.702195  -8.147433  5.004363  134.766305"
      ]
     },
     "execution_count": 7,
     "metadata": {},
     "output_type": "execute_result"
    }
   ],
   "source": [
    "df2.head()"
   ]
  },
  {
   "cell_type": "code",
   "execution_count": 8,
   "metadata": {},
   "outputs": [
    {
     "name": "stdout",
     "output_type": "stream",
     "text": [
      "<class 'pandas.core.frame.DataFrame'>\n",
      "RangeIndex: 100000 entries, 0 to 99999\n",
      "Data columns (total 5 columns):\n",
      " #   Column   Non-Null Count   Dtype  \n",
      "---  ------   --------------   -----  \n",
      " 0   id       100000 non-null  object \n",
      " 1   f0       100000 non-null  float64\n",
      " 2   f1       100000 non-null  float64\n",
      " 3   f2       100000 non-null  float64\n",
      " 4   product  100000 non-null  float64\n",
      "dtypes: float64(4), object(1)\n",
      "memory usage: 3.8+ MB\n"
     ]
    }
   ],
   "source": [
    "df2.info()"
   ]
  },
  {
   "cell_type": "code",
   "execution_count": 9,
   "metadata": {},
   "outputs": [
    {
     "data": {
      "text/html": [
       "<style  type=\"text/css\" >\n",
       "#T_17c69_row0_col0,#T_17c69_row1_col1,#T_17c69_row2_col2,#T_17c69_row2_col3,#T_17c69_row3_col2,#T_17c69_row3_col3{\n",
       "            background-color:  #b40426;\n",
       "            color:  #f1f1f1;\n",
       "        }#T_17c69_row0_col1{\n",
       "            background-color:  #779af7;\n",
       "            color:  #000000;\n",
       "        }#T_17c69_row0_col2,#T_17c69_row0_col3,#T_17c69_row1_col2,#T_17c69_row3_col0,#T_17c69_row3_col1{\n",
       "            background-color:  #3b4cc0;\n",
       "            color:  #f1f1f1;\n",
       "        }#T_17c69_row1_col0{\n",
       "            background-color:  #7da0f9;\n",
       "            color:  #000000;\n",
       "        }#T_17c69_row1_col3{\n",
       "            background-color:  #4055c8;\n",
       "            color:  #f1f1f1;\n",
       "        }#T_17c69_row2_col0{\n",
       "            background-color:  #4358cb;\n",
       "            color:  #f1f1f1;\n",
       "        }#T_17c69_row2_col1{\n",
       "            background-color:  #3c4ec2;\n",
       "            color:  #f1f1f1;\n",
       "        }</style><table id=\"T_17c69_\" ><thead>    <tr>        <th class=\"blank level0\" ></th>        <th class=\"col_heading level0 col0\" >f0</th>        <th class=\"col_heading level0 col1\" >f1</th>        <th class=\"col_heading level0 col2\" >f2</th>        <th class=\"col_heading level0 col3\" >product</th>    </tr></thead><tbody>\n",
       "                <tr>\n",
       "                        <th id=\"T_17c69_level0_row0\" class=\"row_heading level0 row0\" >f0</th>\n",
       "                        <td id=\"T_17c69_row0_col0\" class=\"data row0 col0\" >1.000000</td>\n",
       "                        <td id=\"T_17c69_row0_col1\" class=\"data row0 col1\" >0.182287</td>\n",
       "                        <td id=\"T_17c69_row0_col2\" class=\"data row0 col2\" >-0.001777</td>\n",
       "                        <td id=\"T_17c69_row0_col3\" class=\"data row0 col3\" >-0.030491</td>\n",
       "            </tr>\n",
       "            <tr>\n",
       "                        <th id=\"T_17c69_level0_row1\" class=\"row_heading level0 row1\" >f1</th>\n",
       "                        <td id=\"T_17c69_row1_col0\" class=\"data row1 col0\" >0.182287</td>\n",
       "                        <td id=\"T_17c69_row1_col1\" class=\"data row1 col1\" >1.000000</td>\n",
       "                        <td id=\"T_17c69_row1_col2\" class=\"data row1 col2\" >-0.002595</td>\n",
       "                        <td id=\"T_17c69_row1_col3\" class=\"data row1 col3\" >-0.010155</td>\n",
       "            </tr>\n",
       "            <tr>\n",
       "                        <th id=\"T_17c69_level0_row2\" class=\"row_heading level0 row2\" >f2</th>\n",
       "                        <td id=\"T_17c69_row2_col0\" class=\"data row2 col0\" >-0.001777</td>\n",
       "                        <td id=\"T_17c69_row2_col1\" class=\"data row2 col1\" >-0.002595</td>\n",
       "                        <td id=\"T_17c69_row2_col2\" class=\"data row2 col2\" >1.000000</td>\n",
       "                        <td id=\"T_17c69_row2_col3\" class=\"data row2 col3\" >0.999397</td>\n",
       "            </tr>\n",
       "            <tr>\n",
       "                        <th id=\"T_17c69_level0_row3\" class=\"row_heading level0 row3\" >product</th>\n",
       "                        <td id=\"T_17c69_row3_col0\" class=\"data row3 col0\" >-0.030491</td>\n",
       "                        <td id=\"T_17c69_row3_col1\" class=\"data row3 col1\" >-0.010155</td>\n",
       "                        <td id=\"T_17c69_row3_col2\" class=\"data row3 col2\" >0.999397</td>\n",
       "                        <td id=\"T_17c69_row3_col3\" class=\"data row3 col3\" >1.000000</td>\n",
       "            </tr>\n",
       "    </tbody></table>"
      ],
      "text/plain": [
       "<pandas.io.formats.style.Styler at 0x7f6f523e8b80>"
      ]
     },
     "execution_count": 9,
     "metadata": {},
     "output_type": "execute_result"
    }
   ],
   "source": [
    "df2\\\n",
    "    .corr()\\\n",
    "    .style\\\n",
    "    .background_gradient(cmap='coolwarm')"
   ]
  },
  {
   "cell_type": "code",
   "execution_count": 10,
   "metadata": {},
   "outputs": [
    {
     "data": {
      "text/html": [
       "<div>\n",
       "<style scoped>\n",
       "    .dataframe tbody tr th:only-of-type {\n",
       "        vertical-align: middle;\n",
       "    }\n",
       "\n",
       "    .dataframe tbody tr th {\n",
       "        vertical-align: top;\n",
       "    }\n",
       "\n",
       "    .dataframe thead th {\n",
       "        text-align: right;\n",
       "    }\n",
       "</style>\n",
       "<table border=\"1\" class=\"dataframe\">\n",
       "  <thead>\n",
       "    <tr style=\"text-align: right;\">\n",
       "      <th></th>\n",
       "      <th>f0</th>\n",
       "      <th>f1</th>\n",
       "      <th>f2</th>\n",
       "      <th>product</th>\n",
       "    </tr>\n",
       "  </thead>\n",
       "  <tbody>\n",
       "    <tr>\n",
       "      <th>count</th>\n",
       "      <td>100000.000000</td>\n",
       "      <td>100000.000000</td>\n",
       "      <td>100000.000000</td>\n",
       "      <td>100000.000000</td>\n",
       "    </tr>\n",
       "    <tr>\n",
       "      <th>mean</th>\n",
       "      <td>1.141296</td>\n",
       "      <td>-4.796579</td>\n",
       "      <td>2.494541</td>\n",
       "      <td>68.825000</td>\n",
       "    </tr>\n",
       "    <tr>\n",
       "      <th>std</th>\n",
       "      <td>8.965932</td>\n",
       "      <td>5.119872</td>\n",
       "      <td>1.703572</td>\n",
       "      <td>45.944423</td>\n",
       "    </tr>\n",
       "    <tr>\n",
       "      <th>min</th>\n",
       "      <td>-31.609576</td>\n",
       "      <td>-26.358598</td>\n",
       "      <td>-0.018144</td>\n",
       "      <td>0.000000</td>\n",
       "    </tr>\n",
       "    <tr>\n",
       "      <th>25%</th>\n",
       "      <td>-6.298551</td>\n",
       "      <td>-8.267985</td>\n",
       "      <td>1.000021</td>\n",
       "      <td>26.953261</td>\n",
       "    </tr>\n",
       "    <tr>\n",
       "      <th>50%</th>\n",
       "      <td>1.153055</td>\n",
       "      <td>-4.813172</td>\n",
       "      <td>2.011479</td>\n",
       "      <td>57.085625</td>\n",
       "    </tr>\n",
       "    <tr>\n",
       "      <th>75%</th>\n",
       "      <td>8.621015</td>\n",
       "      <td>-1.332816</td>\n",
       "      <td>3.999904</td>\n",
       "      <td>107.813044</td>\n",
       "    </tr>\n",
       "    <tr>\n",
       "      <th>max</th>\n",
       "      <td>29.421755</td>\n",
       "      <td>18.734063</td>\n",
       "      <td>5.019721</td>\n",
       "      <td>137.945408</td>\n",
       "    </tr>\n",
       "  </tbody>\n",
       "</table>\n",
       "</div>"
      ],
      "text/plain": [
       "                  f0             f1             f2        product\n",
       "count  100000.000000  100000.000000  100000.000000  100000.000000\n",
       "mean        1.141296      -4.796579       2.494541      68.825000\n",
       "std         8.965932       5.119872       1.703572      45.944423\n",
       "min       -31.609576     -26.358598      -0.018144       0.000000\n",
       "25%        -6.298551      -8.267985       1.000021      26.953261\n",
       "50%         1.153055      -4.813172       2.011479      57.085625\n",
       "75%         8.621015      -1.332816       3.999904     107.813044\n",
       "max        29.421755      18.734063       5.019721     137.945408"
      ]
     },
     "execution_count": 10,
     "metadata": {},
     "output_type": "execute_result"
    }
   ],
   "source": [
    "df2.describe()"
   ]
  },
  {
   "cell_type": "markdown",
   "metadata": {},
   "source": [
    "*Данные геологоразведки 3-го региона*"
   ]
  },
  {
   "cell_type": "code",
   "execution_count": 11,
   "metadata": {},
   "outputs": [
    {
     "data": {
      "text/html": [
       "<div>\n",
       "<style scoped>\n",
       "    .dataframe tbody tr th:only-of-type {\n",
       "        vertical-align: middle;\n",
       "    }\n",
       "\n",
       "    .dataframe tbody tr th {\n",
       "        vertical-align: top;\n",
       "    }\n",
       "\n",
       "    .dataframe thead th {\n",
       "        text-align: right;\n",
       "    }\n",
       "</style>\n",
       "<table border=\"1\" class=\"dataframe\">\n",
       "  <thead>\n",
       "    <tr style=\"text-align: right;\">\n",
       "      <th></th>\n",
       "      <th>id</th>\n",
       "      <th>f0</th>\n",
       "      <th>f1</th>\n",
       "      <th>f2</th>\n",
       "      <th>product</th>\n",
       "    </tr>\n",
       "  </thead>\n",
       "  <tbody>\n",
       "    <tr>\n",
       "      <th>0</th>\n",
       "      <td>fwXo0</td>\n",
       "      <td>-1.146987</td>\n",
       "      <td>0.963328</td>\n",
       "      <td>-0.828965</td>\n",
       "      <td>27.758673</td>\n",
       "    </tr>\n",
       "    <tr>\n",
       "      <th>1</th>\n",
       "      <td>WJtFt</td>\n",
       "      <td>0.262778</td>\n",
       "      <td>0.269839</td>\n",
       "      <td>-2.530187</td>\n",
       "      <td>56.069697</td>\n",
       "    </tr>\n",
       "    <tr>\n",
       "      <th>2</th>\n",
       "      <td>ovLUW</td>\n",
       "      <td>0.194587</td>\n",
       "      <td>0.289035</td>\n",
       "      <td>-5.586433</td>\n",
       "      <td>62.871910</td>\n",
       "    </tr>\n",
       "    <tr>\n",
       "      <th>3</th>\n",
       "      <td>q6cA6</td>\n",
       "      <td>2.236060</td>\n",
       "      <td>-0.553760</td>\n",
       "      <td>0.930038</td>\n",
       "      <td>114.572842</td>\n",
       "    </tr>\n",
       "    <tr>\n",
       "      <th>4</th>\n",
       "      <td>WPMUX</td>\n",
       "      <td>-0.515993</td>\n",
       "      <td>1.716266</td>\n",
       "      <td>5.899011</td>\n",
       "      <td>149.600746</td>\n",
       "    </tr>\n",
       "  </tbody>\n",
       "</table>\n",
       "</div>"
      ],
      "text/plain": [
       "      id        f0        f1        f2     product\n",
       "0  fwXo0 -1.146987  0.963328 -0.828965   27.758673\n",
       "1  WJtFt  0.262778  0.269839 -2.530187   56.069697\n",
       "2  ovLUW  0.194587  0.289035 -5.586433   62.871910\n",
       "3  q6cA6  2.236060 -0.553760  0.930038  114.572842\n",
       "4  WPMUX -0.515993  1.716266  5.899011  149.600746"
      ]
     },
     "execution_count": 11,
     "metadata": {},
     "output_type": "execute_result"
    }
   ],
   "source": [
    "df3.head()"
   ]
  },
  {
   "cell_type": "code",
   "execution_count": 12,
   "metadata": {},
   "outputs": [
    {
     "name": "stdout",
     "output_type": "stream",
     "text": [
      "<class 'pandas.core.frame.DataFrame'>\n",
      "RangeIndex: 100000 entries, 0 to 99999\n",
      "Data columns (total 5 columns):\n",
      " #   Column   Non-Null Count   Dtype  \n",
      "---  ------   --------------   -----  \n",
      " 0   id       100000 non-null  object \n",
      " 1   f0       100000 non-null  float64\n",
      " 2   f1       100000 non-null  float64\n",
      " 3   f2       100000 non-null  float64\n",
      " 4   product  100000 non-null  float64\n",
      "dtypes: float64(4), object(1)\n",
      "memory usage: 3.8+ MB\n"
     ]
    }
   ],
   "source": [
    "df3.info()"
   ]
  },
  {
   "cell_type": "code",
   "execution_count": 13,
   "metadata": {},
   "outputs": [
    {
     "data": {
      "text/html": [
       "<style  type=\"text/css\" >\n",
       "#T_2faf2_row0_col0,#T_2faf2_row1_col1,#T_2faf2_row2_col2,#T_2faf2_row3_col3{\n",
       "            background-color:  #b40426;\n",
       "            color:  #f1f1f1;\n",
       "        }#T_2faf2_row0_col1,#T_2faf2_row0_col2,#T_2faf2_row0_col3,#T_2faf2_row1_col0,#T_2faf2_row1_col2,#T_2faf2_row1_col3,#T_2faf2_row2_col0,#T_2faf2_row2_col1,#T_2faf2_row3_col0,#T_2faf2_row3_col1{\n",
       "            background-color:  #3b4cc0;\n",
       "            color:  #f1f1f1;\n",
       "        }#T_2faf2_row2_col3,#T_2faf2_row3_col2{\n",
       "            background-color:  #cedaeb;\n",
       "            color:  #000000;\n",
       "        }</style><table id=\"T_2faf2_\" ><thead>    <tr>        <th class=\"blank level0\" ></th>        <th class=\"col_heading level0 col0\" >f0</th>        <th class=\"col_heading level0 col1\" >f1</th>        <th class=\"col_heading level0 col2\" >f2</th>        <th class=\"col_heading level0 col3\" >product</th>    </tr></thead><tbody>\n",
       "                <tr>\n",
       "                        <th id=\"T_2faf2_level0_row0\" class=\"row_heading level0 row0\" >f0</th>\n",
       "                        <td id=\"T_2faf2_row0_col0\" class=\"data row0 col0\" >1.000000</td>\n",
       "                        <td id=\"T_2faf2_row0_col1\" class=\"data row0 col1\" >0.000528</td>\n",
       "                        <td id=\"T_2faf2_row0_col2\" class=\"data row0 col2\" >-0.000448</td>\n",
       "                        <td id=\"T_2faf2_row0_col3\" class=\"data row0 col3\" >-0.001987</td>\n",
       "            </tr>\n",
       "            <tr>\n",
       "                        <th id=\"T_2faf2_level0_row1\" class=\"row_heading level0 row1\" >f1</th>\n",
       "                        <td id=\"T_2faf2_row1_col0\" class=\"data row1 col0\" >0.000528</td>\n",
       "                        <td id=\"T_2faf2_row1_col1\" class=\"data row1 col1\" >1.000000</td>\n",
       "                        <td id=\"T_2faf2_row1_col2\" class=\"data row1 col2\" >0.000779</td>\n",
       "                        <td id=\"T_2faf2_row1_col3\" class=\"data row1 col3\" >-0.001012</td>\n",
       "            </tr>\n",
       "            <tr>\n",
       "                        <th id=\"T_2faf2_level0_row2\" class=\"row_heading level0 row2\" >f2</th>\n",
       "                        <td id=\"T_2faf2_row2_col0\" class=\"data row2 col0\" >-0.000448</td>\n",
       "                        <td id=\"T_2faf2_row2_col1\" class=\"data row2 col1\" >0.000779</td>\n",
       "                        <td id=\"T_2faf2_row2_col2\" class=\"data row2 col2\" >1.000000</td>\n",
       "                        <td id=\"T_2faf2_row2_col3\" class=\"data row2 col3\" >0.445871</td>\n",
       "            </tr>\n",
       "            <tr>\n",
       "                        <th id=\"T_2faf2_level0_row3\" class=\"row_heading level0 row3\" >product</th>\n",
       "                        <td id=\"T_2faf2_row3_col0\" class=\"data row3 col0\" >-0.001987</td>\n",
       "                        <td id=\"T_2faf2_row3_col1\" class=\"data row3 col1\" >-0.001012</td>\n",
       "                        <td id=\"T_2faf2_row3_col2\" class=\"data row3 col2\" >0.445871</td>\n",
       "                        <td id=\"T_2faf2_row3_col3\" class=\"data row3 col3\" >1.000000</td>\n",
       "            </tr>\n",
       "    </tbody></table>"
      ],
      "text/plain": [
       "<pandas.io.formats.style.Styler at 0x7f6f523eb3d0>"
      ]
     },
     "execution_count": 13,
     "metadata": {},
     "output_type": "execute_result"
    }
   ],
   "source": [
    "df3\\\n",
    "    .corr()\\\n",
    "    .style\\\n",
    "    .background_gradient(cmap='coolwarm')"
   ]
  },
  {
   "cell_type": "code",
   "execution_count": 14,
   "metadata": {},
   "outputs": [
    {
     "data": {
      "text/html": [
       "<div>\n",
       "<style scoped>\n",
       "    .dataframe tbody tr th:only-of-type {\n",
       "        vertical-align: middle;\n",
       "    }\n",
       "\n",
       "    .dataframe tbody tr th {\n",
       "        vertical-align: top;\n",
       "    }\n",
       "\n",
       "    .dataframe thead th {\n",
       "        text-align: right;\n",
       "    }\n",
       "</style>\n",
       "<table border=\"1\" class=\"dataframe\">\n",
       "  <thead>\n",
       "    <tr style=\"text-align: right;\">\n",
       "      <th></th>\n",
       "      <th>f0</th>\n",
       "      <th>f1</th>\n",
       "      <th>f2</th>\n",
       "      <th>product</th>\n",
       "    </tr>\n",
       "  </thead>\n",
       "  <tbody>\n",
       "    <tr>\n",
       "      <th>count</th>\n",
       "      <td>100000.000000</td>\n",
       "      <td>100000.000000</td>\n",
       "      <td>100000.000000</td>\n",
       "      <td>100000.000000</td>\n",
       "    </tr>\n",
       "    <tr>\n",
       "      <th>mean</th>\n",
       "      <td>0.002023</td>\n",
       "      <td>-0.002081</td>\n",
       "      <td>2.495128</td>\n",
       "      <td>95.000000</td>\n",
       "    </tr>\n",
       "    <tr>\n",
       "      <th>std</th>\n",
       "      <td>1.732045</td>\n",
       "      <td>1.730417</td>\n",
       "      <td>3.473445</td>\n",
       "      <td>44.749921</td>\n",
       "    </tr>\n",
       "    <tr>\n",
       "      <th>min</th>\n",
       "      <td>-8.760004</td>\n",
       "      <td>-7.084020</td>\n",
       "      <td>-11.970335</td>\n",
       "      <td>0.000000</td>\n",
       "    </tr>\n",
       "    <tr>\n",
       "      <th>25%</th>\n",
       "      <td>-1.162288</td>\n",
       "      <td>-1.174820</td>\n",
       "      <td>0.130359</td>\n",
       "      <td>59.450441</td>\n",
       "    </tr>\n",
       "    <tr>\n",
       "      <th>50%</th>\n",
       "      <td>0.009424</td>\n",
       "      <td>-0.009482</td>\n",
       "      <td>2.484236</td>\n",
       "      <td>94.925613</td>\n",
       "    </tr>\n",
       "    <tr>\n",
       "      <th>75%</th>\n",
       "      <td>1.158535</td>\n",
       "      <td>1.163678</td>\n",
       "      <td>4.858794</td>\n",
       "      <td>130.595027</td>\n",
       "    </tr>\n",
       "    <tr>\n",
       "      <th>max</th>\n",
       "      <td>7.238262</td>\n",
       "      <td>7.844801</td>\n",
       "      <td>16.739402</td>\n",
       "      <td>190.029838</td>\n",
       "    </tr>\n",
       "  </tbody>\n",
       "</table>\n",
       "</div>"
      ],
      "text/plain": [
       "                  f0             f1             f2        product\n",
       "count  100000.000000  100000.000000  100000.000000  100000.000000\n",
       "mean        0.002023      -0.002081       2.495128      95.000000\n",
       "std         1.732045       1.730417       3.473445      44.749921\n",
       "min        -8.760004      -7.084020     -11.970335       0.000000\n",
       "25%        -1.162288      -1.174820       0.130359      59.450441\n",
       "50%         0.009424      -0.009482       2.484236      94.925613\n",
       "75%         1.158535       1.163678       4.858794     130.595027\n",
       "max         7.238262       7.844801      16.739402     190.029838"
      ]
     },
     "execution_count": 14,
     "metadata": {},
     "output_type": "execute_result"
    }
   ],
   "source": [
    "df3.describe()"
   ]
  },
  {
   "cell_type": "markdown",
   "metadata": {},
   "source": [
    "Построим графики зависимостей значений в таблице для наглядного представления о распределнии данных"
   ]
  },
  {
   "cell_type": "code",
   "execution_count": 15,
   "metadata": {},
   "outputs": [
    {
     "data": {
      "image/png": "[encoded data removed]",
      "text/plain": [
       "<Figure size 864x504 with 1 Axes>"
      ]
     },
     "metadata": {
      "needs_background": "light"
     },
     "output_type": "display_data"
    }
   ],
   "source": [
    "plt.title('Графики распределения запасов сырья в регионах')\n",
    "ax=df1['product'].plot(kind='hist',figsize=(12,7),grid=True, \n",
    "                    legend=True, alpha=0.7, histtype='step', linewidth=5, label='1 регион')\n",
    "ax1=df2['product'].plot(kind='hist',figsize=(12,7),grid=True, \n",
    "                    legend=True, alpha=0.7,histtype='step', linewidth=5, label='2 регион', ax=ax)\n",
    "df3['product'].plot(kind='hist',figsize=(12,7),grid=True, \n",
    "                    legend=True, alpha=0.7,histtype='step', linewidth=5, label='3 регион', ax=ax1)\n",
    "plt.xlabel('Распределение данных по запасам сырья в регионах')\n",
    "plt.ylabel('Запасы сырья, тыс.баррелей')\n",
    "plt.show()"
   ]
  },
  {
   "cell_type": "markdown",
   "metadata": {},
   "source": [
    "**Вывод:** <br>\n",
    "Отлично, данные успешно загружены и не требуют дополнительной предобработки, а так же мы теперь имеем визуальное представление о распределении данных по запасам сырья в регионах. На графике отчётливо показана разительно отличающаяся кривая распределения запасов сырья по скважинам 2 региона, какое значение это может сыграть при анализе рентабильности разработки скважин в данном регионе посмотрим далее. Отметим так же, что на данных по корреляции значений второго регоина, мы видим сильную зависимость целевого показателя 'product' от f0, такая зависмость можеть дать нам высокие баллы предсказаний для нашей модели."
   ]
  },
  {
   "cell_type": "markdown",
   "metadata": {},
   "source": [
    "## Обучение и проверка модели"
   ]
  },
  {
   "cell_type": "markdown",
   "metadata": {},
   "source": [
    "Разобьём данные на обучающую и валидационную выборки в соотношении 75:25"
   ]
  },
  {
   "cell_type": "code",
   "execution_count": 16,
   "metadata": {},
   "outputs": [],
   "source": [
    "target_1=df1['product']\n",
    "features_1=df1.drop(['product','id'], axis=1)\n",
    "\n",
    "target_2=df2['product']\n",
    "features_2=df2.drop(['product','id'], axis=1)\n",
    "\n",
    "target_3=df3['product']\n",
    "features_3=df3.drop(['product','id'], axis=1)"
   ]
  },
  {
   "cell_type": "markdown",
   "metadata": {},
   "source": [
    "*1 регион*"
   ]
  },
  {
   "cell_type": "code",
   "execution_count": 17,
   "metadata": {},
   "outputs": [
    {
     "name": "stdout",
     "output_type": "stream",
     "text": [
      "Размер тренировочной выборки- 75%\n",
      "Размер валидационной выборки - 25%\n"
     ]
    }
   ],
   "source": [
    "features_train_1, features_valid_1, target_train_1, target_valid_1 = train_test_split(features_1, \n",
    "                                                                                      target_1, test_size=0.25, random_state=42)\n",
    "tv=target_valid_1.shape[0]/target_1.shape[0]\n",
    "tt=target_train_1.shape[0]/target_1.shape[0]\n",
    "\n",
    "print('Размер тренировочной выборки- {:.0%}'.format(tt))\n",
    "print('Размер валидационной выборки - {:.0%}'.format(tv))"
   ]
  },
  {
   "cell_type": "markdown",
   "metadata": {},
   "source": [
    "*2 регион*"
   ]
  },
  {
   "cell_type": "code",
   "execution_count": 18,
   "metadata": {},
   "outputs": [
    {
     "name": "stdout",
     "output_type": "stream",
     "text": [
      "Размер тренировочной выборки- 75%\n",
      "Размер валидационной выборки - 25%\n"
     ]
    }
   ],
   "source": [
    "features_train_2, features_valid_2, target_train_2, target_valid_2 = train_test_split(features_2, \n",
    "                                                                                      target_2, test_size=0.25, random_state=42)\n",
    "tv=target_valid_2.shape[0]/target_2.shape[0]\n",
    "tt=target_train_2.shape[0]/target_2.shape[0]\n",
    "\n",
    "print('Размер тренировочной выборки- {:.0%}'.format(tt))\n",
    "print('Размер валидационной выборки - {:.0%}'.format(tv))"
   ]
  },
  {
   "cell_type": "markdown",
   "metadata": {},
   "source": [
    "*3 регион*"
   ]
  },
  {
   "cell_type": "code",
   "execution_count": 19,
   "metadata": {},
   "outputs": [
    {
     "name": "stdout",
     "output_type": "stream",
     "text": [
      "Размер тренировочной выборки- 75%\n",
      "Размер валидационной выборки - 25%\n"
     ]
    }
   ],
   "source": [
    "features_train_3, features_valid_3, target_train_3, target_valid_3 = train_test_split(features_3, \n",
    "                                                                                      target_3, test_size=0.25, random_state=42)\n",
    "tv=target_valid_3.shape[0]/target_3.shape[0]\n",
    "tt=target_train_3.shape[0]/target_3.shape[0]\n",
    "\n",
    "print('Размер тренировочной выборки- {:.0%}'.format(tt))\n",
    "print('Размер валидационной выборки - {:.0%}'.format(tv))"
   ]
  },
  {
   "cell_type": "markdown",
   "metadata": {},
   "source": [
    "*Обучим модель и сделаем предсказания на валидационной выборке, а так же оценим качество модели техникой RMSEи коэффициентом детерминации R2*"
   ]
  },
  {
   "cell_type": "markdown",
   "metadata": {},
   "source": [
    "1 регион"
   ]
  },
  {
   "cell_type": "code",
   "execution_count": 20,
   "metadata": {},
   "outputs": [
    {
     "name": "stdout",
     "output_type": "stream",
     "text": [
      "Среднеквадратичная ошибка RMSE: 37.76\n",
      "Коэффициент детерминации: 0.27\n"
     ]
    }
   ],
   "source": [
    "model_1=LinearRegression()\n",
    "model_1.fit(features_train_1,target_train_1)\n",
    "predict_1=model_1.predict(features_valid_1)\n",
    "rmse_1 = mean_squared_error(target_valid_1, predict_1)**0.5\n",
    "print('Среднеквадратичная ошибка RMSE: %.2f'% rmse_1)\n",
    "print('Коэффициент детерминации: %.2f' % r2_score(target_valid_1, predict_1))"
   ]
  },
  {
   "cell_type": "markdown",
   "metadata": {},
   "source": [
    "*2 регион*"
   ]
  },
  {
   "cell_type": "code",
   "execution_count": 21,
   "metadata": {},
   "outputs": [
    {
     "name": "stdout",
     "output_type": "stream",
     "text": [
      "Среднеквадратичная ошибка RMSE: 0.89\n",
      "Коэффициент детерминации: 1.00\n"
     ]
    }
   ],
   "source": [
    "model_2=LinearRegression()\n",
    "model_2.fit(features_train_2,target_train_2)\n",
    "predict_2=model_2.predict(features_valid_2)\n",
    "rmse_2=mean_squared_error(target_valid_2, predict_2)**0.5\n",
    "print('Среднеквадратичная ошибка RMSE: %.2f' % rmse_2)\n",
    "print('Коэффициент детерминации: %.2f' % r2_score(target_valid_2, predict_2))"
   ]
  },
  {
   "cell_type": "markdown",
   "metadata": {},
   "source": [
    "*3 регион*"
   ]
  },
  {
   "cell_type": "code",
   "execution_count": 22,
   "metadata": {},
   "outputs": [
    {
     "name": "stdout",
     "output_type": "stream",
     "text": [
      "Среднеквадратичная ошибка RMSE: 40.15\n",
      "Коэффициент детерминации: 0.20\n"
     ]
    }
   ],
   "source": [
    "model_3=LinearRegression()\n",
    "model_3.fit(features_train_3,target_train_3)\n",
    "predict_3=model_3.predict(features_valid_3)\n",
    "rmse_3 = mean_squared_error(target_valid_3, predict_3)**0.5\n",
    "print('Среднеквадратичная ошибка RMSE: %.2f'% rmse_3)\n",
    "print('Коэффициент детерминации: %.2f' % r2_score(target_valid_3, predict_3))"
   ]
  },
  {
   "cell_type": "markdown",
   "metadata": {},
   "source": [
    "*Сохраним предсказания и правильные ответы на валидационной выборке*"
   ]
  },
  {
   "cell_type": "code",
   "execution_count": 23,
   "metadata": {},
   "outputs": [
    {
     "name": "stdout",
     "output_type": "stream",
     "text": [
      "1 регион:\n",
      "- предсказания модели: \"predict_1\"\n",
      "- правильные ответы: \"target_valid_1\"\n",
      "\n",
      "2 регион:\n",
      "- предсказания модели: \"predict_2\"\n",
      "- правильные ответы: \"target_valid_2\"\n",
      "\n",
      "3 регион:\n",
      "- предсказания модели: \"predict_3\"\n",
      "- правильные ответы: \"target_valid_3\"\n"
     ]
    }
   ],
   "source": [
    "print('1 регион:\\n- предсказания модели: \"predict_1\"\\n- правильные ответы: \"target_valid_1\"')\n",
    "print()\n",
    "print('2 регион:\\n- предсказания модели: \"predict_2\"\\n- правильные ответы: \"target_valid_2\"')\n",
    "print()\n",
    "print('3 регион:\\n- предсказания модели: \"predict_3\"\\n- правильные ответы: \"target_valid_3\"')"
   ]
  },
  {
   "cell_type": "markdown",
   "metadata": {},
   "source": [
    "*Напечатаем на экране средний запас предсказанного сырья и RMSE модели*"
   ]
  },
  {
   "cell_type": "code",
   "execution_count": 24,
   "metadata": {},
   "outputs": [
    {
     "data": {
      "text/html": [
       "<div>\n",
       "<style scoped>\n",
       "    .dataframe tbody tr th:only-of-type {\n",
       "        vertical-align: middle;\n",
       "    }\n",
       "\n",
       "    .dataframe tbody tr th {\n",
       "        vertical-align: top;\n",
       "    }\n",
       "\n",
       "    .dataframe thead th {\n",
       "        text-align: right;\n",
       "    }\n",
       "</style>\n",
       "<table border=\"1\" class=\"dataframe\">\n",
       "  <thead>\n",
       "    <tr style=\"text-align: right;\">\n",
       "      <th></th>\n",
       "      <th>1 регион</th>\n",
       "      <th>2 регион</th>\n",
       "      <th>3 регион</th>\n",
       "    </tr>\n",
       "  </thead>\n",
       "  <tbody>\n",
       "    <tr>\n",
       "      <th>средний запас предсказанного сырья</th>\n",
       "      <td>92.3988</td>\n",
       "      <td>68.712878</td>\n",
       "      <td>94.771024</td>\n",
       "    </tr>\n",
       "    <tr>\n",
       "      <th>RMSE модели</th>\n",
       "      <td>37.7566</td>\n",
       "      <td>0.890280</td>\n",
       "      <td>40.145872</td>\n",
       "    </tr>\n",
       "  </tbody>\n",
       "</table>\n",
       "</div>"
      ],
      "text/plain": [
       "                                    1 регион   2 регион   3 регион\n",
       "средний запас предсказанного сырья   92.3988  68.712878  94.771024\n",
       "RMSE модели                          37.7566   0.890280  40.145872"
      ]
     },
     "execution_count": 24,
     "metadata": {},
     "output_type": "execute_result"
    }
   ],
   "source": [
    "comparison_tabl = pd.DataFrame(index=['средний запас предсказанного сырья','RMSE модели'], \n",
    "                               columns=['1 регион','2 регион','3 регион'])\n",
    "comparison_tabl['1 регион'] = predict_1.mean(), rmse_1\n",
    "comparison_tabl['2 регион'] = predict_2.mean(), rmse_2\n",
    "comparison_tabl['3 регион'] = predict_3.mean(), rmse_3\n",
    "comparison_tabl"
   ]
  },
  {
   "cell_type": "markdown",
   "metadata": {},
   "source": [
    "**Вывод:**<br>\n",
    "Модели обучены и проверены на качество предсказания метрикой RMSE, которая определяет величину среднеквадратичной ошибки в предсказании модели. Исходя из полученных данный в нашей сводной таблицы, можно заметить, что величина RMSE во втором регионе сильно отличается от двух других, это связано с тем, что модель обучилась на практически равных по величине данных, и величина ошибки этой модели не может сильно варьироваться."
   ]
  },
  {
   "cell_type": "markdown",
   "metadata": {},
   "source": [
    "## Подготовка к расчёту прибыли"
   ]
  },
  {
   "cell_type": "markdown",
   "metadata": {},
   "source": [
    "**Все ключевые значения для расчётов сохраним в отдельных переменных**"
   ]
  },
  {
   "cell_type": "markdown",
   "metadata": {},
   "source": [
    "При разведке региона исследуем 500 точек, из которых с помощью машинного обучения выберем 200 лучших для разработки.<br>\n",
    "Бюджет на разработку скважин в регионе — 10 млрд рублей.<br>\n",
    "При нынешних ценах один баррель сырья приносит 450 рублей дохода. Доход с каждой единицы продукта составляет 450 тыс.<br>\n",
    "рублей, поскольку объём указан в тысячах баррелей.<br>\n",
    "После оценки рисков оставим лишь те регионы, в которых вероятность убытков меньше 2.5%. Среди них выберем регион с наибольшей средней прибылью."
   ]
  },
  {
   "cell_type": "code",
   "execution_count": 25,
   "metadata": {},
   "outputs": [],
   "source": [
    "BUDGET = 10000000 #Бюджет на разработку скважин в регионе, тыс.руб\n",
    "INCOME_ONE_PROD = 450 #Доход с каждой единицы продукта, тыс.руб\n",
    "target_probability_losses = 2.5/100 # вероятность убытков\n",
    "product_mean_1 = df1['product'].mean()\n",
    "product_mean_2 = df2['product'].mean()\n",
    "product_mean_3 = df3['product'].mean()"
   ]
  },
  {
   "cell_type": "code",
   "execution_count": 26,
   "metadata": {},
   "outputs": [
    {
     "name": "stdout",
     "output_type": "stream",
     "text": [
      "Cредний запас сырья в 1 регионе: 92.50 млн.баррелей\n",
      "Cредний запас сырья в 2 регионе: 68.83 млн.баррелей\n",
      "Cредний запас сырья в 3 регионе: 95.00 млн.баррелей\n"
     ]
    }
   ],
   "source": [
    "print('Cредний запас сырья в 1 регионе: %.2f млн.баррелей'%product_mean_1)\n",
    "print('Cредний запас сырья в 2 регионе: %.2f млн.баррелей'%product_mean_2)\n",
    "print('Cредний запас сырья в 3 регионе: %.2f млн.баррелей'%product_mean_3)"
   ]
  },
  {
   "cell_type": "code",
   "execution_count": 27,
   "metadata": {},
   "outputs": [
    {
     "name": "stdout",
     "output_type": "stream",
     "text": [
      "Бюджет на разработку одной скважины: 50.0 млн.руб\n"
     ]
    }
   ],
   "source": [
    "budg_per_1_point=(BUDGET/200)# тыс.руб\n",
    "print('Бюджет на разработку одной скважины:', budg_per_1_point/1000,'млн.руб')"
   ]
  },
  {
   "cell_type": "markdown",
   "metadata": {},
   "source": [
    "**Рассчитаем достаточный объём сырья для безубыточной разработки новой скважины**"
   ]
  },
  {
   "cell_type": "code",
   "execution_count": 28,
   "metadata": {},
   "outputs": [
    {
     "name": "stdout",
     "output_type": "stream",
     "text": [
      "Объём каждой скважины для безубыточной разработки должен составлять не менее: 111.11 тыс.баррелей\n"
     ]
    }
   ],
   "source": [
    "v_prod=budg_per_1_point/INCOME_ONE_PROD\n",
    "print('Объём каждой скважины для безубыточной разработки должен составлять не менее: %.2f'%v_prod,'тыс.баррелей')"
   ]
  },
  {
   "cell_type": "markdown",
   "metadata": {},
   "source": [
    "**Сравним полученный объём сырья со средним запасом в каждом регионе**"
   ]
  },
  {
   "cell_type": "markdown",
   "metadata": {},
   "source": [
    "*1 регион*"
   ]
  },
  {
   "cell_type": "code",
   "execution_count": 29,
   "metadata": {},
   "outputs": [
    {
     "data": {
      "text/html": [
       "<div>\n",
       "<style scoped>\n",
       "    .dataframe tbody tr th:only-of-type {\n",
       "        vertical-align: middle;\n",
       "    }\n",
       "\n",
       "    .dataframe tbody tr th {\n",
       "        vertical-align: top;\n",
       "    }\n",
       "\n",
       "    .dataframe thead th {\n",
       "        text-align: right;\n",
       "    }\n",
       "</style>\n",
       "<table border=\"1\" class=\"dataframe\">\n",
       "  <thead>\n",
       "    <tr style=\"text-align: right;\">\n",
       "      <th></th>\n",
       "      <th>id</th>\n",
       "      <th>f0</th>\n",
       "      <th>f1</th>\n",
       "      <th>f2</th>\n",
       "      <th>product</th>\n",
       "      <th>profit</th>\n",
       "    </tr>\n",
       "  </thead>\n",
       "  <tbody>\n",
       "    <tr>\n",
       "      <th>0</th>\n",
       "      <td>txEyH</td>\n",
       "      <td>0.705745</td>\n",
       "      <td>-0.497823</td>\n",
       "      <td>1.221170</td>\n",
       "      <td>105.280062</td>\n",
       "      <td>47376.03</td>\n",
       "    </tr>\n",
       "    <tr>\n",
       "      <th>1</th>\n",
       "      <td>2acmU</td>\n",
       "      <td>1.334711</td>\n",
       "      <td>-0.340164</td>\n",
       "      <td>4.365080</td>\n",
       "      <td>73.037750</td>\n",
       "      <td>32866.99</td>\n",
       "    </tr>\n",
       "    <tr>\n",
       "      <th>2</th>\n",
       "      <td>409Wp</td>\n",
       "      <td>1.022732</td>\n",
       "      <td>0.151990</td>\n",
       "      <td>1.419926</td>\n",
       "      <td>85.265647</td>\n",
       "      <td>38369.54</td>\n",
       "    </tr>\n",
       "    <tr>\n",
       "      <th>3</th>\n",
       "      <td>iJLyR</td>\n",
       "      <td>-0.032172</td>\n",
       "      <td>0.139033</td>\n",
       "      <td>2.978566</td>\n",
       "      <td>168.620776</td>\n",
       "      <td>75879.35</td>\n",
       "    </tr>\n",
       "    <tr>\n",
       "      <th>4</th>\n",
       "      <td>Xdl7t</td>\n",
       "      <td>1.988431</td>\n",
       "      <td>0.155413</td>\n",
       "      <td>4.751769</td>\n",
       "      <td>154.036647</td>\n",
       "      <td>69316.49</td>\n",
       "    </tr>\n",
       "  </tbody>\n",
       "</table>\n",
       "</div>"
      ],
      "text/plain": [
       "      id        f0        f1        f2     product    profit\n",
       "0  txEyH  0.705745 -0.497823  1.221170  105.280062  47376.03\n",
       "1  2acmU  1.334711 -0.340164  4.365080   73.037750  32866.99\n",
       "2  409Wp  1.022732  0.151990  1.419926   85.265647  38369.54\n",
       "3  iJLyR -0.032172  0.139033  2.978566  168.620776  75879.35\n",
       "4  Xdl7t  1.988431  0.155413  4.751769  154.036647  69316.49"
      ]
     },
     "execution_count": 29,
     "metadata": {},
     "output_type": "execute_result"
    }
   ],
   "source": [
    "df1['profit']=(df1['product']*(INCOME_ONE_PROD)).round(2) # profit, тыс.руб\n",
    "df1.head()"
   ]
  },
  {
   "cell_type": "markdown",
   "metadata": {},
   "source": [
    "Определим значение ROI для каждой скважины по отношению к затратам на разработку"
   ]
  },
  {
   "cell_type": "code",
   "execution_count": 30,
   "metadata": {},
   "outputs": [
    {
     "data": {
      "text/html": [
       "<div>\n",
       "<style scoped>\n",
       "    .dataframe tbody tr th:only-of-type {\n",
       "        vertical-align: middle;\n",
       "    }\n",
       "\n",
       "    .dataframe tbody tr th {\n",
       "        vertical-align: top;\n",
       "    }\n",
       "\n",
       "    .dataframe thead th {\n",
       "        text-align: right;\n",
       "    }\n",
       "</style>\n",
       "<table border=\"1\" class=\"dataframe\">\n",
       "  <thead>\n",
       "    <tr style=\"text-align: right;\">\n",
       "      <th></th>\n",
       "      <th>id</th>\n",
       "      <th>f0</th>\n",
       "      <th>f1</th>\n",
       "      <th>f2</th>\n",
       "      <th>product</th>\n",
       "      <th>profit</th>\n",
       "      <th>roi_%</th>\n",
       "    </tr>\n",
       "  </thead>\n",
       "  <tbody>\n",
       "    <tr>\n",
       "      <th>0</th>\n",
       "      <td>txEyH</td>\n",
       "      <td>0.705745</td>\n",
       "      <td>-0.497823</td>\n",
       "      <td>1.221170</td>\n",
       "      <td>105.280062</td>\n",
       "      <td>47376.03</td>\n",
       "      <td>-5.25</td>\n",
       "    </tr>\n",
       "    <tr>\n",
       "      <th>1</th>\n",
       "      <td>2acmU</td>\n",
       "      <td>1.334711</td>\n",
       "      <td>-0.340164</td>\n",
       "      <td>4.365080</td>\n",
       "      <td>73.037750</td>\n",
       "      <td>32866.99</td>\n",
       "      <td>-34.27</td>\n",
       "    </tr>\n",
       "    <tr>\n",
       "      <th>2</th>\n",
       "      <td>409Wp</td>\n",
       "      <td>1.022732</td>\n",
       "      <td>0.151990</td>\n",
       "      <td>1.419926</td>\n",
       "      <td>85.265647</td>\n",
       "      <td>38369.54</td>\n",
       "      <td>-23.26</td>\n",
       "    </tr>\n",
       "    <tr>\n",
       "      <th>3</th>\n",
       "      <td>iJLyR</td>\n",
       "      <td>-0.032172</td>\n",
       "      <td>0.139033</td>\n",
       "      <td>2.978566</td>\n",
       "      <td>168.620776</td>\n",
       "      <td>75879.35</td>\n",
       "      <td>51.76</td>\n",
       "    </tr>\n",
       "    <tr>\n",
       "      <th>4</th>\n",
       "      <td>Xdl7t</td>\n",
       "      <td>1.988431</td>\n",
       "      <td>0.155413</td>\n",
       "      <td>4.751769</td>\n",
       "      <td>154.036647</td>\n",
       "      <td>69316.49</td>\n",
       "      <td>38.63</td>\n",
       "    </tr>\n",
       "  </tbody>\n",
       "</table>\n",
       "</div>"
      ],
      "text/plain": [
       "      id        f0        f1        f2     product    profit  roi_%\n",
       "0  txEyH  0.705745 -0.497823  1.221170  105.280062  47376.03  -5.25\n",
       "1  2acmU  1.334711 -0.340164  4.365080   73.037750  32866.99 -34.27\n",
       "2  409Wp  1.022732  0.151990  1.419926   85.265647  38369.54 -23.26\n",
       "3  iJLyR -0.032172  0.139033  2.978566  168.620776  75879.35  51.76\n",
       "4  Xdl7t  1.988431  0.155413  4.751769  154.036647  69316.49  38.63"
      ]
     },
     "execution_count": 30,
     "metadata": {},
     "output_type": "execute_result"
    }
   ],
   "source": [
    "df1['roi_%']=((df1['profit']-budg_per_1_point)/budg_per_1_point*100).round(2)\n",
    "df1.head()"
   ]
  },
  {
   "cell_type": "code",
   "execution_count": 31,
   "metadata": {},
   "outputs": [
    {
     "name": "stdout",
     "output_type": "stream",
     "text": [
      "Разница объёма сырья для безубыточной разработки скважины       относительно среднего значения по 1 региону составляет: -16.75%\n",
      "Или 18.61 тыс.баррелей\n"
     ]
    }
   ],
   "source": [
    "print('Разница объёма сырья для безубыточной разработки скважины \\\n",
    "      относительно среднего значения по 1 региону составляет: {:.2%}'.format(product_mean_1/v_prod-1))\n",
    "print('Или {:.2f} тыс.баррелей'.format(v_prod-product_mean_1))"
   ]
  },
  {
   "cell_type": "markdown",
   "metadata": {},
   "source": [
    "*2 регион*"
   ]
  },
  {
   "cell_type": "code",
   "execution_count": 32,
   "metadata": {},
   "outputs": [
    {
     "data": {
      "text/html": [
       "<div>\n",
       "<style scoped>\n",
       "    .dataframe tbody tr th:only-of-type {\n",
       "        vertical-align: middle;\n",
       "    }\n",
       "\n",
       "    .dataframe tbody tr th {\n",
       "        vertical-align: top;\n",
       "    }\n",
       "\n",
       "    .dataframe thead th {\n",
       "        text-align: right;\n",
       "    }\n",
       "</style>\n",
       "<table border=\"1\" class=\"dataframe\">\n",
       "  <thead>\n",
       "    <tr style=\"text-align: right;\">\n",
       "      <th></th>\n",
       "      <th>id</th>\n",
       "      <th>f0</th>\n",
       "      <th>f1</th>\n",
       "      <th>f2</th>\n",
       "      <th>product</th>\n",
       "      <th>profit</th>\n",
       "    </tr>\n",
       "  </thead>\n",
       "  <tbody>\n",
       "    <tr>\n",
       "      <th>0</th>\n",
       "      <td>kBEdx</td>\n",
       "      <td>-15.001348</td>\n",
       "      <td>-8.276000</td>\n",
       "      <td>-0.005876</td>\n",
       "      <td>3.179103</td>\n",
       "      <td>1430.60</td>\n",
       "    </tr>\n",
       "    <tr>\n",
       "      <th>1</th>\n",
       "      <td>62mP7</td>\n",
       "      <td>14.272088</td>\n",
       "      <td>-3.475083</td>\n",
       "      <td>0.999183</td>\n",
       "      <td>26.953261</td>\n",
       "      <td>12128.97</td>\n",
       "    </tr>\n",
       "    <tr>\n",
       "      <th>2</th>\n",
       "      <td>vyE1P</td>\n",
       "      <td>6.263187</td>\n",
       "      <td>-5.948386</td>\n",
       "      <td>5.001160</td>\n",
       "      <td>134.766305</td>\n",
       "      <td>60644.84</td>\n",
       "    </tr>\n",
       "    <tr>\n",
       "      <th>3</th>\n",
       "      <td>KcrkZ</td>\n",
       "      <td>-13.081196</td>\n",
       "      <td>-11.506057</td>\n",
       "      <td>4.999415</td>\n",
       "      <td>137.945408</td>\n",
       "      <td>62075.43</td>\n",
       "    </tr>\n",
       "    <tr>\n",
       "      <th>4</th>\n",
       "      <td>AHL4O</td>\n",
       "      <td>12.702195</td>\n",
       "      <td>-8.147433</td>\n",
       "      <td>5.004363</td>\n",
       "      <td>134.766305</td>\n",
       "      <td>60644.84</td>\n",
       "    </tr>\n",
       "  </tbody>\n",
       "</table>\n",
       "</div>"
      ],
      "text/plain": [
       "      id         f0         f1        f2     product    profit\n",
       "0  kBEdx -15.001348  -8.276000 -0.005876    3.179103   1430.60\n",
       "1  62mP7  14.272088  -3.475083  0.999183   26.953261  12128.97\n",
       "2  vyE1P   6.263187  -5.948386  5.001160  134.766305  60644.84\n",
       "3  KcrkZ -13.081196 -11.506057  4.999415  137.945408  62075.43\n",
       "4  AHL4O  12.702195  -8.147433  5.004363  134.766305  60644.84"
      ]
     },
     "execution_count": 32,
     "metadata": {},
     "output_type": "execute_result"
    }
   ],
   "source": [
    "df2['profit']=(df2['product']*INCOME_ONE_PROD).round(2) # profit, тыс.руб\n",
    "df2.head()"
   ]
  },
  {
   "cell_type": "markdown",
   "metadata": {},
   "source": [
    "Определим значение ROI для каждой скважины по отношению к затратам на разработку"
   ]
  },
  {
   "cell_type": "code",
   "execution_count": 33,
   "metadata": {},
   "outputs": [
    {
     "data": {
      "text/html": [
       "<div>\n",
       "<style scoped>\n",
       "    .dataframe tbody tr th:only-of-type {\n",
       "        vertical-align: middle;\n",
       "    }\n",
       "\n",
       "    .dataframe tbody tr th {\n",
       "        vertical-align: top;\n",
       "    }\n",
       "\n",
       "    .dataframe thead th {\n",
       "        text-align: right;\n",
       "    }\n",
       "</style>\n",
       "<table border=\"1\" class=\"dataframe\">\n",
       "  <thead>\n",
       "    <tr style=\"text-align: right;\">\n",
       "      <th></th>\n",
       "      <th>id</th>\n",
       "      <th>f0</th>\n",
       "      <th>f1</th>\n",
       "      <th>f2</th>\n",
       "      <th>product</th>\n",
       "      <th>profit</th>\n",
       "      <th>roi_%</th>\n",
       "    </tr>\n",
       "  </thead>\n",
       "  <tbody>\n",
       "    <tr>\n",
       "      <th>0</th>\n",
       "      <td>kBEdx</td>\n",
       "      <td>-15.001348</td>\n",
       "      <td>-8.276000</td>\n",
       "      <td>-0.005876</td>\n",
       "      <td>3.179103</td>\n",
       "      <td>1430.60</td>\n",
       "      <td>-97.14</td>\n",
       "    </tr>\n",
       "    <tr>\n",
       "      <th>1</th>\n",
       "      <td>62mP7</td>\n",
       "      <td>14.272088</td>\n",
       "      <td>-3.475083</td>\n",
       "      <td>0.999183</td>\n",
       "      <td>26.953261</td>\n",
       "      <td>12128.97</td>\n",
       "      <td>-75.74</td>\n",
       "    </tr>\n",
       "    <tr>\n",
       "      <th>2</th>\n",
       "      <td>vyE1P</td>\n",
       "      <td>6.263187</td>\n",
       "      <td>-5.948386</td>\n",
       "      <td>5.001160</td>\n",
       "      <td>134.766305</td>\n",
       "      <td>60644.84</td>\n",
       "      <td>21.29</td>\n",
       "    </tr>\n",
       "    <tr>\n",
       "      <th>3</th>\n",
       "      <td>KcrkZ</td>\n",
       "      <td>-13.081196</td>\n",
       "      <td>-11.506057</td>\n",
       "      <td>4.999415</td>\n",
       "      <td>137.945408</td>\n",
       "      <td>62075.43</td>\n",
       "      <td>24.15</td>\n",
       "    </tr>\n",
       "    <tr>\n",
       "      <th>4</th>\n",
       "      <td>AHL4O</td>\n",
       "      <td>12.702195</td>\n",
       "      <td>-8.147433</td>\n",
       "      <td>5.004363</td>\n",
       "      <td>134.766305</td>\n",
       "      <td>60644.84</td>\n",
       "      <td>21.29</td>\n",
       "    </tr>\n",
       "  </tbody>\n",
       "</table>\n",
       "</div>"
      ],
      "text/plain": [
       "      id         f0         f1        f2     product    profit  roi_%\n",
       "0  kBEdx -15.001348  -8.276000 -0.005876    3.179103   1430.60 -97.14\n",
       "1  62mP7  14.272088  -3.475083  0.999183   26.953261  12128.97 -75.74\n",
       "2  vyE1P   6.263187  -5.948386  5.001160  134.766305  60644.84  21.29\n",
       "3  KcrkZ -13.081196 -11.506057  4.999415  137.945408  62075.43  24.15\n",
       "4  AHL4O  12.702195  -8.147433  5.004363  134.766305  60644.84  21.29"
      ]
     },
     "execution_count": 33,
     "metadata": {},
     "output_type": "execute_result"
    }
   ],
   "source": [
    "df2['roi_%']=((df2['profit']-budg_per_1_point)/budg_per_1_point*100).round(2)\n",
    "df2.head()"
   ]
  },
  {
   "cell_type": "code",
   "execution_count": 34,
   "metadata": {},
   "outputs": [
    {
     "name": "stdout",
     "output_type": "stream",
     "text": [
      "Разница объёма сырья для безубыточной разработки скважины       относительно среднего значения по 2 региону составляет: -38.06%\n",
      "Или 42.29 тыс.баррелей\n"
     ]
    }
   ],
   "source": [
    "print('Разница объёма сырья для безубыточной разработки скважины \\\n",
    "      относительно среднего значения по 2 региону составляет: {:.2%}'.format(product_mean_2/v_prod-1))\n",
    "print('Или {:.2f} тыс.баррелей'.format(v_prod-product_mean_2))"
   ]
  },
  {
   "cell_type": "markdown",
   "metadata": {},
   "source": [
    "*3 регион*"
   ]
  },
  {
   "cell_type": "code",
   "execution_count": 35,
   "metadata": {},
   "outputs": [
    {
     "data": {
      "text/html": [
       "<div>\n",
       "<style scoped>\n",
       "    .dataframe tbody tr th:only-of-type {\n",
       "        vertical-align: middle;\n",
       "    }\n",
       "\n",
       "    .dataframe tbody tr th {\n",
       "        vertical-align: top;\n",
       "    }\n",
       "\n",
       "    .dataframe thead th {\n",
       "        text-align: right;\n",
       "    }\n",
       "</style>\n",
       "<table border=\"1\" class=\"dataframe\">\n",
       "  <thead>\n",
       "    <tr style=\"text-align: right;\">\n",
       "      <th></th>\n",
       "      <th>id</th>\n",
       "      <th>f0</th>\n",
       "      <th>f1</th>\n",
       "      <th>f2</th>\n",
       "      <th>product</th>\n",
       "      <th>profit</th>\n",
       "    </tr>\n",
       "  </thead>\n",
       "  <tbody>\n",
       "    <tr>\n",
       "      <th>0</th>\n",
       "      <td>fwXo0</td>\n",
       "      <td>-1.146987</td>\n",
       "      <td>0.963328</td>\n",
       "      <td>-0.828965</td>\n",
       "      <td>27.758673</td>\n",
       "      <td>12491.40</td>\n",
       "    </tr>\n",
       "    <tr>\n",
       "      <th>1</th>\n",
       "      <td>WJtFt</td>\n",
       "      <td>0.262778</td>\n",
       "      <td>0.269839</td>\n",
       "      <td>-2.530187</td>\n",
       "      <td>56.069697</td>\n",
       "      <td>25231.36</td>\n",
       "    </tr>\n",
       "    <tr>\n",
       "      <th>2</th>\n",
       "      <td>ovLUW</td>\n",
       "      <td>0.194587</td>\n",
       "      <td>0.289035</td>\n",
       "      <td>-5.586433</td>\n",
       "      <td>62.871910</td>\n",
       "      <td>28292.36</td>\n",
       "    </tr>\n",
       "    <tr>\n",
       "      <th>3</th>\n",
       "      <td>q6cA6</td>\n",
       "      <td>2.236060</td>\n",
       "      <td>-0.553760</td>\n",
       "      <td>0.930038</td>\n",
       "      <td>114.572842</td>\n",
       "      <td>51557.78</td>\n",
       "    </tr>\n",
       "    <tr>\n",
       "      <th>4</th>\n",
       "      <td>WPMUX</td>\n",
       "      <td>-0.515993</td>\n",
       "      <td>1.716266</td>\n",
       "      <td>5.899011</td>\n",
       "      <td>149.600746</td>\n",
       "      <td>67320.34</td>\n",
       "    </tr>\n",
       "  </tbody>\n",
       "</table>\n",
       "</div>"
      ],
      "text/plain": [
       "      id        f0        f1        f2     product    profit\n",
       "0  fwXo0 -1.146987  0.963328 -0.828965   27.758673  12491.40\n",
       "1  WJtFt  0.262778  0.269839 -2.530187   56.069697  25231.36\n",
       "2  ovLUW  0.194587  0.289035 -5.586433   62.871910  28292.36\n",
       "3  q6cA6  2.236060 -0.553760  0.930038  114.572842  51557.78\n",
       "4  WPMUX -0.515993  1.716266  5.899011  149.600746  67320.34"
      ]
     },
     "execution_count": 35,
     "metadata": {},
     "output_type": "execute_result"
    }
   ],
   "source": [
    "df3['profit']=(df3['product']*INCOME_ONE_PROD).round(2) # profit, тыс.руб\n",
    "df3.head()"
   ]
  },
  {
   "cell_type": "markdown",
   "metadata": {},
   "source": [
    "Определим значение ROI для каждой скважины по отношению к затратам на разработку"
   ]
  },
  {
   "cell_type": "code",
   "execution_count": 36,
   "metadata": {},
   "outputs": [
    {
     "data": {
      "text/html": [
       "<div>\n",
       "<style scoped>\n",
       "    .dataframe tbody tr th:only-of-type {\n",
       "        vertical-align: middle;\n",
       "    }\n",
       "\n",
       "    .dataframe tbody tr th {\n",
       "        vertical-align: top;\n",
       "    }\n",
       "\n",
       "    .dataframe thead th {\n",
       "        text-align: right;\n",
       "    }\n",
       "</style>\n",
       "<table border=\"1\" class=\"dataframe\">\n",
       "  <thead>\n",
       "    <tr style=\"text-align: right;\">\n",
       "      <th></th>\n",
       "      <th>id</th>\n",
       "      <th>f0</th>\n",
       "      <th>f1</th>\n",
       "      <th>f2</th>\n",
       "      <th>product</th>\n",
       "      <th>profit</th>\n",
       "      <th>roi_%</th>\n",
       "    </tr>\n",
       "  </thead>\n",
       "  <tbody>\n",
       "    <tr>\n",
       "      <th>0</th>\n",
       "      <td>fwXo0</td>\n",
       "      <td>-1.146987</td>\n",
       "      <td>0.963328</td>\n",
       "      <td>-0.828965</td>\n",
       "      <td>27.758673</td>\n",
       "      <td>12491.40</td>\n",
       "      <td>-75.02</td>\n",
       "    </tr>\n",
       "    <tr>\n",
       "      <th>1</th>\n",
       "      <td>WJtFt</td>\n",
       "      <td>0.262778</td>\n",
       "      <td>0.269839</td>\n",
       "      <td>-2.530187</td>\n",
       "      <td>56.069697</td>\n",
       "      <td>25231.36</td>\n",
       "      <td>-49.54</td>\n",
       "    </tr>\n",
       "    <tr>\n",
       "      <th>2</th>\n",
       "      <td>ovLUW</td>\n",
       "      <td>0.194587</td>\n",
       "      <td>0.289035</td>\n",
       "      <td>-5.586433</td>\n",
       "      <td>62.871910</td>\n",
       "      <td>28292.36</td>\n",
       "      <td>-43.42</td>\n",
       "    </tr>\n",
       "    <tr>\n",
       "      <th>3</th>\n",
       "      <td>q6cA6</td>\n",
       "      <td>2.236060</td>\n",
       "      <td>-0.553760</td>\n",
       "      <td>0.930038</td>\n",
       "      <td>114.572842</td>\n",
       "      <td>51557.78</td>\n",
       "      <td>3.12</td>\n",
       "    </tr>\n",
       "    <tr>\n",
       "      <th>4</th>\n",
       "      <td>WPMUX</td>\n",
       "      <td>-0.515993</td>\n",
       "      <td>1.716266</td>\n",
       "      <td>5.899011</td>\n",
       "      <td>149.600746</td>\n",
       "      <td>67320.34</td>\n",
       "      <td>34.64</td>\n",
       "    </tr>\n",
       "  </tbody>\n",
       "</table>\n",
       "</div>"
      ],
      "text/plain": [
       "      id        f0        f1        f2     product    profit  roi_%\n",
       "0  fwXo0 -1.146987  0.963328 -0.828965   27.758673  12491.40 -75.02\n",
       "1  WJtFt  0.262778  0.269839 -2.530187   56.069697  25231.36 -49.54\n",
       "2  ovLUW  0.194587  0.289035 -5.586433   62.871910  28292.36 -43.42\n",
       "3  q6cA6  2.236060 -0.553760  0.930038  114.572842  51557.78   3.12\n",
       "4  WPMUX -0.515993  1.716266  5.899011  149.600746  67320.34  34.64"
      ]
     },
     "execution_count": 36,
     "metadata": {},
     "output_type": "execute_result"
    }
   ],
   "source": [
    "df3['roi_%']=((df3['profit']-budg_per_1_point)/budg_per_1_point*100).round(2)\n",
    "df3.head()"
   ]
  },
  {
   "cell_type": "code",
   "execution_count": 37,
   "metadata": {},
   "outputs": [
    {
     "name": "stdout",
     "output_type": "stream",
     "text": [
      "Разница объёма сырья для безубыточной разработки скважины       относительно среднего значения по 3 региону составляет: -14.50%\n",
      "Или 16.11 тыс.баррелей\n"
     ]
    }
   ],
   "source": [
    "print('Разница объёма сырья для безубыточной разработки скважины \\\n",
    "      относительно среднего значения по 3 региону составляет: {:.2%}'.format(product_mean_3/v_prod-1))\n",
    "print('Или {:.2f} тыс.баррелей'.format(v_prod-product_mean_3))"
   ]
  },
  {
   "cell_type": "markdown",
   "metadata": {},
   "source": [
    "**Вывод:**<br>\n",
    "Исходя из полученных данных становится очевидно, что среднее количество запасов сырья по регионам недостаточное даже для окупаемости разработки, требуется выбрать скважины с максимальными запасами"
   ]
  },
  {
   "cell_type": "markdown",
   "metadata": {},
   "source": [
    "## Расчёт прибыли и рисков "
   ]
  },
  {
   "cell_type": "markdown",
   "metadata": {},
   "source": [
    "Выберем скважины с максимальными значениями предсказаний"
   ]
  },
  {
   "cell_type": "code",
   "execution_count": 38,
   "metadata": {},
   "outputs": [
    {
     "data": {
      "text/plain": [
       "array([101.90101715,  78.21777385, 115.26690103, ...,  82.54439653,\n",
       "        81.82668931,  93.12106221])"
      ]
     },
     "execution_count": 38,
     "metadata": {},
     "output_type": "execute_result"
    }
   ],
   "source": [
    "predict_1"
   ]
  },
  {
   "cell_type": "markdown",
   "metadata": {},
   "source": [
    "Выполним привязку индексов скважин к предсказаниям модели и отсорируем список по убыванию"
   ]
  },
  {
   "cell_type": "code",
   "execution_count": 39,
   "metadata": {},
   "outputs": [
    {
     "data": {
      "text/plain": [
       "46784    176.536104\n",
       "27658    176.274510\n",
       "6496     173.249504\n",
       "65743    172.802708\n",
       "93716    172.744977\n",
       "            ...    \n",
       "14042    146.952653\n",
       "65925    146.948764\n",
       "65549    146.947483\n",
       "9462     146.946515\n",
       "39838    146.874947\n",
       "Length: 200, dtype: float64"
      ]
     },
     "execution_count": 39,
     "metadata": {},
     "output_type": "execute_result"
    }
   ],
   "source": [
    "probs_sorted_1 = pd.Series(predict_1, index=target_valid_1.index).sort_values(ascending=False)\n",
    "selected_max_1 = probs_sorted_1[:200]\n",
    "selected_max_1"
   ]
  },
  {
   "cell_type": "markdown",
   "metadata": {},
   "source": [
    "*Просуммируем целевое значение объёма сырья, соответствующее этим предсказаниям*, т.к. затраты на разработку будут пущены только на 200 скважин, просуммируем показатели скважин исходя из максимальных значений предсказаний нашей модели по объёму сырья для получения максимальной прибыли."
   ]
  },
  {
   "cell_type": "code",
   "execution_count": 40,
   "metadata": {},
   "outputs": [
    {
     "name": "stdout",
     "output_type": "stream",
     "text": [
      "Суммарный запас сырья в 200 лучших скважинах составит: 30881.46 тыс.баррелей\n"
     ]
    }
   ],
   "source": [
    "selected_max_1_sum = selected_max_1.sum()\n",
    "print('Суммарный запас сырья в 200 лучших скважинах составит: %.2f тыс.баррелей'%selected_max_1_sum)"
   ]
  },
  {
   "cell_type": "markdown",
   "metadata": {},
   "source": [
    "Рассчитаем прибыль для полученного объёма сырья"
   ]
  },
  {
   "cell_type": "code",
   "execution_count": 41,
   "metadata": {},
   "outputs": [
    {
     "name": "stdout",
     "output_type": "stream",
     "text": [
      "Прибыль для полученного объёма сырья составит 3896658.48 тыс.рублей\n"
     ]
    }
   ],
   "source": [
    "profit_pred_1=(selected_max_1_sum*INCOME_ONE_PROD)-BUDGET\n",
    "print('Прибыль для полученного объёма сырья составит %.2f тыс.рублей'%profit_pred_1)"
   ]
  },
  {
   "cell_type": "code",
   "execution_count": 42,
   "metadata": {},
   "outputs": [],
   "source": [
    "#Занесём все вычисления в функцию\n",
    "def profit_for_vp(predict,target,count):\n",
    "    probs_sorted = pd.Series(predict, index=target.index).sort_values(ascending=False)\n",
    "    selected_max = probs_sorted[:count].sum()\n",
    "    profit_pred=(selected_max*INCOME_ONE_PROD)-BUDGET\n",
    "    print('Суммарный запас сырья в 200 лучших скважинах составит: %.2f тыс.баррелей'%selected_max)\n",
    "    print('Прибыль для полученного объёма сырья составит %.2f млн.рублей'%(profit_pred/1000))\n",
    "    return selected_max"
   ]
  },
  {
   "cell_type": "code",
   "execution_count": 43,
   "metadata": {},
   "outputs": [
    {
     "name": "stdout",
     "output_type": "stream",
     "text": [
      "Суммарный запас сырья в 200 лучших скважинах составит: 30881.46 тыс.баррелей\n",
      "Прибыль для полученного объёма сырья составит 3896.66 млн.рублей\n"
     ]
    }
   ],
   "source": [
    "#Профит: 1 регион\n",
    "p_1 = profit_for_vp(predict_1,target_valid_1,200)"
   ]
  },
  {
   "cell_type": "code",
   "execution_count": 44,
   "metadata": {},
   "outputs": [
    {
     "name": "stdout",
     "output_type": "stream",
     "text": [
      "Суммарный запас сырья в 200 лучших скважинах составит: 27748.75 тыс.баррелей\n",
      "Прибыль для полученного объёма сырья составит 2486.94 млн.рублей\n"
     ]
    }
   ],
   "source": [
    "#Профит: 2 регион\n",
    "p_2 = profit_for_vp(predict_2,target_valid_2,200)"
   ]
  },
  {
   "cell_type": "code",
   "execution_count": 45,
   "metadata": {},
   "outputs": [
    {
     "name": "stdout",
     "output_type": "stream",
     "text": [
      "Суммарный запас сырья в 200 лучших скважинах составит: 29728.85 тыс.баррелей\n",
      "Прибыль для полученного объёма сырья составит 3377.98 млн.рублей\n"
     ]
    }
   ],
   "source": [
    "#Профит: 3 регион\n",
    "p_3 = profit_for_vp(predict_3,target_valid_3,200)"
   ]
  },
  {
   "cell_type": "markdown",
   "metadata": {},
   "source": [
    "**Вывод:**<br>\n",
    "Отлично, все три региона потенциально прибыльные, для определения наиболее выгодного с точки зрения окупаемости вложений и рисков убытка проведём расчёт вероятности в следующей главе."
   ]
  },
  {
   "cell_type": "markdown",
   "metadata": {},
   "source": [
    "## Расчёт прибыли и рисков"
   ]
  },
  {
   "cell_type": "markdown",
   "metadata": {},
   "source": [
    "Применим технику Bootstrap с 1000 выборок, чтобы найти распределение прибыли<br>\n",
    "Найдём среднюю прибыль, 95%-й доверительный интервал и риск убытков"
   ]
  },
  {
   "cell_type": "markdown",
   "metadata": {},
   "source": [
    "**При́быль**<br>\n",
    "- положительная разница между суммарными доходами (выручка от реализации товаров и услуг) и затратами на разработку скважин\n",
    "\n",
    "**Убыток**<br>\n",
    "- уменьшение материальных и денежных ресурсов в результате превышения расходов над доходами (отрицательная прибыль)"
   ]
  },
  {
   "cell_type": "code",
   "execution_count": 46,
   "metadata": {},
   "outputs": [],
   "source": [
    "def profit_for_vp2(predict,target,count):\n",
    "    probs_sorted = pd.Series(predict).sort_values(ascending=False)\n",
    "    selected_points = target[probs_sorted.index][:count]\n",
    "    product = selected_points.sum()\n",
    "    revenue = product * INCOME_ONE_PROD\n",
    "    return revenue - BUDGET"
   ]
  },
  {
   "cell_type": "code",
   "execution_count": 47,
   "metadata": {},
   "outputs": [],
   "source": [
    "def bootstap_1000(target,predict):\n",
    "    values = []\n",
    "    count = 0\n",
    "    search_probs = 500\n",
    "    best_probs = 200\n",
    "    state = np.random.RandomState(12345)\n",
    "    predict_e = pd.Series(predict, index=target.index)\n",
    "    \n",
    "    for i in tqdm(range(1000)):\n",
    "        target_subsample = target.sample(search_probs,replace=True, random_state=state)\n",
    "  \n",
    "        probs_subsample = predict_e[target_subsample.index]\n",
    "        values.append(profit_for_vp2(probs_subsample,target_subsample, best_probs))  \n",
    "    for i in values:\n",
    "        if i < 0:\n",
    "            count +=1\n",
    "            \n",
    "    values = pd.Series(values)\n",
    "    mean = values.mean()\n",
    "    confidence_interval = st.t.interval(0.95, len(values)-1, values.mean(), values.sem())\n",
    "    \n",
    "    plt.title('Распределение прибыли')\n",
    "    values.plot(kind=\"hist\", grid=True, figsize=(8,5))\n",
    "    plt.xlabel('Прибыль, тыс.руб')\n",
    "    plt.ylabel('Количество')\n",
    "    plt.show()\n",
    "    \n",
    "    low_95 = values.quantile(0.025)\n",
    "    high_95 = values.quantile(0.975)\n",
    "    \n",
    "    print(\"Средняя прибыль: {:.2f} млн.руб\".format(mean/1000))\n",
    "    print('С вероятностью 95% прибыль в данном регионе будет составлять от: {:.2f} млн.руб до: {:.2f} млн.руб'.format((low_95/1000),(high_95/1000)))\n",
    "    print(\"95%-ый доверительный интервал: от {:.2f} млн.руб до {:.2f} млн.руб\". format((confidence_interval[0]/1000),(confidence_interval[1]/1000)))\n",
    "    print ('Процент вероятности убытка в данном регионе составит {:.1%}'.format(count/1000))\n",
    "    return  mean, count"
   ]
  },
  {
   "cell_type": "code",
   "execution_count": 48,
   "metadata": {
    "scrolled": false
   },
   "outputs": [
    {
     "data": {
      "application/vnd.jupyter.widget-view+json": {
       "model_id": "0211975d161b438a980a47edcb6b36e6",
       "version_major": 2,
       "version_minor": 0
      },
      "text/plain": [
       "  0%|          | 0/1000 [00:00<?, ?it/s]"
      ]
     },
     "metadata": {},
     "output_type": "display_data"
    },
    {
     "data": {
      "image/png": "[encoded data removed]",
      "text/plain": [
       "<Figure size 576x360 with 1 Axes>"
      ]
     },
     "metadata": {
      "needs_background": "light"
     },
     "output_type": "display_data"
    },
    {
     "name": "stdout",
     "output_type": "stream",
     "text": [
      "Средняя прибыль: 435.93 млн.руб\n",
      "С вероятностью 95% прибыль в данном регионе будет составлять от: -116.23 млн.руб до: 966.50 млн.руб\n",
      "95%-ый доверительный интервал: от 418.76 млн.руб до 453.11 млн.руб\n",
      "Процент вероятности убытка в данном регионе составит 6.1%\n"
     ]
    }
   ],
   "source": [
    "#Распределение прибыли 1 регион\n",
    "r_1 = bootstap_1000(target_valid_1,predict_1)"
   ]
  },
  {
   "cell_type": "code",
   "execution_count": 49,
   "metadata": {},
   "outputs": [
    {
     "data": {
      "application/vnd.jupyter.widget-view+json": {
       "model_id": "5b282cc64960431d9224a7a01d74b94d",
       "version_major": 2,
       "version_minor": 0
      },
      "text/plain": [
       "  0%|          | 0/1000 [00:00<?, ?it/s]"
      ]
     },
     "metadata": {},
     "output_type": "display_data"
    },
    {
     "data": {
      "image/png": "[encoded data removed]",
      "text/plain": [
       "<Figure size 576x360 with 1 Axes>"
      ]
     },
     "metadata": {
      "needs_background": "light"
     },
     "output_type": "display_data"
    },
    {
     "name": "stdout",
     "output_type": "stream",
     "text": [
      "Средняя прибыль: 489.66 млн.руб\n",
      "С вероятностью 95% прибыль в данном регионе будет составлять от: 55.12 млн.руб до: 905.76 млн.руб\n",
      "95%-ый доверительный интервал: от 476.23 млн.руб до 503.09 млн.руб\n",
      "Процент вероятности убытка в данном регионе составит 1.1%\n"
     ]
    }
   ],
   "source": [
    "#Распределение прибыли 2 регион\n",
    "r_2 = bootstap_1000(target_valid_2,predict_2)"
   ]
  },
  {
   "cell_type": "code",
   "execution_count": 50,
   "metadata": {},
   "outputs": [
    {
     "data": {
      "application/vnd.jupyter.widget-view+json": {
       "model_id": "e73d665883554faaabe6637218b9888c",
       "version_major": 2,
       "version_minor": 0
      },
      "text/plain": [
       "  0%|          | 0/1000 [00:00<?, ?it/s]"
      ]
     },
     "metadata": {},
     "output_type": "display_data"
    },
    {
     "data": {
      "image/png": "[encoded data removed]",
      "text/plain": [
       "<Figure size 576x360 with 1 Axes>"
      ]
     },
     "metadata": {
      "needs_background": "light"
     },
     "output_type": "display_data"
    },
    {
     "name": "stdout",
     "output_type": "stream",
     "text": [
      "Средняя прибыль: 403.69 млн.руб\n",
      "С вероятностью 95% прибыль в данном регионе будет составлять от: -153.12 млн.руб до: 952.89 млн.руб\n",
      "95%-ый доверительный интервал: от 386.21 млн.руб до 421.17 млн.руб\n",
      "Процент вероятности убытка в данном регионе составит 7.1%\n"
     ]
    }
   ],
   "source": [
    "#Распределение прибыли 3 регион\n",
    "r_3 = bootstap_1000(target_valid_3,predict_3)"
   ]
  },
  {
   "cell_type": "markdown",
   "metadata": {},
   "source": [
    "**Выбор региона**<br>\n",
    "После оценки рисков оставим лишь те регионы, в которых вероятность убытков меньше 2.5%. Среди них выберем регион с наибольшей средней прибылью<br>\n",
    "Сравним среднюю прибыль, вероятность убытка и суммарный запас сырья трёх представленных регионов в таблице"
   ]
  },
  {
   "cell_type": "code",
   "execution_count": 51,
   "metadata": {},
   "outputs": [
    {
     "data": {
      "text/html": [
       "<div>\n",
       "<style scoped>\n",
       "    .dataframe tbody tr th:only-of-type {\n",
       "        vertical-align: middle;\n",
       "    }\n",
       "\n",
       "    .dataframe tbody tr th {\n",
       "        vertical-align: top;\n",
       "    }\n",
       "\n",
       "    .dataframe thead th {\n",
       "        text-align: right;\n",
       "    }\n",
       "</style>\n",
       "<table border=\"1\" class=\"dataframe\">\n",
       "  <thead>\n",
       "    <tr style=\"text-align: right;\">\n",
       "      <th></th>\n",
       "      <th>1 регион</th>\n",
       "      <th>2 регион</th>\n",
       "      <th>3 регион</th>\n",
       "    </tr>\n",
       "  </thead>\n",
       "  <tbody>\n",
       "    <tr>\n",
       "      <th>Средняя прибыль в регионе, млн.руб</th>\n",
       "      <td>435.93</td>\n",
       "      <td>489.66</td>\n",
       "      <td>403.69</td>\n",
       "    </tr>\n",
       "    <tr>\n",
       "      <th>Суммарный запас сырья, тыс.баррелей</th>\n",
       "      <td>30881.46</td>\n",
       "      <td>27748.75</td>\n",
       "      <td>29728.85</td>\n",
       "    </tr>\n",
       "    <tr>\n",
       "      <th>Вероятность убытка, %</th>\n",
       "      <td>6.10</td>\n",
       "      <td>1.10</td>\n",
       "      <td>7.10</td>\n",
       "    </tr>\n",
       "  </tbody>\n",
       "</table>\n",
       "</div>"
      ],
      "text/plain": [
       "                                     1 регион  2 регион  3 регион\n",
       "Средняя прибыль в регионе, млн.руб     435.93    489.66    403.69\n",
       "Суммарный запас сырья, тыс.баррелей  30881.46  27748.75  29728.85\n",
       "Вероятность убытка, %                    6.10      1.10      7.10"
      ]
     },
     "execution_count": 51,
     "metadata": {},
     "output_type": "execute_result"
    }
   ],
   "source": [
    "comparison_tabl = pd.DataFrame(index=['Средняя прибыль в регионе, млн.руб',\n",
    "                                      'Суммарный запас сырья, тыс.баррелей',\n",
    "                                      'Вероятность убытка, %'], columns=['1 регион','2 регион','3 регион'])\n",
    "comparison_tabl['1 регион'] = round(r_1[0]/1000,2), round(p_1,2), r_1[-1]/10\n",
    "comparison_tabl['2 регион'] = round(r_2[0]/1000,2), round(p_2,2), r_2[-1]/10\n",
    "comparison_tabl['3 регион'] = round(r_3[0]/1000,2), round(p_3,2), r_3[-1]/10\n",
    "comparison_tabl"
   ]
  },
  {
   "cell_type": "code",
   "execution_count": 52,
   "metadata": {},
   "outputs": [
    {
     "data": {
      "image/png": "[encoded data removed]",
      "text/plain": [
       "<Figure size 576x360 with 1 Axes>"
      ]
     },
     "metadata": {
      "needs_background": "light"
     },
     "output_type": "display_data"
    }
   ],
   "source": [
    "comparison_tabl.astype('float').iloc[0,:].plot(kind=\"bar\", figsize=(8,5), grid=True, alpha=0.7, subplots=True)\n",
    "plt.title('Средняя прибыль трёх представленных регионов')\n",
    "plt.ylabel('Средняя прибыль в регионе, млн.руб')\n",
    "plt.show()"
   ]
  },
  {
   "cell_type": "code",
   "execution_count": 53,
   "metadata": {},
   "outputs": [
    {
     "data": {
      "image/png": "[encoded data removed]",
      "text/plain": [
       "<Figure size 432x432 with 1 Axes>"
      ]
     },
     "metadata": {},
     "output_type": "display_data"
    }
   ],
   "source": [
    "comparison_tabl.astype('float').iloc[1,:].plot(kind='pie', figsize=(6,6),autopct='%1.1f%%', subplots=True)\n",
    "plt.title('Суммарный запас сырья, тыс.баррелей')\n",
    "plt.ylabel('')\n",
    "plt.show()"
   ]
  },
  {
   "cell_type": "markdown",
   "metadata": {},
   "source": [
    "**Вывод:**<br>\n",
    "Согласно распределению среднего значения прибыли с региона, самым прибыльным оказался 2 регион, средняя прибыль в этом регионе составит 489.66 млн.рублей. Два других региона не прошли отбор по минимально допустимому порогу убытка в 2,5%. Таким образом не смотря на сравнительно меньшие запасы сырья, по сравнению с другими регионами, средняя доходность со скважин во втором регионе прогнозируется выше других.\n",
    "\n"
   ]
  },
  {
   "cell_type": "markdown",
   "metadata": {},
   "source": [
    "## Вывод"
   ]
  },
  {
   "cell_type": "markdown",
   "metadata": {},
   "source": [
    "Мы исследовали данные по запасам в скважинах трёх регионов, в каждом из которых были данные о запасах сырья по 10 тыс.скважинам. При первом знакомстве с данными мы обнаружили, что средний запас ресурсов по регионам недостаточен даже для окупаемости вложений на разработку и для того, чтобы иметь уверенность в перспективе разработки по регионам, мы обучили модель и выполнили предсказания при помощи *линейной регрессии*, а так же применили технологию *bootstrap* с разделением каждого предсказанного значения прибыли по регионам на 1000 выборок.<br>\n",
    "<br>\n",
    "По результату полученных данных мы определили доверительный интревал получения прибыли в 95%, ограничив вероятность убытка величиной менее 2,5%. И на основе этих данных смогли выбрать более перспективный регион для разработки 200 скважин.<br>\n",
    "<br>\n",
    "Таким образом не смотря на сравнительно меньшие предсказания запасов сырья в 27.75 млн.баррелей (по сравнению с другими регионами), с величиной вероятного возникновения убытка в 1,1%, но с превышающей средней прибылью в 489.66 млн.рублей мы сдели выбор в сторону разработки 200 скважин во `2 регионе`."
   ]
  },
  {
   "cell_type": "markdown",
   "metadata": {},
   "source": [
    "## Дополнительное задание"
   ]
  },
  {
   "cell_type": "markdown",
   "metadata": {},
   "source": [
    "**Задание:** В качестве дополнительного задания предлагаю оценить риски для процесса с использованием модели и со случайным выбором 200 скважин в каждом регионе, сделать визуализацию распределений прибыли, совместив два графика (с моделью и без) для каждого региона"
   ]
  },
  {
   "cell_type": "code",
   "execution_count": 54,
   "metadata": {},
   "outputs": [],
   "source": [
    "def profit_for_vp2(predict,target,count):\n",
    "    probs_sorted = pd.Series(predict).sort_values(ascending=False)\n",
    "    selected_points = target[probs_sorted.index][:count]\n",
    "    product = selected_points.sum()\n",
    "    revenue = product * INCOME_ONE_PROD\n",
    "    return revenue - BUDGET\n",
    "\n",
    "def bootstap_1000(target,predict):\n",
    "    values = []\n",
    "    search_probs = 500\n",
    "    best_probs = 200\n",
    "    state = np.random.RandomState(12345)\n",
    "    predict_e = pd.Series(predict, index=target.index)\n",
    "    \n",
    "    for i in tqdm(range(1000)):\n",
    "        target_subsample = target.sample(search_probs,replace=True, random_state=state)\n",
    "  \n",
    "        probs_subsample = predict_e[target_subsample.index]\n",
    "        values.append(profit_for_vp2(probs_subsample,target_subsample, best_probs))  \n",
    "\n",
    "            \n",
    "    values = pd.Series(values)\n",
    "    mean = values.mean()\n",
    "    \n",
    "    return  values"
   ]
  },
  {
   "cell_type": "code",
   "execution_count": 55,
   "metadata": {},
   "outputs": [
    {
     "data": {
      "application/vnd.jupyter.widget-view+json": {
       "model_id": "15e5f4108c0f4d4f98969a4850874af9",
       "version_major": 2,
       "version_minor": 0
      },
      "text/plain": [
       "  0%|          | 0/1000 [00:00<?, ?it/s]"
      ]
     },
     "metadata": {},
     "output_type": "display_data"
    },
    {
     "data": {
      "application/vnd.jupyter.widget-view+json": {
       "model_id": "d04f3a407a0d4595b0b44b0eda491c9a",
       "version_major": 2,
       "version_minor": 0
      },
      "text/plain": [
       "  0%|          | 0/1000 [00:00<?, ?it/s]"
      ]
     },
     "metadata": {},
     "output_type": "display_data"
    },
    {
     "data": {
      "application/vnd.jupyter.widget-view+json": {
       "model_id": "d9788be52f3b48a986f535a3cf0294e6",
       "version_major": 2,
       "version_minor": 0
      },
      "text/plain": [
       "  0%|          | 0/1000 [00:00<?, ?it/s]"
      ]
     },
     "metadata": {},
     "output_type": "display_data"
    }
   ],
   "source": [
    "r_1 = bootstap_1000(target_valid_1,predict_1)\n",
    "r_2 = bootstap_1000(target_valid_2,predict_2)\n",
    "r_3 = bootstap_1000(target_valid_3,predict_3)"
   ]
  },
  {
   "cell_type": "code",
   "execution_count": 56,
   "metadata": {
    "scrolled": true
   },
   "outputs": [],
   "source": [
    "values_1 = pd.DataFrame({\n",
    "     '1_регион': r_1,\n",
    "     '2_регион': r_2,\n",
    "     '3_регион': r_3\n",
    "})"
   ]
  },
  {
   "cell_type": "code",
   "execution_count": 57,
   "metadata": {},
   "outputs": [],
   "source": [
    "BUDGET = 10000000 #Бюджет на разработку скважин в регионе, тыс.руб\n",
    "INCOME_ONE_PROD = 450 #Доход с каждой единицы продукта, тыс.руб\n",
    "product_1 = df1['product']\n",
    "product_2 = df2['product']\n",
    "product_3 = df3['product']"
   ]
  },
  {
   "cell_type": "code",
   "execution_count": 58,
   "metadata": {},
   "outputs": [],
   "source": [
    "def bootstap_1000(product):\n",
    "    values = []\n",
    "    search_probs = 200\n",
    "    state = np.random.RandomState(12345)\n",
    "    product_e = pd.Series(product)\n",
    "    \n",
    "    for i in tqdm(range(1000)):\n",
    "        product_subsample = product_e.sample(search_probs,replace=True, random_state=state)\n",
    "        product_sum = product_subsample.sum() \n",
    "        revenue = (product_sum * INCOME_ONE_PROD) - BUDGET\n",
    "        values.append(revenue)\n",
    "               \n",
    "    values = pd.Series(values)\n",
    "    mean = values.mean()\n",
    "    \n",
    "    return  values"
   ]
  },
  {
   "cell_type": "code",
   "execution_count": 59,
   "metadata": {},
   "outputs": [
    {
     "data": {
      "application/vnd.jupyter.widget-view+json": {
       "model_id": "796881e0d9d04f0fa47f30a87607cce0",
       "version_major": 2,
       "version_minor": 0
      },
      "text/plain": [
       "  0%|          | 0/1000 [00:00<?, ?it/s]"
      ]
     },
     "metadata": {},
     "output_type": "display_data"
    },
    {
     "data": {
      "application/vnd.jupyter.widget-view+json": {
       "model_id": "f3657b20bf6e4deda105b9cc59930a74",
       "version_major": 2,
       "version_minor": 0
      },
      "text/plain": [
       "  0%|          | 0/1000 [00:00<?, ?it/s]"
      ]
     },
     "metadata": {},
     "output_type": "display_data"
    },
    {
     "data": {
      "application/vnd.jupyter.widget-view+json": {
       "model_id": "9ee978c2200e425baf638efeeb551935",
       "version_major": 2,
       "version_minor": 0
      },
      "text/plain": [
       "  0%|          | 0/1000 [00:00<?, ?it/s]"
      ]
     },
     "metadata": {},
     "output_type": "display_data"
    }
   ],
   "source": [
    "r_1_2 = bootstap_1000(product_1)\n",
    "r_2_2 = bootstap_1000(product_2)\n",
    "r_3_2 = bootstap_1000(product_3)"
   ]
  },
  {
   "cell_type": "code",
   "execution_count": 60,
   "metadata": {},
   "outputs": [],
   "source": [
    "values_1_nomodel = pd.DataFrame({\n",
    "     '1_регион': r_1_2,\n",
    "     '2_регион': r_2_2,\n",
    "     '3_регион': r_3_2\n",
    "})"
   ]
  },
  {
   "cell_type": "code",
   "execution_count": 61,
   "metadata": {},
   "outputs": [
    {
     "data": {
      "image/png": "[encoded data removed]",
      "text/plain": [
       "<Figure size 432x288 with 1 Axes>"
      ]
     },
     "metadata": {
      "needs_background": "light"
     },
     "output_type": "display_data"
    }
   ],
   "source": [
    "plt.hist(values_1, label='model')\n",
    "plt.hist(values_1_nomodel, label='nomodel')\n",
    "plt.xlabel('Прибыль, тыс.руб')\n",
    "plt.ylabel('Количество')\n",
    "plt.legend()\n",
    "plt.show()"
   ]
  },
  {
   "cell_type": "code",
   "execution_count": 63,
   "metadata": {},
   "outputs": [
    {
     "data": {
      "image/png": "[encoded data removed]",
      "text/plain": [
       "<Figure size 432x288 with 1 Axes>"
      ]
     },
     "metadata": {
      "needs_background": "light"
     },
     "output_type": "display_data"
    },
    {
     "data": {
      "image/png": "[encoded data removed]",
      "text/plain": [
       "<Figure size 432x288 with 1 Axes>"
      ]
     },
     "metadata": {
      "needs_background": "light"
     },
     "output_type": "display_data"
    },
    {
     "data": {
      "image/png": "[encoded data removed]",
      "text/plain": [
       "<Figure size 432x288 with 1 Axes>"
      ]
     },
     "metadata": {
      "needs_background": "light"
     },
     "output_type": "display_data"
    }
   ],
   "source": [
    "for reg, x, y in zip([0, 1, 2], [r_1, r_2, r_3], [r_1_2, r_2_2, r_3_2]):\n",
    "\n",
    "    plt.hist(x, label='model')\n",
    "    plt.hist(y, label='nomodel')\n",
    "    plt.xlabel('Прибыль, тыс.руб')\n",
    "    plt.ylabel('Количество')\n",
    "    plt.legend()\n",
    "    plt.title(f'region_{reg}')\n",
    "    plt.show()"
   ]
  },
  {
   "cell_type": "markdown",
   "metadata": {},
   "source": [
    "## Чек-лист готовности проекта"
   ]
  },
  {
   "cell_type": "markdown",
   "metadata": {},
   "source": [
    "Поставьте 'x' в выполненных пунктах. Далее нажмите Shift+Enter."
   ]
  },
  {
   "cell_type": "markdown",
   "metadata": {},
   "source": [
    "- [x]  Jupyter Notebook открыт\n",
    "- [x]  Весь код выполняется без ошибок\n",
    "- [x]  Ячейки с кодом расположены в порядке исполнения\n",
    "- [x]  Выполнен шаг 1: данные подготовлены\n",
    "- [x]  Выполнен шаг 2: модели обучены и проверены\n",
    "    - [x]  Данные корректно разбиты на обучающую и валидационную выборки\n",
    "    - [x]  Модели обучены, предсказания сделаны\n",
    "    - [x]  Предсказания и правильные ответы на валидационной выборке сохранены\n",
    "    - [x]  На экране напечатаны результаты\n",
    "    - [x]  Сделаны выводы\n",
    "- [x]  Выполнен шаг 3: проведена подготовка к расчёту прибыли\n",
    "    - [x]  Для всех ключевых значений созданы константы Python\n",
    "    - [x]  Посчитано минимальное среднее количество продукта в месторождениях региона, достаточное для разработки\n",
    "    - [x]  По предыдущему пункту сделаны выводы\n",
    "    - [x]  Написана функция расчёта прибыли\n",
    "- [x]  Выполнен шаг 4: посчитаны риски и прибыль\n",
    "    - [x]  Проведена процедура *Bootstrap*\n",
    "    - [x]  Все параметры бутстрепа соответствуют условию\n",
    "    - [x]  Найдены все нужные величины\n",
    "    - [x]  Предложен регион для разработки месторождения\n",
    "    - [x]  Выбор региона обоснован"
   ]
  }
 ],
 "metadata": {
  "ExecuteTimeLog": [
   {
    "duration": 1633,
    "start_time": "2023-07-28T13:24:23.610Z"
   },
   {
    "duration": 1748,
    "start_time": "2023-07-28T13:25:27.256Z"
   },
   {
    "duration": 13,
    "start_time": "2023-07-28T13:26:58.511Z"
   },
   {
    "duration": 10,
    "start_time": "2023-07-28T13:27:26.802Z"
   },
   {
    "duration": 109,
    "start_time": "2023-07-28T13:27:52.512Z"
   },
   {
    "duration": 19,
    "start_time": "2023-07-28T13:28:00.267Z"
   },
   {
    "duration": 9,
    "start_time": "2023-07-28T13:28:25.522Z"
   },
   {
    "duration": 65,
    "start_time": "2023-07-28T13:28:31.248Z"
   },
   {
    "duration": 45,
    "start_time": "2023-07-28T13:28:48.839Z"
   },
   {
    "duration": 10,
    "start_time": "2023-07-28T13:32:45.150Z"
   },
   {
    "duration": 18,
    "start_time": "2023-07-28T13:32:46.106Z"
   },
   {
    "duration": 29,
    "start_time": "2023-07-28T13:32:47.341Z"
   },
   {
    "duration": 39,
    "start_time": "2023-07-28T13:32:49.643Z"
   },
   {
    "duration": 11,
    "start_time": "2023-07-28T13:32:58.250Z"
   },
   {
    "duration": 14,
    "start_time": "2023-07-28T13:32:58.711Z"
   },
   {
    "duration": 20,
    "start_time": "2023-07-28T13:32:59.091Z"
   },
   {
    "duration": 41,
    "start_time": "2023-07-28T13:32:59.540Z"
   },
   {
    "duration": 293,
    "start_time": "2023-07-28T13:33:57.386Z"
   },
   {
    "duration": 277,
    "start_time": "2023-07-28T13:34:25.817Z"
   },
   {
    "duration": 283,
    "start_time": "2023-07-28T13:34:46.114Z"
   },
   {
    "duration": 1776,
    "start_time": "2023-07-28T14:52:03.986Z"
   },
   {
    "duration": 3,
    "start_time": "2023-07-28T14:56:41.642Z"
   },
   {
    "duration": 735,
    "start_time": "2023-07-28T14:56:41.647Z"
   },
   {
    "duration": 13,
    "start_time": "2023-07-28T14:56:42.384Z"
   },
   {
    "duration": 55,
    "start_time": "2023-07-28T14:56:42.399Z"
   },
   {
    "duration": 64,
    "start_time": "2023-07-28T14:56:42.457Z"
   },
   {
    "duration": 46,
    "start_time": "2023-07-28T14:56:42.523Z"
   },
   {
    "duration": 8,
    "start_time": "2023-07-28T14:56:42.571Z"
   },
   {
    "duration": 15,
    "start_time": "2023-07-28T14:56:42.581Z"
   },
   {
    "duration": 17,
    "start_time": "2023-07-28T14:56:42.598Z"
   },
   {
    "duration": 45,
    "start_time": "2023-07-28T14:56:42.616Z"
   },
   {
    "duration": 8,
    "start_time": "2023-07-28T14:56:42.663Z"
   },
   {
    "duration": 14,
    "start_time": "2023-07-28T14:56:42.673Z"
   },
   {
    "duration": 43,
    "start_time": "2023-07-28T14:56:42.689Z"
   },
   {
    "duration": 32,
    "start_time": "2023-07-28T14:56:42.734Z"
   },
   {
    "duration": 270,
    "start_time": "2023-07-28T14:56:42.768Z"
   },
   {
    "duration": 221,
    "start_time": "2023-07-28T14:56:48.566Z"
   },
   {
    "duration": 524,
    "start_time": "2023-07-28T14:56:55.104Z"
   },
   {
    "duration": 503,
    "start_time": "2023-07-28T14:57:54.835Z"
   },
   {
    "duration": 520,
    "start_time": "2023-07-28T14:58:51.388Z"
   },
   {
    "duration": 18,
    "start_time": "2023-07-28T14:59:54.723Z"
   },
   {
    "duration": 9,
    "start_time": "2023-07-28T15:00:02.833Z"
   },
   {
    "duration": 16,
    "start_time": "2023-07-28T15:00:54.268Z"
   },
   {
    "duration": 17,
    "start_time": "2023-07-28T15:01:01.815Z"
   },
   {
    "duration": 13,
    "start_time": "2023-07-28T15:01:18.947Z"
   },
   {
    "duration": 13,
    "start_time": "2023-07-28T15:02:07.499Z"
   },
   {
    "duration": 23,
    "start_time": "2023-07-28T15:02:54.529Z"
   },
   {
    "duration": 31,
    "start_time": "2023-07-28T15:04:39.904Z"
   },
   {
    "duration": 4,
    "start_time": "2023-07-28T15:05:25.907Z"
   },
   {
    "duration": 17,
    "start_time": "2023-07-28T15:05:31.402Z"
   },
   {
    "duration": 16,
    "start_time": "2023-07-28T15:06:13.320Z"
   },
   {
    "duration": 17,
    "start_time": "2023-07-28T15:06:22.268Z"
   },
   {
    "duration": 18,
    "start_time": "2023-07-28T15:06:56.704Z"
   },
   {
    "duration": 4,
    "start_time": "2023-07-28T15:07:37.177Z"
   },
   {
    "duration": 290,
    "start_time": "2023-07-28T15:07:53.209Z"
   },
   {
    "duration": 10,
    "start_time": "2023-07-28T15:08:41.002Z"
   },
   {
    "duration": 5,
    "start_time": "2023-07-28T15:12:56.803Z"
   },
   {
    "duration": 3,
    "start_time": "2023-07-28T15:13:09.512Z"
   },
   {
    "duration": 3,
    "start_time": "2023-07-28T15:13:19.395Z"
   },
   {
    "duration": 3,
    "start_time": "2023-07-28T15:14:58.459Z"
   },
   {
    "duration": 11,
    "start_time": "2023-07-28T15:16:26.362Z"
   },
   {
    "duration": 13,
    "start_time": "2023-07-28T15:18:04.946Z"
   },
   {
    "duration": 10,
    "start_time": "2023-07-28T15:18:17.896Z"
   },
   {
    "duration": 9,
    "start_time": "2023-07-28T15:18:21.247Z"
   },
   {
    "duration": 129,
    "start_time": "2023-07-28T15:18:34.491Z"
   },
   {
    "duration": 4,
    "start_time": "2023-07-28T15:18:44.587Z"
   },
   {
    "duration": 101,
    "start_time": "2023-07-28T15:18:54.448Z"
   },
   {
    "duration": 115,
    "start_time": "2023-07-28T15:19:32.103Z"
   },
   {
    "duration": 4,
    "start_time": "2023-07-28T15:19:55.894Z"
   },
   {
    "duration": 3,
    "start_time": "2023-07-28T15:21:28.195Z"
   },
   {
    "duration": 10,
    "start_time": "2023-07-28T15:22:05.946Z"
   },
   {
    "duration": 15,
    "start_time": "2023-07-28T15:22:31.150Z"
   },
   {
    "duration": 3,
    "start_time": "2023-07-28T15:22:51.091Z"
   },
   {
    "duration": 10,
    "start_time": "2023-07-28T15:23:14.883Z"
   },
   {
    "duration": 12,
    "start_time": "2023-07-28T15:23:41.416Z"
   },
   {
    "duration": 3,
    "start_time": "2023-07-28T15:23:57.162Z"
   },
   {
    "duration": 9,
    "start_time": "2023-07-28T15:25:18.849Z"
   },
   {
    "duration": 4,
    "start_time": "2023-07-28T15:25:23.081Z"
   },
   {
    "duration": 225,
    "start_time": "2023-07-28T15:25:44.814Z"
   },
   {
    "duration": 9,
    "start_time": "2023-07-28T15:26:04.185Z"
   },
   {
    "duration": 3,
    "start_time": "2023-07-28T15:27:11.351Z"
   },
   {
    "duration": 4,
    "start_time": "2023-07-28T15:28:18.584Z"
   },
   {
    "duration": 4,
    "start_time": "2023-07-28T15:28:55.558Z"
   },
   {
    "duration": 17,
    "start_time": "2023-07-28T15:29:21.160Z"
   },
   {
    "duration": 7,
    "start_time": "2023-07-28T15:29:53.594Z"
   },
   {
    "duration": 6,
    "start_time": "2023-07-28T15:30:16.581Z"
   },
   {
    "duration": 4,
    "start_time": "2023-07-28T15:33:31.147Z"
   },
   {
    "duration": 73,
    "start_time": "2023-07-28T15:34:08.261Z"
   },
   {
    "duration": 9,
    "start_time": "2023-07-28T15:34:25.576Z"
   },
   {
    "duration": 15,
    "start_time": "2023-07-28T15:34:57.390Z"
   },
   {
    "duration": 1862,
    "start_time": "2023-07-28T15:35:02.094Z"
   },
   {
    "duration": 1944,
    "start_time": "2023-07-28T15:35:33.992Z"
   },
   {
    "duration": 1797,
    "start_time": "2023-07-28T15:36:07.057Z"
   },
   {
    "duration": 10,
    "start_time": "2023-07-28T15:37:25.198Z"
   },
   {
    "duration": 197,
    "start_time": "2023-07-28T15:37:41.060Z"
   },
   {
    "duration": 102,
    "start_time": "2023-07-28T15:37:50.715Z"
   },
   {
    "duration": 2289,
    "start_time": "2023-07-28T21:13:32.932Z"
   },
   {
    "duration": 742,
    "start_time": "2023-07-28T21:13:35.223Z"
   },
   {
    "duration": 15,
    "start_time": "2023-07-28T21:13:35.967Z"
   },
   {
    "duration": 32,
    "start_time": "2023-07-28T21:13:35.984Z"
   },
   {
    "duration": 99,
    "start_time": "2023-07-28T21:13:36.018Z"
   },
   {
    "duration": 39,
    "start_time": "2023-07-28T21:13:36.119Z"
   },
   {
    "duration": 24,
    "start_time": "2023-07-28T21:13:36.160Z"
   },
   {
    "duration": 47,
    "start_time": "2023-07-28T21:13:36.186Z"
   },
   {
    "duration": 21,
    "start_time": "2023-07-28T21:13:36.236Z"
   },
   {
    "duration": 32,
    "start_time": "2023-07-28T21:13:36.259Z"
   },
   {
    "duration": 10,
    "start_time": "2023-07-28T21:13:36.292Z"
   },
   {
    "duration": 55,
    "start_time": "2023-07-28T21:13:36.303Z"
   },
   {
    "duration": 31,
    "start_time": "2023-07-28T21:13:36.359Z"
   },
   {
    "duration": 36,
    "start_time": "2023-07-28T21:13:36.392Z"
   },
   {
    "duration": 272,
    "start_time": "2023-07-28T21:13:36.430Z"
   },
   {
    "duration": 498,
    "start_time": "2023-07-28T21:13:36.704Z"
   },
   {
    "duration": 524,
    "start_time": "2023-07-28T21:13:37.204Z"
   },
   {
    "duration": 568,
    "start_time": "2023-07-28T21:13:37.731Z"
   },
   {
    "duration": 11,
    "start_time": "2023-07-28T21:13:38.300Z"
   },
   {
    "duration": 20,
    "start_time": "2023-07-28T21:13:38.313Z"
   },
   {
    "duration": 112,
    "start_time": "2023-07-28T21:13:38.334Z"
   },
   {
    "duration": 16,
    "start_time": "2023-07-28T21:13:38.448Z"
   },
   {
    "duration": 135,
    "start_time": "2023-07-28T21:13:38.466Z"
   },
   {
    "duration": 108,
    "start_time": "2023-07-28T21:13:38.603Z"
   },
   {
    "duration": 207,
    "start_time": "2023-07-28T21:13:38.716Z"
   },
   {
    "duration": 82,
    "start_time": "2023-07-28T21:13:38.926Z"
   },
   {
    "duration": 98,
    "start_time": "2023-07-28T21:13:39.010Z"
   },
   {
    "duration": 9,
    "start_time": "2023-07-28T21:13:39.112Z"
   },
   {
    "duration": 15,
    "start_time": "2023-07-28T21:13:39.122Z"
   },
   {
    "duration": 5,
    "start_time": "2023-07-28T21:13:39.138Z"
   },
   {
    "duration": 7,
    "start_time": "2023-07-28T21:13:39.144Z"
   },
   {
    "duration": 17,
    "start_time": "2023-07-28T21:13:39.152Z"
   },
   {
    "duration": 11,
    "start_time": "2023-07-28T21:13:39.170Z"
   },
   {
    "duration": 19,
    "start_time": "2023-07-28T21:13:39.182Z"
   },
   {
    "duration": 21,
    "start_time": "2023-07-28T21:13:39.203Z"
   },
   {
    "duration": 16,
    "start_time": "2023-07-28T21:13:39.226Z"
   },
   {
    "duration": 3,
    "start_time": "2023-07-28T21:13:39.243Z"
   },
   {
    "duration": 21,
    "start_time": "2023-07-28T21:13:39.248Z"
   },
   {
    "duration": 11,
    "start_time": "2023-07-28T21:13:39.271Z"
   },
   {
    "duration": 18,
    "start_time": "2023-07-28T21:13:39.283Z"
   },
   {
    "duration": 17,
    "start_time": "2023-07-28T21:13:39.302Z"
   },
   {
    "duration": 13,
    "start_time": "2023-07-28T21:13:39.320Z"
   },
   {
    "duration": 4,
    "start_time": "2023-07-28T21:13:39.334Z"
   },
   {
    "duration": 20,
    "start_time": "2023-07-28T21:13:39.339Z"
   },
   {
    "duration": 10,
    "start_time": "2023-07-28T21:13:39.360Z"
   },
   {
    "duration": 14,
    "start_time": "2023-07-28T21:13:39.372Z"
   },
   {
    "duration": 7,
    "start_time": "2023-07-28T21:13:39.388Z"
   },
   {
    "duration": 15,
    "start_time": "2023-07-28T21:13:39.397Z"
   },
   {
    "duration": 14,
    "start_time": "2023-07-28T21:13:39.413Z"
   },
   {
    "duration": 7,
    "start_time": "2023-07-28T21:13:39.429Z"
   },
   {
    "duration": 1591,
    "start_time": "2023-07-28T21:13:39.438Z"
   },
   {
    "duration": 1555,
    "start_time": "2023-07-28T21:13:41.030Z"
   },
   {
    "duration": 1545,
    "start_time": "2023-07-28T21:13:42.586Z"
   },
   {
    "duration": 9,
    "start_time": "2023-07-28T21:13:44.133Z"
   },
   {
    "duration": 138,
    "start_time": "2023-07-28T21:13:44.144Z"
   },
   {
    "duration": 99,
    "start_time": "2023-07-28T21:13:44.283Z"
   },
   {
    "duration": 1794,
    "start_time": "2023-07-31T07:07:42.914Z"
   },
   {
    "duration": 265,
    "start_time": "2023-07-31T07:09:15.409Z"
   },
   {
    "duration": 73,
    "start_time": "2023-07-31T07:15:00.666Z"
   },
   {
    "duration": 918,
    "start_time": "2023-07-31T07:15:00.741Z"
   },
   {
    "duration": 15,
    "start_time": "2023-07-31T07:15:01.660Z"
   },
   {
    "duration": 130,
    "start_time": "2023-07-31T07:15:01.678Z"
   },
   {
    "duration": 120,
    "start_time": "2023-07-31T07:15:01.810Z"
   },
   {
    "duration": 40,
    "start_time": "2023-07-31T07:15:01.932Z"
   },
   {
    "duration": 39,
    "start_time": "2023-07-31T07:15:01.975Z"
   },
   {
    "duration": 101,
    "start_time": "2023-07-31T07:15:02.015Z"
   },
   {
    "duration": 108,
    "start_time": "2023-07-31T07:15:02.118Z"
   },
   {
    "duration": 86,
    "start_time": "2023-07-31T07:15:02.230Z"
   },
   {
    "duration": 39,
    "start_time": "2023-07-31T07:15:02.318Z"
   },
   {
    "duration": 61,
    "start_time": "2023-07-31T07:15:02.359Z"
   },
   {
    "duration": 70,
    "start_time": "2023-07-31T07:15:02.422Z"
   },
   {
    "duration": 38,
    "start_time": "2023-07-31T07:15:02.495Z"
   },
   {
    "duration": 312,
    "start_time": "2023-07-31T07:15:02.535Z"
   },
   {
    "duration": 80,
    "start_time": "2023-07-31T07:25:53.524Z"
   },
   {
    "duration": 386,
    "start_time": "2023-07-31T07:25:53.607Z"
   },
   {
    "duration": 10,
    "start_time": "2023-07-31T07:25:53.995Z"
   },
   {
    "duration": 22,
    "start_time": "2023-07-31T07:25:54.007Z"
   },
   {
    "duration": 24,
    "start_time": "2023-07-31T07:25:54.031Z"
   },
   {
    "duration": 39,
    "start_time": "2023-07-31T07:25:54.070Z"
   },
   {
    "duration": 9,
    "start_time": "2023-07-31T07:25:54.111Z"
   },
   {
    "duration": 18,
    "start_time": "2023-07-31T07:25:54.121Z"
   },
   {
    "duration": 46,
    "start_time": "2023-07-31T07:25:54.141Z"
   },
   {
    "duration": 45,
    "start_time": "2023-07-31T07:25:54.192Z"
   },
   {
    "duration": 10,
    "start_time": "2023-07-31T07:25:54.238Z"
   },
   {
    "duration": 38,
    "start_time": "2023-07-31T07:25:54.249Z"
   },
   {
    "duration": 20,
    "start_time": "2023-07-31T07:25:54.289Z"
   },
   {
    "duration": 39,
    "start_time": "2023-07-31T07:25:54.313Z"
   },
   {
    "duration": 275,
    "start_time": "2023-07-31T07:25:54.370Z"
   },
   {
    "duration": 24,
    "start_time": "2023-07-31T07:25:54.647Z"
   },
   {
    "duration": 25,
    "start_time": "2023-07-31T07:25:54.672Z"
   },
   {
    "duration": 21,
    "start_time": "2023-07-31T07:25:54.699Z"
   },
   {
    "duration": 21,
    "start_time": "2023-07-31T07:25:54.722Z"
   },
   {
    "duration": 260,
    "start_time": "2023-07-31T07:25:54.745Z"
   },
   {
    "duration": 0,
    "start_time": "2023-07-31T07:25:55.007Z"
   },
   {
    "duration": 0,
    "start_time": "2023-07-31T07:25:55.009Z"
   },
   {
    "duration": 0,
    "start_time": "2023-07-31T07:25:55.009Z"
   },
   {
    "duration": 0,
    "start_time": "2023-07-31T07:25:55.010Z"
   },
   {
    "duration": 0,
    "start_time": "2023-07-31T07:25:55.011Z"
   },
   {
    "duration": 0,
    "start_time": "2023-07-31T07:25:55.012Z"
   },
   {
    "duration": 0,
    "start_time": "2023-07-31T07:25:55.013Z"
   },
   {
    "duration": 0,
    "start_time": "2023-07-31T07:25:55.014Z"
   },
   {
    "duration": 0,
    "start_time": "2023-07-31T07:25:55.015Z"
   },
   {
    "duration": 0,
    "start_time": "2023-07-31T07:25:55.016Z"
   },
   {
    "duration": 0,
    "start_time": "2023-07-31T07:25:55.017Z"
   },
   {
    "duration": 0,
    "start_time": "2023-07-31T07:25:55.019Z"
   },
   {
    "duration": 0,
    "start_time": "2023-07-31T07:25:55.020Z"
   },
   {
    "duration": 0,
    "start_time": "2023-07-31T07:25:55.021Z"
   },
   {
    "duration": 0,
    "start_time": "2023-07-31T07:25:55.022Z"
   },
   {
    "duration": 0,
    "start_time": "2023-07-31T07:25:55.024Z"
   },
   {
    "duration": 0,
    "start_time": "2023-07-31T07:25:55.025Z"
   },
   {
    "duration": 0,
    "start_time": "2023-07-31T07:25:55.026Z"
   },
   {
    "duration": 0,
    "start_time": "2023-07-31T07:25:55.027Z"
   },
   {
    "duration": 0,
    "start_time": "2023-07-31T07:25:55.029Z"
   },
   {
    "duration": 0,
    "start_time": "2023-07-31T07:25:55.030Z"
   },
   {
    "duration": 0,
    "start_time": "2023-07-31T07:25:55.031Z"
   },
   {
    "duration": 0,
    "start_time": "2023-07-31T07:25:55.033Z"
   },
   {
    "duration": 0,
    "start_time": "2023-07-31T07:25:55.071Z"
   },
   {
    "duration": 0,
    "start_time": "2023-07-31T07:25:55.073Z"
   },
   {
    "duration": 0,
    "start_time": "2023-07-31T07:25:55.074Z"
   },
   {
    "duration": 43,
    "start_time": "2023-07-31T07:28:47.448Z"
   },
   {
    "duration": 384,
    "start_time": "2023-07-31T07:28:47.493Z"
   },
   {
    "duration": 13,
    "start_time": "2023-07-31T07:28:47.879Z"
   },
   {
    "duration": 31,
    "start_time": "2023-07-31T07:28:47.895Z"
   },
   {
    "duration": 22,
    "start_time": "2023-07-31T07:28:47.928Z"
   },
   {
    "duration": 50,
    "start_time": "2023-07-31T07:28:47.952Z"
   },
   {
    "duration": 10,
    "start_time": "2023-07-31T07:28:48.004Z"
   },
   {
    "duration": 19,
    "start_time": "2023-07-31T07:28:48.016Z"
   },
   {
    "duration": 43,
    "start_time": "2023-07-31T07:28:48.037Z"
   },
   {
    "duration": 37,
    "start_time": "2023-07-31T07:28:48.084Z"
   },
   {
    "duration": 10,
    "start_time": "2023-07-31T07:28:48.123Z"
   },
   {
    "duration": 42,
    "start_time": "2023-07-31T07:28:48.135Z"
   },
   {
    "duration": 22,
    "start_time": "2023-07-31T07:28:48.179Z"
   },
   {
    "duration": 37,
    "start_time": "2023-07-31T07:28:48.203Z"
   },
   {
    "duration": 316,
    "start_time": "2023-07-31T07:28:48.242Z"
   },
   {
    "duration": 18,
    "start_time": "2023-07-31T07:28:48.560Z"
   },
   {
    "duration": 33,
    "start_time": "2023-07-31T07:28:48.579Z"
   },
   {
    "duration": 22,
    "start_time": "2023-07-31T07:28:48.614Z"
   },
   {
    "duration": 19,
    "start_time": "2023-07-31T07:28:48.638Z"
   },
   {
    "duration": 55,
    "start_time": "2023-07-31T07:28:48.671Z"
   },
   {
    "duration": 0,
    "start_time": "2023-07-31T07:28:48.729Z"
   },
   {
    "duration": 0,
    "start_time": "2023-07-31T07:28:48.731Z"
   },
   {
    "duration": 0,
    "start_time": "2023-07-31T07:28:48.732Z"
   },
   {
    "duration": 0,
    "start_time": "2023-07-31T07:28:48.733Z"
   },
   {
    "duration": 0,
    "start_time": "2023-07-31T07:28:48.735Z"
   },
   {
    "duration": 0,
    "start_time": "2023-07-31T07:28:48.736Z"
   },
   {
    "duration": 0,
    "start_time": "2023-07-31T07:28:48.737Z"
   },
   {
    "duration": 0,
    "start_time": "2023-07-31T07:28:48.738Z"
   },
   {
    "duration": 0,
    "start_time": "2023-07-31T07:28:48.740Z"
   },
   {
    "duration": 0,
    "start_time": "2023-07-31T07:28:48.741Z"
   },
   {
    "duration": 0,
    "start_time": "2023-07-31T07:28:48.743Z"
   },
   {
    "duration": 0,
    "start_time": "2023-07-31T07:28:48.744Z"
   },
   {
    "duration": 0,
    "start_time": "2023-07-31T07:28:48.745Z"
   },
   {
    "duration": 0,
    "start_time": "2023-07-31T07:28:48.746Z"
   },
   {
    "duration": 0,
    "start_time": "2023-07-31T07:28:48.748Z"
   },
   {
    "duration": 0,
    "start_time": "2023-07-31T07:28:48.749Z"
   },
   {
    "duration": 0,
    "start_time": "2023-07-31T07:28:48.771Z"
   },
   {
    "duration": 0,
    "start_time": "2023-07-31T07:28:48.773Z"
   },
   {
    "duration": 0,
    "start_time": "2023-07-31T07:28:48.774Z"
   },
   {
    "duration": 0,
    "start_time": "2023-07-31T07:28:48.775Z"
   },
   {
    "duration": 0,
    "start_time": "2023-07-31T07:28:48.777Z"
   },
   {
    "duration": 0,
    "start_time": "2023-07-31T07:28:48.778Z"
   },
   {
    "duration": 0,
    "start_time": "2023-07-31T07:28:48.780Z"
   },
   {
    "duration": 0,
    "start_time": "2023-07-31T07:28:48.781Z"
   },
   {
    "duration": 0,
    "start_time": "2023-07-31T07:28:48.782Z"
   },
   {
    "duration": 0,
    "start_time": "2023-07-31T07:28:48.784Z"
   },
   {
    "duration": 46,
    "start_time": "2023-07-31T07:29:00.550Z"
   },
   {
    "duration": 421,
    "start_time": "2023-07-31T07:29:00.598Z"
   },
   {
    "duration": 10,
    "start_time": "2023-07-31T07:29:01.021Z"
   },
   {
    "duration": 65,
    "start_time": "2023-07-31T07:29:01.032Z"
   },
   {
    "duration": 57,
    "start_time": "2023-07-31T07:29:01.099Z"
   },
   {
    "duration": 63,
    "start_time": "2023-07-31T07:29:01.158Z"
   },
   {
    "duration": 23,
    "start_time": "2023-07-31T07:29:01.222Z"
   },
   {
    "duration": 77,
    "start_time": "2023-07-31T07:29:01.247Z"
   },
   {
    "duration": 65,
    "start_time": "2023-07-31T07:29:01.326Z"
   },
   {
    "duration": 76,
    "start_time": "2023-07-31T07:29:01.393Z"
   },
   {
    "duration": 23,
    "start_time": "2023-07-31T07:29:01.471Z"
   },
   {
    "duration": 92,
    "start_time": "2023-07-31T07:29:01.496Z"
   },
   {
    "duration": 67,
    "start_time": "2023-07-31T07:29:01.590Z"
   },
   {
    "duration": 52,
    "start_time": "2023-07-31T07:29:01.662Z"
   },
   {
    "duration": 342,
    "start_time": "2023-07-31T07:29:01.715Z"
   },
   {
    "duration": 14,
    "start_time": "2023-07-31T07:29:02.059Z"
   },
   {
    "duration": 72,
    "start_time": "2023-07-31T07:29:02.075Z"
   },
   {
    "duration": 36,
    "start_time": "2023-07-31T07:29:02.149Z"
   },
   {
    "duration": 88,
    "start_time": "2023-07-31T07:29:02.187Z"
   },
   {
    "duration": 59,
    "start_time": "2023-07-31T07:29:02.277Z"
   },
   {
    "duration": 0,
    "start_time": "2023-07-31T07:29:02.338Z"
   },
   {
    "duration": 0,
    "start_time": "2023-07-31T07:29:02.340Z"
   },
   {
    "duration": 0,
    "start_time": "2023-07-31T07:29:02.341Z"
   },
   {
    "duration": 0,
    "start_time": "2023-07-31T07:29:02.343Z"
   },
   {
    "duration": 0,
    "start_time": "2023-07-31T07:29:02.344Z"
   },
   {
    "duration": 0,
    "start_time": "2023-07-31T07:29:02.345Z"
   },
   {
    "duration": 0,
    "start_time": "2023-07-31T07:29:02.347Z"
   },
   {
    "duration": 0,
    "start_time": "2023-07-31T07:29:02.348Z"
   },
   {
    "duration": 0,
    "start_time": "2023-07-31T07:29:02.349Z"
   },
   {
    "duration": 0,
    "start_time": "2023-07-31T07:29:02.351Z"
   },
   {
    "duration": 0,
    "start_time": "2023-07-31T07:29:02.352Z"
   },
   {
    "duration": 0,
    "start_time": "2023-07-31T07:29:02.354Z"
   },
   {
    "duration": 0,
    "start_time": "2023-07-31T07:29:02.356Z"
   },
   {
    "duration": 0,
    "start_time": "2023-07-31T07:29:02.357Z"
   },
   {
    "duration": 0,
    "start_time": "2023-07-31T07:29:02.370Z"
   },
   {
    "duration": 0,
    "start_time": "2023-07-31T07:29:02.372Z"
   },
   {
    "duration": 0,
    "start_time": "2023-07-31T07:29:02.374Z"
   },
   {
    "duration": 0,
    "start_time": "2023-07-31T07:29:02.376Z"
   },
   {
    "duration": 0,
    "start_time": "2023-07-31T07:29:02.377Z"
   },
   {
    "duration": 0,
    "start_time": "2023-07-31T07:29:02.378Z"
   },
   {
    "duration": 0,
    "start_time": "2023-07-31T07:29:02.379Z"
   },
   {
    "duration": 0,
    "start_time": "2023-07-31T07:29:02.381Z"
   },
   {
    "duration": 0,
    "start_time": "2023-07-31T07:29:02.382Z"
   },
   {
    "duration": 0,
    "start_time": "2023-07-31T07:29:02.384Z"
   },
   {
    "duration": 0,
    "start_time": "2023-07-31T07:29:02.385Z"
   },
   {
    "duration": 0,
    "start_time": "2023-07-31T07:29:02.387Z"
   },
   {
    "duration": 0,
    "start_time": "2023-07-31T07:29:02.388Z"
   },
   {
    "duration": 0,
    "start_time": "2023-07-31T07:29:02.389Z"
   },
   {
    "duration": 0,
    "start_time": "2023-07-31T07:29:02.391Z"
   },
   {
    "duration": 0,
    "start_time": "2023-07-31T07:29:02.392Z"
   },
   {
    "duration": 0,
    "start_time": "2023-07-31T07:29:02.394Z"
   },
   {
    "duration": 0,
    "start_time": "2023-07-31T07:29:02.395Z"
   },
   {
    "duration": 0,
    "start_time": "2023-07-31T07:29:02.396Z"
   },
   {
    "duration": 21,
    "start_time": "2023-07-31T07:29:30.295Z"
   },
   {
    "duration": 33,
    "start_time": "2023-07-31T07:29:33.018Z"
   },
   {
    "duration": 34,
    "start_time": "2023-07-31T07:29:54.005Z"
   },
   {
    "duration": 72,
    "start_time": "2023-07-31T07:30:26.886Z"
   },
   {
    "duration": 386,
    "start_time": "2023-07-31T07:30:26.961Z"
   },
   {
    "duration": 10,
    "start_time": "2023-07-31T07:30:27.349Z"
   },
   {
    "duration": 27,
    "start_time": "2023-07-31T07:30:27.361Z"
   },
   {
    "duration": 28,
    "start_time": "2023-07-31T07:30:27.390Z"
   },
   {
    "duration": 41,
    "start_time": "2023-07-31T07:30:27.420Z"
   },
   {
    "duration": 10,
    "start_time": "2023-07-31T07:30:27.463Z"
   },
   {
    "duration": 28,
    "start_time": "2023-07-31T07:30:27.474Z"
   },
   {
    "duration": 18,
    "start_time": "2023-07-31T07:30:27.504Z"
   },
   {
    "duration": 50,
    "start_time": "2023-07-31T07:30:27.524Z"
   },
   {
    "duration": 9,
    "start_time": "2023-07-31T07:30:27.576Z"
   },
   {
    "duration": 31,
    "start_time": "2023-07-31T07:30:27.587Z"
   },
   {
    "duration": 24,
    "start_time": "2023-07-31T07:30:27.619Z"
   },
   {
    "duration": 45,
    "start_time": "2023-07-31T07:30:27.646Z"
   },
   {
    "duration": 289,
    "start_time": "2023-07-31T07:30:27.693Z"
   },
   {
    "duration": 13,
    "start_time": "2023-07-31T07:30:27.984Z"
   },
   {
    "duration": 21,
    "start_time": "2023-07-31T07:30:27.998Z"
   },
   {
    "duration": 24,
    "start_time": "2023-07-31T07:30:28.020Z"
   },
   {
    "duration": 41,
    "start_time": "2023-07-31T07:30:28.046Z"
   },
   {
    "duration": 32,
    "start_time": "2023-07-31T07:30:28.089Z"
   },
   {
    "duration": 0,
    "start_time": "2023-07-31T07:30:28.123Z"
   },
   {
    "duration": 0,
    "start_time": "2023-07-31T07:30:28.124Z"
   },
   {
    "duration": 0,
    "start_time": "2023-07-31T07:30:28.125Z"
   },
   {
    "duration": 0,
    "start_time": "2023-07-31T07:30:28.126Z"
   },
   {
    "duration": 0,
    "start_time": "2023-07-31T07:30:28.127Z"
   },
   {
    "duration": 0,
    "start_time": "2023-07-31T07:30:28.128Z"
   },
   {
    "duration": 0,
    "start_time": "2023-07-31T07:30:28.129Z"
   },
   {
    "duration": 0,
    "start_time": "2023-07-31T07:30:28.130Z"
   },
   {
    "duration": 0,
    "start_time": "2023-07-31T07:30:28.131Z"
   },
   {
    "duration": 0,
    "start_time": "2023-07-31T07:30:28.132Z"
   },
   {
    "duration": 0,
    "start_time": "2023-07-31T07:30:28.133Z"
   },
   {
    "duration": 0,
    "start_time": "2023-07-31T07:30:28.134Z"
   },
   {
    "duration": 0,
    "start_time": "2023-07-31T07:30:28.171Z"
   },
   {
    "duration": 0,
    "start_time": "2023-07-31T07:30:28.172Z"
   },
   {
    "duration": 0,
    "start_time": "2023-07-31T07:30:28.174Z"
   },
   {
    "duration": 0,
    "start_time": "2023-07-31T07:30:28.175Z"
   },
   {
    "duration": 0,
    "start_time": "2023-07-31T07:30:28.176Z"
   },
   {
    "duration": 0,
    "start_time": "2023-07-31T07:30:28.177Z"
   },
   {
    "duration": 0,
    "start_time": "2023-07-31T07:30:28.178Z"
   },
   {
    "duration": 0,
    "start_time": "2023-07-31T07:30:28.179Z"
   },
   {
    "duration": 0,
    "start_time": "2023-07-31T07:30:28.180Z"
   },
   {
    "duration": 0,
    "start_time": "2023-07-31T07:30:28.181Z"
   },
   {
    "duration": 0,
    "start_time": "2023-07-31T07:30:28.182Z"
   },
   {
    "duration": 0,
    "start_time": "2023-07-31T07:30:28.183Z"
   },
   {
    "duration": 0,
    "start_time": "2023-07-31T07:30:28.184Z"
   },
   {
    "duration": 0,
    "start_time": "2023-07-31T07:30:28.186Z"
   },
   {
    "duration": 0,
    "start_time": "2023-07-31T07:30:28.187Z"
   },
   {
    "duration": 0,
    "start_time": "2023-07-31T07:30:28.188Z"
   },
   {
    "duration": 0,
    "start_time": "2023-07-31T07:30:28.189Z"
   },
   {
    "duration": 0,
    "start_time": "2023-07-31T07:30:28.190Z"
   },
   {
    "duration": 0,
    "start_time": "2023-07-31T07:30:28.191Z"
   },
   {
    "duration": 0,
    "start_time": "2023-07-31T07:30:28.193Z"
   },
   {
    "duration": 0,
    "start_time": "2023-07-31T07:30:28.194Z"
   },
   {
    "duration": 37,
    "start_time": "2023-07-31T07:32:01.859Z"
   },
   {
    "duration": 33,
    "start_time": "2023-07-31T07:34:00.755Z"
   },
   {
    "duration": 8,
    "start_time": "2023-07-31T07:34:14.714Z"
   },
   {
    "duration": 516,
    "start_time": "2023-07-31T07:36:41.950Z"
   },
   {
    "duration": 10,
    "start_time": "2023-07-31T07:38:51.251Z"
   },
   {
    "duration": 16,
    "start_time": "2023-07-31T07:38:55.953Z"
   },
   {
    "duration": 17,
    "start_time": "2023-07-31T07:38:58.462Z"
   },
   {
    "duration": 17,
    "start_time": "2023-07-31T07:38:59.995Z"
   },
   {
    "duration": 133,
    "start_time": "2023-07-31T07:39:05.451Z"
   },
   {
    "duration": 45,
    "start_time": "2023-07-31T07:39:09.964Z"
   },
   {
    "duration": 434,
    "start_time": "2023-07-31T07:39:10.012Z"
   },
   {
    "duration": 11,
    "start_time": "2023-07-31T07:39:10.448Z"
   },
   {
    "duration": 23,
    "start_time": "2023-07-31T07:39:10.461Z"
   },
   {
    "duration": 31,
    "start_time": "2023-07-31T07:39:10.488Z"
   },
   {
    "duration": 58,
    "start_time": "2023-07-31T07:39:10.521Z"
   },
   {
    "duration": 10,
    "start_time": "2023-07-31T07:39:10.581Z"
   },
   {
    "duration": 36,
    "start_time": "2023-07-31T07:39:10.593Z"
   },
   {
    "duration": 21,
    "start_time": "2023-07-31T07:39:10.631Z"
   },
   {
    "duration": 56,
    "start_time": "2023-07-31T07:39:10.654Z"
   },
   {
    "duration": 12,
    "start_time": "2023-07-31T07:39:10.712Z"
   },
   {
    "duration": 24,
    "start_time": "2023-07-31T07:39:10.726Z"
   },
   {
    "duration": 43,
    "start_time": "2023-07-31T07:39:10.752Z"
   },
   {
    "duration": 44,
    "start_time": "2023-07-31T07:39:10.800Z"
   },
   {
    "duration": 327,
    "start_time": "2023-07-31T07:39:10.847Z"
   },
   {
    "duration": 12,
    "start_time": "2023-07-31T07:39:11.176Z"
   },
   {
    "duration": 48,
    "start_time": "2023-07-31T07:39:11.190Z"
   },
   {
    "duration": 13,
    "start_time": "2023-07-31T07:39:11.240Z"
   },
   {
    "duration": 12,
    "start_time": "2023-07-31T07:39:11.255Z"
   },
   {
    "duration": 27,
    "start_time": "2023-07-31T07:39:11.269Z"
   },
   {
    "duration": 188,
    "start_time": "2023-07-31T07:39:11.298Z"
   },
   {
    "duration": 180,
    "start_time": "2023-07-31T07:39:11.492Z"
   },
   {
    "duration": 15,
    "start_time": "2023-07-31T07:39:11.674Z"
   },
   {
    "duration": 34,
    "start_time": "2023-07-31T07:39:11.771Z"
   },
   {
    "duration": 15,
    "start_time": "2023-07-31T07:39:11.807Z"
   },
   {
    "duration": 33,
    "start_time": "2023-07-31T07:39:11.824Z"
   },
   {
    "duration": 13,
    "start_time": "2023-07-31T07:39:11.859Z"
   },
   {
    "duration": 30,
    "start_time": "2023-07-31T07:39:11.874Z"
   },
   {
    "duration": 27,
    "start_time": "2023-07-31T07:39:11.906Z"
   },
   {
    "duration": 21,
    "start_time": "2023-07-31T07:39:11.935Z"
   },
   {
    "duration": 5,
    "start_time": "2023-07-31T07:39:11.958Z"
   },
   {
    "duration": 24,
    "start_time": "2023-07-31T07:39:11.965Z"
   },
   {
    "duration": 31,
    "start_time": "2023-07-31T07:39:11.991Z"
   },
   {
    "duration": 6,
    "start_time": "2023-07-31T07:39:12.025Z"
   },
   {
    "duration": 28,
    "start_time": "2023-07-31T07:39:12.033Z"
   },
   {
    "duration": 23,
    "start_time": "2023-07-31T07:39:12.064Z"
   },
   {
    "duration": 4,
    "start_time": "2023-07-31T07:39:12.089Z"
   },
   {
    "duration": 20,
    "start_time": "2023-07-31T07:39:12.095Z"
   },
   {
    "duration": 24,
    "start_time": "2023-07-31T07:39:12.117Z"
   },
   {
    "duration": 4,
    "start_time": "2023-07-31T07:39:12.143Z"
   },
   {
    "duration": 23,
    "start_time": "2023-07-31T07:39:12.170Z"
   },
   {
    "duration": 11,
    "start_time": "2023-07-31T07:39:12.195Z"
   },
   {
    "duration": 14,
    "start_time": "2023-07-31T07:39:12.208Z"
   },
   {
    "duration": 8,
    "start_time": "2023-07-31T07:39:12.225Z"
   },
   {
    "duration": 9,
    "start_time": "2023-07-31T07:39:12.235Z"
   },
   {
    "duration": 5,
    "start_time": "2023-07-31T07:39:12.246Z"
   },
   {
    "duration": 22,
    "start_time": "2023-07-31T07:39:12.253Z"
   },
   {
    "duration": 1924,
    "start_time": "2023-07-31T07:39:12.278Z"
   },
   {
    "duration": 1899,
    "start_time": "2023-07-31T07:39:14.204Z"
   },
   {
    "duration": 2101,
    "start_time": "2023-07-31T07:39:16.105Z"
   },
   {
    "duration": 12,
    "start_time": "2023-07-31T07:39:18.208Z"
   },
   {
    "duration": 155,
    "start_time": "2023-07-31T07:39:18.222Z"
   },
   {
    "duration": 149,
    "start_time": "2023-07-31T07:39:18.382Z"
   },
   {
    "duration": 9,
    "start_time": "2023-07-31T07:40:42.185Z"
   },
   {
    "duration": 41,
    "start_time": "2023-07-31T07:40:56.483Z"
   },
   {
    "duration": 7,
    "start_time": "2023-07-31T07:41:05.738Z"
   },
   {
    "duration": 1736,
    "start_time": "2023-07-31T07:41:08.539Z"
   },
   {
    "duration": 1843,
    "start_time": "2023-07-31T07:42:42.821Z"
   },
   {
    "duration": 1768,
    "start_time": "2023-07-31T07:42:56.482Z"
   },
   {
    "duration": 1771,
    "start_time": "2023-07-31T07:43:03.240Z"
   },
   {
    "duration": 3,
    "start_time": "2023-07-31T07:43:11.632Z"
   },
   {
    "duration": 3,
    "start_time": "2023-07-31T07:43:18.572Z"
   },
   {
    "duration": 4,
    "start_time": "2023-07-31T07:43:32.573Z"
   },
   {
    "duration": 1773,
    "start_time": "2023-07-31T07:48:29.519Z"
   },
   {
    "duration": 2,
    "start_time": "2023-07-31T07:48:38.143Z"
   },
   {
    "duration": 4,
    "start_time": "2023-07-31T07:48:42.751Z"
   },
   {
    "duration": 9,
    "start_time": "2023-07-31T07:48:57.971Z"
   },
   {
    "duration": 10,
    "start_time": "2023-07-31T07:49:01.452Z"
   },
   {
    "duration": 7,
    "start_time": "2023-07-31T07:51:14.022Z"
   },
   {
    "duration": 1838,
    "start_time": "2023-07-31T07:51:26.135Z"
   },
   {
    "duration": 1797,
    "start_time": "2023-07-31T07:51:42.240Z"
   },
   {
    "duration": 1856,
    "start_time": "2023-07-31T07:51:48.939Z"
   },
   {
    "duration": 6,
    "start_time": "2023-07-31T07:51:55.961Z"
   },
   {
    "duration": 18,
    "start_time": "2023-07-31T07:52:58.869Z"
   },
   {
    "duration": 11,
    "start_time": "2023-07-31T07:53:35.589Z"
   },
   {
    "duration": 9,
    "start_time": "2023-07-31T07:55:45.961Z"
   },
   {
    "duration": 9,
    "start_time": "2023-07-31T07:55:48.680Z"
   },
   {
    "duration": 7,
    "start_time": "2023-07-31T07:55:52.050Z"
   },
   {
    "duration": 7,
    "start_time": "2023-07-31T07:57:00.171Z"
   },
   {
    "duration": 1774,
    "start_time": "2023-07-31T07:57:04.251Z"
   },
   {
    "duration": 1812,
    "start_time": "2023-07-31T07:57:09.272Z"
   },
   {
    "duration": 1765,
    "start_time": "2023-07-31T07:57:11.086Z"
   },
   {
    "duration": 4,
    "start_time": "2023-07-31T07:57:16.560Z"
   },
   {
    "duration": 9,
    "start_time": "2023-07-31T07:59:29.719Z"
   },
   {
    "duration": 10,
    "start_time": "2023-07-31T07:59:33.902Z"
   },
   {
    "duration": 256,
    "start_time": "2023-07-31T08:00:42.140Z"
   },
   {
    "duration": 164,
    "start_time": "2023-07-31T08:00:58.735Z"
   },
   {
    "duration": 10,
    "start_time": "2023-07-31T08:01:16.149Z"
   },
   {
    "duration": 18,
    "start_time": "2023-07-31T08:01:31.762Z"
   },
   {
    "duration": 11,
    "start_time": "2023-07-31T08:02:36.301Z"
   },
   {
    "duration": 1779,
    "start_time": "2023-07-31T08:02:39.536Z"
   },
   {
    "duration": 1889,
    "start_time": "2023-07-31T08:02:41.317Z"
   },
   {
    "duration": 1783,
    "start_time": "2023-07-31T08:02:43.209Z"
   },
   {
    "duration": 16,
    "start_time": "2023-07-31T08:02:48.190Z"
   },
   {
    "duration": 16,
    "start_time": "2023-07-31T08:03:08.270Z"
   },
   {
    "duration": 21,
    "start_time": "2023-07-31T08:03:36.252Z"
   },
   {
    "duration": 5,
    "start_time": "2023-07-31T08:03:48.880Z"
   },
   {
    "duration": 12,
    "start_time": "2023-07-31T08:04:19.150Z"
   },
   {
    "duration": 14,
    "start_time": "2023-07-31T08:04:36.958Z"
   },
   {
    "duration": 12,
    "start_time": "2023-07-31T08:05:07.387Z"
   },
   {
    "duration": 11,
    "start_time": "2023-07-31T08:05:16.040Z"
   },
   {
    "duration": 11,
    "start_time": "2023-07-31T08:05:25.200Z"
   },
   {
    "duration": 5,
    "start_time": "2023-07-31T08:06:45.539Z"
   },
   {
    "duration": 14,
    "start_time": "2023-07-31T08:07:26.290Z"
   },
   {
    "duration": 18,
    "start_time": "2023-07-31T08:07:33.169Z"
   },
   {
    "duration": 10,
    "start_time": "2023-07-31T08:07:38.551Z"
   },
   {
    "duration": 7,
    "start_time": "2023-07-31T08:11:25.521Z"
   },
   {
    "duration": 1864,
    "start_time": "2023-07-31T08:11:28.683Z"
   },
   {
    "duration": 1943,
    "start_time": "2023-07-31T08:11:30.549Z"
   },
   {
    "duration": 1966,
    "start_time": "2023-07-31T08:11:36.866Z"
   },
   {
    "duration": 13,
    "start_time": "2023-07-31T08:11:42.901Z"
   },
   {
    "duration": 7,
    "start_time": "2023-07-31T08:11:47.059Z"
   },
   {
    "duration": 6,
    "start_time": "2023-07-31T08:11:50.864Z"
   },
   {
    "duration": 13,
    "start_time": "2023-07-31T08:16:05.112Z"
   },
   {
    "duration": 13,
    "start_time": "2023-07-31T08:16:14.702Z"
   },
   {
    "duration": 13,
    "start_time": "2023-07-31T08:16:24.050Z"
   },
   {
    "duration": 23,
    "start_time": "2023-07-31T08:16:27.772Z"
   },
   {
    "duration": 13,
    "start_time": "2023-07-31T08:16:39.602Z"
   },
   {
    "duration": 8,
    "start_time": "2023-07-31T08:20:11.356Z"
   },
   {
    "duration": 1786,
    "start_time": "2023-07-31T08:20:13.495Z"
   },
   {
    "duration": 1955,
    "start_time": "2023-07-31T08:20:15.283Z"
   },
   {
    "duration": 1827,
    "start_time": "2023-07-31T08:20:17.240Z"
   },
   {
    "duration": 5,
    "start_time": "2023-07-31T08:20:24.249Z"
   },
   {
    "duration": 13,
    "start_time": "2023-07-31T08:20:51.505Z"
   },
   {
    "duration": 16,
    "start_time": "2023-07-31T08:21:13.150Z"
   },
   {
    "duration": 78,
    "start_time": "2023-07-31T08:22:14.250Z"
   },
   {
    "duration": 81,
    "start_time": "2023-07-31T08:24:07.292Z"
   },
   {
    "duration": 286,
    "start_time": "2023-07-31T08:24:58.599Z"
   },
   {
    "duration": 15,
    "start_time": "2023-07-31T08:25:17.712Z"
   },
   {
    "duration": 15,
    "start_time": "2023-07-31T08:27:03.592Z"
   },
   {
    "duration": 15,
    "start_time": "2023-07-31T08:27:20.460Z"
   },
   {
    "duration": 15,
    "start_time": "2023-07-31T08:27:30.020Z"
   },
   {
    "duration": 4,
    "start_time": "2023-07-31T08:30:40.842Z"
   },
   {
    "duration": 210,
    "start_time": "2023-07-31T08:31:28.906Z"
   },
   {
    "duration": 389,
    "start_time": "2023-07-31T08:31:29.118Z"
   },
   {
    "duration": 10,
    "start_time": "2023-07-31T08:31:29.509Z"
   },
   {
    "duration": 27,
    "start_time": "2023-07-31T08:31:29.520Z"
   },
   {
    "duration": 31,
    "start_time": "2023-07-31T08:31:29.549Z"
   },
   {
    "duration": 36,
    "start_time": "2023-07-31T08:31:29.581Z"
   },
   {
    "duration": 9,
    "start_time": "2023-07-31T08:31:29.619Z"
   },
   {
    "duration": 27,
    "start_time": "2023-07-31T08:31:29.630Z"
   },
   {
    "duration": 21,
    "start_time": "2023-07-31T08:31:29.671Z"
   },
   {
    "duration": 35,
    "start_time": "2023-07-31T08:31:29.694Z"
   },
   {
    "duration": 9,
    "start_time": "2023-07-31T08:31:29.730Z"
   },
   {
    "duration": 38,
    "start_time": "2023-07-31T08:31:29.740Z"
   },
   {
    "duration": 34,
    "start_time": "2023-07-31T08:31:29.780Z"
   },
   {
    "duration": 56,
    "start_time": "2023-07-31T08:31:29.817Z"
   },
   {
    "duration": 277,
    "start_time": "2023-07-31T08:31:29.875Z"
   },
   {
    "duration": 7,
    "start_time": "2023-07-31T08:31:30.154Z"
   },
   {
    "duration": 34,
    "start_time": "2023-07-31T08:31:30.170Z"
   },
   {
    "duration": 110,
    "start_time": "2023-07-31T08:31:30.206Z"
   },
   {
    "duration": 47,
    "start_time": "2023-07-31T08:31:30.318Z"
   },
   {
    "duration": 103,
    "start_time": "2023-07-31T08:31:30.367Z"
   },
   {
    "duration": 114,
    "start_time": "2023-07-31T08:31:30.472Z"
   },
   {
    "duration": 196,
    "start_time": "2023-07-31T08:31:30.588Z"
   },
   {
    "duration": 186,
    "start_time": "2023-07-31T08:31:30.786Z"
   },
   {
    "duration": 32,
    "start_time": "2023-07-31T08:31:30.974Z"
   },
   {
    "duration": 43,
    "start_time": "2023-07-31T08:31:31.009Z"
   },
   {
    "duration": 38,
    "start_time": "2023-07-31T08:31:31.054Z"
   },
   {
    "duration": 33,
    "start_time": "2023-07-31T08:31:31.094Z"
   },
   {
    "duration": 30,
    "start_time": "2023-07-31T08:31:31.129Z"
   },
   {
    "duration": 25,
    "start_time": "2023-07-31T08:31:31.161Z"
   },
   {
    "duration": 22,
    "start_time": "2023-07-31T08:31:31.188Z"
   },
   {
    "duration": 27,
    "start_time": "2023-07-31T08:31:31.212Z"
   },
   {
    "duration": 68,
    "start_time": "2023-07-31T08:31:31.241Z"
   },
   {
    "duration": 37,
    "start_time": "2023-07-31T08:31:31.311Z"
   },
   {
    "duration": 15,
    "start_time": "2023-07-31T08:31:31.350Z"
   },
   {
    "duration": 42,
    "start_time": "2023-07-31T08:31:31.367Z"
   },
   {
    "duration": 23,
    "start_time": "2023-07-31T08:31:31.412Z"
   },
   {
    "duration": 34,
    "start_time": "2023-07-31T08:31:31.437Z"
   },
   {
    "duration": 24,
    "start_time": "2023-07-31T08:31:31.473Z"
   },
   {
    "duration": 22,
    "start_time": "2023-07-31T08:31:31.499Z"
   },
   {
    "duration": 40,
    "start_time": "2023-07-31T08:31:31.523Z"
   },
   {
    "duration": 19,
    "start_time": "2023-07-31T08:31:31.568Z"
   },
   {
    "duration": 24,
    "start_time": "2023-07-31T08:31:31.589Z"
   },
   {
    "duration": 51,
    "start_time": "2023-07-31T08:31:31.615Z"
   },
   {
    "duration": 27,
    "start_time": "2023-07-31T08:31:31.668Z"
   },
   {
    "duration": 22,
    "start_time": "2023-07-31T08:31:31.696Z"
   },
   {
    "duration": 20,
    "start_time": "2023-07-31T08:31:31.720Z"
   },
   {
    "duration": 50,
    "start_time": "2023-07-31T08:31:31.742Z"
   },
   {
    "duration": 1815,
    "start_time": "2023-07-31T08:31:31.794Z"
   },
   {
    "duration": 1862,
    "start_time": "2023-07-31T08:31:33.610Z"
   },
   {
    "duration": 1835,
    "start_time": "2023-07-31T08:31:35.474Z"
   },
   {
    "duration": 3,
    "start_time": "2023-07-31T08:31:37.311Z"
   },
   {
    "duration": 16,
    "start_time": "2023-07-31T08:31:37.316Z"
   },
   {
    "duration": 156,
    "start_time": "2023-07-31T08:31:37.334Z"
   },
   {
    "duration": 111,
    "start_time": "2023-07-31T08:31:37.492Z"
   },
   {
    "duration": 4,
    "start_time": "2023-07-31T08:31:58.173Z"
   },
   {
    "duration": 18,
    "start_time": "2023-07-31T08:32:41.258Z"
   },
   {
    "duration": 14,
    "start_time": "2023-07-31T08:33:01.450Z"
   },
   {
    "duration": 14,
    "start_time": "2023-07-31T08:33:38.374Z"
   },
   {
    "duration": 14,
    "start_time": "2023-07-31T08:33:42.763Z"
   },
   {
    "duration": 13,
    "start_time": "2023-07-31T08:33:51.690Z"
   },
   {
    "duration": 17,
    "start_time": "2023-07-31T08:34:13.573Z"
   },
   {
    "duration": 151,
    "start_time": "2023-07-31T08:34:19.672Z"
   },
   {
    "duration": 103,
    "start_time": "2023-07-31T08:34:32.354Z"
   },
   {
    "duration": 1692,
    "start_time": "2023-07-31T11:45:36.577Z"
   },
   {
    "duration": 911,
    "start_time": "2023-07-31T11:45:38.271Z"
   },
   {
    "duration": 12,
    "start_time": "2023-07-31T11:45:39.183Z"
   },
   {
    "duration": 42,
    "start_time": "2023-07-31T11:45:39.197Z"
   },
   {
    "duration": 66,
    "start_time": "2023-07-31T11:45:39.244Z"
   },
   {
    "duration": 38,
    "start_time": "2023-07-31T11:45:39.311Z"
   },
   {
    "duration": 24,
    "start_time": "2023-07-31T11:45:39.350Z"
   },
   {
    "duration": 22,
    "start_time": "2023-07-31T11:45:39.376Z"
   },
   {
    "duration": 17,
    "start_time": "2023-07-31T11:45:39.400Z"
   },
   {
    "duration": 57,
    "start_time": "2023-07-31T11:45:39.419Z"
   },
   {
    "duration": 10,
    "start_time": "2023-07-31T11:45:39.477Z"
   },
   {
    "duration": 16,
    "start_time": "2023-07-31T11:45:39.488Z"
   },
   {
    "duration": 32,
    "start_time": "2023-07-31T11:45:39.505Z"
   },
   {
    "duration": 40,
    "start_time": "2023-07-31T11:45:39.543Z"
   },
   {
    "duration": 285,
    "start_time": "2023-07-31T11:45:39.585Z"
   },
   {
    "duration": 9,
    "start_time": "2023-07-31T11:45:39.871Z"
   },
   {
    "duration": 22,
    "start_time": "2023-07-31T11:45:39.882Z"
   },
   {
    "duration": 37,
    "start_time": "2023-07-31T11:45:39.906Z"
   },
   {
    "duration": 15,
    "start_time": "2023-07-31T11:45:39.954Z"
   },
   {
    "duration": 91,
    "start_time": "2023-07-31T11:45:39.971Z"
   },
   {
    "duration": 89,
    "start_time": "2023-07-31T11:45:40.064Z"
   },
   {
    "duration": 184,
    "start_time": "2023-07-31T11:45:40.154Z"
   },
   {
    "duration": 94,
    "start_time": "2023-07-31T11:45:40.343Z"
   },
   {
    "duration": 34,
    "start_time": "2023-07-31T11:45:40.442Z"
   },
   {
    "duration": 7,
    "start_time": "2023-07-31T11:45:40.477Z"
   },
   {
    "duration": 9,
    "start_time": "2023-07-31T11:45:40.486Z"
   },
   {
    "duration": 5,
    "start_time": "2023-07-31T11:45:40.496Z"
   },
   {
    "duration": 4,
    "start_time": "2023-07-31T11:45:40.503Z"
   },
   {
    "duration": 31,
    "start_time": "2023-07-31T11:45:40.529Z"
   },
   {
    "duration": 12,
    "start_time": "2023-07-31T11:45:40.562Z"
   },
   {
    "duration": 3,
    "start_time": "2023-07-31T11:45:40.575Z"
   },
   {
    "duration": 14,
    "start_time": "2023-07-31T11:45:40.580Z"
   },
   {
    "duration": 12,
    "start_time": "2023-07-31T11:45:40.596Z"
   },
   {
    "duration": 3,
    "start_time": "2023-07-31T11:45:40.610Z"
   },
   {
    "duration": 52,
    "start_time": "2023-07-31T11:45:40.614Z"
   },
   {
    "duration": 15,
    "start_time": "2023-07-31T11:45:40.667Z"
   },
   {
    "duration": 4,
    "start_time": "2023-07-31T11:45:40.683Z"
   },
   {
    "duration": 8,
    "start_time": "2023-07-31T11:45:40.689Z"
   },
   {
    "duration": 10,
    "start_time": "2023-07-31T11:45:40.698Z"
   },
   {
    "duration": 3,
    "start_time": "2023-07-31T11:45:40.710Z"
   },
   {
    "duration": 44,
    "start_time": "2023-07-31T11:45:40.716Z"
   },
   {
    "duration": 10,
    "start_time": "2023-07-31T11:45:40.761Z"
   },
   {
    "duration": 13,
    "start_time": "2023-07-31T11:45:40.773Z"
   },
   {
    "duration": 9,
    "start_time": "2023-07-31T11:45:40.788Z"
   },
   {
    "duration": 6,
    "start_time": "2023-07-31T11:45:40.798Z"
   },
   {
    "duration": 3,
    "start_time": "2023-07-31T11:45:40.806Z"
   },
   {
    "duration": 15,
    "start_time": "2023-07-31T11:45:40.810Z"
   },
   {
    "duration": 1621,
    "start_time": "2023-07-31T11:45:40.836Z"
   },
   {
    "duration": 1432,
    "start_time": "2023-07-31T11:45:42.465Z"
   },
   {
    "duration": 1463,
    "start_time": "2023-07-31T11:45:43.899Z"
   },
   {
    "duration": 18,
    "start_time": "2023-07-31T11:45:45.364Z"
   },
   {
    "duration": 168,
    "start_time": "2023-07-31T11:45:45.384Z"
   },
   {
    "duration": 118,
    "start_time": "2023-07-31T11:45:45.554Z"
   },
   {
    "duration": 9,
    "start_time": "2023-07-31T11:49:51.938Z"
   },
   {
    "duration": 1596,
    "start_time": "2023-07-31T11:50:04.193Z"
   },
   {
    "duration": 1569,
    "start_time": "2023-07-31T11:50:20.400Z"
   },
   {
    "duration": 1613,
    "start_time": "2023-07-31T11:50:24.560Z"
   },
   {
    "duration": 14,
    "start_time": "2023-07-31T11:50:29.293Z"
   },
   {
    "duration": 5,
    "start_time": "2023-07-31T12:01:32.261Z"
   },
   {
    "duration": 4,
    "start_time": "2023-07-31T12:02:24.010Z"
   },
   {
    "duration": 4,
    "start_time": "2023-07-31T12:05:04.294Z"
   },
   {
    "duration": 138,
    "start_time": "2023-07-31T12:05:42.452Z"
   },
   {
    "duration": 4,
    "start_time": "2023-07-31T12:05:48.892Z"
   },
   {
    "duration": 12,
    "start_time": "2023-07-31T12:05:51.080Z"
   },
   {
    "duration": 3,
    "start_time": "2023-07-31T12:07:42.502Z"
   },
   {
    "duration": 25,
    "start_time": "2023-07-31T12:07:44.340Z"
   },
   {
    "duration": 4,
    "start_time": "2023-07-31T12:08:07.412Z"
   },
   {
    "duration": 6,
    "start_time": "2023-07-31T12:08:10.652Z"
   },
   {
    "duration": 6,
    "start_time": "2023-07-31T12:08:16.248Z"
   },
   {
    "duration": 14,
    "start_time": "2023-07-31T12:08:20.441Z"
   },
   {
    "duration": 5,
    "start_time": "2023-07-31T12:08:29.892Z"
   },
   {
    "duration": 6,
    "start_time": "2023-07-31T12:08:32.875Z"
   },
   {
    "duration": 11,
    "start_time": "2023-07-31T12:16:03.838Z"
   },
   {
    "duration": 8,
    "start_time": "2023-07-31T12:16:07.785Z"
   },
   {
    "duration": 11,
    "start_time": "2023-07-31T12:16:14.165Z"
   },
   {
    "duration": 4,
    "start_time": "2023-07-31T12:16:17.105Z"
   },
   {
    "duration": 5,
    "start_time": "2023-07-31T12:16:39.246Z"
   },
   {
    "duration": 4,
    "start_time": "2023-07-31T12:17:59.764Z"
   },
   {
    "duration": 25,
    "start_time": "2023-07-31T12:18:01.305Z"
   },
   {
    "duration": 4,
    "start_time": "2023-07-31T12:18:13.603Z"
   },
   {
    "duration": 6,
    "start_time": "2023-07-31T12:18:14.958Z"
   },
   {
    "duration": 7,
    "start_time": "2023-07-31T12:18:18.971Z"
   },
   {
    "duration": 7,
    "start_time": "2023-07-31T12:18:27.239Z"
   },
   {
    "duration": 5,
    "start_time": "2023-07-31T12:18:30.276Z"
   },
   {
    "duration": 10,
    "start_time": "2023-07-31T12:18:33.754Z"
   },
   {
    "duration": 4074,
    "start_time": "2023-07-31T12:18:40.083Z"
   },
   {
    "duration": 7,
    "start_time": "2023-07-31T12:18:54.503Z"
   },
   {
    "duration": 9,
    "start_time": "2023-07-31T12:18:59.356Z"
   },
   {
    "duration": 10,
    "start_time": "2023-07-31T12:19:01.664Z"
   },
   {
    "duration": 4,
    "start_time": "2023-07-31T12:19:52.183Z"
   },
   {
    "duration": 2,
    "start_time": "2023-07-31T12:20:11.193Z"
   },
   {
    "duration": 5,
    "start_time": "2023-07-31T12:20:18.262Z"
   },
   {
    "duration": 3529,
    "start_time": "2023-07-31T12:20:25.111Z"
   },
   {
    "duration": 3,
    "start_time": "2023-07-31T12:21:01.050Z"
   },
   {
    "duration": 5,
    "start_time": "2023-07-31T12:21:06.301Z"
   },
   {
    "duration": 6,
    "start_time": "2023-07-31T12:23:20.642Z"
   },
   {
    "duration": 5,
    "start_time": "2023-07-31T12:23:22.281Z"
   },
   {
    "duration": 2,
    "start_time": "2023-07-31T12:23:23.700Z"
   },
   {
    "duration": 5,
    "start_time": "2023-07-31T12:23:25.220Z"
   },
   {
    "duration": 3,
    "start_time": "2023-07-31T12:23:28.178Z"
   },
   {
    "duration": 5,
    "start_time": "2023-07-31T12:23:30.354Z"
   },
   {
    "duration": 6,
    "start_time": "2023-07-31T12:23:32.235Z"
   },
   {
    "duration": 4,
    "start_time": "2023-07-31T12:26:38.906Z"
   },
   {
    "duration": 5,
    "start_time": "2023-07-31T12:26:48.350Z"
   },
   {
    "duration": 6,
    "start_time": "2023-07-31T12:30:42.449Z"
   },
   {
    "duration": 6,
    "start_time": "2023-07-31T12:31:01.685Z"
   },
   {
    "duration": 9,
    "start_time": "2023-07-31T12:32:05.217Z"
   },
   {
    "duration": 1156,
    "start_time": "2023-07-31T12:33:22.048Z"
   },
   {
    "duration": 1113,
    "start_time": "2023-07-31T12:33:30.459Z"
   },
   {
    "duration": 1173,
    "start_time": "2023-07-31T12:33:34.346Z"
   },
   {
    "duration": 4,
    "start_time": "2023-07-31T12:40:42.986Z"
   },
   {
    "duration": 121,
    "start_time": "2023-07-31T12:40:51.695Z"
   },
   {
    "duration": 1269,
    "start_time": "2023-07-31T12:40:54.395Z"
   },
   {
    "duration": 11,
    "start_time": "2023-07-31T12:46:54.550Z"
   },
   {
    "duration": 3,
    "start_time": "2023-07-31T12:46:59.670Z"
   },
   {
    "duration": 4,
    "start_time": "2023-07-31T12:47:09.307Z"
   },
   {
    "duration": 27,
    "start_time": "2023-07-31T12:47:28.418Z"
   },
   {
    "duration": 3,
    "start_time": "2023-07-31T12:48:59.257Z"
   },
   {
    "duration": 3,
    "start_time": "2023-07-31T12:49:13.576Z"
   },
   {
    "duration": 5,
    "start_time": "2023-07-31T12:49:22.750Z"
   },
   {
    "duration": 19,
    "start_time": "2023-07-31T12:55:36.368Z"
   },
   {
    "duration": 284,
    "start_time": "2023-07-31T12:56:31.681Z"
   },
   {
    "duration": 3041,
    "start_time": "2023-07-31T12:56:37.870Z"
   },
   {
    "duration": 9,
    "start_time": "2023-07-31T12:56:52.266Z"
   },
   {
    "duration": 13,
    "start_time": "2023-07-31T12:56:58.455Z"
   },
   {
    "duration": 6,
    "start_time": "2023-07-31T12:57:20.656Z"
   },
   {
    "duration": 22,
    "start_time": "2023-07-31T12:57:25.159Z"
   },
   {
    "duration": 12,
    "start_time": "2023-07-31T12:57:59.206Z"
   },
   {
    "duration": 17,
    "start_time": "2023-07-31T12:58:00.336Z"
   },
   {
    "duration": 18,
    "start_time": "2023-07-31T12:58:52.715Z"
   },
   {
    "duration": 9,
    "start_time": "2023-07-31T12:59:40.876Z"
   },
   {
    "duration": 10,
    "start_time": "2023-07-31T12:59:41.453Z"
   },
   {
    "duration": 8,
    "start_time": "2023-07-31T12:59:41.999Z"
   },
   {
    "duration": 5,
    "start_time": "2023-07-31T13:00:30.396Z"
   },
   {
    "duration": 4,
    "start_time": "2023-07-31T13:00:36.298Z"
   },
   {
    "duration": 24,
    "start_time": "2023-07-31T13:03:36.135Z"
   },
   {
    "duration": 18,
    "start_time": "2023-07-31T13:04:10.143Z"
   },
   {
    "duration": 13,
    "start_time": "2023-07-31T13:05:10.388Z"
   },
   {
    "duration": 14,
    "start_time": "2023-07-31T13:06:42.048Z"
   },
   {
    "duration": 4,
    "start_time": "2023-07-31T13:07:53.157Z"
   },
   {
    "duration": 6,
    "start_time": "2023-07-31T13:07:57.450Z"
   },
   {
    "duration": 10,
    "start_time": "2023-07-31T13:10:19.051Z"
   },
   {
    "duration": 5,
    "start_time": "2023-07-31T13:10:19.705Z"
   },
   {
    "duration": 9,
    "start_time": "2023-07-31T13:10:20.498Z"
   },
   {
    "duration": 11,
    "start_time": "2023-07-31T13:10:21.099Z"
   },
   {
    "duration": 18,
    "start_time": "2023-07-31T13:10:22.150Z"
   },
   {
    "duration": 13,
    "start_time": "2023-07-31T13:11:23.389Z"
   },
   {
    "duration": 11,
    "start_time": "2023-07-31T13:11:51.765Z"
   },
   {
    "duration": 12,
    "start_time": "2023-07-31T13:12:02.084Z"
   },
   {
    "duration": 17,
    "start_time": "2023-07-31T13:12:30.432Z"
   },
   {
    "duration": 17,
    "start_time": "2023-07-31T13:14:30.938Z"
   },
   {
    "duration": 11,
    "start_time": "2023-07-31T13:18:28.397Z"
   },
   {
    "duration": 11,
    "start_time": "2023-07-31T13:20:39.705Z"
   },
   {
    "duration": 15,
    "start_time": "2023-07-31T13:20:47.149Z"
   },
   {
    "duration": 15,
    "start_time": "2023-07-31T13:21:25.799Z"
   },
   {
    "duration": 5,
    "start_time": "2023-07-31T13:21:45.097Z"
   },
   {
    "duration": 19,
    "start_time": "2023-07-31T13:22:12.240Z"
   },
   {
    "duration": 10,
    "start_time": "2023-07-31T13:23:05.857Z"
   },
   {
    "duration": 11,
    "start_time": "2023-07-31T13:28:00.468Z"
   },
   {
    "duration": 5,
    "start_time": "2023-07-31T13:28:36.966Z"
   },
   {
    "duration": 9,
    "start_time": "2023-07-31T13:28:54.999Z"
   },
   {
    "duration": 11,
    "start_time": "2023-07-31T13:29:00.734Z"
   },
   {
    "duration": 7,
    "start_time": "2023-07-31T13:29:05.504Z"
   },
   {
    "duration": 7,
    "start_time": "2023-07-31T13:30:49.159Z"
   },
   {
    "duration": 74,
    "start_time": "2023-07-31T13:33:34.505Z"
   },
   {
    "duration": 460,
    "start_time": "2023-07-31T13:33:34.581Z"
   },
   {
    "duration": 9,
    "start_time": "2023-07-31T13:33:35.055Z"
   },
   {
    "duration": 35,
    "start_time": "2023-07-31T13:33:35.066Z"
   },
   {
    "duration": 41,
    "start_time": "2023-07-31T13:33:35.103Z"
   },
   {
    "duration": 58,
    "start_time": "2023-07-31T13:33:35.153Z"
   },
   {
    "duration": 60,
    "start_time": "2023-07-31T13:33:35.214Z"
   },
   {
    "duration": 87,
    "start_time": "2023-07-31T13:33:35.276Z"
   },
   {
    "duration": 40,
    "start_time": "2023-07-31T13:33:35.364Z"
   },
   {
    "duration": 89,
    "start_time": "2023-07-31T13:33:35.406Z"
   },
   {
    "duration": 44,
    "start_time": "2023-07-31T13:33:35.498Z"
   },
   {
    "duration": 54,
    "start_time": "2023-07-31T13:33:35.553Z"
   },
   {
    "duration": 48,
    "start_time": "2023-07-31T13:33:35.610Z"
   },
   {
    "duration": 40,
    "start_time": "2023-07-31T13:33:35.662Z"
   },
   {
    "duration": 264,
    "start_time": "2023-07-31T13:33:35.704Z"
   },
   {
    "duration": 7,
    "start_time": "2023-07-31T13:33:35.970Z"
   },
   {
    "duration": 28,
    "start_time": "2023-07-31T13:33:35.978Z"
   },
   {
    "duration": 37,
    "start_time": "2023-07-31T13:33:36.007Z"
   },
   {
    "duration": 40,
    "start_time": "2023-07-31T13:33:36.054Z"
   },
   {
    "duration": 22,
    "start_time": "2023-07-31T13:33:36.096Z"
   },
   {
    "duration": 125,
    "start_time": "2023-07-31T13:33:36.128Z"
   },
   {
    "duration": 138,
    "start_time": "2023-07-31T13:33:36.320Z"
   },
   {
    "duration": 69,
    "start_time": "2023-07-31T13:33:36.464Z"
   },
   {
    "duration": 28,
    "start_time": "2023-07-31T13:33:36.538Z"
   },
   {
    "duration": 89,
    "start_time": "2023-07-31T13:33:36.570Z"
   },
   {
    "duration": 5,
    "start_time": "2023-07-31T13:33:36.660Z"
   },
   {
    "duration": 7,
    "start_time": "2023-07-31T13:33:36.667Z"
   },
   {
    "duration": 10,
    "start_time": "2023-07-31T13:33:36.675Z"
   },
   {
    "duration": 21,
    "start_time": "2023-07-31T13:33:36.686Z"
   },
   {
    "duration": 19,
    "start_time": "2023-07-31T13:33:36.709Z"
   },
   {
    "duration": 30,
    "start_time": "2023-07-31T13:33:36.730Z"
   },
   {
    "duration": 16,
    "start_time": "2023-07-31T13:33:36.762Z"
   },
   {
    "duration": 23,
    "start_time": "2023-07-31T13:33:36.779Z"
   },
   {
    "duration": 4,
    "start_time": "2023-07-31T13:33:36.803Z"
   },
   {
    "duration": 29,
    "start_time": "2023-07-31T13:33:36.808Z"
   },
   {
    "duration": 13,
    "start_time": "2023-07-31T13:33:36.846Z"
   },
   {
    "duration": 4,
    "start_time": "2023-07-31T13:33:36.861Z"
   },
   {
    "duration": 7,
    "start_time": "2023-07-31T13:33:36.867Z"
   },
   {
    "duration": 26,
    "start_time": "2023-07-31T13:33:36.876Z"
   },
   {
    "duration": 4,
    "start_time": "2023-07-31T13:33:36.904Z"
   },
   {
    "duration": 4,
    "start_time": "2023-07-31T13:33:36.913Z"
   },
   {
    "duration": 39,
    "start_time": "2023-07-31T13:33:36.920Z"
   },
   {
    "duration": 13,
    "start_time": "2023-07-31T13:33:36.961Z"
   },
   {
    "duration": 7,
    "start_time": "2023-07-31T13:33:36.975Z"
   },
   {
    "duration": 9,
    "start_time": "2023-07-31T13:33:36.984Z"
   },
   {
    "duration": 6,
    "start_time": "2023-07-31T13:33:36.995Z"
   },
   {
    "duration": 9,
    "start_time": "2023-07-31T13:33:37.003Z"
   },
   {
    "duration": 1591,
    "start_time": "2023-07-31T13:33:37.014Z"
   },
   {
    "duration": 1451,
    "start_time": "2023-07-31T13:33:38.606Z"
   },
   {
    "duration": 1449,
    "start_time": "2023-07-31T13:33:40.059Z"
   },
   {
    "duration": 47,
    "start_time": "2023-07-31T13:33:41.510Z"
   },
   {
    "duration": 131,
    "start_time": "2023-07-31T13:33:41.559Z"
   },
   {
    "duration": 89,
    "start_time": "2023-07-31T13:33:41.691Z"
   },
   {
    "duration": 10,
    "start_time": "2023-07-31T13:33:41.782Z"
   },
   {
    "duration": 40,
    "start_time": "2023-07-31T13:33:41.793Z"
   },
   {
    "duration": 24,
    "start_time": "2023-07-31T13:33:41.834Z"
   },
   {
    "duration": 10,
    "start_time": "2023-07-31T13:33:41.860Z"
   },
   {
    "duration": 20,
    "start_time": "2023-07-31T13:33:41.872Z"
   },
   {
    "duration": 11,
    "start_time": "2023-07-31T13:38:01.689Z"
   },
   {
    "duration": 9,
    "start_time": "2023-07-31T13:38:40.476Z"
   },
   {
    "duration": 4,
    "start_time": "2023-07-31T13:39:08.559Z"
   },
   {
    "duration": 14,
    "start_time": "2023-07-31T13:39:16.015Z"
   },
   {
    "duration": 10,
    "start_time": "2023-07-31T13:42:10.977Z"
   },
   {
    "duration": 14,
    "start_time": "2023-07-31T13:42:27.393Z"
   },
   {
    "duration": 9,
    "start_time": "2023-07-31T13:43:08.533Z"
   },
   {
    "duration": 12,
    "start_time": "2023-07-31T13:43:25.005Z"
   },
   {
    "duration": 6,
    "start_time": "2023-07-31T13:43:28.841Z"
   },
   {
    "duration": 8,
    "start_time": "2023-07-31T13:43:32.098Z"
   },
   {
    "duration": 15,
    "start_time": "2023-07-31T13:43:32.746Z"
   },
   {
    "duration": 19,
    "start_time": "2023-07-31T13:43:35.117Z"
   },
   {
    "duration": 11,
    "start_time": "2023-07-31T13:44:09.280Z"
   },
   {
    "duration": 4,
    "start_time": "2023-07-31T13:44:23.058Z"
   },
   {
    "duration": 4,
    "start_time": "2023-07-31T13:45:39.786Z"
   },
   {
    "duration": 9,
    "start_time": "2023-07-31T13:46:50.798Z"
   },
   {
    "duration": 5,
    "start_time": "2023-07-31T13:47:06.356Z"
   },
   {
    "duration": 10,
    "start_time": "2023-07-31T13:47:34.750Z"
   },
   {
    "duration": 4,
    "start_time": "2023-07-31T13:47:37.107Z"
   },
   {
    "duration": 10,
    "start_time": "2023-07-31T13:48:10.985Z"
   },
   {
    "duration": 10,
    "start_time": "2023-07-31T13:48:13.506Z"
   },
   {
    "duration": 5,
    "start_time": "2023-07-31T13:48:14.048Z"
   },
   {
    "duration": 11,
    "start_time": "2023-07-31T13:48:46.796Z"
   },
   {
    "duration": 11,
    "start_time": "2023-07-31T13:48:47.496Z"
   },
   {
    "duration": 9,
    "start_time": "2023-07-31T13:48:48.057Z"
   },
   {
    "duration": 20,
    "start_time": "2023-07-31T13:48:49.940Z"
   },
   {
    "duration": 12,
    "start_time": "2023-07-31T13:48:52.379Z"
   },
   {
    "duration": 3,
    "start_time": "2023-07-31T13:48:55.077Z"
   },
   {
    "duration": 10,
    "start_time": "2023-07-31T13:48:56.055Z"
   },
   {
    "duration": 4,
    "start_time": "2023-07-31T13:48:57.256Z"
   },
   {
    "duration": 9,
    "start_time": "2023-07-31T13:48:58.589Z"
   },
   {
    "duration": 4,
    "start_time": "2023-07-31T13:49:00.247Z"
   },
   {
    "duration": 12,
    "start_time": "2023-07-31T13:51:48.707Z"
   },
   {
    "duration": 4,
    "start_time": "2023-07-31T13:53:23.846Z"
   },
   {
    "duration": 15,
    "start_time": "2023-07-31T13:53:25.338Z"
   },
   {
    "duration": 8,
    "start_time": "2023-07-31T13:53:48.946Z"
   },
   {
    "duration": 5,
    "start_time": "2023-07-31T13:53:49.446Z"
   },
   {
    "duration": 6,
    "start_time": "2023-07-31T13:53:49.949Z"
   },
   {
    "duration": 4,
    "start_time": "2023-07-31T13:53:50.396Z"
   },
   {
    "duration": 6,
    "start_time": "2023-07-31T13:53:50.797Z"
   },
   {
    "duration": 3,
    "start_time": "2023-07-31T13:53:51.306Z"
   },
   {
    "duration": 11,
    "start_time": "2023-07-31T13:53:52.476Z"
   },
   {
    "duration": 315,
    "start_time": "2023-07-31T13:56:12.138Z"
   },
   {
    "duration": 316,
    "start_time": "2023-07-31T13:59:15.942Z"
   },
   {
    "duration": 33,
    "start_time": "2023-07-31T14:00:33.608Z"
   },
   {
    "duration": 12,
    "start_time": "2023-07-31T14:00:53.941Z"
   },
   {
    "duration": 300,
    "start_time": "2023-07-31T14:00:56.977Z"
   },
   {
    "duration": 291,
    "start_time": "2023-07-31T14:02:43.704Z"
   },
   {
    "duration": 4819,
    "start_time": "2023-07-31T14:04:30.957Z"
   },
   {
    "duration": 222,
    "start_time": "2023-07-31T14:05:14.884Z"
   },
   {
    "duration": 209,
    "start_time": "2023-07-31T14:05:28.989Z"
   },
   {
    "duration": 221,
    "start_time": "2023-07-31T14:05:34.586Z"
   },
   {
    "duration": 320,
    "start_time": "2023-07-31T14:05:59.544Z"
   },
   {
    "duration": 426,
    "start_time": "2023-07-31T14:06:15.306Z"
   },
   {
    "duration": 320,
    "start_time": "2023-07-31T14:11:42.705Z"
   },
   {
    "duration": 441,
    "start_time": "2023-07-31T14:11:49.797Z"
   },
   {
    "duration": 11,
    "start_time": "2023-07-31T14:16:03.755Z"
   },
   {
    "duration": 15,
    "start_time": "2023-07-31T14:16:11.951Z"
   },
   {
    "duration": 11,
    "start_time": "2023-07-31T14:16:52.485Z"
   },
   {
    "duration": 203,
    "start_time": "2023-07-31T14:18:23.275Z"
   },
   {
    "duration": 225,
    "start_time": "2023-07-31T14:18:34.638Z"
   },
   {
    "duration": 227,
    "start_time": "2023-07-31T14:19:42.378Z"
   },
   {
    "duration": 19,
    "start_time": "2023-07-31T14:20:37.835Z"
   },
   {
    "duration": 288,
    "start_time": "2023-07-31T14:22:02.296Z"
   },
   {
    "duration": 212,
    "start_time": "2023-07-31T14:23:06.084Z"
   },
   {
    "duration": 216,
    "start_time": "2023-07-31T14:23:09.584Z"
   },
   {
    "duration": 219,
    "start_time": "2023-07-31T14:23:14.486Z"
   },
   {
    "duration": 226,
    "start_time": "2023-07-31T14:23:18.676Z"
   },
   {
    "duration": 244,
    "start_time": "2023-07-31T14:25:56.615Z"
   },
   {
    "duration": 187,
    "start_time": "2023-07-31T14:26:46.058Z"
   },
   {
    "duration": 7,
    "start_time": "2023-07-31T14:32:53.986Z"
   },
   {
    "duration": 7,
    "start_time": "2023-07-31T14:32:59.264Z"
   },
   {
    "duration": 11,
    "start_time": "2023-07-31T14:33:06.064Z"
   },
   {
    "duration": 12,
    "start_time": "2023-07-31T14:33:27.596Z"
   },
   {
    "duration": 15,
    "start_time": "2023-07-31T14:33:36.846Z"
   },
   {
    "duration": 18,
    "start_time": "2023-07-31T14:34:23.540Z"
   },
   {
    "duration": 11,
    "start_time": "2023-07-31T14:34:41.686Z"
   },
   {
    "duration": 263,
    "start_time": "2023-07-31T14:35:26.787Z"
   },
   {
    "duration": 168,
    "start_time": "2023-07-31T14:35:44.543Z"
   },
   {
    "duration": 155,
    "start_time": "2023-07-31T14:36:32.495Z"
   },
   {
    "duration": 119,
    "start_time": "2023-07-31T14:36:54.676Z"
   },
   {
    "duration": 148,
    "start_time": "2023-07-31T14:37:38.547Z"
   },
   {
    "duration": 184,
    "start_time": "2023-07-31T14:38:30.459Z"
   },
   {
    "duration": 112,
    "start_time": "2023-07-31T14:40:51.442Z"
   },
   {
    "duration": 138,
    "start_time": "2023-07-31T14:40:55.841Z"
   },
   {
    "duration": 95,
    "start_time": "2023-07-31T14:41:06.486Z"
   },
   {
    "duration": 180,
    "start_time": "2023-07-31T14:41:21.017Z"
   },
   {
    "duration": 183,
    "start_time": "2023-07-31T14:42:04.198Z"
   },
   {
    "duration": 189,
    "start_time": "2023-07-31T14:42:11.757Z"
   },
   {
    "duration": 175,
    "start_time": "2023-07-31T14:42:19.197Z"
   },
   {
    "duration": 149,
    "start_time": "2023-07-31T14:42:37.905Z"
   },
   {
    "duration": 180,
    "start_time": "2023-07-31T14:43:48.879Z"
   },
   {
    "duration": 14,
    "start_time": "2023-07-31T14:44:08.939Z"
   },
   {
    "duration": 200,
    "start_time": "2023-07-31T14:44:12.167Z"
   },
   {
    "duration": 239,
    "start_time": "2023-07-31T14:45:21.306Z"
   },
   {
    "duration": 178,
    "start_time": "2023-07-31T14:45:30.275Z"
   },
   {
    "duration": 95,
    "start_time": "2023-07-31T14:46:49.852Z"
   },
   {
    "duration": 172,
    "start_time": "2023-07-31T14:46:55.139Z"
   },
   {
    "duration": 203,
    "start_time": "2023-07-31T14:47:18.851Z"
   },
   {
    "duration": 12,
    "start_time": "2023-07-31T14:47:25.969Z"
   },
   {
    "duration": 205,
    "start_time": "2023-07-31T14:47:27.798Z"
   },
   {
    "duration": 244,
    "start_time": "2023-07-31T14:47:39.050Z"
   },
   {
    "duration": 191,
    "start_time": "2023-07-31T14:47:43.850Z"
   },
   {
    "duration": 217,
    "start_time": "2023-07-31T14:47:47.157Z"
   },
   {
    "duration": 198,
    "start_time": "2023-07-31T14:47:51.659Z"
   },
   {
    "duration": 13,
    "start_time": "2023-07-31T14:49:16.385Z"
   },
   {
    "duration": 16,
    "start_time": "2023-07-31T14:49:25.867Z"
   },
   {
    "duration": 203,
    "start_time": "2023-07-31T14:52:05.850Z"
   },
   {
    "duration": 1738,
    "start_time": "2023-08-01T08:27:12.363Z"
   },
   {
    "duration": 1576,
    "start_time": "2023-08-01T08:27:14.104Z"
   },
   {
    "duration": 13,
    "start_time": "2023-08-01T08:27:15.682Z"
   },
   {
    "duration": 30,
    "start_time": "2023-08-01T08:27:15.697Z"
   },
   {
    "duration": 59,
    "start_time": "2023-08-01T08:27:15.729Z"
   },
   {
    "duration": 38,
    "start_time": "2023-08-01T08:27:15.789Z"
   },
   {
    "duration": 8,
    "start_time": "2023-08-01T08:27:15.829Z"
   },
   {
    "duration": 32,
    "start_time": "2023-08-01T08:27:15.839Z"
   },
   {
    "duration": 22,
    "start_time": "2023-08-01T08:27:15.873Z"
   },
   {
    "duration": 34,
    "start_time": "2023-08-01T08:27:15.897Z"
   },
   {
    "duration": 29,
    "start_time": "2023-08-01T08:27:15.932Z"
   },
   {
    "duration": 16,
    "start_time": "2023-08-01T08:27:15.963Z"
   },
   {
    "duration": 21,
    "start_time": "2023-08-01T08:27:15.980Z"
   },
   {
    "duration": 62,
    "start_time": "2023-08-01T08:27:16.004Z"
   },
   {
    "duration": 328,
    "start_time": "2023-08-01T08:27:16.068Z"
   },
   {
    "duration": 10,
    "start_time": "2023-08-01T08:27:16.399Z"
   },
   {
    "duration": 16,
    "start_time": "2023-08-01T08:27:16.411Z"
   },
   {
    "duration": 30,
    "start_time": "2023-08-01T08:27:16.429Z"
   },
   {
    "duration": 16,
    "start_time": "2023-08-01T08:27:16.461Z"
   },
   {
    "duration": 180,
    "start_time": "2023-08-01T08:27:16.479Z"
   },
   {
    "duration": 104,
    "start_time": "2023-08-01T08:27:16.661Z"
   },
   {
    "duration": 104,
    "start_time": "2023-08-01T08:27:16.767Z"
   },
   {
    "duration": 5,
    "start_time": "2023-08-01T08:27:16.960Z"
   },
   {
    "duration": 102,
    "start_time": "2023-08-01T08:27:16.967Z"
   },
   {
    "duration": 5,
    "start_time": "2023-08-01T08:27:17.070Z"
   },
   {
    "duration": 25,
    "start_time": "2023-08-01T08:27:17.076Z"
   },
   {
    "duration": 22,
    "start_time": "2023-08-01T08:27:17.103Z"
   },
   {
    "duration": 5,
    "start_time": "2023-08-01T08:27:17.126Z"
   },
   {
    "duration": 14,
    "start_time": "2023-08-01T08:27:17.133Z"
   },
   {
    "duration": 13,
    "start_time": "2023-08-01T08:27:17.149Z"
   },
   {
    "duration": 4,
    "start_time": "2023-08-01T08:27:17.163Z"
   },
   {
    "duration": 12,
    "start_time": "2023-08-01T08:27:17.168Z"
   },
   {
    "duration": 11,
    "start_time": "2023-08-01T08:27:17.182Z"
   },
   {
    "duration": 3,
    "start_time": "2023-08-01T08:27:17.195Z"
   },
   {
    "duration": 25,
    "start_time": "2023-08-01T08:27:17.199Z"
   },
   {
    "duration": 14,
    "start_time": "2023-08-01T08:27:17.225Z"
   },
   {
    "duration": 3,
    "start_time": "2023-08-01T08:27:17.260Z"
   },
   {
    "duration": 8,
    "start_time": "2023-08-01T08:27:17.265Z"
   },
   {
    "duration": 10,
    "start_time": "2023-08-01T08:27:17.275Z"
   },
   {
    "duration": 3,
    "start_time": "2023-08-01T08:27:17.286Z"
   },
   {
    "duration": 6,
    "start_time": "2023-08-01T08:27:17.293Z"
   },
   {
    "duration": 23,
    "start_time": "2023-08-01T08:27:17.300Z"
   },
   {
    "duration": 16,
    "start_time": "2023-08-01T08:27:17.325Z"
   },
   {
    "duration": 6,
    "start_time": "2023-08-01T08:27:17.342Z"
   },
   {
    "duration": 6,
    "start_time": "2023-08-01T08:27:17.359Z"
   },
   {
    "duration": 4,
    "start_time": "2023-08-01T08:27:17.366Z"
   },
   {
    "duration": 7,
    "start_time": "2023-08-01T08:27:17.372Z"
   },
   {
    "duration": 1733,
    "start_time": "2023-08-01T08:27:17.380Z"
   },
   {
    "duration": 1654,
    "start_time": "2023-08-01T08:27:19.115Z"
   },
   {
    "duration": 1722,
    "start_time": "2023-08-01T08:27:20.770Z"
   },
   {
    "duration": 12,
    "start_time": "2023-08-01T08:27:22.494Z"
   },
   {
    "duration": 175,
    "start_time": "2023-08-01T08:27:22.508Z"
   },
   {
    "duration": 96,
    "start_time": "2023-08-01T08:27:22.685Z"
   },
   {
    "duration": 7,
    "start_time": "2023-08-01T08:29:19.116Z"
   },
   {
    "duration": 106,
    "start_time": "2023-08-01T08:30:12.806Z"
   },
   {
    "duration": 1536,
    "start_time": "2023-08-01T08:30:46.474Z"
   },
   {
    "duration": 9,
    "start_time": "2023-08-01T08:30:51.616Z"
   },
   {
    "duration": 6,
    "start_time": "2023-08-01T08:31:01.201Z"
   },
   {
    "duration": 5196,
    "start_time": "2023-08-01T08:33:06.294Z"
   },
   {
    "duration": 5,
    "start_time": "2023-08-01T08:35:33.305Z"
   },
   {
    "duration": 4588,
    "start_time": "2023-08-01T08:35:35.705Z"
   },
   {
    "duration": 4,
    "start_time": "2023-08-01T08:35:43.833Z"
   },
   {
    "duration": 4,
    "start_time": "2023-08-01T08:35:46.493Z"
   },
   {
    "duration": 3,
    "start_time": "2023-08-01T08:35:48.533Z"
   },
   {
    "duration": 4,
    "start_time": "2023-08-01T08:36:50.754Z"
   },
   {
    "duration": 4474,
    "start_time": "2023-08-01T08:36:53.315Z"
   },
   {
    "duration": 5,
    "start_time": "2023-08-01T08:36:58.574Z"
   },
   {
    "duration": 9,
    "start_time": "2023-08-01T08:42:40.921Z"
   },
   {
    "duration": 72,
    "start_time": "2023-08-01T08:44:37.701Z"
   },
   {
    "duration": 68,
    "start_time": "2023-08-01T08:44:53.463Z"
   },
   {
    "duration": 83,
    "start_time": "2023-08-01T08:45:03.485Z"
   },
   {
    "duration": 8,
    "start_time": "2023-08-01T08:45:21.791Z"
   },
   {
    "duration": 15,
    "start_time": "2023-08-01T08:45:27.038Z"
   },
   {
    "duration": 16,
    "start_time": "2023-08-01T08:48:14.122Z"
   },
   {
    "duration": 15,
    "start_time": "2023-08-01T08:59:57.451Z"
   },
   {
    "duration": 3,
    "start_time": "2023-08-01T09:02:03.819Z"
   },
   {
    "duration": 6,
    "start_time": "2023-08-01T09:02:09.201Z"
   },
   {
    "duration": 3,
    "start_time": "2023-08-01T09:02:32.609Z"
   },
   {
    "duration": 4,
    "start_time": "2023-08-01T09:03:21.120Z"
   },
   {
    "duration": 7,
    "start_time": "2023-08-01T09:03:26.411Z"
   },
   {
    "duration": 6,
    "start_time": "2023-08-01T09:08:48.763Z"
   },
   {
    "duration": 7,
    "start_time": "2023-08-01T09:08:56.972Z"
   },
   {
    "duration": 6,
    "start_time": "2023-08-01T09:09:46.393Z"
   },
   {
    "duration": 5,
    "start_time": "2023-08-01T09:09:52.092Z"
   },
   {
    "duration": 3,
    "start_time": "2023-08-01T09:16:27.861Z"
   },
   {
    "duration": 8,
    "start_time": "2023-08-01T09:17:43.845Z"
   },
   {
    "duration": 8,
    "start_time": "2023-08-01T09:17:49.741Z"
   },
   {
    "duration": 7,
    "start_time": "2023-08-01T09:17:54.854Z"
   },
   {
    "duration": 7,
    "start_time": "2023-08-01T09:17:57.880Z"
   },
   {
    "duration": 9,
    "start_time": "2023-08-01T09:18:49.792Z"
   },
   {
    "duration": 19,
    "start_time": "2023-08-01T09:18:53.432Z"
   },
   {
    "duration": 7,
    "start_time": "2023-08-01T09:19:03.691Z"
   },
   {
    "duration": 5,
    "start_time": "2023-08-01T09:30:07.342Z"
   },
   {
    "duration": 3930,
    "start_time": "2023-08-01T09:30:24.591Z"
   },
   {
    "duration": 7,
    "start_time": "2023-08-01T09:31:11.692Z"
   },
   {
    "duration": 6,
    "start_time": "2023-08-01T09:32:08.447Z"
   },
   {
    "duration": 7,
    "start_time": "2023-08-01T09:32:11.004Z"
   },
   {
    "duration": 8,
    "start_time": "2023-08-01T09:32:12.418Z"
   },
   {
    "duration": 9,
    "start_time": "2023-08-01T09:32:14.149Z"
   },
   {
    "duration": 7,
    "start_time": "2023-08-01T09:32:17.285Z"
   },
   {
    "duration": 7,
    "start_time": "2023-08-01T09:32:20.140Z"
   },
   {
    "duration": 7,
    "start_time": "2023-08-01T09:32:30.291Z"
   },
   {
    "duration": 7,
    "start_time": "2023-08-01T09:32:33.374Z"
   },
   {
    "duration": 9,
    "start_time": "2023-08-01T09:32:37.414Z"
   },
   {
    "duration": 7,
    "start_time": "2023-08-01T09:38:24.504Z"
   },
   {
    "duration": 5,
    "start_time": "2023-08-01T09:38:26.764Z"
   },
   {
    "duration": 6,
    "start_time": "2023-08-01T09:38:30.061Z"
   },
   {
    "duration": 5,
    "start_time": "2023-08-01T09:38:32.761Z"
   },
   {
    "duration": 5,
    "start_time": "2023-08-01T09:38:35.609Z"
   },
   {
    "duration": 7,
    "start_time": "2023-08-01T09:39:44.689Z"
   },
   {
    "duration": 255,
    "start_time": "2023-08-01T09:39:57.241Z"
   },
   {
    "duration": 5,
    "start_time": "2023-08-01T09:40:39.052Z"
   },
   {
    "duration": 1942,
    "start_time": "2023-08-01T09:40:41.190Z"
   },
   {
    "duration": 5,
    "start_time": "2023-08-01T09:40:50.683Z"
   },
   {
    "duration": 6,
    "start_time": "2023-08-01T09:42:22.020Z"
   },
   {
    "duration": 3533,
    "start_time": "2023-08-01T09:42:24.244Z"
   },
   {
    "duration": 6,
    "start_time": "2023-08-01T09:44:09.120Z"
   },
   {
    "duration": 332,
    "start_time": "2023-08-01T09:44:11.175Z"
   },
   {
    "duration": 5,
    "start_time": "2023-08-01T09:51:50.130Z"
   },
   {
    "duration": 7,
    "start_time": "2023-08-01T09:52:03.352Z"
   },
   {
    "duration": 7,
    "start_time": "2023-08-01T09:52:07.488Z"
   },
   {
    "duration": 4,
    "start_time": "2023-08-01T09:58:59.384Z"
   },
   {
    "duration": 11,
    "start_time": "2023-08-01T09:59:30.551Z"
   },
   {
    "duration": 9,
    "start_time": "2023-08-01T09:59:32.819Z"
   },
   {
    "duration": 9,
    "start_time": "2023-08-01T09:59:36.240Z"
   },
   {
    "duration": 7,
    "start_time": "2023-08-01T09:59:47.697Z"
   },
   {
    "duration": 6,
    "start_time": "2023-08-01T10:03:16.443Z"
   },
   {
    "duration": 225,
    "start_time": "2023-08-01T10:03:20.152Z"
   },
   {
    "duration": 6,
    "start_time": "2023-08-01T10:10:07.013Z"
   },
   {
    "duration": 7,
    "start_time": "2023-08-01T10:10:16.100Z"
   },
   {
    "duration": 4,
    "start_time": "2023-08-01T10:10:20.501Z"
   },
   {
    "duration": 6,
    "start_time": "2023-08-01T10:13:31.720Z"
   },
   {
    "duration": 4773,
    "start_time": "2023-08-01T10:13:33.052Z"
   },
   {
    "duration": 6,
    "start_time": "2023-08-01T10:13:38.932Z"
   },
   {
    "duration": 7,
    "start_time": "2023-08-01T10:13:42.883Z"
   },
   {
    "duration": 6,
    "start_time": "2023-08-01T10:13:45.496Z"
   },
   {
    "duration": 6,
    "start_time": "2023-08-01T10:14:15.504Z"
   },
   {
    "duration": 4290,
    "start_time": "2023-08-01T10:14:17.245Z"
   },
   {
    "duration": 6,
    "start_time": "2023-08-01T10:14:22.465Z"
   },
   {
    "duration": 5,
    "start_time": "2023-08-01T10:19:00.441Z"
   },
   {
    "duration": 496,
    "start_time": "2023-08-01T10:19:03.543Z"
   },
   {
    "duration": 5,
    "start_time": "2023-08-01T10:19:17.659Z"
   },
   {
    "duration": 431,
    "start_time": "2023-08-01T10:19:19.511Z"
   },
   {
    "duration": 17,
    "start_time": "2023-08-01T10:19:43.153Z"
   },
   {
    "duration": 12,
    "start_time": "2023-08-01T10:19:48.445Z"
   },
   {
    "duration": 17,
    "start_time": "2023-08-01T10:19:51.929Z"
   },
   {
    "duration": 5,
    "start_time": "2023-08-01T10:20:07.263Z"
   },
   {
    "duration": 20,
    "start_time": "2023-08-01T10:20:09.211Z"
   },
   {
    "duration": 19,
    "start_time": "2023-08-01T10:20:10.850Z"
   },
   {
    "duration": 18,
    "start_time": "2023-08-01T10:20:13.329Z"
   },
   {
    "duration": 19,
    "start_time": "2023-08-01T10:20:14.741Z"
   },
   {
    "duration": 19,
    "start_time": "2023-08-01T10:20:16.228Z"
   },
   {
    "duration": 20,
    "start_time": "2023-08-01T10:20:17.581Z"
   },
   {
    "duration": 20,
    "start_time": "2023-08-01T10:20:19.029Z"
   },
   {
    "duration": 20,
    "start_time": "2023-08-01T10:20:20.601Z"
   },
   {
    "duration": 4,
    "start_time": "2023-08-01T10:32:10.669Z"
   },
   {
    "duration": 199,
    "start_time": "2023-08-01T10:32:21.507Z"
   },
   {
    "duration": 5,
    "start_time": "2023-08-01T10:37:20.102Z"
   },
   {
    "duration": 218,
    "start_time": "2023-08-01T10:37:32.556Z"
   },
   {
    "duration": 6,
    "start_time": "2023-08-01T10:37:37.805Z"
   },
   {
    "duration": 4,
    "start_time": "2023-08-01T10:37:42.294Z"
   },
   {
    "duration": 4,
    "start_time": "2023-08-01T10:37:58.586Z"
   },
   {
    "duration": 4,
    "start_time": "2023-08-01T10:38:02.981Z"
   },
   {
    "duration": 216,
    "start_time": "2023-08-01T10:38:21.307Z"
   },
   {
    "duration": 847,
    "start_time": "2023-08-01T10:40:35.153Z"
   },
   {
    "duration": 10,
    "start_time": "2023-08-01T10:41:02.493Z"
   },
   {
    "duration": 4,
    "start_time": "2023-08-01T10:41:11.423Z"
   },
   {
    "duration": 240,
    "start_time": "2023-08-01T10:41:17.456Z"
   },
   {
    "duration": 191,
    "start_time": "2023-08-01T10:42:15.032Z"
   },
   {
    "duration": 215,
    "start_time": "2023-08-01T10:42:39.312Z"
   },
   {
    "duration": 225,
    "start_time": "2023-08-01T10:42:51.814Z"
   },
   {
    "duration": 328,
    "start_time": "2023-08-01T10:43:54.622Z"
   },
   {
    "duration": 645,
    "start_time": "2023-08-01T10:47:31.096Z"
   },
   {
    "duration": 3,
    "start_time": "2023-08-01T10:47:33.804Z"
   },
   {
    "duration": 210,
    "start_time": "2023-08-01T10:47:35.716Z"
   },
   {
    "duration": 5,
    "start_time": "2023-08-01T10:51:01.253Z"
   },
   {
    "duration": 4462,
    "start_time": "2023-08-01T10:51:03.460Z"
   },
   {
    "duration": 6,
    "start_time": "2023-08-01T10:51:09.211Z"
   },
   {
    "duration": 4,
    "start_time": "2023-08-01T10:51:14.756Z"
   },
   {
    "duration": 7,
    "start_time": "2023-08-01T10:51:16.871Z"
   },
   {
    "duration": 3,
    "start_time": "2023-08-01T10:51:28.354Z"
   },
   {
    "duration": 4,
    "start_time": "2023-08-01T10:51:31.423Z"
   },
   {
    "duration": 913,
    "start_time": "2023-08-01T10:51:33.615Z"
   },
   {
    "duration": 4,
    "start_time": "2023-08-01T10:51:35.861Z"
   },
   {
    "duration": 322,
    "start_time": "2023-08-01T10:51:37.717Z"
   },
   {
    "duration": 12,
    "start_time": "2023-08-01T10:53:46.934Z"
   },
   {
    "duration": 4,
    "start_time": "2023-08-01T10:53:51.574Z"
   },
   {
    "duration": 12,
    "start_time": "2023-08-01T10:54:01.532Z"
   },
   {
    "duration": 4,
    "start_time": "2023-08-01T10:54:08.461Z"
   },
   {
    "duration": 2798,
    "start_time": "2023-08-01T12:38:21.318Z"
   },
   {
    "duration": 1856,
    "start_time": "2023-08-01T12:38:24.118Z"
   },
   {
    "duration": 15,
    "start_time": "2023-08-01T12:38:25.977Z"
   },
   {
    "duration": 22,
    "start_time": "2023-08-01T12:38:25.994Z"
   },
   {
    "duration": 85,
    "start_time": "2023-08-01T12:38:26.018Z"
   },
   {
    "duration": 36,
    "start_time": "2023-08-01T12:38:26.105Z"
   },
   {
    "duration": 35,
    "start_time": "2023-08-01T12:38:26.143Z"
   },
   {
    "duration": 17,
    "start_time": "2023-08-01T12:38:26.181Z"
   },
   {
    "duration": 20,
    "start_time": "2023-08-01T12:38:26.200Z"
   },
   {
    "duration": 56,
    "start_time": "2023-08-01T12:38:26.223Z"
   },
   {
    "duration": 13,
    "start_time": "2023-08-01T12:38:26.281Z"
   },
   {
    "duration": 21,
    "start_time": "2023-08-01T12:38:26.296Z"
   },
   {
    "duration": 18,
    "start_time": "2023-08-01T12:38:26.319Z"
   },
   {
    "duration": 55,
    "start_time": "2023-08-01T12:38:26.339Z"
   },
   {
    "duration": 308,
    "start_time": "2023-08-01T12:38:26.397Z"
   },
   {
    "duration": 12,
    "start_time": "2023-08-01T12:38:26.707Z"
   },
   {
    "duration": 33,
    "start_time": "2023-08-01T12:38:26.721Z"
   },
   {
    "duration": 23,
    "start_time": "2023-08-01T12:38:26.756Z"
   },
   {
    "duration": 18,
    "start_time": "2023-08-01T12:38:26.781Z"
   },
   {
    "duration": 183,
    "start_time": "2023-08-01T12:38:26.800Z"
   },
   {
    "duration": 83,
    "start_time": "2023-08-01T12:38:26.985Z"
   },
   {
    "duration": 103,
    "start_time": "2023-08-01T12:38:27.075Z"
   },
   {
    "duration": 7,
    "start_time": "2023-08-01T12:38:27.182Z"
   },
   {
    "duration": 91,
    "start_time": "2023-08-01T12:38:27.191Z"
   },
   {
    "duration": 9,
    "start_time": "2023-08-01T12:38:27.362Z"
   },
   {
    "duration": 8,
    "start_time": "2023-08-01T12:38:27.374Z"
   },
   {
    "duration": 4,
    "start_time": "2023-08-01T12:38:27.386Z"
   },
   {
    "duration": 9,
    "start_time": "2023-08-01T12:38:27.393Z"
   },
   {
    "duration": 27,
    "start_time": "2023-08-01T12:38:27.404Z"
   },
   {
    "duration": 24,
    "start_time": "2023-08-01T12:38:27.433Z"
   },
   {
    "duration": 5,
    "start_time": "2023-08-01T12:38:27.460Z"
   },
   {
    "duration": 17,
    "start_time": "2023-08-01T12:38:27.467Z"
   },
   {
    "duration": 16,
    "start_time": "2023-08-01T12:38:27.485Z"
   },
   {
    "duration": 4,
    "start_time": "2023-08-01T12:38:27.503Z"
   },
   {
    "duration": 18,
    "start_time": "2023-08-01T12:38:27.509Z"
   },
   {
    "duration": 22,
    "start_time": "2023-08-01T12:38:27.556Z"
   },
   {
    "duration": 9,
    "start_time": "2023-08-01T12:38:27.581Z"
   },
   {
    "duration": 7,
    "start_time": "2023-08-01T12:38:27.592Z"
   },
   {
    "duration": 19,
    "start_time": "2023-08-01T12:38:27.600Z"
   },
   {
    "duration": 3,
    "start_time": "2023-08-01T12:38:27.621Z"
   },
   {
    "duration": 13,
    "start_time": "2023-08-01T12:38:27.626Z"
   },
   {
    "duration": 5,
    "start_time": "2023-08-01T12:38:27.661Z"
   },
   {
    "duration": 17,
    "start_time": "2023-08-01T12:38:27.668Z"
   },
   {
    "duration": 9,
    "start_time": "2023-08-01T12:38:27.686Z"
   },
   {
    "duration": 6,
    "start_time": "2023-08-01T12:38:27.696Z"
   },
   {
    "duration": 14,
    "start_time": "2023-08-01T12:38:27.704Z"
   },
   {
    "duration": 14,
    "start_time": "2023-08-01T12:38:27.720Z"
   },
   {
    "duration": 2129,
    "start_time": "2023-08-01T12:38:27.736Z"
   },
   {
    "duration": 1865,
    "start_time": "2023-08-01T12:38:29.866Z"
   },
   {
    "duration": 1896,
    "start_time": "2023-08-01T12:38:31.733Z"
   },
   {
    "duration": 13,
    "start_time": "2023-08-01T12:38:33.630Z"
   },
   {
    "duration": 159,
    "start_time": "2023-08-01T12:38:33.658Z"
   },
   {
    "duration": 111,
    "start_time": "2023-08-01T12:38:33.819Z"
   },
   {
    "duration": 6,
    "start_time": "2023-08-01T12:38:33.932Z"
   },
   {
    "duration": 4966,
    "start_time": "2023-08-01T12:38:33.940Z"
   },
   {
    "duration": 5,
    "start_time": "2023-08-01T12:38:38.909Z"
   },
   {
    "duration": 12,
    "start_time": "2023-08-01T12:38:38.916Z"
   },
   {
    "duration": 21,
    "start_time": "2023-08-01T12:38:38.930Z"
   },
   {
    "duration": 854,
    "start_time": "2023-08-01T12:38:38.954Z"
   },
   {
    "duration": 4,
    "start_time": "2023-08-01T12:38:39.810Z"
   },
   {
    "duration": 279,
    "start_time": "2023-08-01T12:38:39.816Z"
   },
   {
    "duration": 187,
    "start_time": "2023-08-01T12:39:01.412Z"
   },
   {
    "duration": 669,
    "start_time": "2023-08-01T12:41:06.700Z"
   }
  ],
  "kernelspec": {
   "display_name": "Python 3 (ipykernel)",
   "language": "python",
   "name": "python3"
  },
  "language_info": {
   "codemirror_mode": {
    "name": "ipython",
    "version": 3
   },
   "file_extension": ".py",
   "mimetype": "text/x-python",
   "name": "python",
   "nbconvert_exporter": "python",
   "pygments_lexer": "ipython3",
   "version": "3.9.5"
  },
  "toc": {
   "base_numbering": 1,
   "nav_menu": {},
   "number_sections": true,
   "sideBar": true,
   "skip_h1_title": true,
   "title_cell": "Table of Contents",
   "title_sidebar": "Contents",
   "toc_cell": false,
   "toc_position": {},
   "toc_section_display": true,
   "toc_window_display": false
  }
 },
 "nbformat": 4,
 "nbformat_minor": 2
}
