{
 "cells": [
  {
   "cell_type": "markdown",
   "metadata": {},
   "source": [
    "# Рекомендация тарифов"
   ]
  },
  {
   "cell_type": "markdown",
   "metadata": {},
   "source": [
    "В вашем распоряжении данные о поведении клиентов, которые уже перешли на эти тарифы (из проекта курса «Статистический анализ данных»). Нужно построить модель для задачи классификации, которая выберет подходящий тариф. Предобработка данных не понадобится — вы её уже сделали.\n",
    "\n",
    "Постройте модель с максимально большим значением *accuracy*. Чтобы сдать проект успешно, нужно довести долю правильных ответов по крайней мере до 0.75. Проверьте *accuracy* на тестовой выборке самостоятельно."
   ]
  },
  {
   "cell_type": "markdown",
   "metadata": {},
   "source": [
    "## Откройте и изучите файл"
   ]
  },
  {
   "cell_type": "code",
   "execution_count": 57,
   "metadata": {},
   "outputs": [],
   "source": [
    "import pandas as pd\n",
    "from sklearn.model_selection import train_test_split\n",
    "from sklearn.metrics import accuracy_score\n",
    "\n",
    "from sklearn.tree import DecisionTreeClassifier\n",
    "from sklearn.linear_model import LogisticRegression\n",
    "from sklearn.ensemble import RandomForestClassifier\n",
    "from sklearn.dummy import DummyClassifier"
   ]
  },
  {
   "cell_type": "code",
   "execution_count": 58,
   "metadata": {},
   "outputs": [],
   "source": [
    "df = pd.read_csv('/datasets/users_behavior.csv')"
   ]
  },
  {
   "cell_type": "code",
   "execution_count": 59,
   "metadata": {},
   "outputs": [
    {
     "data": {
      "text/html": [
       "<div>\n",
       "<style scoped>\n",
       "    .dataframe tbody tr th:only-of-type {\n",
       "        vertical-align: middle;\n",
       "    }\n",
       "\n",
       "    .dataframe tbody tr th {\n",
       "        vertical-align: top;\n",
       "    }\n",
       "\n",
       "    .dataframe thead th {\n",
       "        text-align: right;\n",
       "    }\n",
       "</style>\n",
       "<table border=\"1\" class=\"dataframe\">\n",
       "  <thead>\n",
       "    <tr style=\"text-align: right;\">\n",
       "      <th></th>\n",
       "      <th>calls</th>\n",
       "      <th>minutes</th>\n",
       "      <th>messages</th>\n",
       "      <th>mb_used</th>\n",
       "      <th>is_ultra</th>\n",
       "    </tr>\n",
       "  </thead>\n",
       "  <tbody>\n",
       "    <tr>\n",
       "      <th>0</th>\n",
       "      <td>40.0</td>\n",
       "      <td>311.90</td>\n",
       "      <td>83.0</td>\n",
       "      <td>19915.42</td>\n",
       "      <td>0</td>\n",
       "    </tr>\n",
       "    <tr>\n",
       "      <th>1</th>\n",
       "      <td>85.0</td>\n",
       "      <td>516.75</td>\n",
       "      <td>56.0</td>\n",
       "      <td>22696.96</td>\n",
       "      <td>0</td>\n",
       "    </tr>\n",
       "    <tr>\n",
       "      <th>2</th>\n",
       "      <td>77.0</td>\n",
       "      <td>467.66</td>\n",
       "      <td>86.0</td>\n",
       "      <td>21060.45</td>\n",
       "      <td>0</td>\n",
       "    </tr>\n",
       "    <tr>\n",
       "      <th>3</th>\n",
       "      <td>106.0</td>\n",
       "      <td>745.53</td>\n",
       "      <td>81.0</td>\n",
       "      <td>8437.39</td>\n",
       "      <td>1</td>\n",
       "    </tr>\n",
       "    <tr>\n",
       "      <th>4</th>\n",
       "      <td>66.0</td>\n",
       "      <td>418.74</td>\n",
       "      <td>1.0</td>\n",
       "      <td>14502.75</td>\n",
       "      <td>0</td>\n",
       "    </tr>\n",
       "  </tbody>\n",
       "</table>\n",
       "</div>"
      ],
      "text/plain": [
       "   calls  minutes  messages   mb_used  is_ultra\n",
       "0   40.0   311.90      83.0  19915.42         0\n",
       "1   85.0   516.75      56.0  22696.96         0\n",
       "2   77.0   467.66      86.0  21060.45         0\n",
       "3  106.0   745.53      81.0   8437.39         1\n",
       "4   66.0   418.74       1.0  14502.75         0"
      ]
     },
     "execution_count": 59,
     "metadata": {},
     "output_type": "execute_result"
    }
   ],
   "source": [
    "df.head()"
   ]
  },
  {
   "cell_type": "markdown",
   "metadata": {},
   "source": [
    "**Описание данных** <br>\n",
    "- `сalls` — количество звонков,\n",
    "- `minutes` — суммарная длительность звонков в минутах,\n",
    "- `messages` — количество sms-сообщений,\n",
    "- `mb_used` — израсходованный интернет-трафик в Мб,\n",
    "- `is_ultra` — каким тарифом пользовался в течение месяца («Ультра» — 1, «Смарт» — 0)."
   ]
  },
  {
   "cell_type": "code",
   "execution_count": 60,
   "metadata": {},
   "outputs": [
    {
     "name": "stdout",
     "output_type": "stream",
     "text": [
      "<class 'pandas.core.frame.DataFrame'>\n",
      "RangeIndex: 3214 entries, 0 to 3213\n",
      "Data columns (total 5 columns):\n",
      " #   Column    Non-Null Count  Dtype  \n",
      "---  ------    --------------  -----  \n",
      " 0   calls     3214 non-null   float64\n",
      " 1   minutes   3214 non-null   float64\n",
      " 2   messages  3214 non-null   float64\n",
      " 3   mb_used   3214 non-null   float64\n",
      " 4   is_ultra  3214 non-null   int64  \n",
      "dtypes: float64(4), int64(1)\n",
      "memory usage: 125.7 KB\n"
     ]
    }
   ],
   "source": [
    "# Проверим тип данных\n",
    "df.info()"
   ]
  },
  {
   "cell_type": "markdown",
   "metadata": {},
   "source": [
    "Изменим тип столбца messages на int"
   ]
  },
  {
   "cell_type": "code",
   "execution_count": 61,
   "metadata": {},
   "outputs": [],
   "source": [
    "df['messages']=df['messages'].astype(\"int\")"
   ]
  },
  {
   "cell_type": "code",
   "execution_count": 62,
   "metadata": {},
   "outputs": [
    {
     "data": {
      "text/plain": [
       "0"
      ]
     },
     "execution_count": 62,
     "metadata": {},
     "output_type": "execute_result"
    }
   ],
   "source": [
    "#Проверим дубликаты\n",
    "df.duplicated().sum()"
   ]
  },
  {
   "cell_type": "markdown",
   "metadata": {},
   "source": [
    "**Вывод:**\n",
    "- Пропущенных значений нет\n",
    "- Типы столбцов в порядке\n",
    "- Дубликатов нет"
   ]
  },
  {
   "cell_type": "markdown",
   "metadata": {},
   "source": [
    "## Разбейте данные на выборки"
   ]
  },
  {
   "cell_type": "markdown",
   "metadata": {},
   "source": [
    "*Разобъем выборки на train(60%) и val+test(40%)*"
   ]
  },
  {
   "cell_type": "code",
   "execution_count": 63,
   "metadata": {},
   "outputs": [],
   "source": [
    "df_train, df_test = train_test_split(df, test_size=0.4, random_state=12345)\n",
    "features = df_test.drop('is_ultra', axis=1)\n",
    "target = df_test['is_ultra']"
   ]
  },
  {
   "cell_type": "markdown",
   "metadata": {},
   "source": [
    "*Разобъем на val(20%) и test(20%)*"
   ]
  },
  {
   "cell_type": "code",
   "execution_count": 64,
   "metadata": {},
   "outputs": [],
   "source": [
    "features_valid, features_test, target_valid, target_test = train_test_split(features, target,\n",
    "                                                                            test_size=0.5, random_state=12345)"
   ]
  },
  {
   "cell_type": "code",
   "execution_count": 65,
   "metadata": {},
   "outputs": [],
   "source": [
    "features_train = df_train.drop('is_ultra', axis=1)\n",
    "target_train = df_train['is_ultra']"
   ]
  },
  {
   "cell_type": "markdown",
   "metadata": {},
   "source": [
    "**Напоминалка**\n",
    "- `features_train`, `target_train` - обучающая выборка\n",
    "- `features_valid`, `target_valid` - валидационная выборка\n",
    "- `features_test`, `target_test` - тестовая выборка"
   ]
  },
  {
   "cell_type": "markdown",
   "metadata": {},
   "source": [
    "## Исследуйте модели"
   ]
  },
  {
   "cell_type": "markdown",
   "metadata": {},
   "source": [
    "**Логистическая регрессия**"
   ]
  },
  {
   "cell_type": "code",
   "execution_count": 66,
   "metadata": {},
   "outputs": [
    {
     "name": "stdout",
     "output_type": "stream",
     "text": [
      "Качество: 0.7107309486780715\n"
     ]
    }
   ],
   "source": [
    "model = LogisticRegression(sortedlver='lbfgs')\n",
    "model.fit(features_train, target_train)\n",
    "predictions = model.predict(features_valid)\n",
    "accuracy = accuracy_score(target_valid,predictions)\n",
    "print(\"Качество:\", accuracy)"
   ]
  },
  {
   "cell_type": "markdown",
   "metadata": {},
   "source": [
    "**Случайный лес**"
   ]
  },
  {
   "cell_type": "code",
   "execution_count": 67,
   "metadata": {},
   "outputs": [
    {
     "name": "stdout",
     "output_type": "stream",
     "text": [
      "Глубина дерева: 7     Количество деревьев: 25    мин. объектов в узле: 3   Качество: 0.8055987558320373\n"
     ]
    }
   ],
   "source": [
    "best_accuracy = 0\n",
    "best_depth = 0\n",
    "for depth in range(1,10):\n",
    "    for est in range(5,45,5):\n",
    "        for sample in range(2,5):\n",
    "            model = RandomForestClassifier(max_depth=depth, n_estimators=est, \n",
    "                                           min_samples_leaf=sample, random_state=1515)\n",
    "            model.fit(features_train, target_train)\n",
    "            predictions = model.predict(features_valid)\n",
    "            accuracy = accuracy_score(target_valid,predictions)\n",
    "            if accuracy > best_accuracy:\n",
    "                best_accuracy = accuracy\n",
    "                best_depth = depth\n",
    "                best_est = est\n",
    "                best_sample = sample\n",
    "print(\"Глубина дерева:\", best_depth, \"    Количество деревьев:\",\n",
    "      best_est, \"   мин. объектов в узле:\", best_sample, \"  Качество:\", best_accuracy)"
   ]
  },
  {
   "cell_type": "markdown",
   "metadata": {},
   "source": [
    "**Дерево решений**"
   ]
  },
  {
   "cell_type": "code",
   "execution_count": 68,
   "metadata": {},
   "outputs": [
    {
     "name": "stdout",
     "output_type": "stream",
     "text": [
      "Глубина дерева: 6    мин. объектов в узле: 4     Качество: 0.7869362363919129\n"
     ]
    }
   ],
   "source": [
    "best_accuracy = 0\n",
    "best_depth = 0\n",
    "for depth in range(1,15):\n",
    "    for sample in range(2,5):\n",
    "        model = DecisionTreeClassifier(max_depth=depth, min_samples_leaf=sample, random_state=1515)\n",
    "        model.fit(features_train, target_train)\n",
    "        predictions = model.predict(features_valid)\n",
    "        accuracy = accuracy_score(target_valid,predictions)\n",
    "        if accuracy > best_accuracy:\n",
    "            best_accuracy = accuracy\n",
    "            best_depth = depth\n",
    "            best_sample = sample\n",
    "print(\"Глубина дерева:\", best_depth,\"   мин. объектов в узле:\", best_sample, \"    Качество:\", best_accuracy)"
   ]
  },
  {
   "cell_type": "markdown",
   "metadata": {},
   "source": [
    "**Вывод:**<br>\n",
    "Были исследованы три модели: логистическая регрессия, случайный лес, деревья решений. Предварительно, наилучшее качество (0.805) без проверки достигается при использовании Случайного леса с гиперпараметрами: глубина дерева 7, количество деревьев 25, мин. объектов в узле 3<br>\n",
    "Результат необходимо проверить, приступим"
   ]
  },
  {
   "cell_type": "markdown",
   "metadata": {},
   "source": [
    "## Проверьте модель на тестовой выборке"
   ]
  },
  {
   "cell_type": "markdown",
   "metadata": {},
   "source": [
    "**Логистическая регрессия**"
   ]
  },
  {
   "cell_type": "code",
   "execution_count": 69,
   "metadata": {},
   "outputs": [
    {
     "name": "stdout",
     "output_type": "stream",
     "text": [
      "Качество: 0.7131742738589212\n"
     ]
    }
   ],
   "source": [
    "model = LogisticRegression(solver='lbfgs')\n",
    "model.fit(features_train, target_train)\n",
    "predictions = model.predict(features_train)\n",
    "accuracy = accuracy_score(target_train,predictions)\n",
    "print(\"Качество:\", accuracy)"
   ]
  },
  {
   "cell_type": "markdown",
   "metadata": {},
   "source": [
    "**Случайный лес**"
   ]
  },
  {
   "cell_type": "code",
   "execution_count": 70,
   "metadata": {},
   "outputs": [
    {
     "name": "stdout",
     "output_type": "stream",
     "text": [
      "Качество: 0.8475103734439834\n"
     ]
    }
   ],
   "source": [
    "model = RandomForestClassifier(max_depth=7, n_estimators=25, min_samples_leaf=3, random_state=1515)\n",
    "model.fit(features_train, target_train)\n",
    "predictions = model.predict(features_train)\n",
    "accuracy = accuracy_score(target_train,predictions)\n",
    "print(\"Качество:\", accuracy)"
   ]
  },
  {
   "cell_type": "markdown",
   "metadata": {},
   "source": [
    "**Дерево решений**"
   ]
  },
  {
   "cell_type": "code",
   "execution_count": 71,
   "metadata": {},
   "outputs": [
    {
     "name": "stdout",
     "output_type": "stream",
     "text": [
      "Качество: 0.8340248962655602\n"
     ]
    }
   ],
   "source": [
    "model = DecisionTreeClassifier(max_depth=6,min_samples_leaf=4, random_state=1515)\n",
    "model.fit(features_train, target_train)\n",
    "predictions = model.predict(features_train)\n",
    "accuracy = accuracy_score(target_train,predictions)\n",
    "print(\"Качество:\", accuracy)"
   ]
  },
  {
   "cell_type": "markdown",
   "metadata": {},
   "source": [
    "**Вывод:**<br>\n",
    "После проверки наших моделей лидером так и осталась модель Случайного леса с метрикой качества 0.847. Дерево решений тоже показало хороший результат с метрикой качества 0.834. Переобучение у моделей примерно одинаковое. Что касается логистической регрессии, то ее метрика качества приблизительно на том же значении - 0.713. <br>"
   ]
  },
  {
   "cell_type": "markdown",
   "metadata": {},
   "source": [
    "## (бонус) Проверьте модели на адекватность"
   ]
  },
  {
   "cell_type": "code",
   "execution_count": 72,
   "metadata": {},
   "outputs": [
    {
     "name": "stdout",
     "output_type": "stream",
     "text": [
      "Качество наивного прогноза : 0.5800933125972006\n",
      "Качество нашего прогноза : 0.8340248962655602\n"
     ]
    }
   ],
   "source": [
    "dmb = DummyClassifier(strategy=\"stratified\" ,random_state=1515)\n",
    "dmb.fit(features_train, target_train)\n",
    "acc = dmb.score(features_test, target_test)\n",
    "print(\"Качество наивного прогноза :\", acc)\n",
    "print(\"Качество нашего прогноза :\", accuracy)"
   ]
  },
  {
   "cell_type": "code",
   "execution_count": 73,
   "metadata": {},
   "outputs": [
    {
     "name": "stdout",
     "output_type": "stream",
     "text": [
      "Качество наивного прогноза : 0.6842923794712286\n",
      "Качество нашего прогноза : 0.8340248962655602\n"
     ]
    }
   ],
   "source": [
    "dmb = DummyClassifier(strategy='most_frequent', random_state=1515)\n",
    "dmb.fit(features_train, target_train)\n",
    "acc = dmb.score(features_test, target_test)\n",
    "print(\"Качество наивного прогноза :\", acc)\n",
    "print(\"Качество нашего прогноза :\", accuracy)"
   ]
  },
  {
   "cell_type": "code",
   "execution_count": 74,
   "metadata": {},
   "outputs": [
    {
     "name": "stdout",
     "output_type": "stream",
     "text": [
      "Качество наивного прогноза : 0.5147744945567652\n",
      "Качество нашего прогноза : 0.8340248962655602\n"
     ]
    }
   ],
   "source": [
    "dmb = DummyClassifier(strategy='uniform', random_state=1515)\n",
    "dmb.fit(features_train, target_train)\n",
    "acc = dmb.score(features_test, target_test)\n",
    "print(\"Качество наивного прогноза :\", acc)\n",
    "print(\"Качество нашего прогноза :\", accuracy)"
   ]
  },
  {
   "cell_type": "markdown",
   "metadata": {},
   "source": [
    "# Вывод"
   ]
  },
  {
   "cell_type": "markdown",
   "metadata": {},
   "source": [
    "**Были исследованы три модели: логистическая регрессия, случайный лес, дерево решений. После проверки наших моделей лидером является модель Случайного леса с метрикой качества 0.847. Дерево решений тоже показало хороший результат с метрикой качества 0.834. Переобучение у моделей примерно одинаковое. Что касается логистической регрессии, то ее метрика качества даже после проверки остается достаточно низкой - 0.713.<br> Наилучшее качество при обучении модели (0.805) достигается при использовании Случайного леса с гиперпараметрами: глубина дерева 7, количество деревьев 25, мин. объектов в узле 3.**"
   ]
  },
  {
   "cell_type": "code",
   "execution_count": 75,
   "metadata": {},
   "outputs": [
    {
     "name": "stdout",
     "output_type": "stream",
     "text": [
      "Качество: 0.7962674961119751\n"
     ]
    }
   ],
   "source": [
    "features_full = pd.concat([features_train,features_valid])\n",
    "target_full = pd.concat([target_train,target_valid])\n",
    "model = RandomForestClassifier(max_depth=7, n_estimators=25, \n",
    "                                           min_samples_leaf=3, random_state=1515)\n",
    "model.fit(features_full, target_full)\n",
    "predictions = model.predict(features_test)\n",
    "accuracy = accuracy_score(target_test,predictions)\n",
    "print(\"Качество:\", accuracy)"
   ]
  },
  {
   "cell_type": "markdown",
   "metadata": {},
   "source": [
    "## Чек-лист готовности проекта"
   ]
  },
  {
   "cell_type": "markdown",
   "metadata": {},
   "source": [
    "Поставьте 'x' в выполненных пунктах. Далее нажмите Shift+Enter."
   ]
  },
  {
   "cell_type": "markdown",
   "metadata": {},
   "source": [
    "- [x] Jupyter Notebook открыт\n",
    "- [x] Весь код исполняется без ошибок\n",
    "- [x] Ячейки с кодом расположены в порядке исполнения\n",
    "- [x] Выполнено задание 1: данные загружены и изучены\n",
    "- [x] Выполнено задание 2: данные разбиты на три выборки\n",
    "- [x] Выполнено задание 3: проведено исследование моделей\n",
    "    - [x] Рассмотрено больше одной модели\n",
    "    - [x] Рассмотрено хотя бы 3 значения гипепараметров для какой-нибудь модели\n",
    "    - [x] Написаны выводы по результатам исследования\n",
    "- [x] Выполнено задание 3: Проведено тестирование\n",
    "- [x] Удалось достичь accuracy не меньше 0.75\n"
   ]
  }
 ],
 "metadata": {
  "ExecuteTimeLog": [
   {
    "duration": 1145,
    "start_time": "2023-06-26T10:45:43.416Z"
   },
   {
    "duration": 70,
    "start_time": "2023-06-26T10:46:05.153Z"
   },
   {
    "duration": 16,
    "start_time": "2023-06-26T10:46:06.039Z"
   },
   {
    "duration": 10,
    "start_time": "2023-06-26T10:49:32.025Z"
   },
   {
    "duration": 3,
    "start_time": "2023-06-26T10:50:08.726Z"
   },
   {
    "duration": 7,
    "start_time": "2023-06-26T10:50:14.322Z"
   },
   {
    "duration": 14,
    "start_time": "2023-06-26T10:52:58.858Z"
   },
   {
    "duration": 5,
    "start_time": "2023-06-26T10:53:47.038Z"
   },
   {
    "duration": 4,
    "start_time": "2023-06-26T10:53:52.720Z"
   },
   {
    "duration": 6,
    "start_time": "2023-06-26T10:54:15.927Z"
   },
   {
    "duration": 23,
    "start_time": "2023-06-26T10:58:17.129Z"
   },
   {
    "duration": 11119,
    "start_time": "2023-06-26T10:58:39.627Z"
   },
   {
    "duration": 96,
    "start_time": "2023-06-26T10:59:12.638Z"
   },
   {
    "duration": 27,
    "start_time": "2023-06-26T11:01:25.844Z"
   },
   {
    "duration": 131,
    "start_time": "2023-06-26T11:01:45.837Z"
   },
   {
    "duration": 12,
    "start_time": "2023-06-26T11:04:56.702Z"
   },
   {
    "duration": 5,
    "start_time": "2023-06-26T11:07:43.308Z"
   },
   {
    "duration": 18,
    "start_time": "2023-06-26T11:07:55.756Z"
   },
   {
    "duration": 7,
    "start_time": "2023-06-26T11:08:04.120Z"
   },
   {
    "duration": 4,
    "start_time": "2023-06-26T11:11:27.318Z"
   },
   {
    "duration": 48,
    "start_time": "2023-06-26T11:11:27.324Z"
   },
   {
    "duration": 10,
    "start_time": "2023-06-26T11:11:27.375Z"
   },
   {
    "duration": 22,
    "start_time": "2023-06-26T11:11:27.386Z"
   },
   {
    "duration": 12,
    "start_time": "2023-06-26T11:11:27.410Z"
   },
   {
    "duration": 8,
    "start_time": "2023-06-26T11:11:27.423Z"
   },
   {
    "duration": 10,
    "start_time": "2023-06-26T11:11:27.432Z"
   },
   {
    "duration": 5,
    "start_time": "2023-06-26T11:11:27.444Z"
   },
   {
    "duration": 4,
    "start_time": "2023-06-26T11:11:27.451Z"
   },
   {
    "duration": 36,
    "start_time": "2023-06-26T11:11:27.457Z"
   },
   {
    "duration": 11340,
    "start_time": "2023-06-26T11:11:27.494Z"
   },
   {
    "duration": 103,
    "start_time": "2023-06-26T11:11:38.836Z"
   },
   {
    "duration": 33,
    "start_time": "2023-06-26T11:11:38.940Z"
   },
   {
    "duration": 127,
    "start_time": "2023-06-26T11:11:38.976Z"
   },
   {
    "duration": 11,
    "start_time": "2023-06-26T11:11:39.105Z"
   },
   {
    "duration": 9,
    "start_time": "2023-06-26T11:11:39.117Z"
   },
   {
    "duration": 46,
    "start_time": "2023-06-26T11:11:39.127Z"
   },
   {
    "duration": 20,
    "start_time": "2023-06-26T11:11:39.175Z"
   },
   {
    "duration": 100,
    "start_time": "2023-06-27T07:24:11.498Z"
   },
   {
    "duration": 1483,
    "start_time": "2023-06-27T07:36:18.177Z"
   },
   {
    "duration": 73,
    "start_time": "2023-06-27T07:36:19.663Z"
   },
   {
    "duration": 31,
    "start_time": "2023-06-27T07:36:19.739Z"
   },
   {
    "duration": 20,
    "start_time": "2023-06-27T07:36:19.773Z"
   },
   {
    "duration": 7,
    "start_time": "2023-06-27T07:36:19.796Z"
   },
   {
    "duration": 21,
    "start_time": "2023-06-27T07:36:19.806Z"
   },
   {
    "duration": 9,
    "start_time": "2023-06-27T07:36:19.829Z"
   },
   {
    "duration": 34,
    "start_time": "2023-06-27T07:36:19.841Z"
   },
   {
    "duration": 9,
    "start_time": "2023-06-27T07:36:19.877Z"
   },
   {
    "duration": 141,
    "start_time": "2023-06-27T07:42:51.841Z"
   },
   {
    "duration": 383,
    "start_time": "2023-06-27T07:43:05.204Z"
   },
   {
    "duration": 6,
    "start_time": "2023-06-27T07:44:59.175Z"
   },
   {
    "duration": 47,
    "start_time": "2023-06-27T07:44:59.185Z"
   },
   {
    "duration": 12,
    "start_time": "2023-06-27T07:44:59.234Z"
   },
   {
    "duration": 30,
    "start_time": "2023-06-27T07:44:59.248Z"
   },
   {
    "duration": 8,
    "start_time": "2023-06-27T07:44:59.283Z"
   },
   {
    "duration": 16,
    "start_time": "2023-06-27T07:44:59.296Z"
   },
   {
    "duration": 135,
    "start_time": "2023-06-27T07:44:59.314Z"
   },
   {
    "duration": 0,
    "start_time": "2023-06-27T07:44:59.451Z"
   },
   {
    "duration": 0,
    "start_time": "2023-06-27T07:44:59.453Z"
   },
   {
    "duration": 0,
    "start_time": "2023-06-27T07:44:59.454Z"
   },
   {
    "duration": 0,
    "start_time": "2023-06-27T07:44:59.455Z"
   },
   {
    "duration": 0,
    "start_time": "2023-06-27T07:44:59.468Z"
   },
   {
    "duration": 0,
    "start_time": "2023-06-27T07:44:59.470Z"
   },
   {
    "duration": 0,
    "start_time": "2023-06-27T07:44:59.471Z"
   },
   {
    "duration": 0,
    "start_time": "2023-06-27T07:44:59.472Z"
   },
   {
    "duration": 0,
    "start_time": "2023-06-27T07:44:59.473Z"
   },
   {
    "duration": 0,
    "start_time": "2023-06-27T07:44:59.474Z"
   },
   {
    "duration": 0,
    "start_time": "2023-06-27T07:44:59.475Z"
   },
   {
    "duration": 5,
    "start_time": "2023-06-27T07:45:39.204Z"
   },
   {
    "duration": 37,
    "start_time": "2023-06-27T07:45:39.211Z"
   },
   {
    "duration": 13,
    "start_time": "2023-06-27T07:45:39.250Z"
   },
   {
    "duration": 28,
    "start_time": "2023-06-27T07:45:39.265Z"
   },
   {
    "duration": 29,
    "start_time": "2023-06-27T07:45:39.296Z"
   },
   {
    "duration": 14,
    "start_time": "2023-06-27T07:45:39.327Z"
   },
   {
    "duration": 7,
    "start_time": "2023-06-27T07:45:39.342Z"
   },
   {
    "duration": 14,
    "start_time": "2023-06-27T07:45:39.351Z"
   },
   {
    "duration": 22,
    "start_time": "2023-06-27T07:45:39.367Z"
   },
   {
    "duration": 47,
    "start_time": "2023-06-27T07:45:39.391Z"
   },
   {
    "duration": 14943,
    "start_time": "2023-06-27T07:45:39.440Z"
   },
   {
    "duration": 428,
    "start_time": "2023-06-27T07:45:54.388Z"
   },
   {
    "duration": 37,
    "start_time": "2023-06-27T07:45:54.819Z"
   },
   {
    "duration": 168,
    "start_time": "2023-06-27T07:45:54.872Z"
   },
   {
    "duration": 27,
    "start_time": "2023-06-27T07:45:55.043Z"
   },
   {
    "duration": 34,
    "start_time": "2023-06-27T07:45:55.077Z"
   },
   {
    "duration": 25,
    "start_time": "2023-06-27T07:45:55.113Z"
   },
   {
    "duration": 15,
    "start_time": "2023-06-27T07:45:55.140Z"
   },
   {
    "duration": 5,
    "start_time": "2023-06-27T07:49:36.907Z"
   },
   {
    "duration": 30,
    "start_time": "2023-06-27T07:51:07.710Z"
   },
   {
    "duration": 14837,
    "start_time": "2023-06-27T07:52:36.107Z"
   },
   {
    "duration": 440,
    "start_time": "2023-06-27T07:53:02.950Z"
   },
   {
    "duration": 30,
    "start_time": "2023-06-27T07:55:49.002Z"
   },
   {
    "duration": 154,
    "start_time": "2023-06-27T07:56:02.001Z"
   },
   {
    "duration": 19,
    "start_time": "2023-06-27T07:56:18.300Z"
   },
   {
    "duration": 16,
    "start_time": "2023-06-27T08:09:29.638Z"
   },
   {
    "duration": 122,
    "start_time": "2023-06-27T08:09:50.959Z"
   },
   {
    "duration": 14629,
    "start_time": "2023-06-27T08:16:02.306Z"
   },
   {
    "duration": 20,
    "start_time": "2023-06-27T08:24:32.515Z"
   },
   {
    "duration": 14,
    "start_time": "2023-06-27T08:27:04.940Z"
   },
   {
    "duration": 17,
    "start_time": "2023-06-27T08:28:19.213Z"
   },
   {
    "duration": 16,
    "start_time": "2023-06-27T08:28:39.763Z"
   },
   {
    "duration": 36,
    "start_time": "2023-06-27T08:28:47.314Z"
   },
   {
    "duration": 24,
    "start_time": "2023-06-27T08:28:56.517Z"
   },
   {
    "duration": 27,
    "start_time": "2023-06-27T08:29:01.831Z"
   },
   {
    "duration": 122,
    "start_time": "2023-06-27T08:30:55.271Z"
   },
   {
    "duration": 114,
    "start_time": "2023-06-27T08:31:28.320Z"
   },
   {
    "duration": 5,
    "start_time": "2023-06-27T08:31:34.411Z"
   },
   {
    "duration": 53,
    "start_time": "2023-06-27T08:31:34.418Z"
   },
   {
    "duration": 16,
    "start_time": "2023-06-27T08:31:34.474Z"
   },
   {
    "duration": 17,
    "start_time": "2023-06-27T08:31:34.493Z"
   },
   {
    "duration": 14,
    "start_time": "2023-06-27T08:31:34.514Z"
   },
   {
    "duration": 17,
    "start_time": "2023-06-27T08:31:34.530Z"
   },
   {
    "duration": 13,
    "start_time": "2023-06-27T08:31:34.567Z"
   },
   {
    "duration": 12,
    "start_time": "2023-06-27T08:31:34.582Z"
   },
   {
    "duration": 39,
    "start_time": "2023-06-27T08:31:34.596Z"
   },
   {
    "duration": 81,
    "start_time": "2023-06-27T08:31:34.637Z"
   },
   {
    "duration": 14369,
    "start_time": "2023-06-27T08:31:34.721Z"
   },
   {
    "duration": 443,
    "start_time": "2023-06-27T08:31:49.093Z"
   },
   {
    "duration": 44,
    "start_time": "2023-06-27T08:31:49.538Z"
   },
   {
    "duration": 98,
    "start_time": "2023-06-27T08:31:49.585Z"
   },
   {
    "duration": 20,
    "start_time": "2023-06-27T08:31:49.686Z"
   },
   {
    "duration": 30,
    "start_time": "2023-06-27T08:31:49.708Z"
   },
   {
    "duration": 8,
    "start_time": "2023-06-27T08:31:49.741Z"
   },
   {
    "duration": 22,
    "start_time": "2023-06-27T08:31:49.752Z"
   },
   {
    "duration": 143,
    "start_time": "2023-06-27T08:31:49.777Z"
   },
   {
    "duration": 89,
    "start_time": "2023-06-27T08:33:34.469Z"
   },
   {
    "duration": 110,
    "start_time": "2023-06-27T08:33:42.953Z"
   },
   {
    "duration": 180,
    "start_time": "2023-06-27T08:35:16.552Z"
   },
   {
    "duration": 46,
    "start_time": "2023-07-02T19:19:53.282Z"
   }
  ],
  "kernelspec": {
   "display_name": "Python 3 (ipykernel)",
   "language": "python",
   "name": "python3"
  },
  "language_info": {
   "codemirror_mode": {
    "name": "ipython",
    "version": 3
   },
   "file_extension": ".py",
   "mimetype": "text/x-python",
   "name": "python",
   "nbconvert_exporter": "python",
   "pygments_lexer": "ipython3",
   "version": "3.9.5"
  },
  "toc": {
   "base_numbering": 1,
   "nav_menu": {},
   "number_sections": true,
   "sideBar": true,
   "skip_h1_title": true,
   "title_cell": "Table of Contents",
   "title_sidebar": "Contents",
   "toc_cell": false,
   "toc_position": {},
   "toc_section_display": true,
   "toc_window_display": true
  }
 },
 "nbformat": 4,
 "nbformat_minor": 2
}
